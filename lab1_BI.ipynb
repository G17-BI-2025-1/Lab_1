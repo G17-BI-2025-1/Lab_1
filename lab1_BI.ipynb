{
  "cells": [
    {
      "cell_type": "markdown",
      "metadata": {
        "id": "K3HhhhJB_MYQ"
      },
      "source": [
        "# Laboratorio 1 Inteligencia de negocios - Regresión Lineal#\n",
        "\n",
        "Grupo 17 - Miembros:\n",
        "\n",
        "\n",
        "*   Juan Esteban Diaz Castro - 202121646\n",
        "*   Jose Botello - 20\n",
        "*   Samuel Ramirez - 20\n",
        "\n"
      ]
    },
    {
      "cell_type": "code",
      "execution_count": 43,
      "metadata": {
        "colab": {
          "base_uri": "https://localhost:8080/"
        },
        "id": "lKE1nnHD_y0M",
        "outputId": "5e3cec14-0934-4ed5-c43f-bef39539ebb7"
      },
      "outputs": [
        {
          "name": "stdout",
          "output_type": "stream",
          "text": [
            "Defaulting to user installation because normal site-packages is not writeableNote: you may need to restart the kernel to use updated packages.\n",
            "\n",
            "Requirement already satisfied: numpy in c:\\users\\juane\\appdata\\local\\packages\\pythonsoftwarefoundation.python.3.12_qbz5n2kfra8p0\\localcache\\local-packages\\python312\\site-packages (2.2.3)\n"
          ]
        },
        {
          "name": "stderr",
          "output_type": "stream",
          "text": [
            "\n",
            "[notice] A new release of pip is available: 24.3.1 -> 25.0.1\n",
            "[notice] To update, run: C:\\Users\\juane\\AppData\\Local\\Microsoft\\WindowsApps\\PythonSoftwareFoundation.Python.3.12_qbz5n2kfra8p0\\python.exe -m pip install --upgrade pip\n"
          ]
        },
        {
          "name": "stdout",
          "output_type": "stream",
          "text": [
            "Defaulting to user installation because normal site-packages is not writeable\n",
            "Requirement already satisfied: pandas in c:\\users\\juane\\appdata\\local\\packages\\pythonsoftwarefoundation.python.3.12_qbz5n2kfra8p0\\localcache\\local-packages\\python312\\site-packages (2.2.3)\n",
            "Requirement already satisfied: numpy>=1.26.0 in c:\\users\\juane\\appdata\\local\\packages\\pythonsoftwarefoundation.python.3.12_qbz5n2kfra8p0\\localcache\\local-packages\\python312\\site-packages (from pandas) (2.2.3)\n",
            "Requirement already satisfied: python-dateutil>=2.8.2 in c:\\users\\juane\\appdata\\local\\packages\\pythonsoftwarefoundation.python.3.12_qbz5n2kfra8p0\\localcache\\local-packages\\python312\\site-packages (from pandas) (2.9.0.post0)\n",
            "Requirement already satisfied: pytz>=2020.1 in c:\\users\\juane\\appdata\\local\\packages\\pythonsoftwarefoundation.python.3.12_qbz5n2kfra8p0\\localcache\\local-packages\\python312\\site-packages (from pandas) (2025.1)\n",
            "Requirement already satisfied: tzdata>=2022.7 in c:\\users\\juane\\appdata\\local\\packages\\pythonsoftwarefoundation.python.3.12_qbz5n2kfra8p0\\localcache\\local-packages\\python312\\site-packages (from pandas) (2025.1)\n",
            "Requirement already satisfied: six>=1.5 in c:\\users\\juane\\appdata\\local\\packages\\pythonsoftwarefoundation.python.3.12_qbz5n2kfra8p0\\localcache\\local-packages\\python312\\site-packages (from python-dateutil>=2.8.2->pandas) (1.17.0)\n",
            "Note: you may need to restart the kernel to use updated packages.\n"
          ]
        },
        {
          "name": "stderr",
          "output_type": "stream",
          "text": [
            "\n",
            "[notice] A new release of pip is available: 24.3.1 -> 25.0.1\n",
            "[notice] To update, run: C:\\Users\\juane\\AppData\\Local\\Microsoft\\WindowsApps\\PythonSoftwareFoundation.Python.3.12_qbz5n2kfra8p0\\python.exe -m pip install --upgrade pip\n"
          ]
        },
        {
          "name": "stdout",
          "output_type": "stream",
          "text": [
            "Defaulting to user installation because normal site-packages is not writeableNote: you may need to restart the kernel to use updated packages.\n",
            "\n",
            "Requirement already satisfied: joblib in c:\\users\\juane\\appdata\\local\\packages\\pythonsoftwarefoundation.python.3.12_qbz5n2kfra8p0\\localcache\\local-packages\\python312\\site-packages (1.4.2)\n"
          ]
        },
        {
          "name": "stderr",
          "output_type": "stream",
          "text": [
            "\n",
            "[notice] A new release of pip is available: 24.3.1 -> 25.0.1\n",
            "[notice] To update, run: C:\\Users\\juane\\AppData\\Local\\Microsoft\\WindowsApps\\PythonSoftwareFoundation.Python.3.12_qbz5n2kfra8p0\\python.exe -m pip install --upgrade pip\n"
          ]
        },
        {
          "name": "stdout",
          "output_type": "stream",
          "text": [
            "Defaulting to user installation because normal site-packages is not writeable\n",
            "Requirement already satisfied: matplotlib in c:\\users\\juane\\appdata\\local\\packages\\pythonsoftwarefoundation.python.3.12_qbz5n2kfra8p0\\localcache\\local-packages\\python312\\site-packages (3.10.0)\n",
            "Requirement already satisfied: contourpy>=1.0.1 in c:\\users\\juane\\appdata\\local\\packages\\pythonsoftwarefoundation.python.3.12_qbz5n2kfra8p0\\localcache\\local-packages\\python312\\site-packages (from matplotlib) (1.3.1)\n",
            "Requirement already satisfied: cycler>=0.10 in c:\\users\\juane\\appdata\\local\\packages\\pythonsoftwarefoundation.python.3.12_qbz5n2kfra8p0\\localcache\\local-packages\\python312\\site-packages (from matplotlib) (0.12.1)\n",
            "Requirement already satisfied: fonttools>=4.22.0 in c:\\users\\juane\\appdata\\local\\packages\\pythonsoftwarefoundation.python.3.12_qbz5n2kfra8p0\\localcache\\local-packages\\python312\\site-packages (from matplotlib) (4.56.0)\n",
            "Requirement already satisfied: kiwisolver>=1.3.1 in c:\\users\\juane\\appdata\\local\\packages\\pythonsoftwarefoundation.python.3.12_qbz5n2kfra8p0\\localcache\\local-packages\\python312\\site-packages (from matplotlib) (1.4.8)\n",
            "Requirement already satisfied: numpy>=1.23 in c:\\users\\juane\\appdata\\local\\packages\\pythonsoftwarefoundation.python.3.12_qbz5n2kfra8p0\\localcache\\local-packages\\python312\\site-packages (from matplotlib) (2.2.3)\n",
            "Requirement already satisfied: packaging>=20.0 in c:\\users\\juane\\appdata\\local\\packages\\pythonsoftwarefoundation.python.3.12_qbz5n2kfra8p0\\localcache\\local-packages\\python312\\site-packages (from matplotlib) (24.2)\n",
            "Requirement already satisfied: pillow>=8 in c:\\users\\juane\\appdata\\local\\packages\\pythonsoftwarefoundation.python.3.12_qbz5n2kfra8p0\\localcache\\local-packages\\python312\\site-packages (from matplotlib) (11.1.0)\n",
            "Requirement already satisfied: pyparsing>=2.3.1 in c:\\users\\juane\\appdata\\local\\packages\\pythonsoftwarefoundation.python.3.12_qbz5n2kfra8p0\\localcache\\local-packages\\python312\\site-packages (from matplotlib) (3.2.1)\n",
            "Requirement already satisfied: python-dateutil>=2.7 in c:\\users\\juane\\appdata\\local\\packages\\pythonsoftwarefoundation.python.3.12_qbz5n2kfra8p0\\localcache\\local-packages\\python312\\site-packages (from matplotlib) (2.9.0.post0)\n",
            "Requirement already satisfied: six>=1.5 in c:\\users\\juane\\appdata\\local\\packages\\pythonsoftwarefoundation.python.3.12_qbz5n2kfra8p0\\localcache\\local-packages\\python312\\site-packages (from python-dateutil>=2.7->matplotlib) (1.17.0)\n",
            "Note: you may need to restart the kernel to use updated packages.\n"
          ]
        },
        {
          "name": "stderr",
          "output_type": "stream",
          "text": [
            "\n",
            "[notice] A new release of pip is available: 24.3.1 -> 25.0.1\n",
            "[notice] To update, run: C:\\Users\\juane\\AppData\\Local\\Microsoft\\WindowsApps\\PythonSoftwareFoundation.Python.3.12_qbz5n2kfra8p0\\python.exe -m pip install --upgrade pip\n"
          ]
        },
        {
          "name": "stdout",
          "output_type": "stream",
          "text": [
            "Defaulting to user installation because normal site-packages is not writeable\n",
            "Requirement already satisfied: seaborn in c:\\users\\juane\\appdata\\local\\packages\\pythonsoftwarefoundation.python.3.12_qbz5n2kfra8p0\\localcache\\local-packages\\python312\\site-packages (0.13.2)\n",
            "Requirement already satisfied: numpy!=1.24.0,>=1.20 in c:\\users\\juane\\appdata\\local\\packages\\pythonsoftwarefoundation.python.3.12_qbz5n2kfra8p0\\localcache\\local-packages\\python312\\site-packages (from seaborn) (2.2.3)\n",
            "Requirement already satisfied: pandas>=1.2 in c:\\users\\juane\\appdata\\local\\packages\\pythonsoftwarefoundation.python.3.12_qbz5n2kfra8p0\\localcache\\local-packages\\python312\\site-packages (from seaborn) (2.2.3)\n",
            "Requirement already satisfied: matplotlib!=3.6.1,>=3.4 in c:\\users\\juane\\appdata\\local\\packages\\pythonsoftwarefoundation.python.3.12_qbz5n2kfra8p0\\localcache\\local-packages\\python312\\site-packages (from seaborn) (3.10.0)\n",
            "Requirement already satisfied: contourpy>=1.0.1 in c:\\users\\juane\\appdata\\local\\packages\\pythonsoftwarefoundation.python.3.12_qbz5n2kfra8p0\\localcache\\local-packages\\python312\\site-packages (from matplotlib!=3.6.1,>=3.4->seaborn) (1.3.1)\n",
            "Requirement already satisfied: cycler>=0.10 in c:\\users\\juane\\appdata\\local\\packages\\pythonsoftwarefoundation.python.3.12_qbz5n2kfra8p0\\localcache\\local-packages\\python312\\site-packages (from matplotlib!=3.6.1,>=3.4->seaborn) (0.12.1)\n",
            "Requirement already satisfied: fonttools>=4.22.0 in c:\\users\\juane\\appdata\\local\\packages\\pythonsoftwarefoundation.python.3.12_qbz5n2kfra8p0\\localcache\\local-packages\\python312\\site-packages (from matplotlib!=3.6.1,>=3.4->seaborn) (4.56.0)\n",
            "Requirement already satisfied: kiwisolver>=1.3.1 in c:\\users\\juane\\appdata\\local\\packages\\pythonsoftwarefoundation.python.3.12_qbz5n2kfra8p0\\localcache\\local-packages\\python312\\site-packages (from matplotlib!=3.6.1,>=3.4->seaborn) (1.4.8)\n",
            "Requirement already satisfied: packaging>=20.0 in c:\\users\\juane\\appdata\\local\\packages\\pythonsoftwarefoundation.python.3.12_qbz5n2kfra8p0\\localcache\\local-packages\\python312\\site-packages (from matplotlib!=3.6.1,>=3.4->seaborn) (24.2)\n",
            "Requirement already satisfied: pillow>=8 in c:\\users\\juane\\appdata\\local\\packages\\pythonsoftwarefoundation.python.3.12_qbz5n2kfra8p0\\localcache\\local-packages\\python312\\site-packages (from matplotlib!=3.6.1,>=3.4->seaborn) (11.1.0)\n",
            "Requirement already satisfied: pyparsing>=2.3.1 in c:\\users\\juane\\appdata\\local\\packages\\pythonsoftwarefoundation.python.3.12_qbz5n2kfra8p0\\localcache\\local-packages\\python312\\site-packages (from matplotlib!=3.6.1,>=3.4->seaborn) (3.2.1)\n",
            "Requirement already satisfied: python-dateutil>=2.7 in c:\\users\\juane\\appdata\\local\\packages\\pythonsoftwarefoundation.python.3.12_qbz5n2kfra8p0\\localcache\\local-packages\\python312\\site-packages (from matplotlib!=3.6.1,>=3.4->seaborn) (2.9.0.post0)\n",
            "Requirement already satisfied: pytz>=2020.1 in c:\\users\\juane\\appdata\\local\\packages\\pythonsoftwarefoundation.python.3.12_qbz5n2kfra8p0\\localcache\\local-packages\\python312\\site-packages (from pandas>=1.2->seaborn) (2025.1)\n",
            "Requirement already satisfied: tzdata>=2022.7 in c:\\users\\juane\\appdata\\local\\packages\\pythonsoftwarefoundation.python.3.12_qbz5n2kfra8p0\\localcache\\local-packages\\python312\\site-packages (from pandas>=1.2->seaborn) (2025.1)\n",
            "Requirement already satisfied: six>=1.5 in c:\\users\\juane\\appdata\\local\\packages\\pythonsoftwarefoundation.python.3.12_qbz5n2kfra8p0\\localcache\\local-packages\\python312\\site-packages (from python-dateutil>=2.7->matplotlib!=3.6.1,>=3.4->seaborn) (1.17.0)\n",
            "Note: you may need to restart the kernel to use updated packages.\n"
          ]
        },
        {
          "name": "stderr",
          "output_type": "stream",
          "text": [
            "\n",
            "[notice] A new release of pip is available: 24.3.1 -> 25.0.1\n",
            "[notice] To update, run: C:\\Users\\juane\\AppData\\Local\\Microsoft\\WindowsApps\\PythonSoftwareFoundation.Python.3.12_qbz5n2kfra8p0\\python.exe -m pip install --upgrade pip\n"
          ]
        },
        {
          "name": "stdout",
          "output_type": "stream",
          "text": [
            "Defaulting to user installation because normal site-packages is not writeable\n",
            "Requirement already satisfied: scikit-learn in c:\\users\\juane\\appdata\\local\\packages\\pythonsoftwarefoundation.python.3.12_qbz5n2kfra8p0\\localcache\\local-packages\\python312\\site-packages (1.6.1)\n",
            "Requirement already satisfied: numpy>=1.19.5 in c:\\users\\juane\\appdata\\local\\packages\\pythonsoftwarefoundation.python.3.12_qbz5n2kfra8p0\\localcache\\local-packages\\python312\\site-packages (from scikit-learn) (2.2.3)\n",
            "Requirement already satisfied: scipy>=1.6.0 in c:\\users\\juane\\appdata\\local\\packages\\pythonsoftwarefoundation.python.3.12_qbz5n2kfra8p0\\localcache\\local-packages\\python312\\site-packages (from scikit-learn) (1.15.1)\n",
            "Requirement already satisfied: joblib>=1.2.0 in c:\\users\\juane\\appdata\\local\\packages\\pythonsoftwarefoundation.python.3.12_qbz5n2kfra8p0\\localcache\\local-packages\\python312\\site-packages (from scikit-learn) (1.4.2)\n",
            "Requirement already satisfied: threadpoolctl>=3.1.0 in c:\\users\\juane\\appdata\\local\\packages\\pythonsoftwarefoundation.python.3.12_qbz5n2kfra8p0\\localcache\\local-packages\\python312\\site-packages (from scikit-learn) (3.5.0)\n",
            "Note: you may need to restart the kernel to use updated packages.\n"
          ]
        },
        {
          "name": "stderr",
          "output_type": "stream",
          "text": [
            "\n",
            "[notice] A new release of pip is available: 24.3.1 -> 25.0.1\n",
            "[notice] To update, run: C:\\Users\\juane\\AppData\\Local\\Microsoft\\WindowsApps\\PythonSoftwareFoundation.Python.3.12_qbz5n2kfra8p0\\python.exe -m pip install --upgrade pip\n"
          ]
        },
        {
          "name": "stdout",
          "output_type": "stream",
          "text": [
            "Defaulting to user installation because normal site-packages is not writeable\n",
            "Requirement already satisfied: scipy in c:\\users\\juane\\appdata\\local\\packages\\pythonsoftwarefoundation.python.3.12_qbz5n2kfra8p0\\localcache\\local-packages\\python312\\site-packages (1.15.1)\n",
            "Requirement already satisfied: numpy<2.5,>=1.23.5 in c:\\users\\juane\\appdata\\local\\packages\\pythonsoftwarefoundation.python.3.12_qbz5n2kfra8p0\\localcache\\local-packages\\python312\\site-packages (from scipy) (2.2.3)\n",
            "Note: you may need to restart the kernel to use updated packages.\n"
          ]
        },
        {
          "name": "stderr",
          "output_type": "stream",
          "text": [
            "\n",
            "[notice] A new release of pip is available: 24.3.1 -> 25.0.1\n",
            "[notice] To update, run: C:\\Users\\juane\\AppData\\Local\\Microsoft\\WindowsApps\\PythonSoftwareFoundation.Python.3.12_qbz5n2kfra8p0\\python.exe -m pip install --upgrade pip\n"
          ]
        },
        {
          "name": "stdout",
          "output_type": "stream",
          "text": [
            "Defaulting to user installation because normal site-packages is not writeableNote: you may need to restart the kernel to use updated packages.\n",
            "\n",
            "Requirement already satisfied: jupyter in c:\\users\\juane\\appdata\\local\\packages\\pythonsoftwarefoundation.python.3.12_qbz5n2kfra8p0\\localcache\\local-packages\\python312\\site-packages (1.1.1)\n",
            "Requirement already satisfied: notebook in c:\\users\\juane\\appdata\\local\\packages\\pythonsoftwarefoundation.python.3.12_qbz5n2kfra8p0\\localcache\\local-packages\\python312\\site-packages (from jupyter) (7.3.2)\n",
            "Requirement already satisfied: jupyter-console in c:\\users\\juane\\appdata\\local\\packages\\pythonsoftwarefoundation.python.3.12_qbz5n2kfra8p0\\localcache\\local-packages\\python312\\site-packages (from jupyter) (6.6.3)\n",
            "Requirement already satisfied: nbconvert in c:\\users\\juane\\appdata\\local\\packages\\pythonsoftwarefoundation.python.3.12_qbz5n2kfra8p0\\localcache\\local-packages\\python312\\site-packages (from jupyter) (7.16.6)\n",
            "Requirement already satisfied: ipykernel in c:\\users\\juane\\appdata\\local\\packages\\pythonsoftwarefoundation.python.3.12_qbz5n2kfra8p0\\localcache\\local-packages\\python312\\site-packages (from jupyter) (6.29.5)\n",
            "Requirement already satisfied: ipywidgets in c:\\users\\juane\\appdata\\local\\packages\\pythonsoftwarefoundation.python.3.12_qbz5n2kfra8p0\\localcache\\local-packages\\python312\\site-packages (from jupyter) (8.1.5)\n",
            "Requirement already satisfied: jupyterlab in c:\\users\\juane\\appdata\\local\\packages\\pythonsoftwarefoundation.python.3.12_qbz5n2kfra8p0\\localcache\\local-packages\\python312\\site-packages (from jupyter) (4.3.5)\n",
            "Requirement already satisfied: comm>=0.1.1 in c:\\users\\juane\\appdata\\local\\packages\\pythonsoftwarefoundation.python.3.12_qbz5n2kfra8p0\\localcache\\local-packages\\python312\\site-packages (from ipykernel->jupyter) (0.2.2)\n",
            "Requirement already satisfied: debugpy>=1.6.5 in c:\\users\\juane\\appdata\\local\\packages\\pythonsoftwarefoundation.python.3.12_qbz5n2kfra8p0\\localcache\\local-packages\\python312\\site-packages (from ipykernel->jupyter) (1.8.12)\n",
            "Requirement already satisfied: ipython>=7.23.1 in c:\\users\\juane\\appdata\\local\\packages\\pythonsoftwarefoundation.python.3.12_qbz5n2kfra8p0\\localcache\\local-packages\\python312\\site-packages (from ipykernel->jupyter) (8.32.0)\n",
            "Requirement already satisfied: jupyter-client>=6.1.12 in c:\\users\\juane\\appdata\\local\\packages\\pythonsoftwarefoundation.python.3.12_qbz5n2kfra8p0\\localcache\\local-packages\\python312\\site-packages (from ipykernel->jupyter) (8.6.3)\n",
            "Requirement already satisfied: jupyter-core!=5.0.*,>=4.12 in c:\\users\\juane\\appdata\\local\\packages\\pythonsoftwarefoundation.python.3.12_qbz5n2kfra8p0\\localcache\\local-packages\\python312\\site-packages (from ipykernel->jupyter) (5.7.2)\n",
            "Requirement already satisfied: matplotlib-inline>=0.1 in c:\\users\\juane\\appdata\\local\\packages\\pythonsoftwarefoundation.python.3.12_qbz5n2kfra8p0\\localcache\\local-packages\\python312\\site-packages (from ipykernel->jupyter) (0.1.7)\n",
            "Requirement already satisfied: nest-asyncio in c:\\users\\juane\\appdata\\local\\packages\\pythonsoftwarefoundation.python.3.12_qbz5n2kfra8p0\\localcache\\local-packages\\python312\\site-packages (from ipykernel->jupyter) (1.6.0)\n",
            "Requirement already satisfied: packaging in c:\\users\\juane\\appdata\\local\\packages\\pythonsoftwarefoundation.python.3.12_qbz5n2kfra8p0\\localcache\\local-packages\\python312\\site-packages (from ipykernel->jupyter) (24.2)\n",
            "Requirement already satisfied: psutil in c:\\users\\juane\\appdata\\local\\packages\\pythonsoftwarefoundation.python.3.12_qbz5n2kfra8p0\\localcache\\local-packages\\python312\\site-packages (from ipykernel->jupyter) (6.1.1)\n",
            "Requirement already satisfied: pyzmq>=24 in c:\\users\\juane\\appdata\\local\\packages\\pythonsoftwarefoundation.python.3.12_qbz5n2kfra8p0\\localcache\\local-packages\\python312\\site-packages (from ipykernel->jupyter) (26.2.1)\n",
            "Requirement already satisfied: tornado>=6.1 in c:\\users\\juane\\appdata\\local\\packages\\pythonsoftwarefoundation.python.3.12_qbz5n2kfra8p0\\localcache\\local-packages\\python312\\site-packages (from ipykernel->jupyter) (6.4.2)\n",
            "Requirement already satisfied: traitlets>=5.4.0 in c:\\users\\juane\\appdata\\local\\packages\\pythonsoftwarefoundation.python.3.12_qbz5n2kfra8p0\\localcache\\local-packages\\python312\\site-packages (from ipykernel->jupyter) (5.14.3)\n",
            "Requirement already satisfied: widgetsnbextension~=4.0.12 in c:\\users\\juane\\appdata\\local\\packages\\pythonsoftwarefoundation.python.3.12_qbz5n2kfra8p0\\localcache\\local-packages\\python312\\site-packages (from ipywidgets->jupyter) (4.0.13)\n",
            "Requirement already satisfied: jupyterlab-widgets~=3.0.12 in c:\\users\\juane\\appdata\\local\\packages\\pythonsoftwarefoundation.python.3.12_qbz5n2kfra8p0\\localcache\\local-packages\\python312\\site-packages (from ipywidgets->jupyter) (3.0.13)\n",
            "Requirement already satisfied: prompt-toolkit>=3.0.30 in c:\\users\\juane\\appdata\\local\\packages\\pythonsoftwarefoundation.python.3.12_qbz5n2kfra8p0\\localcache\\local-packages\\python312\\site-packages (from jupyter-console->jupyter) (3.0.50)\n",
            "Requirement already satisfied: pygments in c:\\users\\juane\\appdata\\local\\packages\\pythonsoftwarefoundation.python.3.12_qbz5n2kfra8p0\\localcache\\local-packages\\python312\\site-packages (from jupyter-console->jupyter) (2.19.1)\n",
            "Requirement already satisfied: async-lru>=1.0.0 in c:\\users\\juane\\appdata\\local\\packages\\pythonsoftwarefoundation.python.3.12_qbz5n2kfra8p0\\localcache\\local-packages\\python312\\site-packages (from jupyterlab->jupyter) (2.0.4)\n",
            "Requirement already satisfied: httpx>=0.25.0 in c:\\users\\juane\\appdata\\local\\packages\\pythonsoftwarefoundation.python.3.12_qbz5n2kfra8p0\\localcache\\local-packages\\python312\\site-packages (from jupyterlab->jupyter) (0.28.1)\n",
            "Requirement already satisfied: jinja2>=3.0.3 in c:\\users\\juane\\appdata\\local\\packages\\pythonsoftwarefoundation.python.3.12_qbz5n2kfra8p0\\localcache\\local-packages\\python312\\site-packages (from jupyterlab->jupyter) (3.1.5)\n",
            "Requirement already satisfied: jupyter-lsp>=2.0.0 in c:\\users\\juane\\appdata\\local\\packages\\pythonsoftwarefoundation.python.3.12_qbz5n2kfra8p0\\localcache\\local-packages\\python312\\site-packages (from jupyterlab->jupyter) (2.2.5)\n",
            "Requirement already satisfied: jupyter-server<3,>=2.4.0 in c:\\users\\juane\\appdata\\local\\packages\\pythonsoftwarefoundation.python.3.12_qbz5n2kfra8p0\\localcache\\local-packages\\python312\\site-packages (from jupyterlab->jupyter) (2.15.0)\n",
            "Requirement already satisfied: jupyterlab-server<3,>=2.27.1 in c:\\users\\juane\\appdata\\local\\packages\\pythonsoftwarefoundation.python.3.12_qbz5n2kfra8p0\\localcache\\local-packages\\python312\\site-packages (from jupyterlab->jupyter) (2.27.3)\n",
            "Requirement already satisfied: notebook-shim>=0.2 in c:\\users\\juane\\appdata\\local\\packages\\pythonsoftwarefoundation.python.3.12_qbz5n2kfra8p0\\localcache\\local-packages\\python312\\site-packages (from jupyterlab->jupyter) (0.2.4)\n",
            "Requirement already satisfied: setuptools>=40.8.0 in c:\\users\\juane\\appdata\\local\\packages\\pythonsoftwarefoundation.python.3.12_qbz5n2kfra8p0\\localcache\\local-packages\\python312\\site-packages (from jupyterlab->jupyter) (75.8.0)\n",
            "Requirement already satisfied: beautifulsoup4 in c:\\users\\juane\\appdata\\local\\packages\\pythonsoftwarefoundation.python.3.12_qbz5n2kfra8p0\\localcache\\local-packages\\python312\\site-packages (from nbconvert->jupyter) (4.13.3)\n",
            "Requirement already satisfied: bleach!=5.0.0 in c:\\users\\juane\\appdata\\local\\packages\\pythonsoftwarefoundation.python.3.12_qbz5n2kfra8p0\\localcache\\local-packages\\python312\\site-packages (from bleach[css]!=5.0.0->nbconvert->jupyter) (6.2.0)\n",
            "Requirement already satisfied: defusedxml in c:\\users\\juane\\appdata\\local\\packages\\pythonsoftwarefoundation.python.3.12_qbz5n2kfra8p0\\localcache\\local-packages\\python312\\site-packages (from nbconvert->jupyter) (0.7.1)\n",
            "Requirement already satisfied: jupyterlab-pygments in c:\\users\\juane\\appdata\\local\\packages\\pythonsoftwarefoundation.python.3.12_qbz5n2kfra8p0\\localcache\\local-packages\\python312\\site-packages (from nbconvert->jupyter) (0.3.0)\n",
            "Requirement already satisfied: markupsafe>=2.0 in c:\\users\\juane\\appdata\\local\\packages\\pythonsoftwarefoundation.python.3.12_qbz5n2kfra8p0\\localcache\\local-packages\\python312\\site-packages (from nbconvert->jupyter) (3.0.2)\n",
            "Requirement already satisfied: mistune<4,>=2.0.3 in c:\\users\\juane\\appdata\\local\\packages\\pythonsoftwarefoundation.python.3.12_qbz5n2kfra8p0\\localcache\\local-packages\\python312\\site-packages (from nbconvert->jupyter) (3.1.1)\n",
            "Requirement already satisfied: nbclient>=0.5.0 in c:\\users\\juane\\appdata\\local\\packages\\pythonsoftwarefoundation.python.3.12_qbz5n2kfra8p0\\localcache\\local-packages\\python312\\site-packages (from nbconvert->jupyter) (0.10.2)\n",
            "Requirement already satisfied: nbformat>=5.7 in c:\\users\\juane\\appdata\\local\\packages\\pythonsoftwarefoundation.python.3.12_qbz5n2kfra8p0\\localcache\\local-packages\\python312\\site-packages (from nbconvert->jupyter) (5.10.4)\n",
            "Requirement already satisfied: pandocfilters>=1.4.1 in c:\\users\\juane\\appdata\\local\\packages\\pythonsoftwarefoundation.python.3.12_qbz5n2kfra8p0\\localcache\\local-packages\\python312\\site-packages (from nbconvert->jupyter) (1.5.1)\n",
            "Requirement already satisfied: webencodings in c:\\users\\juane\\appdata\\local\\packages\\pythonsoftwarefoundation.python.3.12_qbz5n2kfra8p0\\localcache\\local-packages\\python312\\site-packages (from bleach!=5.0.0->bleach[css]!=5.0.0->nbconvert->jupyter) (0.5.1)\n",
            "Requirement already satisfied: tinycss2<1.5,>=1.1.0 in c:\\users\\juane\\appdata\\local\\packages\\pythonsoftwarefoundation.python.3.12_qbz5n2kfra8p0\\localcache\\local-packages\\python312\\site-packages (from bleach[css]!=5.0.0->nbconvert->jupyter) (1.4.0)\n",
            "Requirement already satisfied: anyio in c:\\users\\juane\\appdata\\local\\packages\\pythonsoftwarefoundation.python.3.12_qbz5n2kfra8p0\\localcache\\local-packages\\python312\\site-packages (from httpx>=0.25.0->jupyterlab->jupyter) (4.8.0)\n",
            "Requirement already satisfied: certifi in c:\\users\\juane\\appdata\\local\\packages\\pythonsoftwarefoundation.python.3.12_qbz5n2kfra8p0\\localcache\\local-packages\\python312\\site-packages (from httpx>=0.25.0->jupyterlab->jupyter) (2025.1.31)\n",
            "Requirement already satisfied: httpcore==1.* in c:\\users\\juane\\appdata\\local\\packages\\pythonsoftwarefoundation.python.3.12_qbz5n2kfra8p0\\localcache\\local-packages\\python312\\site-packages (from httpx>=0.25.0->jupyterlab->jupyter) (1.0.7)\n",
            "Requirement already satisfied: idna in c:\\users\\juane\\appdata\\local\\packages\\pythonsoftwarefoundation.python.3.12_qbz5n2kfra8p0\\localcache\\local-packages\\python312\\site-packages (from httpx>=0.25.0->jupyterlab->jupyter) (3.10)\n",
            "Requirement already satisfied: h11<0.15,>=0.13 in c:\\users\\juane\\appdata\\local\\packages\\pythonsoftwarefoundation.python.3.12_qbz5n2kfra8p0\\localcache\\local-packages\\python312\\site-packages (from httpcore==1.*->httpx>=0.25.0->jupyterlab->jupyter) (0.14.0)\n",
            "Requirement already satisfied: colorama in c:\\users\\juane\\appdata\\local\\packages\\pythonsoftwarefoundation.python.3.12_qbz5n2kfra8p0\\localcache\\local-packages\\python312\\site-packages (from ipython>=7.23.1->ipykernel->jupyter) (0.4.6)\n",
            "Requirement already satisfied: decorator in c:\\users\\juane\\appdata\\local\\packages\\pythonsoftwarefoundation.python.3.12_qbz5n2kfra8p0\\localcache\\local-packages\\python312\\site-packages (from ipython>=7.23.1->ipykernel->jupyter) (5.1.1)\n",
            "Requirement already satisfied: jedi>=0.16 in c:\\users\\juane\\appdata\\local\\packages\\pythonsoftwarefoundation.python.3.12_qbz5n2kfra8p0\\localcache\\local-packages\\python312\\site-packages (from ipython>=7.23.1->ipykernel->jupyter) (0.19.2)\n",
            "Requirement already satisfied: stack_data in c:\\users\\juane\\appdata\\local\\packages\\pythonsoftwarefoundation.python.3.12_qbz5n2kfra8p0\\localcache\\local-packages\\python312\\site-packages (from ipython>=7.23.1->ipykernel->jupyter) (0.6.3)\n",
            "Requirement already satisfied: python-dateutil>=2.8.2 in c:\\users\\juane\\appdata\\local\\packages\\pythonsoftwarefoundation.python.3.12_qbz5n2kfra8p0\\localcache\\local-packages\\python312\\site-packages (from jupyter-client>=6.1.12->ipykernel->jupyter) (2.9.0.post0)\n",
            "Requirement already satisfied: platformdirs>=2.5 in c:\\users\\juane\\appdata\\local\\packages\\pythonsoftwarefoundation.python.3.12_qbz5n2kfra8p0\\localcache\\local-packages\\python312\\site-packages (from jupyter-core!=5.0.*,>=4.12->ipykernel->jupyter) (4.3.6)\n",
            "Requirement already satisfied: pywin32>=300 in c:\\users\\juane\\appdata\\local\\packages\\pythonsoftwarefoundation.python.3.12_qbz5n2kfra8p0\\localcache\\local-packages\\python312\\site-packages (from jupyter-core!=5.0.*,>=4.12->ipykernel->jupyter) (308)\n",
            "Requirement already satisfied: argon2-cffi>=21.1 in c:\\users\\juane\\appdata\\local\\packages\\pythonsoftwarefoundation.python.3.12_qbz5n2kfra8p0\\localcache\\local-packages\\python312\\site-packages (from jupyter-server<3,>=2.4.0->jupyterlab->jupyter) (23.1.0)\n",
            "Requirement already satisfied: jupyter-events>=0.11.0 in c:\\users\\juane\\appdata\\local\\packages\\pythonsoftwarefoundation.python.3.12_qbz5n2kfra8p0\\localcache\\local-packages\\python312\\site-packages (from jupyter-server<3,>=2.4.0->jupyterlab->jupyter) (0.12.0)\n",
            "Requirement already satisfied: jupyter-server-terminals>=0.4.4 in c:\\users\\juane\\appdata\\local\\packages\\pythonsoftwarefoundation.python.3.12_qbz5n2kfra8p0\\localcache\\local-packages\\python312\\site-packages (from jupyter-server<3,>=2.4.0->jupyterlab->jupyter) (0.5.3)\n",
            "Requirement already satisfied: overrides>=5.0 in c:\\users\\juane\\appdata\\local\\packages\\pythonsoftwarefoundation.python.3.12_qbz5n2kfra8p0\\localcache\\local-packages\\python312\\site-packages (from jupyter-server<3,>=2.4.0->jupyterlab->jupyter) (7.7.0)\n",
            "Requirement already satisfied: prometheus-client>=0.9 in c:\\users\\juane\\appdata\\local\\packages\\pythonsoftwarefoundation.python.3.12_qbz5n2kfra8p0\\localcache\\local-packages\\python312\\site-packages (from jupyter-server<3,>=2.4.0->jupyterlab->jupyter) (0.21.1)\n",
            "Requirement already satisfied: pywinpty>=2.0.1 in c:\\users\\juane\\appdata\\local\\packages\\pythonsoftwarefoundation.python.3.12_qbz5n2kfra8p0\\localcache\\local-packages\\python312\\site-packages (from jupyter-server<3,>=2.4.0->jupyterlab->jupyter) (2.0.15)\n",
            "Requirement already satisfied: send2trash>=1.8.2 in c:\\users\\juane\\appdata\\local\\packages\\pythonsoftwarefoundation.python.3.12_qbz5n2kfra8p0\\localcache\\local-packages\\python312\\site-packages (from jupyter-server<3,>=2.4.0->jupyterlab->jupyter) (1.8.3)\n",
            "Requirement already satisfied: terminado>=0.8.3 in c:\\users\\juane\\appdata\\local\\packages\\pythonsoftwarefoundation.python.3.12_qbz5n2kfra8p0\\localcache\\local-packages\\python312\\site-packages (from jupyter-server<3,>=2.4.0->jupyterlab->jupyter) (0.18.1)\n",
            "Requirement already satisfied: websocket-client>=1.7 in c:\\users\\juane\\appdata\\local\\packages\\pythonsoftwarefoundation.python.3.12_qbz5n2kfra8p0\\localcache\\local-packages\\python312\\site-packages (from jupyter-server<3,>=2.4.0->jupyterlab->jupyter) (1.8.0)\n",
            "Requirement already satisfied: babel>=2.10 in c:\\users\\juane\\appdata\\local\\packages\\pythonsoftwarefoundation.python.3.12_qbz5n2kfra8p0\\localcache\\local-packages\\python312\\site-packages (from jupyterlab-server<3,>=2.27.1->jupyterlab->jupyter) (2.17.0)\n",
            "Requirement already satisfied: json5>=0.9.0 in c:\\users\\juane\\appdata\\local\\packages\\pythonsoftwarefoundation.python.3.12_qbz5n2kfra8p0\\localcache\\local-packages\\python312\\site-packages (from jupyterlab-server<3,>=2.27.1->jupyterlab->jupyter) (0.10.0)\n",
            "Requirement already satisfied: jsonschema>=4.18.0 in c:\\users\\juane\\appdata\\local\\packages\\pythonsoftwarefoundation.python.3.12_qbz5n2kfra8p0\\localcache\\local-packages\\python312\\site-packages (from jupyterlab-server<3,>=2.27.1->jupyterlab->jupyter) (4.23.0)\n",
            "Requirement already satisfied: requests>=2.31 in c:\\users\\juane\\appdata\\local\\packages\\pythonsoftwarefoundation.python.3.12_qbz5n2kfra8p0\\localcache\\local-packages\\python312\\site-packages (from jupyterlab-server<3,>=2.27.1->jupyterlab->jupyter) (2.32.3)\n",
            "Requirement already satisfied: fastjsonschema>=2.15 in c:\\users\\juane\\appdata\\local\\packages\\pythonsoftwarefoundation.python.3.12_qbz5n2kfra8p0\\localcache\\local-packages\\python312\\site-packages (from nbformat>=5.7->nbconvert->jupyter) (2.21.1)\n",
            "Requirement already satisfied: wcwidth in c:\\users\\juane\\appdata\\local\\packages\\pythonsoftwarefoundation.python.3.12_qbz5n2kfra8p0\\localcache\\local-packages\\python312\\site-packages (from prompt-toolkit>=3.0.30->jupyter-console->jupyter) (0.2.13)\n",
            "Requirement already satisfied: soupsieve>1.2 in c:\\users\\juane\\appdata\\local\\packages\\pythonsoftwarefoundation.python.3.12_qbz5n2kfra8p0\\localcache\\local-packages\\python312\\site-packages (from beautifulsoup4->nbconvert->jupyter) (2.6)\n",
            "Requirement already satisfied: typing-extensions>=4.0.0 in c:\\users\\juane\\appdata\\local\\packages\\pythonsoftwarefoundation.python.3.12_qbz5n2kfra8p0\\localcache\\local-packages\\python312\\site-packages (from beautifulsoup4->nbconvert->jupyter) (4.12.2)\n",
            "Requirement already satisfied: sniffio>=1.1 in c:\\users\\juane\\appdata\\local\\packages\\pythonsoftwarefoundation.python.3.12_qbz5n2kfra8p0\\localcache\\local-packages\\python312\\site-packages (from anyio->httpx>=0.25.0->jupyterlab->jupyter) (1.3.1)\n",
            "Requirement already satisfied: argon2-cffi-bindings in c:\\users\\juane\\appdata\\local\\packages\\pythonsoftwarefoundation.python.3.12_qbz5n2kfra8p0\\localcache\\local-packages\\python312\\site-packages (from argon2-cffi>=21.1->jupyter-server<3,>=2.4.0->jupyterlab->jupyter) (21.2.0)\n",
            "Requirement already satisfied: parso<0.9.0,>=0.8.4 in c:\\users\\juane\\appdata\\local\\packages\\pythonsoftwarefoundation.python.3.12_qbz5n2kfra8p0\\localcache\\local-packages\\python312\\site-packages (from jedi>=0.16->ipython>=7.23.1->ipykernel->jupyter) (0.8.4)\n",
            "Requirement already satisfied: attrs>=22.2.0 in c:\\users\\juane\\appdata\\local\\packages\\pythonsoftwarefoundation.python.3.12_qbz5n2kfra8p0\\localcache\\local-packages\\python312\\site-packages (from jsonschema>=4.18.0->jupyterlab-server<3,>=2.27.1->jupyterlab->jupyter) (25.1.0)\n",
            "Requirement already satisfied: jsonschema-specifications>=2023.03.6 in c:\\users\\juane\\appdata\\local\\packages\\pythonsoftwarefoundation.python.3.12_qbz5n2kfra8p0\\localcache\\local-packages\\python312\\site-packages (from jsonschema>=4.18.0->jupyterlab-server<3,>=2.27.1->jupyterlab->jupyter) (2024.10.1)\n",
            "Requirement already satisfied: referencing>=0.28.4 in c:\\users\\juane\\appdata\\local\\packages\\pythonsoftwarefoundation.python.3.12_qbz5n2kfra8p0\\localcache\\local-packages\\python312\\site-packages (from jsonschema>=4.18.0->jupyterlab-server<3,>=2.27.1->jupyterlab->jupyter) (0.36.2)\n",
            "Requirement already satisfied: rpds-py>=0.7.1 in c:\\users\\juane\\appdata\\local\\packages\\pythonsoftwarefoundation.python.3.12_qbz5n2kfra8p0\\localcache\\local-packages\\python312\\site-packages (from jsonschema>=4.18.0->jupyterlab-server<3,>=2.27.1->jupyterlab->jupyter) (0.22.3)\n",
            "Requirement already satisfied: python-json-logger>=2.0.4 in c:\\users\\juane\\appdata\\local\\packages\\pythonsoftwarefoundation.python.3.12_qbz5n2kfra8p0\\localcache\\local-packages\\python312\\site-packages (from jupyter-events>=0.11.0->jupyter-server<3,>=2.4.0->jupyterlab->jupyter) (3.2.1)\n",
            "Requirement already satisfied: pyyaml>=5.3 in c:\\users\\juane\\appdata\\local\\packages\\pythonsoftwarefoundation.python.3.12_qbz5n2kfra8p0\\localcache\\local-packages\\python312\\site-packages (from jupyter-events>=0.11.0->jupyter-server<3,>=2.4.0->jupyterlab->jupyter) (6.0.2)\n",
            "Requirement already satisfied: rfc3339-validator in c:\\users\\juane\\appdata\\local\\packages\\pythonsoftwarefoundation.python.3.12_qbz5n2kfra8p0\\localcache\\local-packages\\python312\\site-packages (from jupyter-events>=0.11.0->jupyter-server<3,>=2.4.0->jupyterlab->jupyter) (0.1.4)\n",
            "Requirement already satisfied: rfc3986-validator>=0.1.1 in c:\\users\\juane\\appdata\\local\\packages\\pythonsoftwarefoundation.python.3.12_qbz5n2kfra8p0\\localcache\\local-packages\\python312\\site-packages (from jupyter-events>=0.11.0->jupyter-server<3,>=2.4.0->jupyterlab->jupyter) (0.1.1)\n",
            "Requirement already satisfied: six>=1.5 in c:\\users\\juane\\appdata\\local\\packages\\pythonsoftwarefoundation.python.3.12_qbz5n2kfra8p0\\localcache\\local-packages\\python312\\site-packages (from python-dateutil>=2.8.2->jupyter-client>=6.1.12->ipykernel->jupyter) (1.17.0)\n",
            "Requirement already satisfied: charset-normalizer<4,>=2 in c:\\users\\juane\\appdata\\local\\packages\\pythonsoftwarefoundation.python.3.12_qbz5n2kfra8p0\\localcache\\local-packages\\python312\\site-packages (from requests>=2.31->jupyterlab-server<3,>=2.27.1->jupyterlab->jupyter) (3.4.1)\n",
            "Requirement already satisfied: urllib3<3,>=1.21.1 in c:\\users\\juane\\appdata\\local\\packages\\pythonsoftwarefoundation.python.3.12_qbz5n2kfra8p0\\localcache\\local-packages\\python312\\site-packages (from requests>=2.31->jupyterlab-server<3,>=2.27.1->jupyterlab->jupyter) (2.3.0)\n",
            "Requirement already satisfied: executing>=1.2.0 in c:\\users\\juane\\appdata\\local\\packages\\pythonsoftwarefoundation.python.3.12_qbz5n2kfra8p0\\localcache\\local-packages\\python312\\site-packages (from stack_data->ipython>=7.23.1->ipykernel->jupyter) (2.2.0)\n",
            "Requirement already satisfied: asttokens>=2.1.0 in c:\\users\\juane\\appdata\\local\\packages\\pythonsoftwarefoundation.python.3.12_qbz5n2kfra8p0\\localcache\\local-packages\\python312\\site-packages (from stack_data->ipython>=7.23.1->ipykernel->jupyter) (3.0.0)\n",
            "Requirement already satisfied: pure-eval in c:\\users\\juane\\appdata\\local\\packages\\pythonsoftwarefoundation.python.3.12_qbz5n2kfra8p0\\localcache\\local-packages\\python312\\site-packages (from stack_data->ipython>=7.23.1->ipykernel->jupyter) (0.2.3)\n",
            "Requirement already satisfied: fqdn in c:\\users\\juane\\appdata\\local\\packages\\pythonsoftwarefoundation.python.3.12_qbz5n2kfra8p0\\localcache\\local-packages\\python312\\site-packages (from jsonschema[format-nongpl]>=4.18.0->jupyter-events>=0.11.0->jupyter-server<3,>=2.4.0->jupyterlab->jupyter) (1.5.1)\n",
            "Requirement already satisfied: isoduration in c:\\users\\juane\\appdata\\local\\packages\\pythonsoftwarefoundation.python.3.12_qbz5n2kfra8p0\\localcache\\local-packages\\python312\\site-packages (from jsonschema[format-nongpl]>=4.18.0->jupyter-events>=0.11.0->jupyter-server<3,>=2.4.0->jupyterlab->jupyter) (20.11.0)\n",
            "Requirement already satisfied: jsonpointer>1.13 in c:\\users\\juane\\appdata\\local\\packages\\pythonsoftwarefoundation.python.3.12_qbz5n2kfra8p0\\localcache\\local-packages\\python312\\site-packages (from jsonschema[format-nongpl]>=4.18.0->jupyter-events>=0.11.0->jupyter-server<3,>=2.4.0->jupyterlab->jupyter) (3.0.0)\n",
            "Requirement already satisfied: uri-template in c:\\users\\juane\\appdata\\local\\packages\\pythonsoftwarefoundation.python.3.12_qbz5n2kfra8p0\\localcache\\local-packages\\python312\\site-packages (from jsonschema[format-nongpl]>=4.18.0->jupyter-events>=0.11.0->jupyter-server<3,>=2.4.0->jupyterlab->jupyter) (1.3.0)\n",
            "Requirement already satisfied: webcolors>=24.6.0 in c:\\users\\juane\\appdata\\local\\packages\\pythonsoftwarefoundation.python.3.12_qbz5n2kfra8p0\\localcache\\local-packages\\python312\\site-packages (from jsonschema[format-nongpl]>=4.18.0->jupyter-events>=0.11.0->jupyter-server<3,>=2.4.0->jupyterlab->jupyter) (24.11.1)\n",
            "Requirement already satisfied: cffi>=1.0.1 in c:\\users\\juane\\appdata\\local\\packages\\pythonsoftwarefoundation.python.3.12_qbz5n2kfra8p0\\localcache\\local-packages\\python312\\site-packages (from argon2-cffi-bindings->argon2-cffi>=21.1->jupyter-server<3,>=2.4.0->jupyterlab->jupyter) (1.17.1)\n",
            "Requirement already satisfied: pycparser in c:\\users\\juane\\appdata\\local\\packages\\pythonsoftwarefoundation.python.3.12_qbz5n2kfra8p0\\localcache\\local-packages\\python312\\site-packages (from cffi>=1.0.1->argon2-cffi-bindings->argon2-cffi>=21.1->jupyter-server<3,>=2.4.0->jupyterlab->jupyter) (2.22)\n",
            "Requirement already satisfied: arrow>=0.15.0 in c:\\users\\juane\\appdata\\local\\packages\\pythonsoftwarefoundation.python.3.12_qbz5n2kfra8p0\\localcache\\local-packages\\python312\\site-packages (from isoduration->jsonschema[format-nongpl]>=4.18.0->jupyter-events>=0.11.0->jupyter-server<3,>=2.4.0->jupyterlab->jupyter) (1.3.0)\n",
            "Requirement already satisfied: types-python-dateutil>=2.8.10 in c:\\users\\juane\\appdata\\local\\packages\\pythonsoftwarefoundation.python.3.12_qbz5n2kfra8p0\\localcache\\local-packages\\python312\\site-packages (from arrow>=0.15.0->isoduration->jsonschema[format-nongpl]>=4.18.0->jupyter-events>=0.11.0->jupyter-server<3,>=2.4.0->jupyterlab->jupyter) (2.9.0.20241206)\n"
          ]
        },
        {
          "name": "stderr",
          "output_type": "stream",
          "text": [
            "\n",
            "[notice] A new release of pip is available: 24.3.1 -> 25.0.1\n",
            "[notice] To update, run: C:\\Users\\juane\\AppData\\Local\\Microsoft\\WindowsApps\\PythonSoftwareFoundation.Python.3.12_qbz5n2kfra8p0\\python.exe -m pip install --upgrade pip\n"
          ]
        }
      ],
      "source": [
        "%pip install numpy\n",
        "%pip install pandas\n",
        "%pip install joblib\n",
        "%pip install matplotlib\n",
        "%pip install seaborn\n",
        "%pip install scikit-learn\n",
        "%pip install scipy\n",
        "%pip install jupyter"
      ]
    },
    {
      "cell_type": "code",
      "execution_count": 44,
      "metadata": {
        "id": "zmqbYd5F-5L7"
      },
      "outputs": [],
      "source": [
        "import numpy as np\n",
        "import pandas as pd\n",
        "\n",
        "from joblib import dump, load\n",
        "\n",
        "import matplotlib.pyplot as plt\n",
        "import seaborn as sns\n",
        "\n",
        "from sklearn.model_selection import train_test_split\n",
        "from sklearn.linear_model import LinearRegression\n",
        "from sklearn.pipeline import Pipeline\n",
        "from sklearn.compose import ColumnTransformer\n",
        "from sklearn.preprocessing import StandardScaler\n",
        "from sklearn.preprocessing import PolynomialFeatures\n",
        "from sklearn.preprocessing import OneHotEncoder\n",
        "from sklearn.metrics import mean_absolute_error, mean_squared_error, r2_score\n",
        "\n",
        "import scipy.stats as stats"
      ]
    },
    {
      "cell_type": "markdown",
      "metadata": {
        "id": "jzQBPpS_Ad4w"
      },
      "source": [
        "# 1. Carga de los Datos"
      ]
    },
    {
      "cell_type": "code",
      "execution_count": 45,
      "metadata": {
        "colab": {
          "base_uri": "https://localhost:8080/"
        },
        "id": "evajJBS-AcUt",
        "outputId": "68c1f687-ed23-42e6-f6a0-ebdd77aca48f"
      },
      "outputs": [
        {
          "data": {
            "text/plain": [
              "(4000, 18)"
            ]
          },
          "execution_count": 45,
          "metadata": {},
          "output_type": "execute_result"
        }
      ],
      "source": [
        "data = \"./data/202510_Laboratorio 1 - Regresión_train_data.csv\"\n",
        "\n",
        "#data_val = \"/content/Laboratorio 1/202510_Laboratorio 1 - Regresión_validation_data.csv\"\n",
        "\n",
        "star = pd.read_csv(data, sep=\",\", encoding=\"ISO-8859-1\")\n",
        "\n",
        "star_alpes = star.copy()\n",
        "\n",
        "star_alpes.shape\n"
      ]
    },
    {
      "cell_type": "code",
      "execution_count": 46,
      "metadata": {
        "colab": {
          "base_uri": "https://localhost:8080/",
          "height": 226
        },
        "id": "HE7rXx0FzetY",
        "outputId": "36db64c1-c07a-482a-a5c4-371a28cdc9da"
      },
      "outputs": [
        {
          "data": {
            "text/html": [
              "<div>\n",
              "<style scoped>\n",
              "    .dataframe tbody tr th:only-of-type {\n",
              "        vertical-align: middle;\n",
              "    }\n",
              "\n",
              "    .dataframe tbody tr th {\n",
              "        vertical-align: top;\n",
              "    }\n",
              "\n",
              "    .dataframe thead th {\n",
              "        text-align: right;\n",
              "    }\n",
              "</style>\n",
              "<table border=\"1\" class=\"dataframe\">\n",
              "  <thead>\n",
              "    <tr style=\"text-align: right;\">\n",
              "      <th></th>\n",
              "      <th>objid</th>\n",
              "      <th>ra</th>\n",
              "      <th>dec</th>\n",
              "      <th>u</th>\n",
              "      <th>g</th>\n",
              "      <th>r</th>\n",
              "      <th>i</th>\n",
              "      <th>z</th>\n",
              "      <th>run</th>\n",
              "      <th>camcol</th>\n",
              "      <th>field</th>\n",
              "      <th>score</th>\n",
              "      <th>clean</th>\n",
              "      <th>class</th>\n",
              "      <th>redshift</th>\n",
              "      <th>mjd</th>\n",
              "      <th>rowv</th>\n",
              "      <th>colv</th>\n",
              "    </tr>\n",
              "  </thead>\n",
              "  <tbody>\n",
              "    <tr>\n",
              "      <th>1709</th>\n",
              "      <td>1237648722835144725</td>\n",
              "      <td>165.785169</td>\n",
              "      <td>1.152321</td>\n",
              "      <td>17.57970</td>\n",
              "      <td>16.65061</td>\n",
              "      <td>16.38735</td>\n",
              "      <td>16.29835</td>\n",
              "      <td>16.26657</td>\n",
              "      <td>756</td>\n",
              "      <td>6</td>\n",
              "      <td>334</td>\n",
              "      <td>0.836239</td>\n",
              "      <td>1</td>\n",
              "      <td>STAR</td>\n",
              "      <td>0.000151</td>\n",
              "      <td>51908</td>\n",
              "      <td>0.000570</td>\n",
              "      <td>-0.000977</td>\n",
              "    </tr>\n",
              "    <tr>\n",
              "      <th>2466</th>\n",
              "      <td>1237648722306596952</td>\n",
              "      <td>184.847906</td>\n",
              "      <td>0.783260</td>\n",
              "      <td>18.54506</td>\n",
              "      <td>17.10297</td>\n",
              "      <td>16.55442</td>\n",
              "      <td>16.37132</td>\n",
              "      <td>16.27835</td>\n",
              "      <td>756</td>\n",
              "      <td>5</td>\n",
              "      <td>461</td>\n",
              "      <td>0.862433</td>\n",
              "      <td>1</td>\n",
              "      <td>STAR</td>\n",
              "      <td>0.000135</td>\n",
              "      <td>54140</td>\n",
              "      <td>0.000365</td>\n",
              "      <td>0.000664</td>\n",
              "    </tr>\n",
              "    <tr>\n",
              "      <th>1427</th>\n",
              "      <td>1237648721231872094</td>\n",
              "      <td>182.528954</td>\n",
              "      <td>-0.045457</td>\n",
              "      <td>18.93436</td>\n",
              "      <td>17.79901</td>\n",
              "      <td>17.20661</td>\n",
              "      <td>16.88182</td>\n",
              "      <td>16.63698</td>\n",
              "      <td>756</td>\n",
              "      <td>3</td>\n",
              "      <td>446</td>\n",
              "      <td>0.903319</td>\n",
              "      <td>1</td>\n",
              "      <td>GALAXY</td>\n",
              "      <td>0.116333</td>\n",
              "      <td>52023</td>\n",
              "      <td>-0.004923</td>\n",
              "      <td>0.001453</td>\n",
              "    </tr>\n",
              "    <tr>\n",
              "      <th>2746</th>\n",
              "      <td>1237648722310201579</td>\n",
              "      <td>193.092137</td>\n",
              "      <td>0.669889</td>\n",
              "      <td>19.22851</td>\n",
              "      <td>17.34568</td>\n",
              "      <td>16.46680</td>\n",
              "      <td>16.05498</td>\n",
              "      <td>15.74656</td>\n",
              "      <td>756</td>\n",
              "      <td>5</td>\n",
              "      <td>516</td>\n",
              "      <td>0.873177</td>\n",
              "      <td>1</td>\n",
              "      <td>GALAXY</td>\n",
              "      <td>0.081228</td>\n",
              "      <td>51609</td>\n",
              "      <td>-0.001454</td>\n",
              "      <td>-0.001682</td>\n",
              "    </tr>\n",
              "    <tr>\n",
              "      <th>3445</th>\n",
              "      <td>1237648703509364914</td>\n",
              "      <td>197.216606</td>\n",
              "      <td>-0.690804</td>\n",
              "      <td>17.90440</td>\n",
              "      <td>16.82490</td>\n",
              "      <td>16.45120</td>\n",
              "      <td>16.31474</td>\n",
              "      <td>16.27079</td>\n",
              "      <td>752</td>\n",
              "      <td>2</td>\n",
              "      <td>358</td>\n",
              "      <td>0.827433</td>\n",
              "      <td>1</td>\n",
              "      <td>STAR</td>\n",
              "      <td>-0.000181</td>\n",
              "      <td>56727</td>\n",
              "      <td>0.000142</td>\n",
              "      <td>-0.000406</td>\n",
              "    </tr>\n",
              "  </tbody>\n",
              "</table>\n",
              "</div>"
            ],
            "text/plain": [
              "                    objid          ra       dec         u         g         r  \\\n",
              "1709  1237648722835144725  165.785169  1.152321  17.57970  16.65061  16.38735   \n",
              "2466  1237648722306596952  184.847906  0.783260  18.54506  17.10297  16.55442   \n",
              "1427  1237648721231872094  182.528954 -0.045457  18.93436  17.79901  17.20661   \n",
              "2746  1237648722310201579  193.092137  0.669889  19.22851  17.34568  16.46680   \n",
              "3445  1237648703509364914  197.216606 -0.690804  17.90440  16.82490  16.45120   \n",
              "\n",
              "             i         z  run  camcol  field     score  clean   class  \\\n",
              "1709  16.29835  16.26657  756       6    334  0.836239      1    STAR   \n",
              "2466  16.37132  16.27835  756       5    461  0.862433      1    STAR   \n",
              "1427  16.88182  16.63698  756       3    446  0.903319      1  GALAXY   \n",
              "2746  16.05498  15.74656  756       5    516  0.873177      1  GALAXY   \n",
              "3445  16.31474  16.27079  752       2    358  0.827433      1    STAR   \n",
              "\n",
              "      redshift    mjd      rowv      colv  \n",
              "1709  0.000151  51908  0.000570 -0.000977  \n",
              "2466  0.000135  54140  0.000365  0.000664  \n",
              "1427  0.116333  52023 -0.004923  0.001453  \n",
              "2746  0.081228  51609 -0.001454 -0.001682  \n",
              "3445 -0.000181  56727  0.000142 -0.000406  "
            ]
          },
          "execution_count": 46,
          "metadata": {},
          "output_type": "execute_result"
        }
      ],
      "source": [
        "star_alpes.sample(5)"
      ]
    },
    {
      "cell_type": "code",
      "execution_count": 47,
      "metadata": {
        "colab": {
          "base_uri": "https://localhost:8080/",
          "height": 649
        },
        "id": "DKU7W0c9zlG0",
        "outputId": "cdcf23fa-ac34-4a58-a5c6-814d00788351"
      },
      "outputs": [
        {
          "data": {
            "text/plain": [
              "objid         int64\n",
              "ra          float64\n",
              "dec         float64\n",
              "u           float64\n",
              "g           float64\n",
              "r           float64\n",
              "i           float64\n",
              "z           float64\n",
              "run           int64\n",
              "camcol        int64\n",
              "field         int64\n",
              "score       float64\n",
              "clean         int64\n",
              "class        object\n",
              "redshift    float64\n",
              "mjd           int64\n",
              "rowv        float64\n",
              "colv        float64\n",
              "dtype: object"
            ]
          },
          "execution_count": 47,
          "metadata": {},
          "output_type": "execute_result"
        }
      ],
      "source": [
        "star_alpes.dtypes"
      ]
    },
    {
      "cell_type": "markdown",
      "metadata": {},
      "source": [
        "Vamos a separar los datos de entrenamiento del modelo y los que usaremos para la evaluación del modelo, en este paso utilizamos la columna 'redshift' para tener nuestra variable y a lo largo del modelo ya que nos interesa predecir el redshift para futuras lecturas que ingresan."
      ]
    },
    {
      "cell_type": "code",
      "execution_count": 48,
      "metadata": {},
      "outputs": [
        {
          "data": {
            "text/plain": [
              "((2800, 18), (2800,))"
            ]
          },
          "execution_count": 48,
          "metadata": {},
          "output_type": "execute_result"
        }
      ],
      "source": [
        "X_train, X_test, y_train, y_test = train_test_split(star_alpes, star_alpes[\"redshift\"], test_size=0.3, random_state=1)\n",
        "\n",
        "X_train.shape, y_train.shape"
      ]
    },
    {
      "cell_type": "code",
      "execution_count": 49,
      "metadata": {},
      "outputs": [
        {
          "data": {
            "text/plain": [
              "((1200, 18), (1200,))"
            ]
          },
          "execution_count": 49,
          "metadata": {},
          "output_type": "execute_result"
        }
      ],
      "source": [
        "X_test.shape, y_test.shape"
      ]
    },
    {
      "cell_type": "markdown",
      "metadata": {
        "id": "8YedH_uCpFWb"
      },
      "source": [
        "# 2. Entendimiento de los Datos\n"
      ]
    },
    {
      "cell_type": "markdown",
      "metadata": {
        "id": "63u8g6eaAe0q"
      },
      "source": [
        " 2.1. Características de los datos"
      ]
    },
    {
      "cell_type": "markdown",
      "metadata": {
        "id": "-Go_8wxz68f1"
      },
      "source": [
        "Para los datos numéricos realizaremos un describe"
      ]
    },
    {
      "cell_type": "code",
      "execution_count": 50,
      "metadata": {
        "colab": {
          "base_uri": "https://localhost:8080/",
          "height": 320
        },
        "id": "omtypHD961gm",
        "outputId": "4079f348-fe0e-4a2e-e8b8-aa0c1b806a1e"
      },
      "outputs": [
        {
          "data": {
            "text/html": [
              "<div>\n",
              "<style scoped>\n",
              "    .dataframe tbody tr th:only-of-type {\n",
              "        vertical-align: middle;\n",
              "    }\n",
              "\n",
              "    .dataframe tbody tr th {\n",
              "        vertical-align: top;\n",
              "    }\n",
              "\n",
              "    .dataframe thead th {\n",
              "        text-align: right;\n",
              "    }\n",
              "</style>\n",
              "<table border=\"1\" class=\"dataframe\">\n",
              "  <thead>\n",
              "    <tr style=\"text-align: right;\">\n",
              "      <th></th>\n",
              "      <th>objid</th>\n",
              "      <th>ra</th>\n",
              "      <th>dec</th>\n",
              "      <th>u</th>\n",
              "      <th>g</th>\n",
              "      <th>r</th>\n",
              "      <th>i</th>\n",
              "      <th>z</th>\n",
              "      <th>run</th>\n",
              "      <th>camcol</th>\n",
              "      <th>field</th>\n",
              "      <th>score</th>\n",
              "      <th>clean</th>\n",
              "      <th>redshift</th>\n",
              "      <th>mjd</th>\n",
              "      <th>rowv</th>\n",
              "      <th>colv</th>\n",
              "    </tr>\n",
              "  </thead>\n",
              "  <tbody>\n",
              "    <tr>\n",
              "      <th>count</th>\n",
              "      <td>2.800000e+03</td>\n",
              "      <td>2800.000000</td>\n",
              "      <td>2800.000000</td>\n",
              "      <td>2800.000000</td>\n",
              "      <td>2800.000000</td>\n",
              "      <td>2800.000000</td>\n",
              "      <td>2800.000000</td>\n",
              "      <td>2800.000000</td>\n",
              "      <td>2800.000000</td>\n",
              "      <td>2800.000000</td>\n",
              "      <td>2800.000000</td>\n",
              "      <td>2800.000000</td>\n",
              "      <td>2800.000000</td>\n",
              "      <td>2800.000000</td>\n",
              "      <td>2800.000000</td>\n",
              "      <td>2800.000000</td>\n",
              "      <td>2800.000000</td>\n",
              "    </tr>\n",
              "    <tr>\n",
              "      <th>mean</th>\n",
              "      <td>1.237649e+18</td>\n",
              "      <td>185.706882</td>\n",
              "      <td>0.206136</td>\n",
              "      <td>18.595555</td>\n",
              "      <td>17.337990</td>\n",
              "      <td>16.808557</td>\n",
              "      <td>16.563584</td>\n",
              "      <td>16.405560</td>\n",
              "      <td>742.126786</td>\n",
              "      <td>3.372500</td>\n",
              "      <td>419.028214</td>\n",
              "      <td>0.850913</td>\n",
              "      <td>0.897857</td>\n",
              "      <td>0.125725</td>\n",
              "      <td>52963.977857</td>\n",
              "      <td>0.000092</td>\n",
              "      <td>-0.000163</td>\n",
              "    </tr>\n",
              "    <tr>\n",
              "      <th>std</th>\n",
              "      <td>4.290843e+11</td>\n",
              "      <td>40.946188</td>\n",
              "      <td>1.872847</td>\n",
              "      <td>0.850106</td>\n",
              "      <td>0.955505</td>\n",
              "      <td>1.057543</td>\n",
              "      <td>1.142566</td>\n",
              "      <td>1.190242</td>\n",
              "      <td>99.949594</td>\n",
              "      <td>1.702454</td>\n",
              "      <td>166.118781</td>\n",
              "      <td>0.073500</td>\n",
              "      <td>0.302890</td>\n",
              "      <td>0.366221</td>\n",
              "      <td>1601.129979</td>\n",
              "      <td>0.009334</td>\n",
              "      <td>0.007778</td>\n",
              "    </tr>\n",
              "    <tr>\n",
              "      <th>min</th>\n",
              "      <td>1.237646e+18</td>\n",
              "      <td>10.564540</td>\n",
              "      <td>-1.251920</td>\n",
              "      <td>13.551780</td>\n",
              "      <td>12.974870</td>\n",
              "      <td>12.362850</td>\n",
              "      <td>12.010790</td>\n",
              "      <td>11.799530</td>\n",
              "      <td>211.000000</td>\n",
              "      <td>1.000000</td>\n",
              "      <td>20.000000</td>\n",
              "      <td>0.301912</td>\n",
              "      <td>0.000000</td>\n",
              "      <td>-0.003322</td>\n",
              "      <td>51608.000000</td>\n",
              "      <td>-0.264516</td>\n",
              "      <td>-0.168807</td>\n",
              "    </tr>\n",
              "    <tr>\n",
              "      <th>25%</th>\n",
              "      <td>1.237649e+18</td>\n",
              "      <td>162.553765</td>\n",
              "      <td>-0.635942</td>\n",
              "      <td>18.145338</td>\n",
              "      <td>16.761110</td>\n",
              "      <td>16.153670</td>\n",
              "      <td>15.836365</td>\n",
              "      <td>15.586295</td>\n",
              "      <td>752.000000</td>\n",
              "      <td>2.000000</td>\n",
              "      <td>312.000000</td>\n",
              "      <td>0.836708</td>\n",
              "      <td>1.000000</td>\n",
              "      <td>0.000098</td>\n",
              "      <td>51693.000000</td>\n",
              "      <td>-0.001196</td>\n",
              "      <td>-0.001635</td>\n",
              "    </tr>\n",
              "    <tr>\n",
              "      <th>50%</th>\n",
              "      <td>1.237649e+18</td>\n",
              "      <td>195.503334</td>\n",
              "      <td>0.038939</td>\n",
              "      <td>18.832775</td>\n",
              "      <td>17.452585</td>\n",
              "      <td>16.821940</td>\n",
              "      <td>16.539775</td>\n",
              "      <td>16.366575</td>\n",
              "      <td>756.000000</td>\n",
              "      <td>3.000000</td>\n",
              "      <td>433.000000</td>\n",
              "      <td>0.860521</td>\n",
              "      <td>1.000000</td>\n",
              "      <td>0.028703</td>\n",
              "      <td>51985.000000</td>\n",
              "      <td>0.000365</td>\n",
              "      <td>0.000080</td>\n",
              "    </tr>\n",
              "    <tr>\n",
              "      <th>75%</th>\n",
              "      <td>1.237649e+18</td>\n",
              "      <td>214.218850</td>\n",
              "      <td>0.583797</td>\n",
              "      <td>19.260285</td>\n",
              "      <td>17.986520</td>\n",
              "      <td>17.490245</td>\n",
              "      <td>17.240642</td>\n",
              "      <td>17.132202</td>\n",
              "      <td>756.000000</td>\n",
              "      <td>5.000000</td>\n",
              "      <td>524.000000</td>\n",
              "      <td>0.879523</td>\n",
              "      <td>1.000000</td>\n",
              "      <td>0.085715</td>\n",
              "      <td>54468.000000</td>\n",
              "      <td>0.001700</td>\n",
              "      <td>0.001630</td>\n",
              "    </tr>\n",
              "    <tr>\n",
              "      <th>max</th>\n",
              "      <td>1.237650e+18</td>\n",
              "      <td>249.758313</td>\n",
              "      <td>13.854010</td>\n",
              "      <td>19.599290</td>\n",
              "      <td>22.497450</td>\n",
              "      <td>22.265960</td>\n",
              "      <td>28.179630</td>\n",
              "      <td>20.847690</td>\n",
              "      <td>1035.000000</td>\n",
              "      <td>6.000000</td>\n",
              "      <td>812.000000</td>\n",
              "      <td>0.961145</td>\n",
              "      <td>1.000000</td>\n",
              "      <td>4.192597</td>\n",
              "      <td>58932.000000</td>\n",
              "      <td>0.181871</td>\n",
              "      <td>0.128814</td>\n",
              "    </tr>\n",
              "  </tbody>\n",
              "</table>\n",
              "</div>"
            ],
            "text/plain": [
              "              objid           ra          dec            u            g  \\\n",
              "count  2.800000e+03  2800.000000  2800.000000  2800.000000  2800.000000   \n",
              "mean   1.237649e+18   185.706882     0.206136    18.595555    17.337990   \n",
              "std    4.290843e+11    40.946188     1.872847     0.850106     0.955505   \n",
              "min    1.237646e+18    10.564540    -1.251920    13.551780    12.974870   \n",
              "25%    1.237649e+18   162.553765    -0.635942    18.145338    16.761110   \n",
              "50%    1.237649e+18   195.503334     0.038939    18.832775    17.452585   \n",
              "75%    1.237649e+18   214.218850     0.583797    19.260285    17.986520   \n",
              "max    1.237650e+18   249.758313    13.854010    19.599290    22.497450   \n",
              "\n",
              "                 r            i            z          run       camcol  \\\n",
              "count  2800.000000  2800.000000  2800.000000  2800.000000  2800.000000   \n",
              "mean     16.808557    16.563584    16.405560   742.126786     3.372500   \n",
              "std       1.057543     1.142566     1.190242    99.949594     1.702454   \n",
              "min      12.362850    12.010790    11.799530   211.000000     1.000000   \n",
              "25%      16.153670    15.836365    15.586295   752.000000     2.000000   \n",
              "50%      16.821940    16.539775    16.366575   756.000000     3.000000   \n",
              "75%      17.490245    17.240642    17.132202   756.000000     5.000000   \n",
              "max      22.265960    28.179630    20.847690  1035.000000     6.000000   \n",
              "\n",
              "             field        score        clean     redshift           mjd  \\\n",
              "count  2800.000000  2800.000000  2800.000000  2800.000000   2800.000000   \n",
              "mean    419.028214     0.850913     0.897857     0.125725  52963.977857   \n",
              "std     166.118781     0.073500     0.302890     0.366221   1601.129979   \n",
              "min      20.000000     0.301912     0.000000    -0.003322  51608.000000   \n",
              "25%     312.000000     0.836708     1.000000     0.000098  51693.000000   \n",
              "50%     433.000000     0.860521     1.000000     0.028703  51985.000000   \n",
              "75%     524.000000     0.879523     1.000000     0.085715  54468.000000   \n",
              "max     812.000000     0.961145     1.000000     4.192597  58932.000000   \n",
              "\n",
              "              rowv         colv  \n",
              "count  2800.000000  2800.000000  \n",
              "mean      0.000092    -0.000163  \n",
              "std       0.009334     0.007778  \n",
              "min      -0.264516    -0.168807  \n",
              "25%      -0.001196    -0.001635  \n",
              "50%       0.000365     0.000080  \n",
              "75%       0.001700     0.001630  \n",
              "max       0.181871     0.128814  "
            ]
          },
          "execution_count": 50,
          "metadata": {},
          "output_type": "execute_result"
        }
      ],
      "source": [
        "X_train.describe()"
      ]
    },
    {
      "cell_type": "markdown",
      "metadata": {
        "id": "DUymtjnl7Adu"
      },
      "source": [
        "Para los datos categoricos haremos un value_counts"
      ]
    },
    {
      "cell_type": "code",
      "execution_count": 51,
      "metadata": {
        "colab": {
          "base_uri": "https://localhost:8080/",
          "height": 304
        },
        "id": "W7DFyWcp7GcK",
        "outputId": "7afaa806-5e8b-4215-e8c3-a04b77c66068"
      },
      "outputs": [
        {
          "data": {
            "text/plain": [
              "class\n",
              "GALAXY    1286\n",
              "STAR      1163\n",
              "QSO        192\n",
              "S          130\n",
              "G           28\n",
              "QUASAR       1\n",
              "Name: count, dtype: int64"
            ]
          },
          "execution_count": 51,
          "metadata": {},
          "output_type": "execute_result"
        }
      ],
      "source": [
        "X_train[\"class\"].value_counts()"
      ]
    },
    {
      "cell_type": "markdown",
      "metadata": {
        "id": "hAK360VkA14E"
      },
      "source": [
        "2.2. Perfilamiento de los datos"
      ]
    },
    {
      "cell_type": "code",
      "execution_count": null,
      "metadata": {
        "colab": {
          "base_uri": "https://localhost:8080/",
          "height": 1000
        },
        "id": "WVUIebTppISS",
        "outputId": "50bee28c-364a-4086-819d-579218d0a45e"
      },
      "outputs": [
        {
          "ename": "KeyboardInterrupt",
          "evalue": "",
          "output_type": "error",
          "traceback": [
            "\u001b[1;31m---------------------------------------------------------------------------\u001b[0m",
            "\u001b[1;31mKeyboardInterrupt\u001b[0m                         Traceback (most recent call last)",
            "Cell \u001b[1;32mIn[52], line 5\u001b[0m\n\u001b[0;32m      1\u001b[0m \u001b[38;5;66;03m#Lo primero que haremos será ver la distribución de los datos para poder ir descartando algunas variables y\u001b[39;00m\n\u001b[0;32m      2\u001b[0m \u001b[38;5;66;03m#ver los comportamientos de las variables en general.\u001b[39;00m\n\u001b[0;32m      4\u001b[0m var1\u001b[38;5;241m=\u001b[39m[\u001b[38;5;124m\"\u001b[39m\u001b[38;5;124mobjid\u001b[39m\u001b[38;5;124m\"\u001b[39m, \u001b[38;5;124m\"\u001b[39m\u001b[38;5;124mra\u001b[39m\u001b[38;5;124m\"\u001b[39m, \u001b[38;5;124m\"\u001b[39m\u001b[38;5;124mdec\u001b[39m\u001b[38;5;124m\"\u001b[39m]\n\u001b[1;32m----> 5\u001b[0m \u001b[43msns\u001b[49m\u001b[38;5;241;43m.\u001b[39;49m\u001b[43mpairplot\u001b[49m\u001b[43m(\u001b[49m\u001b[43mX_train\u001b[49m\u001b[38;5;241;43m.\u001b[39;49m\u001b[43msample\u001b[49m\u001b[43m(\u001b[49m\u001b[43mfrac\u001b[49m\u001b[38;5;241;43m=\u001b[39;49m\u001b[38;5;241;43m1\u001b[39;49m\u001b[43m)\u001b[49m\u001b[43m,\u001b[49m\u001b[43m \u001b[49m\u001b[43mheight\u001b[49m\u001b[38;5;241;43m=\u001b[39;49m\u001b[38;5;241;43m4\u001b[39;49m\u001b[43m,\u001b[49m\u001b[43m \u001b[49m\u001b[43my_vars\u001b[49m\u001b[38;5;241;43m=\u001b[39;49m\u001b[43my_train\u001b[49m\u001b[43m,\u001b[49m\u001b[43m \u001b[49m\u001b[43mx_vars\u001b[49m\u001b[38;5;241;43m=\u001b[39;49m\u001b[43mvar1\u001b[49m\u001b[43m,\u001b[49m\u001b[43m \u001b[49m\u001b[43mkind\u001b[49m\u001b[38;5;241;43m=\u001b[39;49m\u001b[38;5;124;43m\"\u001b[39;49m\u001b[38;5;124;43mscatter\u001b[39;49m\u001b[38;5;124;43m\"\u001b[39;49m\u001b[43m)\u001b[49m\n\u001b[0;32m      7\u001b[0m var2\u001b[38;5;241m=\u001b[39m[\u001b[38;5;124m\"\u001b[39m\u001b[38;5;124mu\u001b[39m\u001b[38;5;124m\"\u001b[39m, \u001b[38;5;124m\"\u001b[39m\u001b[38;5;124mg\u001b[39m\u001b[38;5;124m\"\u001b[39m, \u001b[38;5;124m\"\u001b[39m\u001b[38;5;124mr\u001b[39m\u001b[38;5;124m\"\u001b[39m, \u001b[38;5;124m\"\u001b[39m\u001b[38;5;124mi\u001b[39m\u001b[38;5;124m\"\u001b[39m, \u001b[38;5;124m\"\u001b[39m\u001b[38;5;124mz\u001b[39m\u001b[38;5;124m\"\u001b[39m]\n\u001b[0;32m      8\u001b[0m sns\u001b[38;5;241m.\u001b[39mpairplot(X_train\u001b[38;5;241m.\u001b[39msample(frac\u001b[38;5;241m=\u001b[39m\u001b[38;5;241m1\u001b[39m), height\u001b[38;5;241m=\u001b[39m\u001b[38;5;241m4\u001b[39m, y_vars\u001b[38;5;241m=\u001b[39my_train, x_vars\u001b[38;5;241m=\u001b[39mvar2, kind\u001b[38;5;241m=\u001b[39m\u001b[38;5;124m\"\u001b[39m\u001b[38;5;124mscatter\u001b[39m\u001b[38;5;124m\"\u001b[39m)\n",
            "File \u001b[1;32m~\\AppData\\Local\\Packages\\PythonSoftwareFoundation.Python.3.12_qbz5n2kfra8p0\\LocalCache\\local-packages\\Python312\\site-packages\\seaborn\\axisgrid.py:2119\u001b[0m, in \u001b[0;36mpairplot\u001b[1;34m(data, hue, hue_order, palette, vars, x_vars, y_vars, kind, diag_kind, markers, height, aspect, corner, dropna, plot_kws, diag_kws, grid_kws, size)\u001b[0m\n\u001b[0;32m   2117\u001b[0m \u001b[38;5;66;03m# Set up the PairGrid\u001b[39;00m\n\u001b[0;32m   2118\u001b[0m grid_kws\u001b[38;5;241m.\u001b[39msetdefault(\u001b[38;5;124m\"\u001b[39m\u001b[38;5;124mdiag_sharey\u001b[39m\u001b[38;5;124m\"\u001b[39m, diag_kind \u001b[38;5;241m==\u001b[39m \u001b[38;5;124m\"\u001b[39m\u001b[38;5;124mhist\u001b[39m\u001b[38;5;124m\"\u001b[39m)\n\u001b[1;32m-> 2119\u001b[0m grid \u001b[38;5;241m=\u001b[39m \u001b[43mPairGrid\u001b[49m\u001b[43m(\u001b[49m\u001b[43mdata\u001b[49m\u001b[43m,\u001b[49m\u001b[43m \u001b[49m\u001b[38;5;28;43mvars\u001b[39;49m\u001b[38;5;241;43m=\u001b[39;49m\u001b[38;5;28;43mvars\u001b[39;49m\u001b[43m,\u001b[49m\u001b[43m \u001b[49m\u001b[43mx_vars\u001b[49m\u001b[38;5;241;43m=\u001b[39;49m\u001b[43mx_vars\u001b[49m\u001b[43m,\u001b[49m\u001b[43m \u001b[49m\u001b[43my_vars\u001b[49m\u001b[38;5;241;43m=\u001b[39;49m\u001b[43my_vars\u001b[49m\u001b[43m,\u001b[49m\u001b[43m \u001b[49m\u001b[43mhue\u001b[49m\u001b[38;5;241;43m=\u001b[39;49m\u001b[43mhue\u001b[49m\u001b[43m,\u001b[49m\n\u001b[0;32m   2120\u001b[0m \u001b[43m                \u001b[49m\u001b[43mhue_order\u001b[49m\u001b[38;5;241;43m=\u001b[39;49m\u001b[43mhue_order\u001b[49m\u001b[43m,\u001b[49m\u001b[43m \u001b[49m\u001b[43mpalette\u001b[49m\u001b[38;5;241;43m=\u001b[39;49m\u001b[43mpalette\u001b[49m\u001b[43m,\u001b[49m\u001b[43m \u001b[49m\u001b[43mcorner\u001b[49m\u001b[38;5;241;43m=\u001b[39;49m\u001b[43mcorner\u001b[49m\u001b[43m,\u001b[49m\n\u001b[0;32m   2121\u001b[0m \u001b[43m                \u001b[49m\u001b[43mheight\u001b[49m\u001b[38;5;241;43m=\u001b[39;49m\u001b[43mheight\u001b[49m\u001b[43m,\u001b[49m\u001b[43m \u001b[49m\u001b[43maspect\u001b[49m\u001b[38;5;241;43m=\u001b[39;49m\u001b[43maspect\u001b[49m\u001b[43m,\u001b[49m\u001b[43m \u001b[49m\u001b[43mdropna\u001b[49m\u001b[38;5;241;43m=\u001b[39;49m\u001b[43mdropna\u001b[49m\u001b[43m,\u001b[49m\u001b[43m \u001b[49m\u001b[38;5;241;43m*\u001b[39;49m\u001b[38;5;241;43m*\u001b[39;49m\u001b[43mgrid_kws\u001b[49m\u001b[43m)\u001b[49m\n\u001b[0;32m   2123\u001b[0m \u001b[38;5;66;03m# Add the markers here as PairGrid has figured out how many levels of the\u001b[39;00m\n\u001b[0;32m   2124\u001b[0m \u001b[38;5;66;03m# hue variable are needed and we don't want to duplicate that process\u001b[39;00m\n\u001b[0;32m   2125\u001b[0m \u001b[38;5;28;01mif\u001b[39;00m markers \u001b[38;5;129;01mis\u001b[39;00m \u001b[38;5;129;01mnot\u001b[39;00m \u001b[38;5;28;01mNone\u001b[39;00m:\n",
            "File \u001b[1;32m~\\AppData\\Local\\Packages\\PythonSoftwareFoundation.Python.3.12_qbz5n2kfra8p0\\LocalCache\\local-packages\\Python312\\site-packages\\seaborn\\axisgrid.py:1282\u001b[0m, in \u001b[0;36mPairGrid.__init__\u001b[1;34m(self, data, hue, vars, x_vars, y_vars, hue_order, palette, hue_kws, corner, diag_sharey, height, aspect, layout_pad, despine, dropna)\u001b[0m\n\u001b[0;32m   1279\u001b[0m \u001b[38;5;28;01mwith\u001b[39;00m _disable_autolayout():\n\u001b[0;32m   1280\u001b[0m     fig \u001b[38;5;241m=\u001b[39m plt\u001b[38;5;241m.\u001b[39mfigure(figsize\u001b[38;5;241m=\u001b[39mfigsize)\n\u001b[1;32m-> 1282\u001b[0m axes \u001b[38;5;241m=\u001b[39m \u001b[43mfig\u001b[49m\u001b[38;5;241;43m.\u001b[39;49m\u001b[43msubplots\u001b[49m\u001b[43m(\u001b[49m\u001b[38;5;28;43mlen\u001b[39;49m\u001b[43m(\u001b[49m\u001b[43my_vars\u001b[49m\u001b[43m)\u001b[49m\u001b[43m,\u001b[49m\u001b[43m \u001b[49m\u001b[38;5;28;43mlen\u001b[39;49m\u001b[43m(\u001b[49m\u001b[43mx_vars\u001b[49m\u001b[43m)\u001b[49m\u001b[43m,\u001b[49m\n\u001b[0;32m   1283\u001b[0m \u001b[43m                    \u001b[49m\u001b[43msharex\u001b[49m\u001b[38;5;241;43m=\u001b[39;49m\u001b[38;5;124;43m\"\u001b[39;49m\u001b[38;5;124;43mcol\u001b[39;49m\u001b[38;5;124;43m\"\u001b[39;49m\u001b[43m,\u001b[49m\u001b[43m \u001b[49m\u001b[43msharey\u001b[49m\u001b[38;5;241;43m=\u001b[39;49m\u001b[38;5;124;43m\"\u001b[39;49m\u001b[38;5;124;43mrow\u001b[39;49m\u001b[38;5;124;43m\"\u001b[39;49m\u001b[43m,\u001b[49m\n\u001b[0;32m   1284\u001b[0m \u001b[43m                    \u001b[49m\u001b[43msqueeze\u001b[49m\u001b[38;5;241;43m=\u001b[39;49m\u001b[38;5;28;43;01mFalse\u001b[39;49;00m\u001b[43m)\u001b[49m\n\u001b[0;32m   1286\u001b[0m \u001b[38;5;66;03m# Possibly remove upper axes to make a corner grid\u001b[39;00m\n\u001b[0;32m   1287\u001b[0m \u001b[38;5;66;03m# Note: setting up the axes is usually the most time-intensive part\u001b[39;00m\n\u001b[0;32m   1288\u001b[0m \u001b[38;5;66;03m# of using the PairGrid. We are foregoing the speed improvement that\u001b[39;00m\n\u001b[0;32m   1289\u001b[0m \u001b[38;5;66;03m# we would get by just not setting up the hidden axes so that we can\u001b[39;00m\n\u001b[0;32m   1290\u001b[0m \u001b[38;5;66;03m# avoid implementing fig.subplots ourselves. But worth thinking about.\u001b[39;00m\n\u001b[0;32m   1291\u001b[0m \u001b[38;5;28mself\u001b[39m\u001b[38;5;241m.\u001b[39m_corner \u001b[38;5;241m=\u001b[39m corner\n",
            "File \u001b[1;32m~\\AppData\\Local\\Packages\\PythonSoftwareFoundation.Python.3.12_qbz5n2kfra8p0\\LocalCache\\local-packages\\Python312\\site-packages\\matplotlib\\figure.py:919\u001b[0m, in \u001b[0;36mFigureBase.subplots\u001b[1;34m(self, nrows, ncols, sharex, sharey, squeeze, width_ratios, height_ratios, subplot_kw, gridspec_kw)\u001b[0m\n\u001b[0;32m    916\u001b[0m     gridspec_kw[\u001b[38;5;124m'\u001b[39m\u001b[38;5;124mwidth_ratios\u001b[39m\u001b[38;5;124m'\u001b[39m] \u001b[38;5;241m=\u001b[39m width_ratios\n\u001b[0;32m    918\u001b[0m gs \u001b[38;5;241m=\u001b[39m \u001b[38;5;28mself\u001b[39m\u001b[38;5;241m.\u001b[39madd_gridspec(nrows, ncols, figure\u001b[38;5;241m=\u001b[39m\u001b[38;5;28mself\u001b[39m, \u001b[38;5;241m*\u001b[39m\u001b[38;5;241m*\u001b[39mgridspec_kw)\n\u001b[1;32m--> 919\u001b[0m axs \u001b[38;5;241m=\u001b[39m \u001b[43mgs\u001b[49m\u001b[38;5;241;43m.\u001b[39;49m\u001b[43msubplots\u001b[49m\u001b[43m(\u001b[49m\u001b[43msharex\u001b[49m\u001b[38;5;241;43m=\u001b[39;49m\u001b[43msharex\u001b[49m\u001b[43m,\u001b[49m\u001b[43m \u001b[49m\u001b[43msharey\u001b[49m\u001b[38;5;241;43m=\u001b[39;49m\u001b[43msharey\u001b[49m\u001b[43m,\u001b[49m\u001b[43m \u001b[49m\u001b[43msqueeze\u001b[49m\u001b[38;5;241;43m=\u001b[39;49m\u001b[43msqueeze\u001b[49m\u001b[43m,\u001b[49m\n\u001b[0;32m    920\u001b[0m \u001b[43m                  \u001b[49m\u001b[43msubplot_kw\u001b[49m\u001b[38;5;241;43m=\u001b[39;49m\u001b[43msubplot_kw\u001b[49m\u001b[43m)\u001b[49m\n\u001b[0;32m    921\u001b[0m \u001b[38;5;28;01mreturn\u001b[39;00m axs\n",
            "File \u001b[1;32m~\\AppData\\Local\\Packages\\PythonSoftwareFoundation.Python.3.12_qbz5n2kfra8p0\\LocalCache\\local-packages\\Python312\\site-packages\\matplotlib\\gridspec.py:283\u001b[0m, in \u001b[0;36mGridSpecBase.subplots\u001b[1;34m(self, sharex, sharey, squeeze, subplot_kw)\u001b[0m\n\u001b[0;32m    281\u001b[0m         subplot_kw[\u001b[38;5;124m\"\u001b[39m\u001b[38;5;124msharex\u001b[39m\u001b[38;5;124m\"\u001b[39m] \u001b[38;5;241m=\u001b[39m shared_with[sharex]\n\u001b[0;32m    282\u001b[0m         subplot_kw[\u001b[38;5;124m\"\u001b[39m\u001b[38;5;124msharey\u001b[39m\u001b[38;5;124m\"\u001b[39m] \u001b[38;5;241m=\u001b[39m shared_with[sharey]\n\u001b[1;32m--> 283\u001b[0m         axarr[row, col] \u001b[38;5;241m=\u001b[39m \u001b[43mfigure\u001b[49m\u001b[38;5;241;43m.\u001b[39;49m\u001b[43madd_subplot\u001b[49m\u001b[43m(\u001b[49m\n\u001b[0;32m    284\u001b[0m \u001b[43m            \u001b[49m\u001b[38;5;28;43mself\u001b[39;49m\u001b[43m[\u001b[49m\u001b[43mrow\u001b[49m\u001b[43m,\u001b[49m\u001b[43m \u001b[49m\u001b[43mcol\u001b[49m\u001b[43m]\u001b[49m\u001b[43m,\u001b[49m\u001b[43m \u001b[49m\u001b[38;5;241;43m*\u001b[39;49m\u001b[38;5;241;43m*\u001b[39;49m\u001b[43msubplot_kw\u001b[49m\u001b[43m)\u001b[49m\n\u001b[0;32m    286\u001b[0m \u001b[38;5;66;03m# turn off redundant tick labeling\u001b[39;00m\n\u001b[0;32m    287\u001b[0m \u001b[38;5;28;01mif\u001b[39;00m sharex \u001b[38;5;129;01min\u001b[39;00m [\u001b[38;5;124m\"\u001b[39m\u001b[38;5;124mcol\u001b[39m\u001b[38;5;124m\"\u001b[39m, \u001b[38;5;124m\"\u001b[39m\u001b[38;5;124mall\u001b[39m\u001b[38;5;124m\"\u001b[39m]:\n",
            "File \u001b[1;32m~\\AppData\\Local\\Packages\\PythonSoftwareFoundation.Python.3.12_qbz5n2kfra8p0\\LocalCache\\local-packages\\Python312\\site-packages\\matplotlib\\figure.py:768\u001b[0m, in \u001b[0;36mFigureBase.add_subplot\u001b[1;34m(self, *args, **kwargs)\u001b[0m\n\u001b[0;32m    766\u001b[0m         args \u001b[38;5;241m=\u001b[39m \u001b[38;5;28mtuple\u001b[39m(\u001b[38;5;28mmap\u001b[39m(\u001b[38;5;28mint\u001b[39m, \u001b[38;5;28mstr\u001b[39m(args[\u001b[38;5;241m0\u001b[39m])))\n\u001b[0;32m    767\u001b[0m     projection_class, pkw \u001b[38;5;241m=\u001b[39m \u001b[38;5;28mself\u001b[39m\u001b[38;5;241m.\u001b[39m_process_projection_requirements(\u001b[38;5;241m*\u001b[39m\u001b[38;5;241m*\u001b[39mkwargs)\n\u001b[1;32m--> 768\u001b[0m     ax \u001b[38;5;241m=\u001b[39m \u001b[43mprojection_class\u001b[49m\u001b[43m(\u001b[49m\u001b[38;5;28;43mself\u001b[39;49m\u001b[43m,\u001b[49m\u001b[43m \u001b[49m\u001b[38;5;241;43m*\u001b[39;49m\u001b[43margs\u001b[49m\u001b[43m,\u001b[49m\u001b[43m \u001b[49m\u001b[38;5;241;43m*\u001b[39;49m\u001b[38;5;241;43m*\u001b[39;49m\u001b[43mpkw\u001b[49m\u001b[43m)\u001b[49m\n\u001b[0;32m    769\u001b[0m     key \u001b[38;5;241m=\u001b[39m (projection_class, pkw)\n\u001b[0;32m    770\u001b[0m \u001b[38;5;28;01mreturn\u001b[39;00m \u001b[38;5;28mself\u001b[39m\u001b[38;5;241m.\u001b[39m_add_axes_internal(ax, key)\n",
            "File \u001b[1;32m~\\AppData\\Local\\Packages\\PythonSoftwareFoundation.Python.3.12_qbz5n2kfra8p0\\LocalCache\\local-packages\\Python312\\site-packages\\matplotlib\\axes\\_base.py:696\u001b[0m, in \u001b[0;36m_AxesBase.__init__\u001b[1;34m(self, fig, facecolor, frameon, sharex, sharey, label, xscale, yscale, box_aspect, forward_navigation_events, *args, **kwargs)\u001b[0m\n\u001b[0;32m    693\u001b[0m \u001b[38;5;28mself\u001b[39m\u001b[38;5;241m.\u001b[39mset_axisbelow(mpl\u001b[38;5;241m.\u001b[39mrcParams[\u001b[38;5;124m'\u001b[39m\u001b[38;5;124maxes.axisbelow\u001b[39m\u001b[38;5;124m'\u001b[39m])\n\u001b[0;32m    695\u001b[0m \u001b[38;5;28mself\u001b[39m\u001b[38;5;241m.\u001b[39m_rasterization_zorder \u001b[38;5;241m=\u001b[39m \u001b[38;5;28;01mNone\u001b[39;00m\n\u001b[1;32m--> 696\u001b[0m \u001b[38;5;28;43mself\u001b[39;49m\u001b[38;5;241;43m.\u001b[39;49m\u001b[43mclear\u001b[49m\u001b[43m(\u001b[49m\u001b[43m)\u001b[49m\n\u001b[0;32m    698\u001b[0m \u001b[38;5;66;03m# funcs used to format x and y - fall back on major formatters\u001b[39;00m\n\u001b[0;32m    699\u001b[0m \u001b[38;5;28mself\u001b[39m\u001b[38;5;241m.\u001b[39mfmt_xdata \u001b[38;5;241m=\u001b[39m \u001b[38;5;28;01mNone\u001b[39;00m\n",
            "File \u001b[1;32m~\\AppData\\Local\\Packages\\PythonSoftwareFoundation.Python.3.12_qbz5n2kfra8p0\\LocalCache\\local-packages\\Python312\\site-packages\\matplotlib\\axes\\_base.py:1416\u001b[0m, in \u001b[0;36m_AxesBase.clear\u001b[1;34m(self)\u001b[0m\n\u001b[0;32m   1414\u001b[0m     \u001b[38;5;28mself\u001b[39m\u001b[38;5;241m.\u001b[39mcla()\n\u001b[0;32m   1415\u001b[0m \u001b[38;5;28;01melse\u001b[39;00m:\n\u001b[1;32m-> 1416\u001b[0m     \u001b[38;5;28;43mself\u001b[39;49m\u001b[38;5;241;43m.\u001b[39;49m\u001b[43m__clear\u001b[49m\u001b[43m(\u001b[49m\u001b[43m)\u001b[49m\n",
            "File \u001b[1;32m~\\AppData\\Local\\Packages\\PythonSoftwareFoundation.Python.3.12_qbz5n2kfra8p0\\LocalCache\\local-packages\\Python312\\site-packages\\matplotlib\\axes\\_base.py:1398\u001b[0m, in \u001b[0;36m_AxesBase.__clear\u001b[1;34m(self)\u001b[0m\n\u001b[0;32m   1396\u001b[0m share \u001b[38;5;241m=\u001b[39m \u001b[38;5;28mgetattr\u001b[39m(\u001b[38;5;28mself\u001b[39m, \u001b[38;5;124mf\u001b[39m\u001b[38;5;124m\"\u001b[39m\u001b[38;5;124m_share\u001b[39m\u001b[38;5;132;01m{\u001b[39;00mname\u001b[38;5;132;01m}\u001b[39;00m\u001b[38;5;124m\"\u001b[39m)\n\u001b[0;32m   1397\u001b[0m \u001b[38;5;28;01mif\u001b[39;00m share \u001b[38;5;129;01mis\u001b[39;00m \u001b[38;5;129;01mnot\u001b[39;00m \u001b[38;5;28;01mNone\u001b[39;00m:\n\u001b[1;32m-> 1398\u001b[0m     \u001b[38;5;28;43mgetattr\u001b[39;49m\u001b[43m(\u001b[49m\u001b[38;5;28;43mself\u001b[39;49m\u001b[43m,\u001b[49m\u001b[43m \u001b[49m\u001b[38;5;124;43mf\u001b[39;49m\u001b[38;5;124;43m\"\u001b[39;49m\u001b[38;5;124;43mshare\u001b[39;49m\u001b[38;5;132;43;01m{\u001b[39;49;00m\u001b[43mname\u001b[49m\u001b[38;5;132;43;01m}\u001b[39;49;00m\u001b[38;5;124;43m\"\u001b[39;49m\u001b[43m)\u001b[49m\u001b[43m(\u001b[49m\u001b[43mshare\u001b[49m\u001b[43m)\u001b[49m\n\u001b[0;32m   1399\u001b[0m \u001b[38;5;28;01melse\u001b[39;00m:\n\u001b[0;32m   1400\u001b[0m     \u001b[38;5;66;03m# Although the scale was set to linear as part of clear,\u001b[39;00m\n\u001b[0;32m   1401\u001b[0m     \u001b[38;5;66;03m# polar requires that _set_scale is called again\u001b[39;00m\n\u001b[0;32m   1402\u001b[0m     \u001b[38;5;28;01mif\u001b[39;00m \u001b[38;5;28mself\u001b[39m\u001b[38;5;241m.\u001b[39mname \u001b[38;5;241m==\u001b[39m \u001b[38;5;124m\"\u001b[39m\u001b[38;5;124mpolar\u001b[39m\u001b[38;5;124m\"\u001b[39m:\n",
            "File \u001b[1;32m~\\AppData\\Local\\Packages\\PythonSoftwareFoundation.Python.3.12_qbz5n2kfra8p0\\LocalCache\\local-packages\\Python312\\site-packages\\matplotlib\\axes\\_base.py:1273\u001b[0m, in \u001b[0;36m_AxesBase.sharey\u001b[1;34m(self, other)\u001b[0m\n\u001b[0;32m   1271\u001b[0m \u001b[38;5;28mself\u001b[39m\u001b[38;5;241m.\u001b[39myaxis\u001b[38;5;241m.\u001b[39mmajor \u001b[38;5;241m=\u001b[39m other\u001b[38;5;241m.\u001b[39myaxis\u001b[38;5;241m.\u001b[39mmajor  \u001b[38;5;66;03m# Ticker instances holding\u001b[39;00m\n\u001b[0;32m   1272\u001b[0m \u001b[38;5;28mself\u001b[39m\u001b[38;5;241m.\u001b[39myaxis\u001b[38;5;241m.\u001b[39mminor \u001b[38;5;241m=\u001b[39m other\u001b[38;5;241m.\u001b[39myaxis\u001b[38;5;241m.\u001b[39mminor  \u001b[38;5;66;03m# locator and formatter.\u001b[39;00m\n\u001b[1;32m-> 1273\u001b[0m y0, y1 \u001b[38;5;241m=\u001b[39m \u001b[43mother\u001b[49m\u001b[38;5;241;43m.\u001b[39;49m\u001b[43mget_ylim\u001b[49m\u001b[43m(\u001b[49m\u001b[43m)\u001b[49m\n\u001b[0;32m   1274\u001b[0m \u001b[38;5;28mself\u001b[39m\u001b[38;5;241m.\u001b[39mset_ylim(y0, y1, emit\u001b[38;5;241m=\u001b[39m\u001b[38;5;28;01mFalse\u001b[39;00m, auto\u001b[38;5;241m=\u001b[39mother\u001b[38;5;241m.\u001b[39mget_autoscaley_on())\n\u001b[0;32m   1275\u001b[0m \u001b[38;5;28mself\u001b[39m\u001b[38;5;241m.\u001b[39myaxis\u001b[38;5;241m.\u001b[39m_scale \u001b[38;5;241m=\u001b[39m other\u001b[38;5;241m.\u001b[39myaxis\u001b[38;5;241m.\u001b[39m_scale\n",
            "File \u001b[1;32m~\\AppData\\Local\\Packages\\PythonSoftwareFoundation.Python.3.12_qbz5n2kfra8p0\\LocalCache\\local-packages\\Python312\\site-packages\\matplotlib\\axes\\_base.py:3939\u001b[0m, in \u001b[0;36m_AxesBase.get_ylim\u001b[1;34m(self)\u001b[0m\n\u001b[0;32m   3919\u001b[0m \u001b[38;5;28;01mdef\u001b[39;00m\u001b[38;5;250m \u001b[39m\u001b[38;5;21mget_ylim\u001b[39m(\u001b[38;5;28mself\u001b[39m):\n\u001b[0;32m   3920\u001b[0m \u001b[38;5;250m    \u001b[39m\u001b[38;5;124;03m\"\"\"\u001b[39;00m\n\u001b[0;32m   3921\u001b[0m \u001b[38;5;124;03m    Return the y-axis view limits.\u001b[39;00m\n\u001b[0;32m   3922\u001b[0m \n\u001b[1;32m   (...)\u001b[0m\n\u001b[0;32m   3937\u001b[0m \u001b[38;5;124;03m    will be greater than the *top* value.\u001b[39;00m\n\u001b[0;32m   3938\u001b[0m \u001b[38;5;124;03m    \"\"\"\u001b[39;00m\n\u001b[1;32m-> 3939\u001b[0m     \u001b[38;5;28;01mreturn\u001b[39;00m \u001b[38;5;28mtuple\u001b[39m(\u001b[38;5;28;43mself\u001b[39;49m\u001b[38;5;241;43m.\u001b[39;49m\u001b[43mviewLim\u001b[49m\u001b[38;5;241m.\u001b[39mintervaly)\n",
            "File \u001b[1;32m~\\AppData\\Local\\Packages\\PythonSoftwareFoundation.Python.3.12_qbz5n2kfra8p0\\LocalCache\\local-packages\\Python312\\site-packages\\matplotlib\\axes\\_base.py:868\u001b[0m, in \u001b[0;36m_AxesBase.viewLim\u001b[1;34m(self)\u001b[0m\n\u001b[0;32m    865\u001b[0m \u001b[38;5;129m@property\u001b[39m\n\u001b[0;32m    866\u001b[0m \u001b[38;5;28;01mdef\u001b[39;00m\u001b[38;5;250m \u001b[39m\u001b[38;5;21mviewLim\u001b[39m(\u001b[38;5;28mself\u001b[39m):\n\u001b[0;32m    867\u001b[0m \u001b[38;5;250m    \u001b[39m\u001b[38;5;124;03m\"\"\"The view limits as `.Bbox` in data coordinates.\"\"\"\u001b[39;00m\n\u001b[1;32m--> 868\u001b[0m     \u001b[38;5;28;43mself\u001b[39;49m\u001b[38;5;241;43m.\u001b[39;49m\u001b[43m_unstale_viewLim\u001b[49m\u001b[43m(\u001b[49m\u001b[43m)\u001b[49m\n\u001b[0;32m    869\u001b[0m     \u001b[38;5;28;01mreturn\u001b[39;00m \u001b[38;5;28mself\u001b[39m\u001b[38;5;241m.\u001b[39m_viewLim\n",
            "File \u001b[1;32m~\\AppData\\Local\\Packages\\PythonSoftwareFoundation.Python.3.12_qbz5n2kfra8p0\\LocalCache\\local-packages\\Python312\\site-packages\\matplotlib\\axes\\_base.py:856\u001b[0m, in \u001b[0;36m_AxesBase._unstale_viewLim\u001b[1;34m(self)\u001b[0m\n\u001b[0;32m    851\u001b[0m \u001b[38;5;28;01mdef\u001b[39;00m\u001b[38;5;250m \u001b[39m\u001b[38;5;21m_unstale_viewLim\u001b[39m(\u001b[38;5;28mself\u001b[39m):\n\u001b[0;32m    852\u001b[0m     \u001b[38;5;66;03m# We should arrange to store this information once per share-group\u001b[39;00m\n\u001b[0;32m    853\u001b[0m     \u001b[38;5;66;03m# instead of on every axis.\u001b[39;00m\n\u001b[0;32m    854\u001b[0m     need_scale \u001b[38;5;241m=\u001b[39m {\n\u001b[0;32m    855\u001b[0m         name: \u001b[38;5;28many\u001b[39m(ax\u001b[38;5;241m.\u001b[39m_stale_viewlims[name]\n\u001b[1;32m--> 856\u001b[0m                   \u001b[38;5;28;01mfor\u001b[39;00m ax \u001b[38;5;129;01min\u001b[39;00m \u001b[38;5;28;43mself\u001b[39;49m\u001b[38;5;241;43m.\u001b[39;49m\u001b[43m_shared_axes\u001b[49m\u001b[43m[\u001b[49m\u001b[43mname\u001b[49m\u001b[43m]\u001b[49m\u001b[38;5;241;43m.\u001b[39;49m\u001b[43mget_siblings\u001b[49m\u001b[43m(\u001b[49m\u001b[38;5;28;43mself\u001b[39;49m\u001b[43m)\u001b[49m)\n\u001b[0;32m    857\u001b[0m         \u001b[38;5;28;01mfor\u001b[39;00m name \u001b[38;5;129;01min\u001b[39;00m \u001b[38;5;28mself\u001b[39m\u001b[38;5;241m.\u001b[39m_axis_names}\n\u001b[0;32m    858\u001b[0m     \u001b[38;5;28;01mif\u001b[39;00m \u001b[38;5;28many\u001b[39m(need_scale\u001b[38;5;241m.\u001b[39mvalues()):\n\u001b[0;32m    859\u001b[0m         \u001b[38;5;28;01mfor\u001b[39;00m name \u001b[38;5;129;01min\u001b[39;00m need_scale:\n",
            "File \u001b[1;32m~\\AppData\\Local\\Packages\\PythonSoftwareFoundation.Python.3.12_qbz5n2kfra8p0\\LocalCache\\local-packages\\Python312\\site-packages\\matplotlib\\cbook.py:874\u001b[0m, in \u001b[0;36mGrouper.get_siblings\u001b[1;34m(self, a)\u001b[0m\n\u001b[0;32m    872\u001b[0m \u001b[38;5;250m\u001b[39m\u001b[38;5;124;03m\"\"\"Return all of the items joined with *a*, including itself.\"\"\"\u001b[39;00m\n\u001b[0;32m    873\u001b[0m siblings \u001b[38;5;241m=\u001b[39m \u001b[38;5;28mself\u001b[39m\u001b[38;5;241m.\u001b[39m_mapping\u001b[38;5;241m.\u001b[39mget(a, [a])\n\u001b[1;32m--> 874\u001b[0m \u001b[38;5;28;01mreturn\u001b[39;00m \u001b[38;5;28;43msorted\u001b[39;49m\u001b[43m(\u001b[49m\u001b[43msiblings\u001b[49m\u001b[43m,\u001b[49m\u001b[43m \u001b[49m\u001b[43mkey\u001b[49m\u001b[38;5;241;43m=\u001b[39;49m\u001b[38;5;28;43mself\u001b[39;49m\u001b[38;5;241;43m.\u001b[39;49m\u001b[43m_ordering\u001b[49m\u001b[38;5;241;43m.\u001b[39;49m\u001b[43mget\u001b[49m\u001b[43m)\u001b[49m\n",
            "File \u001b[1;32mC:\\Program Files\\WindowsApps\\PythonSoftwareFoundation.Python.3.12_3.12.2544.0_x64__qbz5n2kfra8p0\\Lib\\_weakrefset.py:70\u001b[0m, in \u001b[0;36mWeakSet.__iter__\u001b[1;34m(self)\u001b[0m\n\u001b[0;32m     66\u001b[0m item \u001b[38;5;241m=\u001b[39m itemref()\n\u001b[0;32m     67\u001b[0m \u001b[38;5;28;01mif\u001b[39;00m item \u001b[38;5;129;01mis\u001b[39;00m \u001b[38;5;129;01mnot\u001b[39;00m \u001b[38;5;28;01mNone\u001b[39;00m:\n\u001b[0;32m     68\u001b[0m     \u001b[38;5;66;03m# Caveat: the iterator will keep a strong reference to\u001b[39;00m\n\u001b[0;32m     69\u001b[0m     \u001b[38;5;66;03m# `item` until it is resumed or closed.\u001b[39;00m\n\u001b[1;32m---> 70\u001b[0m     \u001b[38;5;28;01myield\u001b[39;00m item\n",
            "\u001b[1;31mKeyboardInterrupt\u001b[0m: "
          ]
        }
      ],
      "source": [
        "#Lo primero que haremos será ver la distribución de los datos para poder ir descartando algunas variables y\n",
        "#ver los comportamientos de las variables en general.\n",
        "\n",
        "var1=[\"objid\", \"ra\", \"dec\"]\n",
        "sns.pairplot(star_alpes.sample(frac=1), height=4, y_vars=\"redshift\", x_vars=var1, kind=\"scatter\")\n",
        "\n",
        "var2=[\"u\", \"g\", \"r\", \"i\", \"z\"]\n",
        "sns.pairplot(star_alpes.sample(frac=1), height=4, y_vars=\"redshift\", x_vars=var2, kind=\"scatter\")\n",
        "\n",
        "var3=[\"run\", \"camcol\", \"field\"]\n",
        "sns.pairplot(star_alpes.sample(frac=1), height=4, y_vars=\"redshift\", x_vars=var3, kind=\"scatter\")\n",
        "\n",
        "var4=[\"score\", \"clean\"]\n",
        "sns.pairplot(star_alpes.sample(frac=1), height=4, y_vars=\"redshift\", x_vars=var4, kind=\"scatter\")\n",
        "\n",
        "var5=[\"mjd\", \"rowv\", \"colv\"]\n",
        "sns.pairplot(star_alpes.sample(frac=1), height=4, y_vars=\"redshift\", x_vars=var5, kind=\"scatter\")\n",
        "\n",
        "#Para class se utiliza un diagrama de bloques ya que es una variable categórica\n",
        "fig = plt.figure(figsize=(6, 4))\n",
        "ax = sns.boxplot(x = 'class', y = 'redshift', data = star_alpes)\n",
        "d = ax.set_xticklabels(ax.get_xticklabels(), rotation = 70)\n",
        "plt.xlabel('Class')\n",
        "plt.ylabel('Redshift')\n",
        "plt.show()\n"
      ]
    },
    {
      "cell_type": "markdown",
      "metadata": {
        "id": "7UV4KJ1X3_l8"
      },
      "source": [
        "Lo anterior nos muestra que hay variables que su distribución no afectan en nada al redshfit, entonces se podrían tener en cuenta para descartarlas posteriormente.\n",
        "\n",
        "Algunas son el \"objid\", \"run\", \"camcol\", \"rowv\" y \"colv\".\n",
        "\n",
        "Dejamos la variable \"class\" porque nos permitirá realizar un one hot para poder obtener una numerización de las variables categoricas, también dejamos el \"clean\" y \"score\" porque nos servirán para posteriormente realizar un filtrado y utilizar solo datos con un clean de 1, es decir confiables y con un score alto.\n",
        "\n",
        "Ahora, las variables de \"u\", \"g\", \"r\", \"i\" y \"z\" son muy similares en cuanto a su distribución por lo que realizaremos un análisis de colinealidad para ver si podemos dejar todas o solo una de estas."
      ]
    },
    {
      "cell_type": "code",
      "execution_count": 9,
      "metadata": {
        "colab": {
          "base_uri": "https://localhost:8080/",
          "height": 391
        },
        "id": "qp6_kc885CKN",
        "outputId": "a9760e17-69da-4312-c3e1-19f0e4e989bd"
      },
      "outputs": [
        {
          "data": {
            "text/plain": [
              "<Axes: >"
            ]
          },
          "execution_count": 9,
          "metadata": {},
          "output_type": "execute_result"
        },
        {
          "data": {
            "image/png": "[encoded data removed]",
            "text/plain": [
              "<Figure size 600x400 with 2 Axes>"
            ]
          },
          "metadata": {},
          "output_type": "display_data"
        }
      ],
      "source": [
        "var = [\"u\", \"g\", \"r\", \"i\", \"z\"]\n",
        "\n",
        "plt.figure(figsize=(6, 4))\n",
        "sns.heatmap(star_alpes[var].corr(), cmap=\"Blues\", vmin=0, vmax=1)"
      ]
    },
    {
      "cell_type": "markdown",
      "metadata": {
        "id": "Fct0ZDEP5b7I"
      },
      "source": [
        "Lo anterior nos muestra como z tiene una alta correlación con las variables g, r e i. Lo mejor entonces es descartar esas tres variables y quedarnos con u y z porque su correlación no es tan alta, siendo aproximadamente de 0,6."
      ]
    },
    {
      "cell_type": "code",
      "execution_count": 10,
      "metadata": {
        "colab": {
          "base_uri": "https://localhost:8080/",
          "height": 391
        },
        "id": "NK35Ia4P5rNr",
        "outputId": "67a0204d-20dd-4a2c-e482-1513dcf5ad52"
      },
      "outputs": [
        {
          "data": {
            "text/plain": [
              "<Axes: >"
            ]
          },
          "execution_count": 10,
          "metadata": {},
          "output_type": "execute_result"
        },
        {
          "data": {
            "image/png": "[encoded data removed]",
            "text/plain": [
              "<Figure size 600x400 with 2 Axes>"
            ]
          },
          "metadata": {},
          "output_type": "display_data"
        }
      ],
      "source": [
        "var = [\"u\", \"z\"]\n",
        "\n",
        "plt.figure(figsize=(6, 4))\n",
        "sns.heatmap(star_alpes[var].corr(), cmap=\"Blues\", vmin=0, vmax=1)"
      ]
    },
    {
      "cell_type": "markdown",
      "metadata": {
        "id": "d_oCdqbO0fl5"
      },
      "source": [
        "Ahora bien haremos un análisis de correlación entre las variables que utilizaremos para la regresión.\n",
        "\n",
        "Utilizaremos entonces las siguientes variables para comprobar si hay algún tipo de correlación.\n",
        "\n"
      ]
    },
    {
      "cell_type": "code",
      "execution_count": 11,
      "metadata": {
        "colab": {
          "base_uri": "https://localhost:8080/",
          "height": 391
        },
        "id": "vMuCDGeZ1XCv",
        "outputId": "1cb8de45-af63-4386-9f99-56415420f9e1"
      },
      "outputs": [
        {
          "data": {
            "text/plain": [
              "<Axes: >"
            ]
          },
          "execution_count": 11,
          "metadata": {},
          "output_type": "execute_result"
        },
        {
          "data": {
            "image/png": "[encoded data removed]",
            "text/plain": [
              "<Figure size 600x400 with 2 Axes>"
            ]
          },
          "metadata": {},
          "output_type": "display_data"
        }
      ],
      "source": [
        "pos_var = [\"ra\", \"dec\", \"u\", \"z\", \"field\", \"mjd\"]\n",
        "\n",
        "plt.figure(figsize=(6, 4))\n",
        "sns.heatmap(star_alpes[pos_var].corr(), cmap=\"Blues\", vmin=0, vmax=1)"
      ]
    },
    {
      "cell_type": "markdown",
      "metadata": {
        "id": "42icGfQH1g2a"
      },
      "source": [
        "Viendo el gráfico de correlación anterior podemos ver que las variables seleccionadas no poseen una alta correlación, revisamos nuevamente la correlación entre la variable \"ra\" y \"field\" y decidimos ignorar la variable field y mantener la variable \"ra\" ya que se tiene una alta correlación entre estas dos."
      ]
    },
    {
      "cell_type": "code",
      "execution_count": 12,
      "metadata": {
        "colab": {
          "base_uri": "https://localhost:8080/",
          "height": 391
        },
        "id": "PcrWEbHc14dP",
        "outputId": "a738fe4f-155d-4267-c733-d46014b542db"
      },
      "outputs": [
        {
          "data": {
            "text/plain": [
              "<Axes: >"
            ]
          },
          "execution_count": 12,
          "metadata": {},
          "output_type": "execute_result"
        },
        {
          "data": {
            "image/png": "[encoded data removed]",
            "text/plain": [
              "<Figure size 600x400 with 2 Axes>"
            ]
          },
          "metadata": {},
          "output_type": "display_data"
        }
      ],
      "source": [
        "pos_var2 = [\"ra\", \"dec\", \"u\", \"z\", \"mjd\"]\n",
        "\n",
        "plt.figure(figsize=(6, 4))\n",
        "sns.heatmap(star_alpes[pos_var2].corr(), cmap=\"Blues\", vmin=0, vmax=1)"
      ]
    },
    {
      "cell_type": "markdown",
      "metadata": {
        "id": "kJa9pqcSA5-D"
      },
      "source": [
        "2.3. Análisis de Calidad de Datos"
      ]
    },
    {
      "cell_type": "markdown",
      "metadata": {
        "id": "4Cxk2hGvBYIt"
      },
      "source": [
        "2.3.1. Completitud"
      ]
    },
    {
      "cell_type": "markdown",
      "metadata": {
        "id": "W_thOCdM2e3e"
      },
      "source": [
        "Vamos a revisar el porcentaje de registros vacios de todas las variables"
      ]
    },
    {
      "cell_type": "code",
      "execution_count": 13,
      "metadata": {
        "colab": {
          "base_uri": "https://localhost:8080/",
          "height": 614
        },
        "id": "Q4q2bbNNBqYL",
        "outputId": "b18fb2fe-580e-42c7-8507-066d3256ff2c"
      },
      "outputs": [
        {
          "data": {
            "text/html": [
              "<div>\n",
              "<style scoped>\n",
              "    .dataframe tbody tr th:only-of-type {\n",
              "        vertical-align: middle;\n",
              "    }\n",
              "\n",
              "    .dataframe tbody tr th {\n",
              "        vertical-align: top;\n",
              "    }\n",
              "\n",
              "    .dataframe thead th {\n",
              "        text-align: right;\n",
              "    }\n",
              "</style>\n",
              "<table border=\"1\" class=\"dataframe\">\n",
              "  <thead>\n",
              "    <tr style=\"text-align: right;\">\n",
              "      <th></th>\n",
              "      <th>0</th>\n",
              "    </tr>\n",
              "  </thead>\n",
              "  <tbody>\n",
              "    <tr>\n",
              "      <th>objid</th>\n",
              "      <td>0.0</td>\n",
              "    </tr>\n",
              "    <tr>\n",
              "      <th>ra</th>\n",
              "      <td>0.0</td>\n",
              "    </tr>\n",
              "    <tr>\n",
              "      <th>dec</th>\n",
              "      <td>0.0</td>\n",
              "    </tr>\n",
              "    <tr>\n",
              "      <th>u</th>\n",
              "      <td>0.0</td>\n",
              "    </tr>\n",
              "    <tr>\n",
              "      <th>g</th>\n",
              "      <td>0.0</td>\n",
              "    </tr>\n",
              "    <tr>\n",
              "      <th>r</th>\n",
              "      <td>0.0</td>\n",
              "    </tr>\n",
              "    <tr>\n",
              "      <th>i</th>\n",
              "      <td>0.0</td>\n",
              "    </tr>\n",
              "    <tr>\n",
              "      <th>z</th>\n",
              "      <td>0.0</td>\n",
              "    </tr>\n",
              "    <tr>\n",
              "      <th>run</th>\n",
              "      <td>0.0</td>\n",
              "    </tr>\n",
              "    <tr>\n",
              "      <th>camcol</th>\n",
              "      <td>0.0</td>\n",
              "    </tr>\n",
              "    <tr>\n",
              "      <th>field</th>\n",
              "      <td>0.0</td>\n",
              "    </tr>\n",
              "    <tr>\n",
              "      <th>score</th>\n",
              "      <td>0.0</td>\n",
              "    </tr>\n",
              "    <tr>\n",
              "      <th>clean</th>\n",
              "      <td>0.0</td>\n",
              "    </tr>\n",
              "    <tr>\n",
              "      <th>class</th>\n",
              "      <td>0.0</td>\n",
              "    </tr>\n",
              "    <tr>\n",
              "      <th>redshift</th>\n",
              "      <td>0.0</td>\n",
              "    </tr>\n",
              "    <tr>\n",
              "      <th>mjd</th>\n",
              "      <td>0.0</td>\n",
              "    </tr>\n",
              "    <tr>\n",
              "      <th>rowv</th>\n",
              "      <td>0.0</td>\n",
              "    </tr>\n",
              "    <tr>\n",
              "      <th>colv</th>\n",
              "      <td>0.0</td>\n",
              "    </tr>\n",
              "  </tbody>\n",
              "</table>\n",
              "</div>"
            ],
            "text/plain": [
              "            0\n",
              "objid     0.0\n",
              "ra        0.0\n",
              "dec       0.0\n",
              "u         0.0\n",
              "g         0.0\n",
              "r         0.0\n",
              "i         0.0\n",
              "z         0.0\n",
              "run       0.0\n",
              "camcol    0.0\n",
              "field     0.0\n",
              "score     0.0\n",
              "clean     0.0\n",
              "class     0.0\n",
              "redshift  0.0\n",
              "mjd       0.0\n",
              "rowv      0.0\n",
              "colv      0.0"
            ]
          },
          "execution_count": 13,
          "metadata": {},
          "output_type": "execute_result"
        }
      ],
      "source": [
        "df_porcentajes = (100*star_alpes.isna().sum()/len(star_alpes)).to_frame()\n",
        "df_porcentajes.sort_values(0, ascending = False)"
      ]
    },
    {
      "cell_type": "markdown",
      "metadata": {
        "id": "Lp1cbc2e2lOn"
      },
      "source": [
        "De lo anterior vemos que todos los registros estan completos, ahora miraremos en específico las variables que queremos utilizar para la regresión:"
      ]
    },
    {
      "cell_type": "code",
      "execution_count": 14,
      "metadata": {
        "colab": {
          "base_uri": "https://localhost:8080/",
          "height": 272
        },
        "id": "nUopaCPu2IP-",
        "outputId": "393cb8fc-c30c-4f56-a833-4fc22ca1015d"
      },
      "outputs": [
        {
          "data": {
            "text/plain": [
              "redshift    0.0\n",
              "ra          0.0\n",
              "dec         0.0\n",
              "u           0.0\n",
              "z           0.0\n",
              "mjd         0.0\n",
              "dtype: float64"
            ]
          },
          "execution_count": 14,
          "metadata": {},
          "output_type": "execute_result"
        }
      ],
      "source": [
        "star_alpes[[\"redshift\"]+pos_var2].isnull().sum() / star_alpes.shape[0]"
      ]
    },
    {
      "cell_type": "markdown",
      "metadata": {
        "id": "686tyGpfBbWM"
      },
      "source": [
        "2.3.2. Unicidad"
      ]
    },
    {
      "cell_type": "markdown",
      "metadata": {
        "id": "7wpU0V3w2vRq"
      },
      "source": [
        "Revisaremos ahora entonces cuales y cuantas son las filas duplicadas:"
      ]
    },
    {
      "cell_type": "code",
      "execution_count": 15,
      "metadata": {
        "colab": {
          "base_uri": "https://localhost:8080/",
          "height": 1000
        },
        "id": "Up7hHmHVC229",
        "outputId": "d65c6aa4-a8fe-4ed6-a905-c2b5ef21f663"
      },
      "outputs": [
        {
          "data": {
            "text/html": [
              "<div>\n",
              "<style scoped>\n",
              "    .dataframe tbody tr th:only-of-type {\n",
              "        vertical-align: middle;\n",
              "    }\n",
              "\n",
              "    .dataframe tbody tr th {\n",
              "        vertical-align: top;\n",
              "    }\n",
              "\n",
              "    .dataframe thead th {\n",
              "        text-align: right;\n",
              "    }\n",
              "</style>\n",
              "<table border=\"1\" class=\"dataframe\">\n",
              "  <thead>\n",
              "    <tr style=\"text-align: right;\">\n",
              "      <th></th>\n",
              "      <th>objid</th>\n",
              "      <th>ra</th>\n",
              "      <th>dec</th>\n",
              "      <th>u</th>\n",
              "      <th>g</th>\n",
              "      <th>r</th>\n",
              "      <th>i</th>\n",
              "      <th>z</th>\n",
              "      <th>run</th>\n",
              "      <th>camcol</th>\n",
              "      <th>field</th>\n",
              "      <th>score</th>\n",
              "      <th>clean</th>\n",
              "      <th>class</th>\n",
              "      <th>redshift</th>\n",
              "      <th>mjd</th>\n",
              "      <th>rowv</th>\n",
              "      <th>colv</th>\n",
              "    </tr>\n",
              "  </thead>\n",
              "  <tbody>\n",
              "    <tr>\n",
              "      <th>114</th>\n",
              "      <td>1237646382079606869</td>\n",
              "      <td>94.679499</td>\n",
              "      <td>0.842321</td>\n",
              "      <td>18.47695</td>\n",
              "      <td>16.94897</td>\n",
              "      <td>16.68126</td>\n",
              "      <td>16.59887</td>\n",
              "      <td>16.51747</td>\n",
              "      <td>211</td>\n",
              "      <td>6</td>\n",
              "      <td>359</td>\n",
              "      <td>0.806204</td>\n",
              "      <td>1</td>\n",
              "      <td>STAR</td>\n",
              "      <td>0.000207</td>\n",
              "      <td>52931</td>\n",
              "      <td>0.000372</td>\n",
              "      <td>-0.001017</td>\n",
              "    </tr>\n",
              "    <tr>\n",
              "      <th>3024</th>\n",
              "      <td>1237646382079606869</td>\n",
              "      <td>94.679499</td>\n",
              "      <td>0.842321</td>\n",
              "      <td>18.47695</td>\n",
              "      <td>16.94897</td>\n",
              "      <td>16.68126</td>\n",
              "      <td>16.59887</td>\n",
              "      <td>16.51747</td>\n",
              "      <td>211</td>\n",
              "      <td>6</td>\n",
              "      <td>359</td>\n",
              "      <td>0.806204</td>\n",
              "      <td>1</td>\n",
              "      <td>STAR</td>\n",
              "      <td>0.000207</td>\n",
              "      <td>52931</td>\n",
              "      <td>0.000372</td>\n",
              "      <td>-0.001017</td>\n",
              "    </tr>\n",
              "    <tr>\n",
              "      <th>1735</th>\n",
              "      <td>1237646382079672642</td>\n",
              "      <td>94.883887</td>\n",
              "      <td>0.990686</td>\n",
              "      <td>17.03847</td>\n",
              "      <td>15.47224</td>\n",
              "      <td>15.10297</td>\n",
              "      <td>14.97051</td>\n",
              "      <td>14.88297</td>\n",
              "      <td>211</td>\n",
              "      <td>6</td>\n",
              "      <td>360</td>\n",
              "      <td>0.806983</td>\n",
              "      <td>1</td>\n",
              "      <td>S</td>\n",
              "      <td>0.000012</td>\n",
              "      <td>52931</td>\n",
              "      <td>-0.001483</td>\n",
              "      <td>0.001376</td>\n",
              "    </tr>\n",
              "    <tr>\n",
              "      <th>897</th>\n",
              "      <td>1237646382079672642</td>\n",
              "      <td>94.883887</td>\n",
              "      <td>0.990686</td>\n",
              "      <td>17.03847</td>\n",
              "      <td>15.47224</td>\n",
              "      <td>15.10297</td>\n",
              "      <td>14.97051</td>\n",
              "      <td>14.88297</td>\n",
              "      <td>211</td>\n",
              "      <td>6</td>\n",
              "      <td>360</td>\n",
              "      <td>0.806983</td>\n",
              "      <td>1</td>\n",
              "      <td>S</td>\n",
              "      <td>0.000012</td>\n",
              "      <td>52931</td>\n",
              "      <td>-0.001483</td>\n",
              "      <td>0.001376</td>\n",
              "    </tr>\n",
              "    <tr>\n",
              "      <th>88</th>\n",
              "      <td>1237648703513428079</td>\n",
              "      <td>206.374167</td>\n",
              "      <td>-0.781673</td>\n",
              "      <td>18.28101</td>\n",
              "      <td>17.18856</td>\n",
              "      <td>16.70175</td>\n",
              "      <td>16.33173</td>\n",
              "      <td>16.14626</td>\n",
              "      <td>752</td>\n",
              "      <td>2</td>\n",
              "      <td>420</td>\n",
              "      <td>0.904768</td>\n",
              "      <td>1</td>\n",
              "      <td>GALAXY</td>\n",
              "      <td>0.088136</td>\n",
              "      <td>51943</td>\n",
              "      <td>-0.002860</td>\n",
              "      <td>0.001156</td>\n",
              "    </tr>\n",
              "    <tr>\n",
              "      <th>3254</th>\n",
              "      <td>1237648703513428079</td>\n",
              "      <td>206.374167</td>\n",
              "      <td>-0.781673</td>\n",
              "      <td>18.28101</td>\n",
              "      <td>17.18856</td>\n",
              "      <td>16.70175</td>\n",
              "      <td>16.33173</td>\n",
              "      <td>16.14626</td>\n",
              "      <td>752</td>\n",
              "      <td>2</td>\n",
              "      <td>420</td>\n",
              "      <td>0.904768</td>\n",
              "      <td>1</td>\n",
              "      <td>GALAXY</td>\n",
              "      <td>0.088136</td>\n",
              "      <td>51943</td>\n",
              "      <td>-0.002860</td>\n",
              "      <td>0.001156</td>\n",
              "    </tr>\n",
              "    <tr>\n",
              "      <th>2609</th>\n",
              "      <td>1237648705132888168</td>\n",
              "      <td>226.621828</td>\n",
              "      <td>0.595329</td>\n",
              "      <td>18.96363</td>\n",
              "      <td>18.67637</td>\n",
              "      <td>18.47234</td>\n",
              "      <td>18.41949</td>\n",
              "      <td>17.96547</td>\n",
              "      <td>752</td>\n",
              "      <td>5</td>\n",
              "      <td>555</td>\n",
              "      <td>0.871417</td>\n",
              "      <td>1</td>\n",
              "      <td>QSO</td>\n",
              "      <td>0.369813</td>\n",
              "      <td>51990</td>\n",
              "      <td>0.002106</td>\n",
              "      <td>-0.000110</td>\n",
              "    </tr>\n",
              "    <tr>\n",
              "      <th>3592</th>\n",
              "      <td>1237648705132888168</td>\n",
              "      <td>226.621828</td>\n",
              "      <td>0.595329</td>\n",
              "      <td>18.96363</td>\n",
              "      <td>18.67637</td>\n",
              "      <td>18.47234</td>\n",
              "      <td>18.41949</td>\n",
              "      <td>17.96547</td>\n",
              "      <td>752</td>\n",
              "      <td>5</td>\n",
              "      <td>555</td>\n",
              "      <td>0.871417</td>\n",
              "      <td>1</td>\n",
              "      <td>QSO</td>\n",
              "      <td>0.369813</td>\n",
              "      <td>51990</td>\n",
              "      <td>0.002106</td>\n",
              "      <td>-0.000110</td>\n",
              "    </tr>\n",
              "    <tr>\n",
              "      <th>1991</th>\n",
              "      <td>1237648705134461016</td>\n",
              "      <td>230.219374</td>\n",
              "      <td>0.560741</td>\n",
              "      <td>19.42733</td>\n",
              "      <td>19.27966</td>\n",
              "      <td>19.59048</td>\n",
              "      <td>19.86852</td>\n",
              "      <td>20.08571</td>\n",
              "      <td>752</td>\n",
              "      <td>5</td>\n",
              "      <td>579</td>\n",
              "      <td>0.875917</td>\n",
              "      <td>1</td>\n",
              "      <td>STAR</td>\n",
              "      <td>-0.000112</td>\n",
              "      <td>55327</td>\n",
              "      <td>-0.000059</td>\n",
              "      <td>0.000094</td>\n",
              "    </tr>\n",
              "    <tr>\n",
              "      <th>1533</th>\n",
              "      <td>1237648705134461016</td>\n",
              "      <td>230.219374</td>\n",
              "      <td>0.560741</td>\n",
              "      <td>19.42733</td>\n",
              "      <td>19.27966</td>\n",
              "      <td>19.59048</td>\n",
              "      <td>19.86852</td>\n",
              "      <td>20.08571</td>\n",
              "      <td>752</td>\n",
              "      <td>5</td>\n",
              "      <td>579</td>\n",
              "      <td>0.875917</td>\n",
              "      <td>1</td>\n",
              "      <td>STAR</td>\n",
              "      <td>-0.000112</td>\n",
              "      <td>55327</td>\n",
              "      <td>-0.000059</td>\n",
              "      <td>0.000094</td>\n",
              "    </tr>\n",
              "    <tr>\n",
              "      <th>856</th>\n",
              "      <td>1237648705679065271</td>\n",
              "      <td>247.896821</td>\n",
              "      <td>0.990909</td>\n",
              "      <td>16.74659</td>\n",
              "      <td>15.61752</td>\n",
              "      <td>15.43460</td>\n",
              "      <td>15.40196</td>\n",
              "      <td>15.40794</td>\n",
              "      <td>752</td>\n",
              "      <td>6</td>\n",
              "      <td>697</td>\n",
              "      <td>0.842783</td>\n",
              "      <td>1</td>\n",
              "      <td>STAR</td>\n",
              "      <td>0.000073</td>\n",
              "      <td>51671</td>\n",
              "      <td>0.002149</td>\n",
              "      <td>-0.000930</td>\n",
              "    </tr>\n",
              "    <tr>\n",
              "      <th>1523</th>\n",
              "      <td>1237648705679065271</td>\n",
              "      <td>247.896821</td>\n",
              "      <td>0.990909</td>\n",
              "      <td>16.74659</td>\n",
              "      <td>15.61752</td>\n",
              "      <td>15.43460</td>\n",
              "      <td>15.40196</td>\n",
              "      <td>15.40794</td>\n",
              "      <td>752</td>\n",
              "      <td>6</td>\n",
              "      <td>697</td>\n",
              "      <td>0.842783</td>\n",
              "      <td>1</td>\n",
              "      <td>STAR</td>\n",
              "      <td>0.000073</td>\n",
              "      <td>51671</td>\n",
              "      <td>0.002149</td>\n",
              "      <td>-0.000930</td>\n",
              "    </tr>\n",
              "    <tr>\n",
              "      <th>1556</th>\n",
              "      <td>1237648720160555035</td>\n",
              "      <td>188.111567</td>\n",
              "      <td>-0.899131</td>\n",
              "      <td>17.22348</td>\n",
              "      <td>15.61154</td>\n",
              "      <td>15.03329</td>\n",
              "      <td>14.82865</td>\n",
              "      <td>14.72664</td>\n",
              "      <td>756</td>\n",
              "      <td>1</td>\n",
              "      <td>483</td>\n",
              "      <td>0.857218</td>\n",
              "      <td>0</td>\n",
              "      <td>STAR</td>\n",
              "      <td>0.000084</td>\n",
              "      <td>54567</td>\n",
              "      <td>-0.001869</td>\n",
              "      <td>0.002611</td>\n",
              "    </tr>\n",
              "    <tr>\n",
              "      <th>3120</th>\n",
              "      <td>1237648720160555035</td>\n",
              "      <td>188.111567</td>\n",
              "      <td>-0.899131</td>\n",
              "      <td>17.22348</td>\n",
              "      <td>15.61154</td>\n",
              "      <td>15.03329</td>\n",
              "      <td>14.82865</td>\n",
              "      <td>14.72664</td>\n",
              "      <td>756</td>\n",
              "      <td>1</td>\n",
              "      <td>483</td>\n",
              "      <td>0.857218</td>\n",
              "      <td>0</td>\n",
              "      <td>STAR</td>\n",
              "      <td>0.000084</td>\n",
              "      <td>54567</td>\n",
              "      <td>-0.001869</td>\n",
              "      <td>0.002611</td>\n",
              "    </tr>\n",
              "    <tr>\n",
              "      <th>2362</th>\n",
              "      <td>1237648720163832016</td>\n",
              "      <td>195.688105</td>\n",
              "      <td>-0.868582</td>\n",
              "      <td>19.20444</td>\n",
              "      <td>18.01077</td>\n",
              "      <td>17.32575</td>\n",
              "      <td>16.90543</td>\n",
              "      <td>16.67041</td>\n",
              "      <td>756</td>\n",
              "      <td>1</td>\n",
              "      <td>533</td>\n",
              "      <td>0.803285</td>\n",
              "      <td>1</td>\n",
              "      <td>GALAXY</td>\n",
              "      <td>0.109168</td>\n",
              "      <td>51986</td>\n",
              "      <td>0.000651</td>\n",
              "      <td>0.003156</td>\n",
              "    </tr>\n",
              "    <tr>\n",
              "      <th>1231</th>\n",
              "      <td>1237648720163832016</td>\n",
              "      <td>195.688105</td>\n",
              "      <td>-0.868582</td>\n",
              "      <td>19.20444</td>\n",
              "      <td>18.01077</td>\n",
              "      <td>17.32575</td>\n",
              "      <td>16.90543</td>\n",
              "      <td>16.67041</td>\n",
              "      <td>756</td>\n",
              "      <td>1</td>\n",
              "      <td>533</td>\n",
              "      <td>0.803285</td>\n",
              "      <td>1</td>\n",
              "      <td>GALAXY</td>\n",
              "      <td>0.109168</td>\n",
              "      <td>51986</td>\n",
              "      <td>0.000651</td>\n",
              "      <td>0.003156</td>\n",
              "    </tr>\n",
              "    <tr>\n",
              "      <th>1624</th>\n",
              "      <td>1237648720166715396</td>\n",
              "      <td>202.135618</td>\n",
              "      <td>-0.933404</td>\n",
              "      <td>18.68036</td>\n",
              "      <td>17.16083</td>\n",
              "      <td>16.49770</td>\n",
              "      <td>16.15339</td>\n",
              "      <td>15.95089</td>\n",
              "      <td>756</td>\n",
              "      <td>1</td>\n",
              "      <td>577</td>\n",
              "      <td>0.804931</td>\n",
              "      <td>1</td>\n",
              "      <td>GALAXY</td>\n",
              "      <td>0.054868</td>\n",
              "      <td>51959</td>\n",
              "      <td>0.002469</td>\n",
              "      <td>0.001023</td>\n",
              "    </tr>\n",
              "    <tr>\n",
              "      <th>3700</th>\n",
              "      <td>1237648720166715396</td>\n",
              "      <td>202.135618</td>\n",
              "      <td>-0.933404</td>\n",
              "      <td>18.68036</td>\n",
              "      <td>17.16083</td>\n",
              "      <td>16.49770</td>\n",
              "      <td>16.15339</td>\n",
              "      <td>15.95089</td>\n",
              "      <td>756</td>\n",
              "      <td>1</td>\n",
              "      <td>577</td>\n",
              "      <td>0.804931</td>\n",
              "      <td>1</td>\n",
              "      <td>GALAXY</td>\n",
              "      <td>0.054868</td>\n",
              "      <td>51959</td>\n",
              "      <td>0.002469</td>\n",
              "      <td>0.001023</td>\n",
              "    </tr>\n",
              "    <tr>\n",
              "      <th>629</th>\n",
              "      <td>1237648720687988788</td>\n",
              "      <td>166.623017</td>\n",
              "      <td>-0.546630</td>\n",
              "      <td>19.55528</td>\n",
              "      <td>17.73928</td>\n",
              "      <td>16.86703</td>\n",
              "      <td>16.44810</td>\n",
              "      <td>16.11761</td>\n",
              "      <td>756</td>\n",
              "      <td>2</td>\n",
              "      <td>339</td>\n",
              "      <td>0.879096</td>\n",
              "      <td>1</td>\n",
              "      <td>GALAXY</td>\n",
              "      <td>0.086721</td>\n",
              "      <td>51900</td>\n",
              "      <td>0.001004</td>\n",
              "      <td>-0.001857</td>\n",
              "    </tr>\n",
              "    <tr>\n",
              "      <th>2642</th>\n",
              "      <td>1237648720687988788</td>\n",
              "      <td>166.623017</td>\n",
              "      <td>-0.546630</td>\n",
              "      <td>19.55528</td>\n",
              "      <td>17.73928</td>\n",
              "      <td>16.86703</td>\n",
              "      <td>16.44810</td>\n",
              "      <td>16.11761</td>\n",
              "      <td>756</td>\n",
              "      <td>2</td>\n",
              "      <td>339</td>\n",
              "      <td>0.879096</td>\n",
              "      <td>1</td>\n",
              "      <td>GALAXY</td>\n",
              "      <td>0.086721</td>\n",
              "      <td>51900</td>\n",
              "      <td>0.001004</td>\n",
              "      <td>-0.001857</td>\n",
              "    </tr>\n",
              "    <tr>\n",
              "      <th>2024</th>\n",
              "      <td>1237648720715710659</td>\n",
              "      <td>229.861963</td>\n",
              "      <td>-0.576033</td>\n",
              "      <td>19.53521</td>\n",
              "      <td>18.41511</td>\n",
              "      <td>17.83918</td>\n",
              "      <td>17.41340</td>\n",
              "      <td>17.21887</td>\n",
              "      <td>756</td>\n",
              "      <td>2</td>\n",
              "      <td>762</td>\n",
              "      <td>0.846381</td>\n",
              "      <td>1</td>\n",
              "      <td>GALAXY</td>\n",
              "      <td>0.076636</td>\n",
              "      <td>51689</td>\n",
              "      <td>-0.000276</td>\n",
              "      <td>0.002603</td>\n",
              "    </tr>\n",
              "    <tr>\n",
              "      <th>3271</th>\n",
              "      <td>1237648720715710659</td>\n",
              "      <td>229.861963</td>\n",
              "      <td>-0.576033</td>\n",
              "      <td>19.53521</td>\n",
              "      <td>18.41511</td>\n",
              "      <td>17.83918</td>\n",
              "      <td>17.41340</td>\n",
              "      <td>17.21887</td>\n",
              "      <td>756</td>\n",
              "      <td>2</td>\n",
              "      <td>762</td>\n",
              "      <td>0.846381</td>\n",
              "      <td>1</td>\n",
              "      <td>GALAXY</td>\n",
              "      <td>0.076636</td>\n",
              "      <td>51689</td>\n",
              "      <td>-0.000276</td>\n",
              "      <td>0.002603</td>\n",
              "    </tr>\n",
              "    <tr>\n",
              "      <th>1915</th>\n",
              "      <td>1237648720715710772</td>\n",
              "      <td>229.932143</td>\n",
              "      <td>-0.607750</td>\n",
              "      <td>18.34448</td>\n",
              "      <td>17.39741</td>\n",
              "      <td>17.08713</td>\n",
              "      <td>16.86085</td>\n",
              "      <td>16.67511</td>\n",
              "      <td>756</td>\n",
              "      <td>2</td>\n",
              "      <td>762</td>\n",
              "      <td>0.846381</td>\n",
              "      <td>1</td>\n",
              "      <td>GALAXY</td>\n",
              "      <td>0.037010</td>\n",
              "      <td>51689</td>\n",
              "      <td>0.004917</td>\n",
              "      <td>-0.009145</td>\n",
              "    </tr>\n",
              "    <tr>\n",
              "      <th>642</th>\n",
              "      <td>1237648720715710772</td>\n",
              "      <td>229.932143</td>\n",
              "      <td>-0.607750</td>\n",
              "      <td>18.34448</td>\n",
              "      <td>17.39741</td>\n",
              "      <td>17.08713</td>\n",
              "      <td>16.86085</td>\n",
              "      <td>16.67511</td>\n",
              "      <td>756</td>\n",
              "      <td>2</td>\n",
              "      <td>762</td>\n",
              "      <td>0.846381</td>\n",
              "      <td>1</td>\n",
              "      <td>GALAXY</td>\n",
              "      <td>0.037010</td>\n",
              "      <td>51689</td>\n",
              "      <td>0.004917</td>\n",
              "      <td>-0.009145</td>\n",
              "    </tr>\n",
              "    <tr>\n",
              "      <th>3455</th>\n",
              "      <td>1237648721231609897</td>\n",
              "      <td>182.015940</td>\n",
              "      <td>-0.116600</td>\n",
              "      <td>17.96686</td>\n",
              "      <td>16.91550</td>\n",
              "      <td>16.75447</td>\n",
              "      <td>16.68648</td>\n",
              "      <td>16.70880</td>\n",
              "      <td>756</td>\n",
              "      <td>3</td>\n",
              "      <td>442</td>\n",
              "      <td>0.876962</td>\n",
              "      <td>1</td>\n",
              "      <td>S</td>\n",
              "      <td>-0.000066</td>\n",
              "      <td>51615</td>\n",
              "      <td>-0.000639</td>\n",
              "      <td>0.000270</td>\n",
              "    </tr>\n",
              "    <tr>\n",
              "      <th>109</th>\n",
              "      <td>1237648721231609897</td>\n",
              "      <td>182.015940</td>\n",
              "      <td>-0.116600</td>\n",
              "      <td>17.96686</td>\n",
              "      <td>16.91550</td>\n",
              "      <td>16.75447</td>\n",
              "      <td>16.68648</td>\n",
              "      <td>16.70880</td>\n",
              "      <td>756</td>\n",
              "      <td>3</td>\n",
              "      <td>442</td>\n",
              "      <td>0.876962</td>\n",
              "      <td>1</td>\n",
              "      <td>S</td>\n",
              "      <td>-0.000066</td>\n",
              "      <td>51615</td>\n",
              "      <td>-0.000639</td>\n",
              "      <td>0.000270</td>\n",
              "    </tr>\n",
              "    <tr>\n",
              "      <th>299</th>\n",
              "      <td>1237648721756225804</td>\n",
              "      <td>154.036159</td>\n",
              "      <td>0.417930</td>\n",
              "      <td>19.50457</td>\n",
              "      <td>18.08980</td>\n",
              "      <td>17.29931</td>\n",
              "      <td>16.88134</td>\n",
              "      <td>16.56668</td>\n",
              "      <td>756</td>\n",
              "      <td>4</td>\n",
              "      <td>255</td>\n",
              "      <td>0.892071</td>\n",
              "      <td>1</td>\n",
              "      <td>GALAXY</td>\n",
              "      <td>0.096783</td>\n",
              "      <td>51883</td>\n",
              "      <td>-0.000413</td>\n",
              "      <td>-0.002812</td>\n",
              "    </tr>\n",
              "    <tr>\n",
              "      <th>2077</th>\n",
              "      <td>1237648721756225804</td>\n",
              "      <td>154.036159</td>\n",
              "      <td>0.417930</td>\n",
              "      <td>19.50457</td>\n",
              "      <td>18.08980</td>\n",
              "      <td>17.29931</td>\n",
              "      <td>16.88134</td>\n",
              "      <td>16.56668</td>\n",
              "      <td>756</td>\n",
              "      <td>4</td>\n",
              "      <td>255</td>\n",
              "      <td>0.892071</td>\n",
              "      <td>1</td>\n",
              "      <td>GALAXY</td>\n",
              "      <td>0.096783</td>\n",
              "      <td>51883</td>\n",
              "      <td>-0.000413</td>\n",
              "      <td>-0.002812</td>\n",
              "    </tr>\n",
              "    <tr>\n",
              "      <th>3301</th>\n",
              "      <td>1237648721788993889</td>\n",
              "      <td>228.864817</td>\n",
              "      <td>0.317359</td>\n",
              "      <td>18.88618</td>\n",
              "      <td>17.66549</td>\n",
              "      <td>17.09694</td>\n",
              "      <td>16.72708</td>\n",
              "      <td>16.56451</td>\n",
              "      <td>756</td>\n",
              "      <td>4</td>\n",
              "      <td>755</td>\n",
              "      <td>0.881142</td>\n",
              "      <td>1</td>\n",
              "      <td>GALAXY</td>\n",
              "      <td>0.082665</td>\n",
              "      <td>51689</td>\n",
              "      <td>-0.003803</td>\n",
              "      <td>-0.000683</td>\n",
              "    </tr>\n",
              "    <tr>\n",
              "      <th>719</th>\n",
              "      <td>1237648721788993889</td>\n",
              "      <td>228.864817</td>\n",
              "      <td>0.317359</td>\n",
              "      <td>18.88618</td>\n",
              "      <td>17.66549</td>\n",
              "      <td>17.09694</td>\n",
              "      <td>16.72708</td>\n",
              "      <td>16.56451</td>\n",
              "      <td>756</td>\n",
              "      <td>4</td>\n",
              "      <td>755</td>\n",
              "      <td>0.881142</td>\n",
              "      <td>1</td>\n",
              "      <td>GALAXY</td>\n",
              "      <td>0.082665</td>\n",
              "      <td>51689</td>\n",
              "      <td>-0.003803</td>\n",
              "      <td>-0.000683</td>\n",
              "    </tr>\n",
              "    <tr>\n",
              "      <th>3933</th>\n",
              "      <td>1237648721789780467</td>\n",
              "      <td>230.664376</td>\n",
              "      <td>0.229439</td>\n",
              "      <td>19.48961</td>\n",
              "      <td>18.21590</td>\n",
              "      <td>17.50523</td>\n",
              "      <td>17.09294</td>\n",
              "      <td>16.87079</td>\n",
              "      <td>756</td>\n",
              "      <td>4</td>\n",
              "      <td>767</td>\n",
              "      <td>0.872553</td>\n",
              "      <td>1</td>\n",
              "      <td>GALAXY</td>\n",
              "      <td>0.112827</td>\n",
              "      <td>51673</td>\n",
              "      <td>0.008122</td>\n",
              "      <td>0.012494</td>\n",
              "    </tr>\n",
              "    <tr>\n",
              "      <th>718</th>\n",
              "      <td>1237648721789780467</td>\n",
              "      <td>230.664376</td>\n",
              "      <td>0.229439</td>\n",
              "      <td>19.48961</td>\n",
              "      <td>18.21590</td>\n",
              "      <td>17.50523</td>\n",
              "      <td>17.09294</td>\n",
              "      <td>16.87079</td>\n",
              "      <td>756</td>\n",
              "      <td>4</td>\n",
              "      <td>767</td>\n",
              "      <td>0.872553</td>\n",
              "      <td>1</td>\n",
              "      <td>GALAXY</td>\n",
              "      <td>0.112827</td>\n",
              "      <td>51673</td>\n",
              "      <td>0.008122</td>\n",
              "      <td>0.012494</td>\n",
              "    </tr>\n",
              "    <tr>\n",
              "      <th>2296</th>\n",
              "      <td>1237648722836783266</td>\n",
              "      <td>169.623405</td>\n",
              "      <td>1.098641</td>\n",
              "      <td>18.89477</td>\n",
              "      <td>17.09377</td>\n",
              "      <td>16.15349</td>\n",
              "      <td>15.73403</td>\n",
              "      <td>15.39552</td>\n",
              "      <td>756</td>\n",
              "      <td>6</td>\n",
              "      <td>359</td>\n",
              "      <td>0.846707</td>\n",
              "      <td>1</td>\n",
              "      <td>GALAXY</td>\n",
              "      <td>0.063885</td>\n",
              "      <td>51984</td>\n",
              "      <td>-0.000606</td>\n",
              "      <td>0.000669</td>\n",
              "    </tr>\n",
              "    <tr>\n",
              "      <th>1535</th>\n",
              "      <td>1237648722836783266</td>\n",
              "      <td>169.623405</td>\n",
              "      <td>1.098641</td>\n",
              "      <td>18.89477</td>\n",
              "      <td>17.09377</td>\n",
              "      <td>16.15349</td>\n",
              "      <td>15.73403</td>\n",
              "      <td>15.39552</td>\n",
              "      <td>756</td>\n",
              "      <td>6</td>\n",
              "      <td>359</td>\n",
              "      <td>0.846707</td>\n",
              "      <td>1</td>\n",
              "      <td>GALAXY</td>\n",
              "      <td>0.063885</td>\n",
              "      <td>51984</td>\n",
              "      <td>-0.000606</td>\n",
              "      <td>0.000669</td>\n",
              "    </tr>\n",
              "  </tbody>\n",
              "</table>\n",
              "</div>"
            ],
            "text/plain": [
              "                    objid          ra       dec         u         g         r  \\\n",
              "114   1237646382079606869   94.679499  0.842321  18.47695  16.94897  16.68126   \n",
              "3024  1237646382079606869   94.679499  0.842321  18.47695  16.94897  16.68126   \n",
              "1735  1237646382079672642   94.883887  0.990686  17.03847  15.47224  15.10297   \n",
              "897   1237646382079672642   94.883887  0.990686  17.03847  15.47224  15.10297   \n",
              "88    1237648703513428079  206.374167 -0.781673  18.28101  17.18856  16.70175   \n",
              "3254  1237648703513428079  206.374167 -0.781673  18.28101  17.18856  16.70175   \n",
              "2609  1237648705132888168  226.621828  0.595329  18.96363  18.67637  18.47234   \n",
              "3592  1237648705132888168  226.621828  0.595329  18.96363  18.67637  18.47234   \n",
              "1991  1237648705134461016  230.219374  0.560741  19.42733  19.27966  19.59048   \n",
              "1533  1237648705134461016  230.219374  0.560741  19.42733  19.27966  19.59048   \n",
              "856   1237648705679065271  247.896821  0.990909  16.74659  15.61752  15.43460   \n",
              "1523  1237648705679065271  247.896821  0.990909  16.74659  15.61752  15.43460   \n",
              "1556  1237648720160555035  188.111567 -0.899131  17.22348  15.61154  15.03329   \n",
              "3120  1237648720160555035  188.111567 -0.899131  17.22348  15.61154  15.03329   \n",
              "2362  1237648720163832016  195.688105 -0.868582  19.20444  18.01077  17.32575   \n",
              "1231  1237648720163832016  195.688105 -0.868582  19.20444  18.01077  17.32575   \n",
              "1624  1237648720166715396  202.135618 -0.933404  18.68036  17.16083  16.49770   \n",
              "3700  1237648720166715396  202.135618 -0.933404  18.68036  17.16083  16.49770   \n",
              "629   1237648720687988788  166.623017 -0.546630  19.55528  17.73928  16.86703   \n",
              "2642  1237648720687988788  166.623017 -0.546630  19.55528  17.73928  16.86703   \n",
              "2024  1237648720715710659  229.861963 -0.576033  19.53521  18.41511  17.83918   \n",
              "3271  1237648720715710659  229.861963 -0.576033  19.53521  18.41511  17.83918   \n",
              "1915  1237648720715710772  229.932143 -0.607750  18.34448  17.39741  17.08713   \n",
              "642   1237648720715710772  229.932143 -0.607750  18.34448  17.39741  17.08713   \n",
              "3455  1237648721231609897  182.015940 -0.116600  17.96686  16.91550  16.75447   \n",
              "109   1237648721231609897  182.015940 -0.116600  17.96686  16.91550  16.75447   \n",
              "299   1237648721756225804  154.036159  0.417930  19.50457  18.08980  17.29931   \n",
              "2077  1237648721756225804  154.036159  0.417930  19.50457  18.08980  17.29931   \n",
              "3301  1237648721788993889  228.864817  0.317359  18.88618  17.66549  17.09694   \n",
              "719   1237648721788993889  228.864817  0.317359  18.88618  17.66549  17.09694   \n",
              "3933  1237648721789780467  230.664376  0.229439  19.48961  18.21590  17.50523   \n",
              "718   1237648721789780467  230.664376  0.229439  19.48961  18.21590  17.50523   \n",
              "2296  1237648722836783266  169.623405  1.098641  18.89477  17.09377  16.15349   \n",
              "1535  1237648722836783266  169.623405  1.098641  18.89477  17.09377  16.15349   \n",
              "\n",
              "             i         z  run  camcol  field     score  clean   class  \\\n",
              "114   16.59887  16.51747  211       6    359  0.806204      1    STAR   \n",
              "3024  16.59887  16.51747  211       6    359  0.806204      1    STAR   \n",
              "1735  14.97051  14.88297  211       6    360  0.806983      1       S   \n",
              "897   14.97051  14.88297  211       6    360  0.806983      1       S   \n",
              "88    16.33173  16.14626  752       2    420  0.904768      1  GALAXY   \n",
              "3254  16.33173  16.14626  752       2    420  0.904768      1  GALAXY   \n",
              "2609  18.41949  17.96547  752       5    555  0.871417      1     QSO   \n",
              "3592  18.41949  17.96547  752       5    555  0.871417      1     QSO   \n",
              "1991  19.86852  20.08571  752       5    579  0.875917      1    STAR   \n",
              "1533  19.86852  20.08571  752       5    579  0.875917      1    STAR   \n",
              "856   15.40196  15.40794  752       6    697  0.842783      1    STAR   \n",
              "1523  15.40196  15.40794  752       6    697  0.842783      1    STAR   \n",
              "1556  14.82865  14.72664  756       1    483  0.857218      0    STAR   \n",
              "3120  14.82865  14.72664  756       1    483  0.857218      0    STAR   \n",
              "2362  16.90543  16.67041  756       1    533  0.803285      1  GALAXY   \n",
              "1231  16.90543  16.67041  756       1    533  0.803285      1  GALAXY   \n",
              "1624  16.15339  15.95089  756       1    577  0.804931      1  GALAXY   \n",
              "3700  16.15339  15.95089  756       1    577  0.804931      1  GALAXY   \n",
              "629   16.44810  16.11761  756       2    339  0.879096      1  GALAXY   \n",
              "2642  16.44810  16.11761  756       2    339  0.879096      1  GALAXY   \n",
              "2024  17.41340  17.21887  756       2    762  0.846381      1  GALAXY   \n",
              "3271  17.41340  17.21887  756       2    762  0.846381      1  GALAXY   \n",
              "1915  16.86085  16.67511  756       2    762  0.846381      1  GALAXY   \n",
              "642   16.86085  16.67511  756       2    762  0.846381      1  GALAXY   \n",
              "3455  16.68648  16.70880  756       3    442  0.876962      1       S   \n",
              "109   16.68648  16.70880  756       3    442  0.876962      1       S   \n",
              "299   16.88134  16.56668  756       4    255  0.892071      1  GALAXY   \n",
              "2077  16.88134  16.56668  756       4    255  0.892071      1  GALAXY   \n",
              "3301  16.72708  16.56451  756       4    755  0.881142      1  GALAXY   \n",
              "719   16.72708  16.56451  756       4    755  0.881142      1  GALAXY   \n",
              "3933  17.09294  16.87079  756       4    767  0.872553      1  GALAXY   \n",
              "718   17.09294  16.87079  756       4    767  0.872553      1  GALAXY   \n",
              "2296  15.73403  15.39552  756       6    359  0.846707      1  GALAXY   \n",
              "1535  15.73403  15.39552  756       6    359  0.846707      1  GALAXY   \n",
              "\n",
              "      redshift    mjd      rowv      colv  \n",
              "114   0.000207  52931  0.000372 -0.001017  \n",
              "3024  0.000207  52931  0.000372 -0.001017  \n",
              "1735  0.000012  52931 -0.001483  0.001376  \n",
              "897   0.000012  52931 -0.001483  0.001376  \n",
              "88    0.088136  51943 -0.002860  0.001156  \n",
              "3254  0.088136  51943 -0.002860  0.001156  \n",
              "2609  0.369813  51990  0.002106 -0.000110  \n",
              "3592  0.369813  51990  0.002106 -0.000110  \n",
              "1991 -0.000112  55327 -0.000059  0.000094  \n",
              "1533 -0.000112  55327 -0.000059  0.000094  \n",
              "856   0.000073  51671  0.002149 -0.000930  \n",
              "1523  0.000073  51671  0.002149 -0.000930  \n",
              "1556  0.000084  54567 -0.001869  0.002611  \n",
              "3120  0.000084  54567 -0.001869  0.002611  \n",
              "2362  0.109168  51986  0.000651  0.003156  \n",
              "1231  0.109168  51986  0.000651  0.003156  \n",
              "1624  0.054868  51959  0.002469  0.001023  \n",
              "3700  0.054868  51959  0.002469  0.001023  \n",
              "629   0.086721  51900  0.001004 -0.001857  \n",
              "2642  0.086721  51900  0.001004 -0.001857  \n",
              "2024  0.076636  51689 -0.000276  0.002603  \n",
              "3271  0.076636  51689 -0.000276  0.002603  \n",
              "1915  0.037010  51689  0.004917 -0.009145  \n",
              "642   0.037010  51689  0.004917 -0.009145  \n",
              "3455 -0.000066  51615 -0.000639  0.000270  \n",
              "109  -0.000066  51615 -0.000639  0.000270  \n",
              "299   0.096783  51883 -0.000413 -0.002812  \n",
              "2077  0.096783  51883 -0.000413 -0.002812  \n",
              "3301  0.082665  51689 -0.003803 -0.000683  \n",
              "719   0.082665  51689 -0.003803 -0.000683  \n",
              "3933  0.112827  51673  0.008122  0.012494  \n",
              "718   0.112827  51673  0.008122  0.012494  \n",
              "2296  0.063885  51984 -0.000606  0.000669  \n",
              "1535  0.063885  51984 -0.000606  0.000669  "
            ]
          },
          "execution_count": 15,
          "metadata": {},
          "output_type": "execute_result"
        }
      ],
      "source": [
        "duplicated_rows = star_alpes.loc[star_alpes.duplicated(subset=[\"redshift\"]+[\"objid\"], keep=False)].sort_values(\"objid\")\n",
        "duplicated_rows\n"
      ]
    },
    {
      "cell_type": "markdown",
      "metadata": {
        "id": "mToQslqf28Zq"
      },
      "source": [
        "Posteriormente de haberlas identificado, nos encargaremos de eliminar las filas duplicadas"
      ]
    },
    {
      "cell_type": "markdown",
      "metadata": {
        "id": "_c8VeYvFBduX"
      },
      "source": [
        "2.3.3. Consistencia"
      ]
    },
    {
      "cell_type": "markdown",
      "metadata": {
        "id": "iXdA3G4d3AuQ"
      },
      "source": [
        "Revisaremos la consistencia de los datos, especialmente de las variables categóricas:"
      ]
    },
    {
      "cell_type": "code",
      "execution_count": 16,
      "metadata": {
        "colab": {
          "base_uri": "https://localhost:8080/",
          "height": 304
        },
        "id": "IoOzsKb1EOIU",
        "outputId": "6abb4618-438b-44c7-8872-ec5e84501e85"
      },
      "outputs": [
        {
          "data": {
            "text/plain": [
              "class\n",
              "GALAXY    1857\n",
              "STAR      1629\n",
              "QSO        292\n",
              "S          177\n",
              "G           44\n",
              "QUASAR       1\n",
              "Name: count, dtype: int64"
            ]
          },
          "execution_count": 16,
          "metadata": {},
          "output_type": "execute_result"
        }
      ],
      "source": [
        "star_alpes['class'].value_counts()"
      ]
    },
    {
      "cell_type": "code",
      "execution_count": 17,
      "metadata": {
        "colab": {
          "base_uri": "https://localhost:8080/",
          "height": 649
        },
        "id": "fd2JU4JzrHVN",
        "outputId": "c9b6cfc1-06a1-4b3a-ea90-78f4bf5c9cca"
      },
      "outputs": [
        {
          "data": {
            "text/plain": [
              "objid         int64\n",
              "ra          float64\n",
              "dec         float64\n",
              "u           float64\n",
              "g           float64\n",
              "r           float64\n",
              "i           float64\n",
              "z           float64\n",
              "run           int64\n",
              "camcol        int64\n",
              "field         int64\n",
              "score       float64\n",
              "clean         int64\n",
              "class        object\n",
              "redshift    float64\n",
              "mjd           int64\n",
              "rowv        float64\n",
              "colv        float64\n",
              "dtype: object"
            ]
          },
          "execution_count": 17,
          "metadata": {},
          "output_type": "execute_result"
        }
      ],
      "source": [
        "star_alpes.dtypes"
      ]
    },
    {
      "cell_type": "markdown",
      "metadata": {
        "id": "7aw7GzopBiqp"
      },
      "source": [
        "2.3.4. Validez"
      ]
    },
    {
      "cell_type": "markdown",
      "metadata": {
        "id": "yySZ-4jkAOdE"
      },
      "source": [
        "Revisaremos que los datos esten en rangos y valores de acuerdo a lo establecido en el diccionario de datos."
      ]
    },
    {
      "cell_type": "markdown",
      "metadata": {
        "id": "xyM2jLq_AVw-"
      },
      "source": [
        "Para los numéricos haremos un describe:"
      ]
    },
    {
      "cell_type": "code",
      "execution_count": 18,
      "metadata": {
        "colab": {
          "base_uri": "https://localhost:8080/",
          "height": 320
        },
        "id": "b8dpKKAZAZS4",
        "outputId": "5aacc681-7a2f-4019-a839-ba9277f87cb5"
      },
      "outputs": [
        {
          "data": {
            "text/html": [
              "<div>\n",
              "<style scoped>\n",
              "    .dataframe tbody tr th:only-of-type {\n",
              "        vertical-align: middle;\n",
              "    }\n",
              "\n",
              "    .dataframe tbody tr th {\n",
              "        vertical-align: top;\n",
              "    }\n",
              "\n",
              "    .dataframe thead th {\n",
              "        text-align: right;\n",
              "    }\n",
              "</style>\n",
              "<table border=\"1\" class=\"dataframe\">\n",
              "  <thead>\n",
              "    <tr style=\"text-align: right;\">\n",
              "      <th></th>\n",
              "      <th>objid</th>\n",
              "      <th>ra</th>\n",
              "      <th>dec</th>\n",
              "      <th>u</th>\n",
              "      <th>g</th>\n",
              "      <th>r</th>\n",
              "      <th>i</th>\n",
              "      <th>z</th>\n",
              "      <th>run</th>\n",
              "      <th>camcol</th>\n",
              "      <th>field</th>\n",
              "      <th>score</th>\n",
              "      <th>clean</th>\n",
              "      <th>redshift</th>\n",
              "      <th>mjd</th>\n",
              "      <th>rowv</th>\n",
              "      <th>colv</th>\n",
              "    </tr>\n",
              "  </thead>\n",
              "  <tbody>\n",
              "    <tr>\n",
              "      <th>count</th>\n",
              "      <td>4.000000e+03</td>\n",
              "      <td>4000.000000</td>\n",
              "      <td>4000.000000</td>\n",
              "      <td>4000.000000</td>\n",
              "      <td>4000.000000</td>\n",
              "      <td>4000.000000</td>\n",
              "      <td>4000.000000</td>\n",
              "      <td>4000.000000</td>\n",
              "      <td>4000.000000</td>\n",
              "      <td>4000.00000</td>\n",
              "      <td>4000.000000</td>\n",
              "      <td>4000.000000</td>\n",
              "      <td>4000.000000</td>\n",
              "      <td>4000.000000</td>\n",
              "      <td>4000.000000</td>\n",
              "      <td>4000.000000</td>\n",
              "      <td>4000.000000</td>\n",
              "    </tr>\n",
              "    <tr>\n",
              "      <th>mean</th>\n",
              "      <td>1.237649e+18</td>\n",
              "      <td>185.523295</td>\n",
              "      <td>0.248959</td>\n",
              "      <td>18.609049</td>\n",
              "      <td>17.363397</td>\n",
              "      <td>16.839856</td>\n",
              "      <td>16.597712</td>\n",
              "      <td>16.439392</td>\n",
              "      <td>743.829000</td>\n",
              "      <td>3.37625</td>\n",
              "      <td>419.602000</td>\n",
              "      <td>0.851765</td>\n",
              "      <td>0.895500</td>\n",
              "      <td>0.134015</td>\n",
              "      <td>52957.124750</td>\n",
              "      <td>0.000218</td>\n",
              "      <td>-0.000090</td>\n",
              "    </tr>\n",
              "    <tr>\n",
              "      <th>std</th>\n",
              "      <td>4.244222e+11</td>\n",
              "      <td>41.689446</td>\n",
              "      <td>2.001075</td>\n",
              "      <td>0.839431</td>\n",
              "      <td>0.950964</td>\n",
              "      <td>1.055343</td>\n",
              "      <td>1.141252</td>\n",
              "      <td>1.190502</td>\n",
              "      <td>98.865936</td>\n",
              "      <td>1.69909</td>\n",
              "      <td>167.162063</td>\n",
              "      <td>0.071311</td>\n",
              "      <td>0.305946</td>\n",
              "      <td>0.379742</td>\n",
              "      <td>1601.148131</td>\n",
              "      <td>0.008794</td>\n",
              "      <td>0.007457</td>\n",
              "    </tr>\n",
              "    <tr>\n",
              "      <th>min</th>\n",
              "      <td>1.237646e+18</td>\n",
              "      <td>10.469743</td>\n",
              "      <td>-1.252763</td>\n",
              "      <td>13.551780</td>\n",
              "      <td>12.974870</td>\n",
              "      <td>12.362850</td>\n",
              "      <td>12.010790</td>\n",
              "      <td>11.799530</td>\n",
              "      <td>211.000000</td>\n",
              "      <td>1.00000</td>\n",
              "      <td>19.000000</td>\n",
              "      <td>0.301912</td>\n",
              "      <td>0.000000</td>\n",
              "      <td>-0.003322</td>\n",
              "      <td>51608.000000</td>\n",
              "      <td>-0.264516</td>\n",
              "      <td>-0.168807</td>\n",
              "    </tr>\n",
              "    <tr>\n",
              "      <th>25%</th>\n",
              "      <td>1.237649e+18</td>\n",
              "      <td>162.474666</td>\n",
              "      <td>-0.631824</td>\n",
              "      <td>18.170375</td>\n",
              "      <td>16.796110</td>\n",
              "      <td>16.190785</td>\n",
              "      <td>15.870782</td>\n",
              "      <td>15.628205</td>\n",
              "      <td>752.000000</td>\n",
              "      <td>2.00000</td>\n",
              "      <td>311.000000</td>\n",
              "      <td>0.836866</td>\n",
              "      <td>1.000000</td>\n",
              "      <td>0.000106</td>\n",
              "      <td>51821.000000</td>\n",
              "      <td>-0.001212</td>\n",
              "      <td>-0.001609</td>\n",
              "    </tr>\n",
              "    <tr>\n",
              "      <th>50%</th>\n",
              "      <td>1.237649e+18</td>\n",
              "      <td>195.815451</td>\n",
              "      <td>0.053336</td>\n",
              "      <td>18.843745</td>\n",
              "      <td>17.472525</td>\n",
              "      <td>16.850835</td>\n",
              "      <td>16.571195</td>\n",
              "      <td>16.402665</td>\n",
              "      <td>756.000000</td>\n",
              "      <td>3.00000</td>\n",
              "      <td>434.000000</td>\n",
              "      <td>0.860675</td>\n",
              "      <td>1.000000</td>\n",
              "      <td>0.032038</td>\n",
              "      <td>51986.000000</td>\n",
              "      <td>0.000322</td>\n",
              "      <td>0.000125</td>\n",
              "    </tr>\n",
              "    <tr>\n",
              "      <th>75%</th>\n",
              "      <td>1.237649e+18</td>\n",
              "      <td>214.348425</td>\n",
              "      <td>0.593396</td>\n",
              "      <td>19.261563</td>\n",
              "      <td>17.997818</td>\n",
              "      <td>17.506640</td>\n",
              "      <td>17.258833</td>\n",
              "      <td>17.147037</td>\n",
              "      <td>756.000000</td>\n",
              "      <td>5.00000</td>\n",
              "      <td>527.000000</td>\n",
              "      <td>0.879834</td>\n",
              "      <td>1.000000</td>\n",
              "      <td>0.086479</td>\n",
              "      <td>54468.000000</td>\n",
              "      <td>0.001698</td>\n",
              "      <td>0.001672</td>\n",
              "    </tr>\n",
              "    <tr>\n",
              "      <th>max</th>\n",
              "      <td>1.237650e+18</td>\n",
              "      <td>249.758313</td>\n",
              "      <td>13.854010</td>\n",
              "      <td>19.599750</td>\n",
              "      <td>22.497450</td>\n",
              "      <td>22.265960</td>\n",
              "      <td>28.179630</td>\n",
              "      <td>20.847690</td>\n",
              "      <td>1035.000000</td>\n",
              "      <td>6.00000</td>\n",
              "      <td>812.000000</td>\n",
              "      <td>0.961145</td>\n",
              "      <td>1.000000</td>\n",
              "      <td>4.192597</td>\n",
              "      <td>58932.000000</td>\n",
              "      <td>0.181871</td>\n",
              "      <td>0.128814</td>\n",
              "    </tr>\n",
              "  </tbody>\n",
              "</table>\n",
              "</div>"
            ],
            "text/plain": [
              "              objid           ra          dec            u            g  \\\n",
              "count  4.000000e+03  4000.000000  4000.000000  4000.000000  4000.000000   \n",
              "mean   1.237649e+18   185.523295     0.248959    18.609049    17.363397   \n",
              "std    4.244222e+11    41.689446     2.001075     0.839431     0.950964   \n",
              "min    1.237646e+18    10.469743    -1.252763    13.551780    12.974870   \n",
              "25%    1.237649e+18   162.474666    -0.631824    18.170375    16.796110   \n",
              "50%    1.237649e+18   195.815451     0.053336    18.843745    17.472525   \n",
              "75%    1.237649e+18   214.348425     0.593396    19.261563    17.997818   \n",
              "max    1.237650e+18   249.758313    13.854010    19.599750    22.497450   \n",
              "\n",
              "                 r            i            z          run      camcol  \\\n",
              "count  4000.000000  4000.000000  4000.000000  4000.000000  4000.00000   \n",
              "mean     16.839856    16.597712    16.439392   743.829000     3.37625   \n",
              "std       1.055343     1.141252     1.190502    98.865936     1.69909   \n",
              "min      12.362850    12.010790    11.799530   211.000000     1.00000   \n",
              "25%      16.190785    15.870782    15.628205   752.000000     2.00000   \n",
              "50%      16.850835    16.571195    16.402665   756.000000     3.00000   \n",
              "75%      17.506640    17.258833    17.147037   756.000000     5.00000   \n",
              "max      22.265960    28.179630    20.847690  1035.000000     6.00000   \n",
              "\n",
              "             field        score        clean     redshift           mjd  \\\n",
              "count  4000.000000  4000.000000  4000.000000  4000.000000   4000.000000   \n",
              "mean    419.602000     0.851765     0.895500     0.134015  52957.124750   \n",
              "std     167.162063     0.071311     0.305946     0.379742   1601.148131   \n",
              "min      19.000000     0.301912     0.000000    -0.003322  51608.000000   \n",
              "25%     311.000000     0.836866     1.000000     0.000106  51821.000000   \n",
              "50%     434.000000     0.860675     1.000000     0.032038  51986.000000   \n",
              "75%     527.000000     0.879834     1.000000     0.086479  54468.000000   \n",
              "max     812.000000     0.961145     1.000000     4.192597  58932.000000   \n",
              "\n",
              "              rowv         colv  \n",
              "count  4000.000000  4000.000000  \n",
              "mean      0.000218    -0.000090  \n",
              "std       0.008794     0.007457  \n",
              "min      -0.264516    -0.168807  \n",
              "25%      -0.001212    -0.001609  \n",
              "50%       0.000322     0.000125  \n",
              "75%       0.001698     0.001672  \n",
              "max       0.181871     0.128814  "
            ]
          },
          "execution_count": 18,
          "metadata": {},
          "output_type": "execute_result"
        }
      ],
      "source": [
        "star_alpes.describe()"
      ]
    },
    {
      "cell_type": "markdown",
      "metadata": {
        "id": "Qemh0lvXBVtw"
      },
      "source": [
        "Para los datos que se proporcionan se tienen las siguientes conclusiones de la validez:\n",
        "\n",
        "- ra: No tiene restricciones\n",
        "- dec: No tiene restricciones\n",
        "- u: Valor mayor a 0, el mínimo es 13.55\n",
        "- g: Valor mayor a 0, el mínimo es 12.97\n",
        "- r: Valor mayor a 0, el mínimo es 12.36\n",
        "- i: Valor mayor a 0, el mínimo es 12.01\n",
        "- z: Valor mayor a 0, el mínimo es 11.79\n",
        "- run: No tiene restricciones\n",
        "- camcol: No tiene restricciones\n",
        "- field: No tiene restricciones\n",
        "- score: Valor entre 0 y 1, el mínimo es 0.3 y el máximo es 0.96\n",
        "- clean: Valor binario, se cumple pues solo existen valores de 0 y 1\n",
        "- mjd: Dia por lo cual es positivo, se cumple\n",
        "- rowv: No tiene restricciones\n",
        "- colv: No tiene restricciones\n",
        "\n",
        "Esto nos permite ver que los datos cumplen los estandares de las variables numéricas.\n",
        "\n",
        "Ahora revisamos las variables categóricas:"
      ]
    },
    {
      "cell_type": "code",
      "execution_count": 19,
      "metadata": {
        "colab": {
          "base_uri": "https://localhost:8080/",
          "height": 304
        },
        "id": "WbMPpw0xFweI",
        "outputId": "dcde9e07-6391-4d46-b9ea-6c7386f9140e"
      },
      "outputs": [
        {
          "data": {
            "text/plain": [
              "class \n",
              "GALAXY    1857\n",
              "STAR      1629\n",
              "QSO        292\n",
              "S          177\n",
              "G           44\n",
              "QUASAR       1\n",
              "Name: count, dtype: int64"
            ]
          },
          "execution_count": 19,
          "metadata": {},
          "output_type": "execute_result"
        }
      ],
      "source": [
        "star_alpes.value_counts([\"class\"])"
      ]
    },
    {
      "cell_type": "markdown",
      "metadata": {
        "id": "oX7QAJFs7NvK"
      },
      "source": [
        "Lo anterior y de acuerdo con el diccionario de los datos nos muestra que hay errores en la clase de algunos datos, ya que las únicas clases aceptadas son: \"STAR\", \"GALAXY\" y \"QSO\". Esto lo solucionaremos más adelante en la preparación de los datos para el modelo."
      ]
    },
    {
      "cell_type": "markdown",
      "metadata": {
        "id": "_dP4dD223ICA"
      },
      "source": [
        "De modo que tenemos que asignar las clases de la siguiente manera:\n",
        "\n",
        "- S con STAR\n",
        "- G con GALAXY\n",
        "- QUASAR con QSO"
      ]
    },
    {
      "cell_type": "markdown",
      "metadata": {
        "id": "aDyA8Sq-11Jl"
      },
      "source": [
        "# 3. Preparación de los Datos"
      ]
    },
    {
      "cell_type": "markdown",
      "metadata": {
        "id": "cHFDyPr54-p3"
      },
      "source": [
        "3.1 Calidad de los Datos"
      ]
    },
    {
      "cell_type": "markdown",
      "metadata": {
        "id": "eNCFwYC65dZS"
      },
      "source": [
        "Lo primero será eliminar las filas duplicadas:"
      ]
    },
    {
      "cell_type": "code",
      "execution_count": 20,
      "metadata": {
        "colab": {
          "base_uri": "https://localhost:8080/",
          "height": 89
        },
        "id": "K_8vwoRPD0PY",
        "outputId": "52409b3a-fb90-4fd5-96c1-cd3836c9fb2b"
      },
      "outputs": [
        {
          "data": {
            "text/html": [
              "<div>\n",
              "<style scoped>\n",
              "    .dataframe tbody tr th:only-of-type {\n",
              "        vertical-align: middle;\n",
              "    }\n",
              "\n",
              "    .dataframe tbody tr th {\n",
              "        vertical-align: top;\n",
              "    }\n",
              "\n",
              "    .dataframe thead th {\n",
              "        text-align: right;\n",
              "    }\n",
              "</style>\n",
              "<table border=\"1\" class=\"dataframe\">\n",
              "  <thead>\n",
              "    <tr style=\"text-align: right;\">\n",
              "      <th></th>\n",
              "      <th>objid</th>\n",
              "      <th>ra</th>\n",
              "      <th>dec</th>\n",
              "      <th>u</th>\n",
              "      <th>g</th>\n",
              "      <th>r</th>\n",
              "      <th>i</th>\n",
              "      <th>z</th>\n",
              "      <th>run</th>\n",
              "      <th>camcol</th>\n",
              "      <th>field</th>\n",
              "      <th>score</th>\n",
              "      <th>clean</th>\n",
              "      <th>class</th>\n",
              "      <th>redshift</th>\n",
              "      <th>mjd</th>\n",
              "      <th>rowv</th>\n",
              "      <th>colv</th>\n",
              "    </tr>\n",
              "  </thead>\n",
              "  <tbody>\n",
              "  </tbody>\n",
              "</table>\n",
              "</div>"
            ],
            "text/plain": [
              "Empty DataFrame\n",
              "Columns: [objid, ra, dec, u, g, r, i, z, run, camcol, field, score, clean, class, redshift, mjd, rowv, colv]\n",
              "Index: []"
            ]
          },
          "execution_count": 20,
          "metadata": {},
          "output_type": "execute_result"
        }
      ],
      "source": [
        "star_alpes.drop_duplicates(subset = 'objid', keep = 'first', inplace = True)\n",
        "\n",
        "duplicated_rows = star_alpes.loc[star_alpes.duplicated(subset=[\"redshift\"]+[\"objid\"], keep=False)].sort_values(\"objid\")\n",
        "duplicated_rows"
      ]
    },
    {
      "cell_type": "markdown",
      "metadata": {
        "id": "VHhhx7JH5j6B"
      },
      "source": [
        "Ahora revisamos las clases de las filas:"
      ]
    },
    {
      "cell_type": "code",
      "execution_count": 21,
      "metadata": {
        "colab": {
          "base_uri": "https://localhost:8080/",
          "height": 210
        },
        "id": "gVAECgTzEaNY",
        "outputId": "279920cc-cbab-4de8-d9c4-cb8a405b8cdf"
      },
      "outputs": [
        {
          "data": {
            "text/plain": [
              "class\n",
              "GALAXY    1891\n",
              "STAR      1800\n",
              "QSO        292\n",
              "Name: count, dtype: int64"
            ]
          },
          "execution_count": 21,
          "metadata": {},
          "output_type": "execute_result"
        }
      ],
      "source": [
        "star_alpes.loc[star_alpes['class'].apply(lambda s: str(s).upper() == 'S'),'class'] = 'STAR'\n",
        "star_alpes.loc[star_alpes['class'].apply(lambda s: str(s).upper() == 'G'),'class'] = 'GALAXY'\n",
        "star_alpes.loc[star_alpes['class'].apply(lambda s: str(s).upper() == 'QUASAR'),'class'] = 'QSO'\n",
        "\n",
        "star_alpes['class'].value_counts()"
      ]
    },
    {
      "cell_type": "markdown",
      "metadata": {
        "id": "a0Df1q7t3-K3"
      },
      "source": [
        "Ahora generaremos el One Hot Encoder para la variable \"class\"."
      ]
    },
    {
      "cell_type": "code",
      "execution_count": 22,
      "metadata": {
        "colab": {
          "base_uri": "https://localhost:8080/"
        },
        "id": "iSAdLfJD4Kzf",
        "outputId": "8a6f7ad7-5d7d-4e3b-e529-51dbcc501410"
      },
      "outputs": [
        {
          "name": "stdout",
          "output_type": "stream",
          "text": [
            "                    objid          ra        dec         u         g  \\\n",
            "0     1237648722306924571  185.574486   0.701402  19.11034  17.62099   \n",
            "1     1237648720167436418  203.801841  -0.853906  18.90957  17.62940   \n",
            "2     1237648720685105352  160.034264  -0.421626  19.26340  17.67693   \n",
            "3     1237648703510937836  200.807373  -0.682024  18.82022  17.77765   \n",
            "4     1237648720161275992  189.792404  -1.001480  18.91391  19.05355   \n",
            "...                   ...         ...        ...       ...       ...   \n",
            "3995  1237648720690741273  172.826005  -0.484303  18.81890  17.89273   \n",
            "3996  1237649918427267086   11.165126  13.745240  17.46665  15.96142   \n",
            "3997  1237648720164684046  197.579529  -0.971573  19.45682  18.32555   \n",
            "3998  1237648721206575779  124.877626  -0.048110  19.20158  17.31450   \n",
            "3999  1237648720161800205  190.920230  -0.972532  17.63725  16.65544   \n",
            "\n",
            "             r         i         z   run  camcol  field     score  clean  \\\n",
            "0     17.03464  16.82993  16.71711   756       5    466  0.864145      1   \n",
            "1     17.01465  16.62059  16.35239   756       1    588  0.816541      1   \n",
            "2     16.82551  16.42307  16.13864   756       2    295  0.870381      1   \n",
            "3     17.38575  17.11128  16.93540   752       2    382  0.867801      1   \n",
            "4     19.46278  19.75660  20.09613   756       1    494  0.833824      1   \n",
            "...        ...       ...       ...   ...     ...    ...       ...    ...   \n",
            "3995  17.54372  17.41363  17.31821   756       2    381  0.887803      1   \n",
            "3996  15.36014  15.14572  15.04453  1035       1     38  0.844826      1   \n",
            "3997  17.86916  17.57512  17.41648   756       1    546  0.819151      1   \n",
            "3998  16.36573  15.91760  15.57736   756       3     60  0.894044      1   \n",
            "3999  16.29970  16.14733  16.09544   756       1    502  0.845173      1   \n",
            "\n",
            "       class      redshift    mjd      rowv      colv  \n",
            "0       STAR  8.780529e-05  54140  0.002418  0.001363  \n",
            "1     GALAXY  8.619995e-02  51955  0.008650  0.007056  \n",
            "2     GALAXY  1.330486e-01  51913  0.003938 -0.002028  \n",
            "3     GALAXY  8.636355e-02  51959  0.001839  0.001160  \n",
            "4       STAR -4.090000e-08  54562  0.001929 -0.000465  \n",
            "...      ...           ...    ...       ...       ...  \n",
            "3995    STAR  1.521540e-04  54891  0.000675  0.000324  \n",
            "3996    STAR  4.182837e-05  53242 -0.000440 -0.000301  \n",
            "3997  GALAXY  8.160563e-02  51985  0.011348  0.005854  \n",
            "3998  GALAXY  8.744828e-02  55888 -0.004486 -0.006072  \n",
            "3999    STAR  2.131280e-04  51928  0.001372  0.000094  \n",
            "\n",
            "[3983 rows x 18 columns]\n",
            "      class_GALAXY  class_QSO  class_STAR\n",
            "0              0.0        0.0         1.0\n",
            "1              1.0        0.0         0.0\n",
            "2              1.0        0.0         0.0\n",
            "3              1.0        0.0         0.0\n",
            "4              0.0        0.0         1.0\n",
            "...            ...        ...         ...\n",
            "3978           0.0        0.0         1.0\n",
            "3979           0.0        0.0         1.0\n",
            "3980           1.0        0.0         0.0\n",
            "3981           1.0        0.0         0.0\n",
            "3982           0.0        0.0         1.0\n",
            "\n",
            "[3983 rows x 3 columns]\n",
            "      index                objid          ra        dec         u         g  \\\n",
            "0         0  1237648722306924571  185.574486   0.701402  19.11034  17.62099   \n",
            "1         1  1237648720167436418  203.801841  -0.853906  18.90957  17.62940   \n",
            "2         2  1237648720685105352  160.034264  -0.421626  19.26340  17.67693   \n",
            "3         3  1237648703510937836  200.807373  -0.682024  18.82022  17.77765   \n",
            "4         4  1237648720161275992  189.792404  -1.001480  18.91391  19.05355   \n",
            "...     ...                  ...         ...        ...       ...       ...   \n",
            "3978   3995  1237648720690741273  172.826005  -0.484303  18.81890  17.89273   \n",
            "3979   3996  1237649918427267086   11.165126  13.745240  17.46665  15.96142   \n",
            "3980   3997  1237648720164684046  197.579529  -0.971573  19.45682  18.32555   \n",
            "3981   3998  1237648721206575779  124.877626  -0.048110  19.20158  17.31450   \n",
            "3982   3999  1237648720161800205  190.920230  -0.972532  17.63725  16.65544   \n",
            "\n",
            "             r         i         z   run  ...     score  clean      redshift  \\\n",
            "0     17.03464  16.82993  16.71711   756  ...  0.864145      1  8.780529e-05   \n",
            "1     17.01465  16.62059  16.35239   756  ...  0.816541      1  8.619995e-02   \n",
            "2     16.82551  16.42307  16.13864   756  ...  0.870381      1  1.330486e-01   \n",
            "3     17.38575  17.11128  16.93540   752  ...  0.867801      1  8.636355e-02   \n",
            "4     19.46278  19.75660  20.09613   756  ...  0.833824      1 -4.090000e-08   \n",
            "...        ...       ...       ...   ...  ...       ...    ...           ...   \n",
            "3978  17.54372  17.41363  17.31821   756  ...  0.887803      1  1.521540e-04   \n",
            "3979  15.36014  15.14572  15.04453  1035  ...  0.844826      1  4.182837e-05   \n",
            "3980  17.86916  17.57512  17.41648   756  ...  0.819151      1  8.160563e-02   \n",
            "3981  16.36573  15.91760  15.57736   756  ...  0.894044      1  8.744828e-02   \n",
            "3982  16.29970  16.14733  16.09544   756  ...  0.845173      1  2.131280e-04   \n",
            "\n",
            "        mjd      rowv      colv  index  class_GALAXY  class_QSO  class_STAR  \n",
            "0     54140  0.002418  0.001363      0           0.0        0.0         1.0  \n",
            "1     51955  0.008650  0.007056      1           1.0        0.0         0.0  \n",
            "2     51913  0.003938 -0.002028      2           1.0        0.0         0.0  \n",
            "3     51959  0.001839  0.001160      3           1.0        0.0         0.0  \n",
            "4     54562  0.001929 -0.000465      4           0.0        0.0         1.0  \n",
            "...     ...       ...       ...    ...           ...        ...         ...  \n",
            "3978  54891  0.000675  0.000324   3978           0.0        0.0         1.0  \n",
            "3979  53242 -0.000440 -0.000301   3979           0.0        0.0         1.0  \n",
            "3980  51985  0.011348  0.005854   3980           1.0        0.0         0.0  \n",
            "3981  55888 -0.004486 -0.006072   3981           1.0        0.0         0.0  \n",
            "3982  51928  0.001372  0.000094   3982           0.0        0.0         1.0  \n",
            "\n",
            "[3983 rows x 22 columns]\n"
          ]
        }
      ],
      "source": [
        "clases = np.array([['STAR'], ['GALAXY'], ['QSO']])\n",
        "\n",
        "df = star_alpes\n",
        "\n",
        "print(df)\n",
        "\n",
        "encoder = OneHotEncoder(sparse_output=False, handle_unknown='ignore')\n",
        "\n",
        "star_encoded = encoder.fit_transform(df[['class']])\n",
        "\n",
        "nom_col = encoder.get_feature_names_out(['class'])\n",
        "df_encoded = pd.DataFrame(star_encoded, columns=nom_col)\n",
        "\n",
        "print(df_encoded)\n",
        "\n",
        "star_alpes_f = pd.concat([df.drop(columns=['class']).reset_index(), df_encoded.reset_index()], axis = 1)\n",
        "\n",
        "print(star_alpes_f)\n",
        "\n",
        "\n",
        "\n"
      ]
    },
    {
      "cell_type": "markdown",
      "metadata": {
        "id": "d3aB_8qJTGD8"
      },
      "source": [
        "Ahora realizaremos un filtrado y eliminaremos las filas cuyos valores en clean sean de 0, es decir que sean lecturas sucias y podrían afectar el modelo.\n",
        "Además, vamos a quitar las filas cuyos valores de score sean inferiores al 50% para poder tener una mayor precisión."
      ]
    },
    {
      "cell_type": "code",
      "execution_count": 23,
      "metadata": {
        "id": "hwHvxN6ITFyG"
      },
      "outputs": [],
      "source": [
        "star_alpes_f = star_alpes_f[star_alpes_f['clean'] == 1]\n",
        "star_alpes_f = star_alpes_f[star_alpes_f['score'] >= 0.50]"
      ]
    },
    {
      "cell_type": "code",
      "execution_count": 24,
      "metadata": {
        "colab": {
          "base_uri": "https://localhost:8080/",
          "height": 256
        },
        "id": "3OmbpKJ6Jrud",
        "outputId": "6f2c9a84-2580-44b8-dc17-0c48d057d3ff"
      },
      "outputs": [
        {
          "data": {
            "text/html": [
              "<div>\n",
              "<style scoped>\n",
              "    .dataframe tbody tr th:only-of-type {\n",
              "        vertical-align: middle;\n",
              "    }\n",
              "\n",
              "    .dataframe tbody tr th {\n",
              "        vertical-align: top;\n",
              "    }\n",
              "\n",
              "    .dataframe thead th {\n",
              "        text-align: right;\n",
              "    }\n",
              "</style>\n",
              "<table border=\"1\" class=\"dataframe\">\n",
              "  <thead>\n",
              "    <tr style=\"text-align: right;\">\n",
              "      <th></th>\n",
              "      <th>index</th>\n",
              "      <th>objid</th>\n",
              "      <th>ra</th>\n",
              "      <th>dec</th>\n",
              "      <th>u</th>\n",
              "      <th>g</th>\n",
              "      <th>r</th>\n",
              "      <th>i</th>\n",
              "      <th>z</th>\n",
              "      <th>run</th>\n",
              "      <th>...</th>\n",
              "      <th>score</th>\n",
              "      <th>clean</th>\n",
              "      <th>redshift</th>\n",
              "      <th>mjd</th>\n",
              "      <th>rowv</th>\n",
              "      <th>colv</th>\n",
              "      <th>index</th>\n",
              "      <th>class_GALAXY</th>\n",
              "      <th>class_QSO</th>\n",
              "      <th>class_STAR</th>\n",
              "    </tr>\n",
              "  </thead>\n",
              "  <tbody>\n",
              "    <tr>\n",
              "      <th>409</th>\n",
              "      <td>409</td>\n",
              "      <td>1237648704594640967</td>\n",
              "      <td>223.506393</td>\n",
              "      <td>0.139645</td>\n",
              "      <td>19.24741</td>\n",
              "      <td>18.81599</td>\n",
              "      <td>18.82659</td>\n",
              "      <td>18.90117</td>\n",
              "      <td>18.74697</td>\n",
              "      <td>752</td>\n",
              "      <td>...</td>\n",
              "      <td>0.954001</td>\n",
              "      <td>1</td>\n",
              "      <td>0.703208</td>\n",
              "      <td>51994</td>\n",
              "      <td>-0.000256</td>\n",
              "      <td>-0.000340</td>\n",
              "      <td>409</td>\n",
              "      <td>0.0</td>\n",
              "      <td>1.0</td>\n",
              "      <td>0.0</td>\n",
              "    </tr>\n",
              "    <tr>\n",
              "      <th>1226</th>\n",
              "      <td>1226</td>\n",
              "      <td>1237648722307121172</td>\n",
              "      <td>186.023924</td>\n",
              "      <td>0.667083</td>\n",
              "      <td>17.11760</td>\n",
              "      <td>16.16167</td>\n",
              "      <td>15.87674</td>\n",
              "      <td>15.76925</td>\n",
              "      <td>15.75094</td>\n",
              "      <td>756</td>\n",
              "      <td>...</td>\n",
              "      <td>0.872302</td>\n",
              "      <td>1</td>\n",
              "      <td>0.000363</td>\n",
              "      <td>54140</td>\n",
              "      <td>0.001528</td>\n",
              "      <td>0.001781</td>\n",
              "      <td>1226</td>\n",
              "      <td>0.0</td>\n",
              "      <td>0.0</td>\n",
              "      <td>1.0</td>\n",
              "    </tr>\n",
              "    <tr>\n",
              "      <th>3433</th>\n",
              "      <td>3446</td>\n",
              "      <td>1237648721206051146</td>\n",
              "      <td>123.631416</td>\n",
              "      <td>-0.057953</td>\n",
              "      <td>15.80539</td>\n",
              "      <td>14.54612</td>\n",
              "      <td>14.53874</td>\n",
              "      <td>14.61368</td>\n",
              "      <td>14.70348</td>\n",
              "      <td>756</td>\n",
              "      <td>...</td>\n",
              "      <td>0.878320</td>\n",
              "      <td>1</td>\n",
              "      <td>-0.000003</td>\n",
              "      <td>53816</td>\n",
              "      <td>0.000535</td>\n",
              "      <td>0.002451</td>\n",
              "      <td>3433</td>\n",
              "      <td>0.0</td>\n",
              "      <td>0.0</td>\n",
              "      <td>1.0</td>\n",
              "    </tr>\n",
              "    <tr>\n",
              "      <th>3288</th>\n",
              "      <td>3300</td>\n",
              "      <td>1237648721759633469</td>\n",
              "      <td>161.835142</td>\n",
              "      <td>0.382448</td>\n",
              "      <td>17.68520</td>\n",
              "      <td>16.68324</td>\n",
              "      <td>16.47453</td>\n",
              "      <td>16.41669</td>\n",
              "      <td>16.41521</td>\n",
              "      <td>756</td>\n",
              "      <td>...</td>\n",
              "      <td>0.884279</td>\n",
              "      <td>1</td>\n",
              "      <td>-0.000293</td>\n",
              "      <td>54208</td>\n",
              "      <td>0.002785</td>\n",
              "      <td>-0.000758</td>\n",
              "      <td>3288</td>\n",
              "      <td>0.0</td>\n",
              "      <td>0.0</td>\n",
              "      <td>1.0</td>\n",
              "    </tr>\n",
              "    <tr>\n",
              "      <th>3894</th>\n",
              "      <td>3910</td>\n",
              "      <td>1237648720685105261</td>\n",
              "      <td>159.939346</td>\n",
              "      <td>-0.609184</td>\n",
              "      <td>19.48702</td>\n",
              "      <td>18.51823</td>\n",
              "      <td>18.18637</td>\n",
              "      <td>18.06704</td>\n",
              "      <td>18.05865</td>\n",
              "      <td>756</td>\n",
              "      <td>...</td>\n",
              "      <td>0.870381</td>\n",
              "      <td>1</td>\n",
              "      <td>0.000799</td>\n",
              "      <td>55290</td>\n",
              "      <td>-0.000149</td>\n",
              "      <td>-0.000500</td>\n",
              "      <td>3894</td>\n",
              "      <td>0.0</td>\n",
              "      <td>0.0</td>\n",
              "      <td>1.0</td>\n",
              "    </tr>\n",
              "  </tbody>\n",
              "</table>\n",
              "<p>5 rows × 22 columns</p>\n",
              "</div>"
            ],
            "text/plain": [
              "      index                objid          ra       dec         u         g  \\\n",
              "409     409  1237648704594640967  223.506393  0.139645  19.24741  18.81599   \n",
              "1226   1226  1237648722307121172  186.023924  0.667083  17.11760  16.16167   \n",
              "3433   3446  1237648721206051146  123.631416 -0.057953  15.80539  14.54612   \n",
              "3288   3300  1237648721759633469  161.835142  0.382448  17.68520  16.68324   \n",
              "3894   3910  1237648720685105261  159.939346 -0.609184  19.48702  18.51823   \n",
              "\n",
              "             r         i         z  run  ...     score  clean  redshift  \\\n",
              "409   18.82659  18.90117  18.74697  752  ...  0.954001      1  0.703208   \n",
              "1226  15.87674  15.76925  15.75094  756  ...  0.872302      1  0.000363   \n",
              "3433  14.53874  14.61368  14.70348  756  ...  0.878320      1 -0.000003   \n",
              "3288  16.47453  16.41669  16.41521  756  ...  0.884279      1 -0.000293   \n",
              "3894  18.18637  18.06704  18.05865  756  ...  0.870381      1  0.000799   \n",
              "\n",
              "        mjd      rowv      colv  index  class_GALAXY  class_QSO  class_STAR  \n",
              "409   51994 -0.000256 -0.000340    409           0.0        1.0         0.0  \n",
              "1226  54140  0.001528  0.001781   1226           0.0        0.0         1.0  \n",
              "3433  53816  0.000535  0.002451   3433           0.0        0.0         1.0  \n",
              "3288  54208  0.002785 -0.000758   3288           0.0        0.0         1.0  \n",
              "3894  55290 -0.000149 -0.000500   3894           0.0        0.0         1.0  \n",
              "\n",
              "[5 rows x 22 columns]"
            ]
          },
          "execution_count": 24,
          "metadata": {},
          "output_type": "execute_result"
        }
      ],
      "source": [
        "star_alpes_f.sample(5)"
      ]
    },
    {
      "cell_type": "markdown",
      "metadata": {
        "id": "0uD5bwuILAkL"
      },
      "source": [
        "Nos decicimos de la columna class y en su lugar hicimos 3 columnas binarias dependiendo de la clase donde se clasificaron los elementos.\n",
        "\n",
        "También hicimos un filtrado y nos quedamos con los elementos que tienen un score mayor a 60% (0.6) y un clean de 1.\n",
        "\n",
        "Ahora realizaremos la comprobación de correlación de las variables que queremos utilizar:"
      ]
    },
    {
      "cell_type": "code",
      "execution_count": 25,
      "metadata": {
        "colab": {
          "base_uri": "https://localhost:8080/",
          "height": 474
        },
        "id": "gKw_YcocLqKy",
        "outputId": "74ede3f8-7e99-4716-e2af-8c4d21e40d04"
      },
      "outputs": [
        {
          "data": {
            "text/plain": [
              "<Axes: >"
            ]
          },
          "execution_count": 25,
          "metadata": {},
          "output_type": "execute_result"
        },
        {
          "data": {
            "image/png": "[encoded data removed]",
            "text/plain": [
              "<Figure size 600x400 with 2 Axes>"
            ]
          },
          "metadata": {},
          "output_type": "display_data"
        }
      ],
      "source": [
        "pos_var2 = [\"ra\", \"dec\", \"u\", \"z\", \"mjd\", \"class_GALAXY\", \"class_QSO\", \"class_STAR\"]\n",
        "\n",
        "plt.figure(figsize=(6, 4))\n",
        "sns.heatmap(star_alpes_f[pos_var2].corr(), cmap=\"Blues\", vmin=0, vmax=1)"
      ]
    },
    {
      "cell_type": "markdown",
      "metadata": {
        "id": "d2midGEsMHrH"
      },
      "source": [
        "Como hay correlación entre las variables u y z, vamos a eliminar u y mjd, ya que hay correlación entre class_STAR y mjd, luego vamos a hacer entonces la separación de los datos de train y de test."
      ]
    },
    {
      "cell_type": "code",
      "execution_count": 26,
      "metadata": {
        "colab": {
          "base_uri": "https://localhost:8080/"
        },
        "id": "dWKZR_5r15S-",
        "outputId": "8adb7612-a19f-4d24-f4e4-a4f3c0fc1d80"
      },
      "outputs": [
        {
          "data": {
            "text/plain": [
              "((2459, 6), (2459,))"
            ]
          },
          "execution_count": 26,
          "metadata": {},
          "output_type": "execute_result"
        }
      ],
      "source": [
        "#Definimos las variables de la regresión a utilizar\n",
        "variables_reg = [\"ra\", \"dec\", \"z\", \"class_GALAXY\", \"class_QSO\", \"class_STAR\"]\n",
        "\n",
        "X_train, X_test, y_train, y_test = train_test_split(star_alpes_f[variables_reg], star_alpes_f[\"redshift\"], test_size=0.3, random_state=1)\n",
        "\n",
        "X_train.shape, y_train.shape"
      ]
    },
    {
      "cell_type": "code",
      "execution_count": 27,
      "metadata": {
        "colab": {
          "base_uri": "https://localhost:8080/"
        },
        "id": "pwlsiA33MquV",
        "outputId": "75b3e11b-3e98-4418-9db8-0929b4d886b5"
      },
      "outputs": [
        {
          "data": {
            "text/plain": [
              "((1055, 6), (1055,))"
            ]
          },
          "execution_count": 27,
          "metadata": {},
          "output_type": "execute_result"
        }
      ],
      "source": [
        "X_test.shape, y_test.shape"
      ]
    },
    {
      "cell_type": "markdown",
      "metadata": {
        "id": "6lcjIEgSMzI0"
      },
      "source": [
        "# 4. Modelado\n",
        "\n",
        "Realizaremos entonces el proceso de modelado de los datos de train"
      ]
    },
    {
      "cell_type": "code",
      "execution_count": 28,
      "metadata": {
        "colab": {
          "base_uri": "https://localhost:8080/",
          "height": 80
        },
        "id": "L_U91WylNBq1",
        "outputId": "3a5a6737-a092-4656-b356-f6438e90a0c3"
      },
      "outputs": [
        {
          "data": {
            "text/html": [
              "<style>#sk-container-id-1 {\n",
              "  /* Definition of color scheme common for light and dark mode */\n",
              "  --sklearn-color-text: #000;\n",
              "  --sklearn-color-text-muted: #666;\n",
              "  --sklearn-color-line: gray;\n",
              "  /* Definition of color scheme for unfitted estimators */\n",
              "  --sklearn-color-unfitted-level-0: #fff5e6;\n",
              "  --sklearn-color-unfitted-level-1: #f6e4d2;\n",
              "  --sklearn-color-unfitted-level-2: #ffe0b3;\n",
              "  --sklearn-color-unfitted-level-3: chocolate;\n",
              "  /* Definition of color scheme for fitted estimators */\n",
              "  --sklearn-color-fitted-level-0: #f0f8ff;\n",
              "  --sklearn-color-fitted-level-1: #d4ebff;\n",
              "  --sklearn-color-fitted-level-2: #b3dbfd;\n",
              "  --sklearn-color-fitted-level-3: cornflowerblue;\n",
              "\n",
              "  /* Specific color for light theme */\n",
              "  --sklearn-color-text-on-default-background: var(--sg-text-color, var(--theme-code-foreground, var(--jp-content-font-color1, black)));\n",
              "  --sklearn-color-background: var(--sg-background-color, var(--theme-background, var(--jp-layout-color0, white)));\n",
              "  --sklearn-color-border-box: var(--sg-text-color, var(--theme-code-foreground, var(--jp-content-font-color1, black)));\n",
              "  --sklearn-color-icon: #696969;\n",
              "\n",
              "  @media (prefers-color-scheme: dark) {\n",
              "    /* Redefinition of color scheme for dark theme */\n",
              "    --sklearn-color-text-on-default-background: var(--sg-text-color, var(--theme-code-foreground, var(--jp-content-font-color1, white)));\n",
              "    --sklearn-color-background: var(--sg-background-color, var(--theme-background, var(--jp-layout-color0, #111)));\n",
              "    --sklearn-color-border-box: var(--sg-text-color, var(--theme-code-foreground, var(--jp-content-font-color1, white)));\n",
              "    --sklearn-color-icon: #878787;\n",
              "  }\n",
              "}\n",
              "\n",
              "#sk-container-id-1 {\n",
              "  color: var(--sklearn-color-text);\n",
              "}\n",
              "\n",
              "#sk-container-id-1 pre {\n",
              "  padding: 0;\n",
              "}\n",
              "\n",
              "#sk-container-id-1 input.sk-hidden--visually {\n",
              "  border: 0;\n",
              "  clip: rect(1px 1px 1px 1px);\n",
              "  clip: rect(1px, 1px, 1px, 1px);\n",
              "  height: 1px;\n",
              "  margin: -1px;\n",
              "  overflow: hidden;\n",
              "  padding: 0;\n",
              "  position: absolute;\n",
              "  width: 1px;\n",
              "}\n",
              "\n",
              "#sk-container-id-1 div.sk-dashed-wrapped {\n",
              "  border: 1px dashed var(--sklearn-color-line);\n",
              "  margin: 0 0.4em 0.5em 0.4em;\n",
              "  box-sizing: border-box;\n",
              "  padding-bottom: 0.4em;\n",
              "  background-color: var(--sklearn-color-background);\n",
              "}\n",
              "\n",
              "#sk-container-id-1 div.sk-container {\n",
              "  /* jupyter's `normalize.less` sets `[hidden] { display: none; }`\n",
              "     but bootstrap.min.css set `[hidden] { display: none !important; }`\n",
              "     so we also need the `!important` here to be able to override the\n",
              "     default hidden behavior on the sphinx rendered scikit-learn.org.\n",
              "     See: https://github.com/scikit-learn/scikit-learn/issues/21755 */\n",
              "  display: inline-block !important;\n",
              "  position: relative;\n",
              "}\n",
              "\n",
              "#sk-container-id-1 div.sk-text-repr-fallback {\n",
              "  display: none;\n",
              "}\n",
              "\n",
              "div.sk-parallel-item,\n",
              "div.sk-serial,\n",
              "div.sk-item {\n",
              "  /* draw centered vertical line to link estimators */\n",
              "  background-image: linear-gradient(var(--sklearn-color-text-on-default-background), var(--sklearn-color-text-on-default-background));\n",
              "  background-size: 2px 100%;\n",
              "  background-repeat: no-repeat;\n",
              "  background-position: center center;\n",
              "}\n",
              "\n",
              "/* Parallel-specific style estimator block */\n",
              "\n",
              "#sk-container-id-1 div.sk-parallel-item::after {\n",
              "  content: \"\";\n",
              "  width: 100%;\n",
              "  border-bottom: 2px solid var(--sklearn-color-text-on-default-background);\n",
              "  flex-grow: 1;\n",
              "}\n",
              "\n",
              "#sk-container-id-1 div.sk-parallel {\n",
              "  display: flex;\n",
              "  align-items: stretch;\n",
              "  justify-content: center;\n",
              "  background-color: var(--sklearn-color-background);\n",
              "  position: relative;\n",
              "}\n",
              "\n",
              "#sk-container-id-1 div.sk-parallel-item {\n",
              "  display: flex;\n",
              "  flex-direction: column;\n",
              "}\n",
              "\n",
              "#sk-container-id-1 div.sk-parallel-item:first-child::after {\n",
              "  align-self: flex-end;\n",
              "  width: 50%;\n",
              "}\n",
              "\n",
              "#sk-container-id-1 div.sk-parallel-item:last-child::after {\n",
              "  align-self: flex-start;\n",
              "  width: 50%;\n",
              "}\n",
              "\n",
              "#sk-container-id-1 div.sk-parallel-item:only-child::after {\n",
              "  width: 0;\n",
              "}\n",
              "\n",
              "/* Serial-specific style estimator block */\n",
              "\n",
              "#sk-container-id-1 div.sk-serial {\n",
              "  display: flex;\n",
              "  flex-direction: column;\n",
              "  align-items: center;\n",
              "  background-color: var(--sklearn-color-background);\n",
              "  padding-right: 1em;\n",
              "  padding-left: 1em;\n",
              "}\n",
              "\n",
              "\n",
              "/* Toggleable style: style used for estimator/Pipeline/ColumnTransformer box that is\n",
              "clickable and can be expanded/collapsed.\n",
              "- Pipeline and ColumnTransformer use this feature and define the default style\n",
              "- Estimators will overwrite some part of the style using the `sk-estimator` class\n",
              "*/\n",
              "\n",
              "/* Pipeline and ColumnTransformer style (default) */\n",
              "\n",
              "#sk-container-id-1 div.sk-toggleable {\n",
              "  /* Default theme specific background. It is overwritten whether we have a\n",
              "  specific estimator or a Pipeline/ColumnTransformer */\n",
              "  background-color: var(--sklearn-color-background);\n",
              "}\n",
              "\n",
              "/* Toggleable label */\n",
              "#sk-container-id-1 label.sk-toggleable__label {\n",
              "  cursor: pointer;\n",
              "  display: flex;\n",
              "  width: 100%;\n",
              "  margin-bottom: 0;\n",
              "  padding: 0.5em;\n",
              "  box-sizing: border-box;\n",
              "  text-align: center;\n",
              "  align-items: start;\n",
              "  justify-content: space-between;\n",
              "  gap: 0.5em;\n",
              "}\n",
              "\n",
              "#sk-container-id-1 label.sk-toggleable__label .caption {\n",
              "  font-size: 0.6rem;\n",
              "  font-weight: lighter;\n",
              "  color: var(--sklearn-color-text-muted);\n",
              "}\n",
              "\n",
              "#sk-container-id-1 label.sk-toggleable__label-arrow:before {\n",
              "  /* Arrow on the left of the label */\n",
              "  content: \"▸\";\n",
              "  float: left;\n",
              "  margin-right: 0.25em;\n",
              "  color: var(--sklearn-color-icon);\n",
              "}\n",
              "\n",
              "#sk-container-id-1 label.sk-toggleable__label-arrow:hover:before {\n",
              "  color: var(--sklearn-color-text);\n",
              "}\n",
              "\n",
              "/* Toggleable content - dropdown */\n",
              "\n",
              "#sk-container-id-1 div.sk-toggleable__content {\n",
              "  max-height: 0;\n",
              "  max-width: 0;\n",
              "  overflow: hidden;\n",
              "  text-align: left;\n",
              "  /* unfitted */\n",
              "  background-color: var(--sklearn-color-unfitted-level-0);\n",
              "}\n",
              "\n",
              "#sk-container-id-1 div.sk-toggleable__content.fitted {\n",
              "  /* fitted */\n",
              "  background-color: var(--sklearn-color-fitted-level-0);\n",
              "}\n",
              "\n",
              "#sk-container-id-1 div.sk-toggleable__content pre {\n",
              "  margin: 0.2em;\n",
              "  border-radius: 0.25em;\n",
              "  color: var(--sklearn-color-text);\n",
              "  /* unfitted */\n",
              "  background-color: var(--sklearn-color-unfitted-level-0);\n",
              "}\n",
              "\n",
              "#sk-container-id-1 div.sk-toggleable__content.fitted pre {\n",
              "  /* unfitted */\n",
              "  background-color: var(--sklearn-color-fitted-level-0);\n",
              "}\n",
              "\n",
              "#sk-container-id-1 input.sk-toggleable__control:checked~div.sk-toggleable__content {\n",
              "  /* Expand drop-down */\n",
              "  max-height: 200px;\n",
              "  max-width: 100%;\n",
              "  overflow: auto;\n",
              "}\n",
              "\n",
              "#sk-container-id-1 input.sk-toggleable__control:checked~label.sk-toggleable__label-arrow:before {\n",
              "  content: \"▾\";\n",
              "}\n",
              "\n",
              "/* Pipeline/ColumnTransformer-specific style */\n",
              "\n",
              "#sk-container-id-1 div.sk-label input.sk-toggleable__control:checked~label.sk-toggleable__label {\n",
              "  color: var(--sklearn-color-text);\n",
              "  background-color: var(--sklearn-color-unfitted-level-2);\n",
              "}\n",
              "\n",
              "#sk-container-id-1 div.sk-label.fitted input.sk-toggleable__control:checked~label.sk-toggleable__label {\n",
              "  background-color: var(--sklearn-color-fitted-level-2);\n",
              "}\n",
              "\n",
              "/* Estimator-specific style */\n",
              "\n",
              "/* Colorize estimator box */\n",
              "#sk-container-id-1 div.sk-estimator input.sk-toggleable__control:checked~label.sk-toggleable__label {\n",
              "  /* unfitted */\n",
              "  background-color: var(--sklearn-color-unfitted-level-2);\n",
              "}\n",
              "\n",
              "#sk-container-id-1 div.sk-estimator.fitted input.sk-toggleable__control:checked~label.sk-toggleable__label {\n",
              "  /* fitted */\n",
              "  background-color: var(--sklearn-color-fitted-level-2);\n",
              "}\n",
              "\n",
              "#sk-container-id-1 div.sk-label label.sk-toggleable__label,\n",
              "#sk-container-id-1 div.sk-label label {\n",
              "  /* The background is the default theme color */\n",
              "  color: var(--sklearn-color-text-on-default-background);\n",
              "}\n",
              "\n",
              "/* On hover, darken the color of the background */\n",
              "#sk-container-id-1 div.sk-label:hover label.sk-toggleable__label {\n",
              "  color: var(--sklearn-color-text);\n",
              "  background-color: var(--sklearn-color-unfitted-level-2);\n",
              "}\n",
              "\n",
              "/* Label box, darken color on hover, fitted */\n",
              "#sk-container-id-1 div.sk-label.fitted:hover label.sk-toggleable__label.fitted {\n",
              "  color: var(--sklearn-color-text);\n",
              "  background-color: var(--sklearn-color-fitted-level-2);\n",
              "}\n",
              "\n",
              "/* Estimator label */\n",
              "\n",
              "#sk-container-id-1 div.sk-label label {\n",
              "  font-family: monospace;\n",
              "  font-weight: bold;\n",
              "  display: inline-block;\n",
              "  line-height: 1.2em;\n",
              "}\n",
              "\n",
              "#sk-container-id-1 div.sk-label-container {\n",
              "  text-align: center;\n",
              "}\n",
              "\n",
              "/* Estimator-specific */\n",
              "#sk-container-id-1 div.sk-estimator {\n",
              "  font-family: monospace;\n",
              "  border: 1px dotted var(--sklearn-color-border-box);\n",
              "  border-radius: 0.25em;\n",
              "  box-sizing: border-box;\n",
              "  margin-bottom: 0.5em;\n",
              "  /* unfitted */\n",
              "  background-color: var(--sklearn-color-unfitted-level-0);\n",
              "}\n",
              "\n",
              "#sk-container-id-1 div.sk-estimator.fitted {\n",
              "  /* fitted */\n",
              "  background-color: var(--sklearn-color-fitted-level-0);\n",
              "}\n",
              "\n",
              "/* on hover */\n",
              "#sk-container-id-1 div.sk-estimator:hover {\n",
              "  /* unfitted */\n",
              "  background-color: var(--sklearn-color-unfitted-level-2);\n",
              "}\n",
              "\n",
              "#sk-container-id-1 div.sk-estimator.fitted:hover {\n",
              "  /* fitted */\n",
              "  background-color: var(--sklearn-color-fitted-level-2);\n",
              "}\n",
              "\n",
              "/* Specification for estimator info (e.g. \"i\" and \"?\") */\n",
              "\n",
              "/* Common style for \"i\" and \"?\" */\n",
              "\n",
              ".sk-estimator-doc-link,\n",
              "a:link.sk-estimator-doc-link,\n",
              "a:visited.sk-estimator-doc-link {\n",
              "  float: right;\n",
              "  font-size: smaller;\n",
              "  line-height: 1em;\n",
              "  font-family: monospace;\n",
              "  background-color: var(--sklearn-color-background);\n",
              "  border-radius: 1em;\n",
              "  height: 1em;\n",
              "  width: 1em;\n",
              "  text-decoration: none !important;\n",
              "  margin-left: 0.5em;\n",
              "  text-align: center;\n",
              "  /* unfitted */\n",
              "  border: var(--sklearn-color-unfitted-level-1) 1pt solid;\n",
              "  color: var(--sklearn-color-unfitted-level-1);\n",
              "}\n",
              "\n",
              ".sk-estimator-doc-link.fitted,\n",
              "a:link.sk-estimator-doc-link.fitted,\n",
              "a:visited.sk-estimator-doc-link.fitted {\n",
              "  /* fitted */\n",
              "  border: var(--sklearn-color-fitted-level-1) 1pt solid;\n",
              "  color: var(--sklearn-color-fitted-level-1);\n",
              "}\n",
              "\n",
              "/* On hover */\n",
              "div.sk-estimator:hover .sk-estimator-doc-link:hover,\n",
              ".sk-estimator-doc-link:hover,\n",
              "div.sk-label-container:hover .sk-estimator-doc-link:hover,\n",
              ".sk-estimator-doc-link:hover {\n",
              "  /* unfitted */\n",
              "  background-color: var(--sklearn-color-unfitted-level-3);\n",
              "  color: var(--sklearn-color-background);\n",
              "  text-decoration: none;\n",
              "}\n",
              "\n",
              "div.sk-estimator.fitted:hover .sk-estimator-doc-link.fitted:hover,\n",
              ".sk-estimator-doc-link.fitted:hover,\n",
              "div.sk-label-container:hover .sk-estimator-doc-link.fitted:hover,\n",
              ".sk-estimator-doc-link.fitted:hover {\n",
              "  /* fitted */\n",
              "  background-color: var(--sklearn-color-fitted-level-3);\n",
              "  color: var(--sklearn-color-background);\n",
              "  text-decoration: none;\n",
              "}\n",
              "\n",
              "/* Span, style for the box shown on hovering the info icon */\n",
              ".sk-estimator-doc-link span {\n",
              "  display: none;\n",
              "  z-index: 9999;\n",
              "  position: relative;\n",
              "  font-weight: normal;\n",
              "  right: .2ex;\n",
              "  padding: .5ex;\n",
              "  margin: .5ex;\n",
              "  width: min-content;\n",
              "  min-width: 20ex;\n",
              "  max-width: 50ex;\n",
              "  color: var(--sklearn-color-text);\n",
              "  box-shadow: 2pt 2pt 4pt #999;\n",
              "  /* unfitted */\n",
              "  background: var(--sklearn-color-unfitted-level-0);\n",
              "  border: .5pt solid var(--sklearn-color-unfitted-level-3);\n",
              "}\n",
              "\n",
              ".sk-estimator-doc-link.fitted span {\n",
              "  /* fitted */\n",
              "  background: var(--sklearn-color-fitted-level-0);\n",
              "  border: var(--sklearn-color-fitted-level-3);\n",
              "}\n",
              "\n",
              ".sk-estimator-doc-link:hover span {\n",
              "  display: block;\n",
              "}\n",
              "\n",
              "/* \"?\"-specific style due to the `<a>` HTML tag */\n",
              "\n",
              "#sk-container-id-1 a.estimator_doc_link {\n",
              "  float: right;\n",
              "  font-size: 1rem;\n",
              "  line-height: 1em;\n",
              "  font-family: monospace;\n",
              "  background-color: var(--sklearn-color-background);\n",
              "  border-radius: 1rem;\n",
              "  height: 1rem;\n",
              "  width: 1rem;\n",
              "  text-decoration: none;\n",
              "  /* unfitted */\n",
              "  color: var(--sklearn-color-unfitted-level-1);\n",
              "  border: var(--sklearn-color-unfitted-level-1) 1pt solid;\n",
              "}\n",
              "\n",
              "#sk-container-id-1 a.estimator_doc_link.fitted {\n",
              "  /* fitted */\n",
              "  border: var(--sklearn-color-fitted-level-1) 1pt solid;\n",
              "  color: var(--sklearn-color-fitted-level-1);\n",
              "}\n",
              "\n",
              "/* On hover */\n",
              "#sk-container-id-1 a.estimator_doc_link:hover {\n",
              "  /* unfitted */\n",
              "  background-color: var(--sklearn-color-unfitted-level-3);\n",
              "  color: var(--sklearn-color-background);\n",
              "  text-decoration: none;\n",
              "}\n",
              "\n",
              "#sk-container-id-1 a.estimator_doc_link.fitted:hover {\n",
              "  /* fitted */\n",
              "  background-color: var(--sklearn-color-fitted-level-3);\n",
              "}\n",
              "</style><div id=\"sk-container-id-1\" class=\"sk-top-container\"><div class=\"sk-text-repr-fallback\"><pre>LinearRegression()</pre><b>In a Jupyter environment, please rerun this cell to show the HTML representation or trust the notebook. <br />On GitHub, the HTML representation is unable to render, please try loading this page with nbviewer.org.</b></div><div class=\"sk-container\" hidden><div class=\"sk-item\"><div class=\"sk-estimator fitted sk-toggleable\"><input class=\"sk-toggleable__control sk-hidden--visually\" id=\"sk-estimator-id-1\" type=\"checkbox\" checked><label for=\"sk-estimator-id-1\" class=\"sk-toggleable__label fitted sk-toggleable__label-arrow\"><div><div>LinearRegression</div></div><div><a class=\"sk-estimator-doc-link fitted\" rel=\"noreferrer\" target=\"_blank\" href=\"https://scikit-learn.org/1.6/modules/generated/sklearn.linear_model.LinearRegression.html\">?<span>Documentation for LinearRegression</span></a><span class=\"sk-estimator-doc-link fitted\">i<span>Fitted</span></span></div></label><div class=\"sk-toggleable__content fitted\"><pre>LinearRegression()</pre></div> </div></div></div></div>"
            ],
            "text/plain": [
              "LinearRegression()"
            ]
          },
          "execution_count": 28,
          "metadata": {},
          "output_type": "execute_result"
        }
      ],
      "source": [
        "regresion = LinearRegression()\n",
        "\n",
        "regresion.fit(X_train, y_train)"
      ]
    },
    {
      "cell_type": "markdown",
      "metadata": {
        "id": "flm0L9mUNO_6"
      },
      "source": [
        "La regresión se realiza con éxito y a continuación revisaremos sus coeficientes, el intercepto y las métricas de calidad."
      ]
    },
    {
      "cell_type": "code",
      "execution_count": 29,
      "metadata": {
        "colab": {
          "base_uri": "https://localhost:8080/",
          "height": 238
        },
        "id": "Wq6hf4XFNOqu",
        "outputId": "7b46bd8d-1131-4d45-885d-27bc96220dc1"
      },
      "outputs": [
        {
          "data": {
            "text/html": [
              "<div>\n",
              "<style scoped>\n",
              "    .dataframe tbody tr th:only-of-type {\n",
              "        vertical-align: middle;\n",
              "    }\n",
              "\n",
              "    .dataframe tbody tr th {\n",
              "        vertical-align: top;\n",
              "    }\n",
              "\n",
              "    .dataframe thead th {\n",
              "        text-align: right;\n",
              "    }\n",
              "</style>\n",
              "<table border=\"1\" class=\"dataframe\">\n",
              "  <thead>\n",
              "    <tr style=\"text-align: right;\">\n",
              "      <th></th>\n",
              "      <th>columns</th>\n",
              "      <th>coeficientes</th>\n",
              "    </tr>\n",
              "  </thead>\n",
              "  <tbody>\n",
              "    <tr>\n",
              "      <th>0</th>\n",
              "      <td>ra</td>\n",
              "      <td>-0.000142</td>\n",
              "    </tr>\n",
              "    <tr>\n",
              "      <th>1</th>\n",
              "      <td>dec</td>\n",
              "      <td>-0.000876</td>\n",
              "    </tr>\n",
              "    <tr>\n",
              "      <th>2</th>\n",
              "      <td>z</td>\n",
              "      <td>0.014138</td>\n",
              "    </tr>\n",
              "    <tr>\n",
              "      <th>3</th>\n",
              "      <td>class_GALAXY</td>\n",
              "      <td>-0.369314</td>\n",
              "    </tr>\n",
              "    <tr>\n",
              "      <th>4</th>\n",
              "      <td>class_QSO</td>\n",
              "      <td>0.830613</td>\n",
              "    </tr>\n",
              "    <tr>\n",
              "      <th>5</th>\n",
              "      <td>class_STAR</td>\n",
              "      <td>-0.461299</td>\n",
              "    </tr>\n",
              "  </tbody>\n",
              "</table>\n",
              "</div>"
            ],
            "text/plain": [
              "        columns  coeficientes\n",
              "0            ra     -0.000142\n",
              "1           dec     -0.000876\n",
              "2             z      0.014138\n",
              "3  class_GALAXY     -0.369314\n",
              "4     class_QSO      0.830613\n",
              "5    class_STAR     -0.461299"
            ]
          },
          "execution_count": 29,
          "metadata": {},
          "output_type": "execute_result"
        }
      ],
      "source": [
        "pd.DataFrame({\"columns\":variables_reg, \"coeficientes\":regresion.coef_})"
      ]
    },
    {
      "cell_type": "code",
      "execution_count": 30,
      "metadata": {
        "colab": {
          "base_uri": "https://localhost:8080/"
        },
        "id": "KhwgmCjDNnym",
        "outputId": "879ed78a-6d1d-4f5a-bc2f-dee3e31cdc46"
      },
      "outputs": [
        {
          "data": {
            "text/plain": [
              "np.float64(0.2522937510994662)"
            ]
          },
          "execution_count": 30,
          "metadata": {},
          "output_type": "execute_result"
        }
      ],
      "source": [
        "regresion.intercept_"
      ]
    },
    {
      "cell_type": "markdown",
      "metadata": {
        "id": "0VcHnBeFMxTW"
      },
      "source": [
        "Vamos a graficar nuestra regresión en comparación a las Variables que utilizamos:"
      ]
    },
    {
      "cell_type": "code",
      "execution_count": 31,
      "metadata": {
        "colab": {
          "base_uri": "https://localhost:8080/",
          "height": 309
        },
        "id": "HDYXMJ05M2Jw",
        "outputId": "8e38e584-e1f6-4025-e2af-9137b19bb710"
      },
      "outputs": [
        {
          "data": {
            "image/png": "[encoded data removed]",
            "text/plain": [
              "<Figure size 2000x400 with 6 Axes>"
            ]
          },
          "metadata": {},
          "output_type": "display_data"
        }
      ],
      "source": [
        "f, axs = plt.subplots(1, len(variables_reg), sharey=True, figsize=(20, 4))\n",
        "\n",
        "for i in range(len(variables_reg)):\n",
        "    col = variables_reg[i]\n",
        "    x = X_train[col]\n",
        "    m = regresion.coef_[i]\n",
        "    b = regresion.intercept_\n",
        "\n",
        "    axs[i].plot(x, y_train, \"o\", alpha=0.1)\n",
        "    axs[i].plot(x, x * m + b)\n",
        "    axs[i].set_title(col)"
      ]
    },
    {
      "cell_type": "markdown",
      "metadata": {
        "id": "E02HeGsgN7JR"
      },
      "source": [
        "4.1 Mean Absolute Error"
      ]
    },
    {
      "cell_type": "code",
      "execution_count": 32,
      "metadata": {
        "colab": {
          "base_uri": "https://localhost:8080/"
        },
        "id": "Ea0l7N1mNsxT",
        "outputId": "317174a3-ee5c-4508-9e9b-ff23f0e271a0"
      },
      "outputs": [
        {
          "name": "stdout",
          "output_type": "stream",
          "text": [
            "MAE Test: 0.060076088837190345\n"
          ]
        }
      ],
      "source": [
        "print(\"MAE Test:\", mean_absolute_error(y_test, regresion.predict(X_test)))"
      ]
    },
    {
      "cell_type": "markdown",
      "metadata": {
        "id": "UApyqEtvOcNA"
      },
      "source": [
        "4.2 Root Mean Squeared Error"
      ]
    },
    {
      "cell_type": "code",
      "execution_count": 33,
      "metadata": {
        "colab": {
          "base_uri": "https://localhost:8080/"
        },
        "id": "Rf26Y9RqOfPv",
        "outputId": "573a7ce0-8e69-4f95-d9c5-515d14a280fc"
      },
      "outputs": [
        {
          "name": "stdout",
          "output_type": "stream",
          "text": [
            "RMSE Test: 0.24510424075725484\n"
          ]
        }
      ],
      "source": [
        "print(\"RMSE Test:\", np.sqrt(mean_absolute_error(y_test, regresion.predict(X_test))))"
      ]
    },
    {
      "cell_type": "markdown",
      "metadata": {
        "id": "T4-bx1Y7OxRw"
      },
      "source": [
        "4.3 R^2"
      ]
    },
    {
      "cell_type": "code",
      "execution_count": 34,
      "metadata": {
        "colab": {
          "base_uri": "https://localhost:8080/"
        },
        "id": "eBvM4ZRVPDC6",
        "outputId": "9054eb36-7081-479f-91a7-589c9ce23b2b"
      },
      "outputs": [
        {
          "name": "stdout",
          "output_type": "stream",
          "text": [
            "R2 Test: 0.7814368279201895\n"
          ]
        }
      ],
      "source": [
        "print(\"R2 Test:\", r2_score(y_test, regresion.predict(X_test)))"
      ]
    }
  ],
  "metadata": {
    "colab": {
      "provenance": []
    },
    "kernelspec": {
      "display_name": "Python 3",
      "language": "python",
      "name": "python3"
    },
    "language_info": {
      "codemirror_mode": {
        "name": "ipython",
        "version": 3
      },
      "file_extension": ".py",
      "mimetype": "text/x-python",
      "name": "python",
      "nbconvert_exporter": "python",
      "pygments_lexer": "ipython3",
      "version": "3.12.9"
    }
  },
  "nbformat": 4,
  "nbformat_minor": 0
}
