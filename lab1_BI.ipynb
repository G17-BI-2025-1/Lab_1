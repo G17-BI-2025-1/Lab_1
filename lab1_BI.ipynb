{
  "cells": [
    {
      "cell_type": "markdown",
      "metadata": {
        "id": "K3HhhhJB_MYQ"
      },
      "source": [
        "# Laboratorio 1 Inteligencia de negocios - Regresión Lineal#\n",
        "\n",
        "Grupo 17 - Miembros:\n",
        "\n",
        "\n",
        "*   Juan Esteban Diaz Castro - 202121646\n",
        "*   Jose Botello - 20\n",
        "*   Samuel Ramirez - 20\n",
        "\n"
      ]
    },
    {
      "cell_type": "code",
      "execution_count": 433,
      "metadata": {
        "colab": {
          "base_uri": "https://localhost:8080/"
        },
        "id": "lKE1nnHD_y0M",
        "outputId": "5e3cec14-0934-4ed5-c43f-bef39539ebb7"
      },
      "outputs": [
        {
          "name": "stdout",
          "output_type": "stream",
          "text": [
            "Defaulting to user installation because normal site-packages is not writeable\n",
            "Requirement already satisfied: numpy in c:\\users\\juane\\appdata\\local\\packages\\pythonsoftwarefoundation.python.3.12_qbz5n2kfra8p0\\localcache\\local-packages\\python312\\site-packages (2.2.3)\n",
            "Note: you may need to restart the kernel to use updated packages.\n"
          ]
        },
        {
          "name": "stderr",
          "output_type": "stream",
          "text": [
            "\n",
            "[notice] A new release of pip is available: 24.3.1 -> 25.0.1\n",
            "[notice] To update, run: C:\\Users\\juane\\AppData\\Local\\Microsoft\\WindowsApps\\PythonSoftwareFoundation.Python.3.12_qbz5n2kfra8p0\\python.exe -m pip install --upgrade pip\n"
          ]
        },
        {
          "name": "stdout",
          "output_type": "stream",
          "text": [
            "Defaulting to user installation because normal site-packages is not writeable\n",
            "Requirement already satisfied: pandas in c:\\users\\juane\\appdata\\local\\packages\\pythonsoftwarefoundation.python.3.12_qbz5n2kfra8p0\\localcache\\local-packages\\python312\\site-packages (2.2.3)\n",
            "Requirement already satisfied: numpy>=1.26.0 in c:\\users\\juane\\appdata\\local\\packages\\pythonsoftwarefoundation.python.3.12_qbz5n2kfra8p0\\localcache\\local-packages\\python312\\site-packages (from pandas) (2.2.3)\n",
            "Requirement already satisfied: python-dateutil>=2.8.2 in c:\\users\\juane\\appdata\\local\\packages\\pythonsoftwarefoundation.python.3.12_qbz5n2kfra8p0\\localcache\\local-packages\\python312\\site-packages (from pandas) (2.9.0.post0)\n",
            "Requirement already satisfied: pytz>=2020.1 in c:\\users\\juane\\appdata\\local\\packages\\pythonsoftwarefoundation.python.3.12_qbz5n2kfra8p0\\localcache\\local-packages\\python312\\site-packages (from pandas) (2025.1)\n",
            "Requirement already satisfied: tzdata>=2022.7 in c:\\users\\juane\\appdata\\local\\packages\\pythonsoftwarefoundation.python.3.12_qbz5n2kfra8p0\\localcache\\local-packages\\python312\\site-packages (from pandas) (2025.1)\n",
            "Requirement already satisfied: six>=1.5 in c:\\users\\juane\\appdata\\local\\packages\\pythonsoftwarefoundation.python.3.12_qbz5n2kfra8p0\\localcache\\local-packages\\python312\\site-packages (from python-dateutil>=2.8.2->pandas) (1.17.0)\n",
            "Note: you may need to restart the kernel to use updated packages.\n"
          ]
        },
        {
          "name": "stderr",
          "output_type": "stream",
          "text": [
            "\n",
            "[notice] A new release of pip is available: 24.3.1 -> 25.0.1\n",
            "[notice] To update, run: C:\\Users\\juane\\AppData\\Local\\Microsoft\\WindowsApps\\PythonSoftwareFoundation.Python.3.12_qbz5n2kfra8p0\\python.exe -m pip install --upgrade pip\n"
          ]
        },
        {
          "name": "stdout",
          "output_type": "stream",
          "text": [
            "Note: you may need to restart the kernel to use updated packages.Defaulting to user installation because normal site-packages is not writeable\n",
            "Requirement already satisfied: joblib in c:\\users\\juane\\appdata\\local\\packages\\pythonsoftwarefoundation.python.3.12_qbz5n2kfra8p0\\localcache\\local-packages\\python312\\site-packages (1.4.2)\n",
            "\n"
          ]
        },
        {
          "name": "stderr",
          "output_type": "stream",
          "text": [
            "\n",
            "[notice] A new release of pip is available: 24.3.1 -> 25.0.1\n",
            "[notice] To update, run: C:\\Users\\juane\\AppData\\Local\\Microsoft\\WindowsApps\\PythonSoftwareFoundation.Python.3.12_qbz5n2kfra8p0\\python.exe -m pip install --upgrade pip\n"
          ]
        },
        {
          "name": "stdout",
          "output_type": "stream",
          "text": [
            "Defaulting to user installation because normal site-packages is not writeable\n",
            "Requirement already satisfied: matplotlib in c:\\users\\juane\\appdata\\local\\packages\\pythonsoftwarefoundation.python.3.12_qbz5n2kfra8p0\\localcache\\local-packages\\python312\\site-packages (3.10.0)\n",
            "Requirement already satisfied: contourpy>=1.0.1 in c:\\users\\juane\\appdata\\local\\packages\\pythonsoftwarefoundation.python.3.12_qbz5n2kfra8p0\\localcache\\local-packages\\python312\\site-packages (from matplotlib) (1.3.1)\n",
            "Requirement already satisfied: cycler>=0.10 in c:\\users\\juane\\appdata\\local\\packages\\pythonsoftwarefoundation.python.3.12_qbz5n2kfra8p0\\localcache\\local-packages\\python312\\site-packages (from matplotlib) (0.12.1)\n",
            "Requirement already satisfied: fonttools>=4.22.0 in c:\\users\\juane\\appdata\\local\\packages\\pythonsoftwarefoundation.python.3.12_qbz5n2kfra8p0\\localcache\\local-packages\\python312\\site-packages (from matplotlib) (4.56.0)\n",
            "Requirement already satisfied: kiwisolver>=1.3.1 in c:\\users\\juane\\appdata\\local\\packages\\pythonsoftwarefoundation.python.3.12_qbz5n2kfra8p0\\localcache\\local-packages\\python312\\site-packages (from matplotlib) (1.4.8)\n",
            "Requirement already satisfied: numpy>=1.23 in c:\\users\\juane\\appdata\\local\\packages\\pythonsoftwarefoundation.python.3.12_qbz5n2kfra8p0\\localcache\\local-packages\\python312\\site-packages (from matplotlib) (2.2.3)\n",
            "Requirement already satisfied: packaging>=20.0 in c:\\users\\juane\\appdata\\local\\packages\\pythonsoftwarefoundation.python.3.12_qbz5n2kfra8p0\\localcache\\local-packages\\python312\\site-packages (from matplotlib) (24.2)\n",
            "Requirement already satisfied: pillow>=8 in c:\\users\\juane\\appdata\\local\\packages\\pythonsoftwarefoundation.python.3.12_qbz5n2kfra8p0\\localcache\\local-packages\\python312\\site-packages (from matplotlib) (11.1.0)\n",
            "Requirement already satisfied: pyparsing>=2.3.1 in c:\\users\\juane\\appdata\\local\\packages\\pythonsoftwarefoundation.python.3.12_qbz5n2kfra8p0\\localcache\\local-packages\\python312\\site-packages (from matplotlib) (3.2.1)\n",
            "Requirement already satisfied: python-dateutil>=2.7 in c:\\users\\juane\\appdata\\local\\packages\\pythonsoftwarefoundation.python.3.12_qbz5n2kfra8p0\\localcache\\local-packages\\python312\\site-packages (from matplotlib) (2.9.0.post0)\n",
            "Requirement already satisfied: six>=1.5 in c:\\users\\juane\\appdata\\local\\packages\\pythonsoftwarefoundation.python.3.12_qbz5n2kfra8p0\\localcache\\local-packages\\python312\\site-packages (from python-dateutil>=2.7->matplotlib) (1.17.0)\n",
            "Note: you may need to restart the kernel to use updated packages.\n"
          ]
        },
        {
          "name": "stderr",
          "output_type": "stream",
          "text": [
            "\n",
            "[notice] A new release of pip is available: 24.3.1 -> 25.0.1\n",
            "[notice] To update, run: C:\\Users\\juane\\AppData\\Local\\Microsoft\\WindowsApps\\PythonSoftwareFoundation.Python.3.12_qbz5n2kfra8p0\\python.exe -m pip install --upgrade pip\n"
          ]
        },
        {
          "name": "stdout",
          "output_type": "stream",
          "text": [
            "Defaulting to user installation because normal site-packages is not writeable\n",
            "Requirement already satisfied: seaborn in c:\\users\\juane\\appdata\\local\\packages\\pythonsoftwarefoundation.python.3.12_qbz5n2kfra8p0\\localcache\\local-packages\\python312\\site-packages (0.13.2)\n",
            "Requirement already satisfied: numpy!=1.24.0,>=1.20 in c:\\users\\juane\\appdata\\local\\packages\\pythonsoftwarefoundation.python.3.12_qbz5n2kfra8p0\\localcache\\local-packages\\python312\\site-packages (from seaborn) (2.2.3)\n",
            "Requirement already satisfied: pandas>=1.2 in c:\\users\\juane\\appdata\\local\\packages\\pythonsoftwarefoundation.python.3.12_qbz5n2kfra8p0\\localcache\\local-packages\\python312\\site-packages (from seaborn) (2.2.3)\n",
            "Requirement already satisfied: matplotlib!=3.6.1,>=3.4 in c:\\users\\juane\\appdata\\local\\packages\\pythonsoftwarefoundation.python.3.12_qbz5n2kfra8p0\\localcache\\local-packages\\python312\\site-packages (from seaborn) (3.10.0)\n",
            "Requirement already satisfied: contourpy>=1.0.1 in c:\\users\\juane\\appdata\\local\\packages\\pythonsoftwarefoundation.python.3.12_qbz5n2kfra8p0\\localcache\\local-packages\\python312\\site-packages (from matplotlib!=3.6.1,>=3.4->seaborn) (1.3.1)\n",
            "Requirement already satisfied: cycler>=0.10 in c:\\users\\juane\\appdata\\local\\packages\\pythonsoftwarefoundation.python.3.12_qbz5n2kfra8p0\\localcache\\local-packages\\python312\\site-packages (from matplotlib!=3.6.1,>=3.4->seaborn) (0.12.1)\n",
            "Requirement already satisfied: fonttools>=4.22.0 in c:\\users\\juane\\appdata\\local\\packages\\pythonsoftwarefoundation.python.3.12_qbz5n2kfra8p0\\localcache\\local-packages\\python312\\site-packages (from matplotlib!=3.6.1,>=3.4->seaborn) (4.56.0)\n",
            "Requirement already satisfied: kiwisolver>=1.3.1 in c:\\users\\juane\\appdata\\local\\packages\\pythonsoftwarefoundation.python.3.12_qbz5n2kfra8p0\\localcache\\local-packages\\python312\\site-packages (from matplotlib!=3.6.1,>=3.4->seaborn) (1.4.8)\n",
            "Requirement already satisfied: packaging>=20.0 in c:\\users\\juane\\appdata\\local\\packages\\pythonsoftwarefoundation.python.3.12_qbz5n2kfra8p0\\localcache\\local-packages\\python312\\site-packages (from matplotlib!=3.6.1,>=3.4->seaborn) (24.2)\n",
            "Requirement already satisfied: pillow>=8 in c:\\users\\juane\\appdata\\local\\packages\\pythonsoftwarefoundation.python.3.12_qbz5n2kfra8p0\\localcache\\local-packages\\python312\\site-packages (from matplotlib!=3.6.1,>=3.4->seaborn) (11.1.0)\n",
            "Requirement already satisfied: pyparsing>=2.3.1 in c:\\users\\juane\\appdata\\local\\packages\\pythonsoftwarefoundation.python.3.12_qbz5n2kfra8p0\\localcache\\local-packages\\python312\\site-packages (from matplotlib!=3.6.1,>=3.4->seaborn) (3.2.1)\n",
            "Requirement already satisfied: python-dateutil>=2.7 in c:\\users\\juane\\appdata\\local\\packages\\pythonsoftwarefoundation.python.3.12_qbz5n2kfra8p0\\localcache\\local-packages\\python312\\site-packages (from matplotlib!=3.6.1,>=3.4->seaborn) (2.9.0.post0)\n",
            "Requirement already satisfied: pytz>=2020.1 in c:\\users\\juane\\appdata\\local\\packages\\pythonsoftwarefoundation.python.3.12_qbz5n2kfra8p0\\localcache\\local-packages\\python312\\site-packages (from pandas>=1.2->seaborn) (2025.1)\n",
            "Requirement already satisfied: tzdata>=2022.7 in c:\\users\\juane\\appdata\\local\\packages\\pythonsoftwarefoundation.python.3.12_qbz5n2kfra8p0\\localcache\\local-packages\\python312\\site-packages (from pandas>=1.2->seaborn) (2025.1)\n",
            "Requirement already satisfied: six>=1.5 in c:\\users\\juane\\appdata\\local\\packages\\pythonsoftwarefoundation.python.3.12_qbz5n2kfra8p0\\localcache\\local-packages\\python312\\site-packages (from python-dateutil>=2.7->matplotlib!=3.6.1,>=3.4->seaborn) (1.17.0)\n",
            "Note: you may need to restart the kernel to use updated packages.\n"
          ]
        },
        {
          "name": "stderr",
          "output_type": "stream",
          "text": [
            "\n",
            "[notice] A new release of pip is available: 24.3.1 -> 25.0.1\n",
            "[notice] To update, run: C:\\Users\\juane\\AppData\\Local\\Microsoft\\WindowsApps\\PythonSoftwareFoundation.Python.3.12_qbz5n2kfra8p0\\python.exe -m pip install --upgrade pip\n"
          ]
        },
        {
          "name": "stdout",
          "output_type": "stream",
          "text": [
            "Defaulting to user installation because normal site-packages is not writeable\n",
            "Requirement already satisfied: scikit-learn in c:\\users\\juane\\appdata\\local\\packages\\pythonsoftwarefoundation.python.3.12_qbz5n2kfra8p0\\localcache\\local-packages\\python312\\site-packages (1.6.1)\n",
            "Requirement already satisfied: numpy>=1.19.5 in c:\\users\\juane\\appdata\\local\\packages\\pythonsoftwarefoundation.python.3.12_qbz5n2kfra8p0\\localcache\\local-packages\\python312\\site-packages (from scikit-learn) (2.2.3)\n",
            "Requirement already satisfied: scipy>=1.6.0 in c:\\users\\juane\\appdata\\local\\packages\\pythonsoftwarefoundation.python.3.12_qbz5n2kfra8p0\\localcache\\local-packages\\python312\\site-packages (from scikit-learn) (1.15.1)\n",
            "Requirement already satisfied: joblib>=1.2.0 in c:\\users\\juane\\appdata\\local\\packages\\pythonsoftwarefoundation.python.3.12_qbz5n2kfra8p0\\localcache\\local-packages\\python312\\site-packages (from scikit-learn) (1.4.2)\n",
            "Requirement already satisfied: threadpoolctl>=3.1.0 in c:\\users\\juane\\appdata\\local\\packages\\pythonsoftwarefoundation.python.3.12_qbz5n2kfra8p0\\localcache\\local-packages\\python312\\site-packages (from scikit-learn) (3.5.0)\n",
            "Note: you may need to restart the kernel to use updated packages.\n"
          ]
        },
        {
          "name": "stderr",
          "output_type": "stream",
          "text": [
            "\n",
            "[notice] A new release of pip is available: 24.3.1 -> 25.0.1\n",
            "[notice] To update, run: C:\\Users\\juane\\AppData\\Local\\Microsoft\\WindowsApps\\PythonSoftwareFoundation.Python.3.12_qbz5n2kfra8p0\\python.exe -m pip install --upgrade pip\n"
          ]
        },
        {
          "name": "stdout",
          "output_type": "stream",
          "text": [
            "Defaulting to user installation because normal site-packages is not writeable\n",
            "Requirement already satisfied: scipy in c:\\users\\juane\\appdata\\local\\packages\\pythonsoftwarefoundation.python.3.12_qbz5n2kfra8p0\\localcache\\local-packages\\python312\\site-packages (1.15.1)\n",
            "Requirement already satisfied: numpy<2.5,>=1.23.5 in c:\\users\\juane\\appdata\\local\\packages\\pythonsoftwarefoundation.python.3.12_qbz5n2kfra8p0\\localcache\\local-packages\\python312\\site-packages (from scipy) (2.2.3)\n",
            "Note: you may need to restart the kernel to use updated packages.\n"
          ]
        },
        {
          "name": "stderr",
          "output_type": "stream",
          "text": [
            "\n",
            "[notice] A new release of pip is available: 24.3.1 -> 25.0.1\n",
            "[notice] To update, run: C:\\Users\\juane\\AppData\\Local\\Microsoft\\WindowsApps\\PythonSoftwareFoundation.Python.3.12_qbz5n2kfra8p0\\python.exe -m pip install --upgrade pip\n"
          ]
        },
        {
          "name": "stdout",
          "output_type": "stream",
          "text": [
            "Defaulting to user installation because normal site-packages is not writeable\n",
            "Requirement already satisfied: jupyter in c:\\users\\juane\\appdata\\local\\packages\\pythonsoftwarefoundation.python.3.12_qbz5n2kfra8p0\\localcache\\local-packages\\python312\\site-packages (1.1.1)\n",
            "Requirement already satisfied: notebook in c:\\users\\juane\\appdata\\local\\packages\\pythonsoftwarefoundation.python.3.12_qbz5n2kfra8p0\\localcache\\local-packages\\python312\\site-packages (from jupyter) (7.3.2)\n",
            "Requirement already satisfied: jupyter-console in c:\\users\\juane\\appdata\\local\\packages\\pythonsoftwarefoundation.python.3.12_qbz5n2kfra8p0\\localcache\\local-packages\\python312\\site-packages (from jupyter) (6.6.3)\n",
            "Requirement already satisfied: nbconvert in c:\\users\\juane\\appdata\\local\\packages\\pythonsoftwarefoundation.python.3.12_qbz5n2kfra8p0\\localcache\\local-packages\\python312\\site-packages (from jupyter) (7.16.6)\n",
            "Requirement already satisfied: ipykernel in c:\\users\\juane\\appdata\\local\\packages\\pythonsoftwarefoundation.python.3.12_qbz5n2kfra8p0\\localcache\\local-packages\\python312\\site-packages (from jupyter) (6.29.5)\n",
            "Requirement already satisfied: ipywidgets in c:\\users\\juane\\appdata\\local\\packages\\pythonsoftwarefoundation.python.3.12_qbz5n2kfra8p0\\localcache\\local-packages\\python312\\site-packages (from jupyter) (8.1.5)\n",
            "Requirement already satisfied: jupyterlab in c:\\users\\juane\\appdata\\local\\packages\\pythonsoftwarefoundation.python.3.12_qbz5n2kfra8p0\\localcache\\local-packages\\python312\\site-packages (from jupyter) (4.3.5)\n",
            "Requirement already satisfied: comm>=0.1.1 in c:\\users\\juane\\appdata\\local\\packages\\pythonsoftwarefoundation.python.3.12_qbz5n2kfra8p0\\localcache\\local-packages\\python312\\site-packages (from ipykernel->jupyter) (0.2.2)\n",
            "Requirement already satisfied: debugpy>=1.6.5 in c:\\users\\juane\\appdata\\local\\packages\\pythonsoftwarefoundation.python.3.12_qbz5n2kfra8p0\\localcache\\local-packages\\python312\\site-packages (from ipykernel->jupyter) (1.8.12)\n",
            "Requirement already satisfied: ipython>=7.23.1 in c:\\users\\juane\\appdata\\local\\packages\\pythonsoftwarefoundation.python.3.12_qbz5n2kfra8p0\\localcache\\local-packages\\python312\\site-packages (from ipykernel->jupyter) (8.32.0)\n",
            "Requirement already satisfied: jupyter-client>=6.1.12 in c:\\users\\juane\\appdata\\local\\packages\\pythonsoftwarefoundation.python.3.12_qbz5n2kfra8p0\\localcache\\local-packages\\python312\\site-packages (from ipykernel->jupyter) (8.6.3)\n",
            "Requirement already satisfied: jupyter-core!=5.0.*,>=4.12 in c:\\users\\juane\\appdata\\local\\packages\\pythonsoftwarefoundation.python.3.12_qbz5n2kfra8p0\\localcache\\local-packages\\python312\\site-packages (from ipykernel->jupyter) (5.7.2)\n",
            "Requirement already satisfied: matplotlib-inline>=0.1 in c:\\users\\juane\\appdata\\local\\packages\\pythonsoftwarefoundation.python.3.12_qbz5n2kfra8p0\\localcache\\local-packages\\python312\\site-packages (from ipykernel->jupyter) (0.1.7)\n",
            "Requirement already satisfied: nest-asyncio in c:\\users\\juane\\appdata\\local\\packages\\pythonsoftwarefoundation.python.3.12_qbz5n2kfra8p0\\localcache\\local-packages\\python312\\site-packages (from ipykernel->jupyter) (1.6.0)\n",
            "Requirement already satisfied: packaging in c:\\users\\juane\\appdata\\local\\packages\\pythonsoftwarefoundation.python.3.12_qbz5n2kfra8p0\\localcache\\local-packages\\python312\\site-packages (from ipykernel->jupyter) (24.2)\n",
            "Requirement already satisfied: psutil in c:\\users\\juane\\appdata\\local\\packages\\pythonsoftwarefoundation.python.3.12_qbz5n2kfra8p0\\localcache\\local-packages\\python312\\site-packages (from ipykernel->jupyter) (6.1.1)\n",
            "Requirement already satisfied: pyzmq>=24 in c:\\users\\juane\\appdata\\local\\packages\\pythonsoftwarefoundation.python.3.12_qbz5n2kfra8p0\\localcache\\local-packages\\python312\\site-packages (from ipykernel->jupyter) (26.2.1)\n",
            "Requirement already satisfied: tornado>=6.1 in c:\\users\\juane\\appdata\\local\\packages\\pythonsoftwarefoundation.python.3.12_qbz5n2kfra8p0\\localcache\\local-packages\\python312\\site-packages (from ipykernel->jupyter) (6.4.2)\n",
            "Requirement already satisfied: traitlets>=5.4.0 in c:\\users\\juane\\appdata\\local\\packages\\pythonsoftwarefoundation.python.3.12_qbz5n2kfra8p0\\localcache\\local-packages\\python312\\site-packages (from ipykernel->jupyter) (5.14.3)\n",
            "Requirement already satisfied: widgetsnbextension~=4.0.12 in c:\\users\\juane\\appdata\\local\\packages\\pythonsoftwarefoundation.python.3.12_qbz5n2kfra8p0\\localcache\\local-packages\\python312\\site-packages (from ipywidgets->jupyter) (4.0.13)\n",
            "Requirement already satisfied: jupyterlab-widgets~=3.0.12 in c:\\users\\juane\\appdata\\local\\packages\\pythonsoftwarefoundation.python.3.12_qbz5n2kfra8p0\\localcache\\local-packages\\python312\\site-packages (from ipywidgets->jupyter) (3.0.13)\n",
            "Requirement already satisfied: prompt-toolkit>=3.0.30 in c:\\users\\juane\\appdata\\local\\packages\\pythonsoftwarefoundation.python.3.12_qbz5n2kfra8p0\\localcache\\local-packages\\python312\\site-packages (from jupyter-console->jupyter) (3.0.50)\n",
            "Requirement already satisfied: pygments in c:\\users\\juane\\appdata\\local\\packages\\pythonsoftwarefoundation.python.3.12_qbz5n2kfra8p0\\localcache\\local-packages\\python312\\site-packages (from jupyter-console->jupyter) (2.19.1)\n",
            "Requirement already satisfied: async-lru>=1.0.0 in c:\\users\\juane\\appdata\\local\\packages\\pythonsoftwarefoundation.python.3.12_qbz5n2kfra8p0\\localcache\\local-packages\\python312\\site-packages (from jupyterlab->jupyter) (2.0.4)\n",
            "Requirement already satisfied: httpx>=0.25.0 in c:\\users\\juane\\appdata\\local\\packages\\pythonsoftwarefoundation.python.3.12_qbz5n2kfra8p0\\localcache\\local-packages\\python312\\site-packages (from jupyterlab->jupyter) (0.28.1)\n",
            "Requirement already satisfied: jinja2>=3.0.3 in c:\\users\\juane\\appdata\\local\\packages\\pythonsoftwarefoundation.python.3.12_qbz5n2kfra8p0\\localcache\\local-packages\\python312\\site-packages (from jupyterlab->jupyter) (3.1.5)\n",
            "Requirement already satisfied: jupyter-lsp>=2.0.0 in c:\\users\\juane\\appdata\\local\\packages\\pythonsoftwarefoundation.python.3.12_qbz5n2kfra8p0\\localcache\\local-packages\\python312\\site-packages (from jupyterlab->jupyter) (2.2.5)\n",
            "Requirement already satisfied: jupyter-server<3,>=2.4.0 in c:\\users\\juane\\appdata\\local\\packages\\pythonsoftwarefoundation.python.3.12_qbz5n2kfra8p0\\localcache\\local-packages\\python312\\site-packages (from jupyterlab->jupyter) (2.15.0)\n",
            "Requirement already satisfied: jupyterlab-server<3,>=2.27.1 in c:\\users\\juane\\appdata\\local\\packages\\pythonsoftwarefoundation.python.3.12_qbz5n2kfra8p0\\localcache\\local-packages\\python312\\site-packages (from jupyterlab->jupyter) (2.27.3)\n",
            "Requirement already satisfied: notebook-shim>=0.2 in c:\\users\\juane\\appdata\\local\\packages\\pythonsoftwarefoundation.python.3.12_qbz5n2kfra8p0\\localcache\\local-packages\\python312\\site-packages (from jupyterlab->jupyter) (0.2.4)\n",
            "Requirement already satisfied: setuptools>=40.8.0 in c:\\users\\juane\\appdata\\local\\packages\\pythonsoftwarefoundation.python.3.12_qbz5n2kfra8p0\\localcache\\local-packages\\python312\\site-packages (from jupyterlab->jupyter) (75.8.0)\n",
            "Requirement already satisfied: beautifulsoup4 in c:\\users\\juane\\appdata\\local\\packages\\pythonsoftwarefoundation.python.3.12_qbz5n2kfra8p0\\localcache\\local-packages\\python312\\site-packages (from nbconvert->jupyter) (4.13.3)\n",
            "Requirement already satisfied: bleach!=5.0.0 in c:\\users\\juane\\appdata\\local\\packages\\pythonsoftwarefoundation.python.3.12_qbz5n2kfra8p0\\localcache\\local-packages\\python312\\site-packages (from bleach[css]!=5.0.0->nbconvert->jupyter) (6.2.0)\n",
            "Requirement already satisfied: defusedxml in c:\\users\\juane\\appdata\\local\\packages\\pythonsoftwarefoundation.python.3.12_qbz5n2kfra8p0\\localcache\\local-packages\\python312\\site-packages (from nbconvert->jupyter) (0.7.1)\n",
            "Requirement already satisfied: jupyterlab-pygments in c:\\users\\juane\\appdata\\local\\packages\\pythonsoftwarefoundation.python.3.12_qbz5n2kfra8p0\\localcache\\local-packages\\python312\\site-packages (from nbconvert->jupyter) (0.3.0)\n",
            "Requirement already satisfied: markupsafe>=2.0 in c:\\users\\juane\\appdata\\local\\packages\\pythonsoftwarefoundation.python.3.12_qbz5n2kfra8p0\\localcache\\local-packages\\python312\\site-packages (from nbconvert->jupyter) (3.0.2)\n",
            "Requirement already satisfied: mistune<4,>=2.0.3 in c:\\users\\juane\\appdata\\local\\packages\\pythonsoftwarefoundation.python.3.12_qbz5n2kfra8p0\\localcache\\local-packages\\python312\\site-packages (from nbconvert->jupyter) (3.1.1)\n",
            "Requirement already satisfied: nbclient>=0.5.0 in c:\\users\\juane\\appdata\\local\\packages\\pythonsoftwarefoundation.python.3.12_qbz5n2kfra8p0\\localcache\\local-packages\\python312\\site-packages (from nbconvert->jupyter) (0.10.2)\n",
            "Requirement already satisfied: nbformat>=5.7 in c:\\users\\juane\\appdata\\local\\packages\\pythonsoftwarefoundation.python.3.12_qbz5n2kfra8p0\\localcache\\local-packages\\python312\\site-packages (from nbconvert->jupyter) (5.10.4)\n",
            "Requirement already satisfied: pandocfilters>=1.4.1 in c:\\users\\juane\\appdata\\local\\packages\\pythonsoftwarefoundation.python.3.12_qbz5n2kfra8p0\\localcache\\local-packages\\python312\\site-packages (from nbconvert->jupyter) (1.5.1)\n",
            "Requirement already satisfied: webencodings in c:\\users\\juane\\appdata\\local\\packages\\pythonsoftwarefoundation.python.3.12_qbz5n2kfra8p0\\localcache\\local-packages\\python312\\site-packages (from bleach!=5.0.0->bleach[css]!=5.0.0->nbconvert->jupyter) (0.5.1)\n",
            "Requirement already satisfied: tinycss2<1.5,>=1.1.0 in c:\\users\\juane\\appdata\\local\\packages\\pythonsoftwarefoundation.python.3.12_qbz5n2kfra8p0\\localcache\\local-packages\\python312\\site-packages (from bleach[css]!=5.0.0->nbconvert->jupyter) (1.4.0)\n",
            "Requirement already satisfied: anyio in c:\\users\\juane\\appdata\\local\\packages\\pythonsoftwarefoundation.python.3.12_qbz5n2kfra8p0\\localcache\\local-packages\\python312\\site-packages (from httpx>=0.25.0->jupyterlab->jupyter) (4.8.0)\n",
            "Requirement already satisfied: certifi in c:\\users\\juane\\appdata\\local\\packages\\pythonsoftwarefoundation.python.3.12_qbz5n2kfra8p0\\localcache\\local-packages\\python312\\site-packages (from httpx>=0.25.0->jupyterlab->jupyter) (2025.1.31)\n",
            "Requirement already satisfied: httpcore==1.* in c:\\users\\juane\\appdata\\local\\packages\\pythonsoftwarefoundation.python.3.12_qbz5n2kfra8p0\\localcache\\local-packages\\python312\\site-packages (from httpx>=0.25.0->jupyterlab->jupyter) (1.0.7)\n",
            "Requirement already satisfied: idna in c:\\users\\juane\\appdata\\local\\packages\\pythonsoftwarefoundation.python.3.12_qbz5n2kfra8p0\\localcache\\local-packages\\python312\\site-packages (from httpx>=0.25.0->jupyterlab->jupyter) (3.10)\n",
            "Requirement already satisfied: h11<0.15,>=0.13 in c:\\users\\juane\\appdata\\local\\packages\\pythonsoftwarefoundation.python.3.12_qbz5n2kfra8p0\\localcache\\local-packages\\python312\\site-packages (from httpcore==1.*->httpx>=0.25.0->jupyterlab->jupyter) (0.14.0)\n",
            "Requirement already satisfied: colorama in c:\\users\\juane\\appdata\\local\\packages\\pythonsoftwarefoundation.python.3.12_qbz5n2kfra8p0\\localcache\\local-packages\\python312\\site-packages (from ipython>=7.23.1->ipykernel->jupyter) (0.4.6)\n",
            "Requirement already satisfied: decorator in c:\\users\\juane\\appdata\\local\\packages\\pythonsoftwarefoundation.python.3.12_qbz5n2kfra8p0\\localcache\\local-packages\\python312\\site-packages (from ipython>=7.23.1->ipykernel->jupyter) (5.1.1)\n",
            "Requirement already satisfied: jedi>=0.16 in c:\\users\\juane\\appdata\\local\\packages\\pythonsoftwarefoundation.python.3.12_qbz5n2kfra8p0\\localcache\\local-packages\\python312\\site-packages (from ipython>=7.23.1->ipykernel->jupyter) (0.19.2)\n",
            "Requirement already satisfied: stack_data in c:\\users\\juane\\appdata\\local\\packages\\pythonsoftwarefoundation.python.3.12_qbz5n2kfra8p0\\localcache\\local-packages\\python312\\site-packages (from ipython>=7.23.1->ipykernel->jupyter) (0.6.3)\n",
            "Requirement already satisfied: python-dateutil>=2.8.2 in c:\\users\\juane\\appdata\\local\\packages\\pythonsoftwarefoundation.python.3.12_qbz5n2kfra8p0\\localcache\\local-packages\\python312\\site-packages (from jupyter-client>=6.1.12->ipykernel->jupyter) (2.9.0.post0)\n",
            "Requirement already satisfied: platformdirs>=2.5 in c:\\users\\juane\\appdata\\local\\packages\\pythonsoftwarefoundation.python.3.12_qbz5n2kfra8p0\\localcache\\local-packages\\python312\\site-packages (from jupyter-core!=5.0.*,>=4.12->ipykernel->jupyter) (4.3.6)\n",
            "Requirement already satisfied: pywin32>=300 in c:\\users\\juane\\appdata\\local\\packages\\pythonsoftwarefoundation.python.3.12_qbz5n2kfra8p0\\localcache\\local-packages\\python312\\site-packages (from jupyter-core!=5.0.*,>=4.12->ipykernel->jupyter) (308)\n",
            "Requirement already satisfied: argon2-cffi>=21.1 in c:\\users\\juane\\appdata\\local\\packages\\pythonsoftwarefoundation.python.3.12_qbz5n2kfra8p0\\localcache\\local-packages\\python312\\site-packages (from jupyter-server<3,>=2.4.0->jupyterlab->jupyter) (23.1.0)\n",
            "Requirement already satisfied: jupyter-events>=0.11.0 in c:\\users\\juane\\appdata\\local\\packages\\pythonsoftwarefoundation.python.3.12_qbz5n2kfra8p0\\localcache\\local-packages\\python312\\site-packages (from jupyter-server<3,>=2.4.0->jupyterlab->jupyter) (0.12.0)\n",
            "Requirement already satisfied: jupyter-server-terminals>=0.4.4 in c:\\users\\juane\\appdata\\local\\packages\\pythonsoftwarefoundation.python.3.12_qbz5n2kfra8p0\\localcache\\local-packages\\python312\\site-packages (from jupyter-server<3,>=2.4.0->jupyterlab->jupyter) (0.5.3)\n",
            "Requirement already satisfied: overrides>=5.0 in c:\\users\\juane\\appdata\\local\\packages\\pythonsoftwarefoundation.python.3.12_qbz5n2kfra8p0\\localcache\\local-packages\\python312\\site-packages (from jupyter-server<3,>=2.4.0->jupyterlab->jupyter) (7.7.0)\n",
            "Requirement already satisfied: prometheus-client>=0.9 in c:\\users\\juane\\appdata\\local\\packages\\pythonsoftwarefoundation.python.3.12_qbz5n2kfra8p0\\localcache\\local-packages\\python312\\site-packages (from jupyter-server<3,>=2.4.0->jupyterlab->jupyter) (0.21.1)\n",
            "Requirement already satisfied: pywinpty>=2.0.1 in c:\\users\\juane\\appdata\\local\\packages\\pythonsoftwarefoundation.python.3.12_qbz5n2kfra8p0\\localcache\\local-packages\\python312\\site-packages (from jupyter-server<3,>=2.4.0->jupyterlab->jupyter) (2.0.15)\n",
            "Requirement already satisfied: send2trash>=1.8.2 in c:\\users\\juane\\appdata\\local\\packages\\pythonsoftwarefoundation.python.3.12_qbz5n2kfra8p0\\localcache\\local-packages\\python312\\site-packages (from jupyter-server<3,>=2.4.0->jupyterlab->jupyter) (1.8.3)\n",
            "Requirement already satisfied: terminado>=0.8.3 in c:\\users\\juane\\appdata\\local\\packages\\pythonsoftwarefoundation.python.3.12_qbz5n2kfra8p0\\localcache\\local-packages\\python312\\site-packages (from jupyter-server<3,>=2.4.0->jupyterlab->jupyter) (0.18.1)\n",
            "Requirement already satisfied: websocket-client>=1.7 in c:\\users\\juane\\appdata\\local\\packages\\pythonsoftwarefoundation.python.3.12_qbz5n2kfra8p0\\localcache\\local-packages\\python312\\site-packages (from jupyter-server<3,>=2.4.0->jupyterlab->jupyter) (1.8.0)\n",
            "Requirement already satisfied: babel>=2.10 in c:\\users\\juane\\appdata\\local\\packages\\pythonsoftwarefoundation.python.3.12_qbz5n2kfra8p0\\localcache\\local-packages\\python312\\site-packages (from jupyterlab-server<3,>=2.27.1->jupyterlab->jupyter) (2.17.0)\n",
            "Requirement already satisfied: json5>=0.9.0 in c:\\users\\juane\\appdata\\local\\packages\\pythonsoftwarefoundation.python.3.12_qbz5n2kfra8p0\\localcache\\local-packages\\python312\\site-packages (from jupyterlab-server<3,>=2.27.1->jupyterlab->jupyter) (0.10.0)\n",
            "Requirement already satisfied: jsonschema>=4.18.0 in c:\\users\\juane\\appdata\\local\\packages\\pythonsoftwarefoundation.python.3.12_qbz5n2kfra8p0\\localcache\\local-packages\\python312\\site-packages (from jupyterlab-server<3,>=2.27.1->jupyterlab->jupyter) (4.23.0)\n",
            "Requirement already satisfied: requests>=2.31 in c:\\users\\juane\\appdata\\local\\packages\\pythonsoftwarefoundation.python.3.12_qbz5n2kfra8p0\\localcache\\local-packages\\python312\\site-packages (from jupyterlab-server<3,>=2.27.1->jupyterlab->jupyter) (2.32.3)\n",
            "Requirement already satisfied: fastjsonschema>=2.15 in c:\\users\\juane\\appdata\\local\\packages\\pythonsoftwarefoundation.python.3.12_qbz5n2kfra8p0\\localcache\\local-packages\\python312\\site-packages (from nbformat>=5.7->nbconvert->jupyter) (2.21.1)\n",
            "Requirement already satisfied: wcwidth in c:\\users\\juane\\appdata\\local\\packages\\pythonsoftwarefoundation.python.3.12_qbz5n2kfra8p0\\localcache\\local-packages\\python312\\site-packages (from prompt-toolkit>=3.0.30->jupyter-console->jupyter) (0.2.13)\n",
            "Requirement already satisfied: soupsieve>1.2 in c:\\users\\juane\\appdata\\local\\packages\\pythonsoftwarefoundation.python.3.12_qbz5n2kfra8p0\\localcache\\local-packages\\python312\\site-packages (from beautifulsoup4->nbconvert->jupyter) (2.6)\n",
            "Requirement already satisfied: typing-extensions>=4.0.0 in c:\\users\\juane\\appdata\\local\\packages\\pythonsoftwarefoundation.python.3.12_qbz5n2kfra8p0\\localcache\\local-packages\\python312\\site-packages (from beautifulsoup4->nbconvert->jupyter) (4.12.2)\n",
            "Requirement already satisfied: sniffio>=1.1 in c:\\users\\juane\\appdata\\local\\packages\\pythonsoftwarefoundation.python.3.12_qbz5n2kfra8p0\\localcache\\local-packages\\python312\\site-packages (from anyio->httpx>=0.25.0->jupyterlab->jupyter) (1.3.1)\n",
            "Requirement already satisfied: argon2-cffi-bindings in c:\\users\\juane\\appdata\\local\\packages\\pythonsoftwarefoundation.python.3.12_qbz5n2kfra8p0\\localcache\\local-packages\\python312\\site-packages (from argon2-cffi>=21.1->jupyter-server<3,>=2.4.0->jupyterlab->jupyter) (21.2.0)\n",
            "Requirement already satisfied: parso<0.9.0,>=0.8.4 in c:\\users\\juane\\appdata\\local\\packages\\pythonsoftwarefoundation.python.3.12_qbz5n2kfra8p0\\localcache\\local-packages\\python312\\site-packages (from jedi>=0.16->ipython>=7.23.1->ipykernel->jupyter) (0.8.4)\n",
            "Requirement already satisfied: attrs>=22.2.0 in c:\\users\\juane\\appdata\\local\\packages\\pythonsoftwarefoundation.python.3.12_qbz5n2kfra8p0\\localcache\\local-packages\\python312\\site-packages (from jsonschema>=4.18.0->jupyterlab-server<3,>=2.27.1->jupyterlab->jupyter) (25.1.0)\n",
            "Requirement already satisfied: jsonschema-specifications>=2023.03.6 in c:\\users\\juane\\appdata\\local\\packages\\pythonsoftwarefoundation.python.3.12_qbz5n2kfra8p0\\localcache\\local-packages\\python312\\site-packages (from jsonschema>=4.18.0->jupyterlab-server<3,>=2.27.1->jupyterlab->jupyter) (2024.10.1)\n",
            "Requirement already satisfied: referencing>=0.28.4 in c:\\users\\juane\\appdata\\local\\packages\\pythonsoftwarefoundation.python.3.12_qbz5n2kfra8p0\\localcache\\local-packages\\python312\\site-packages (from jsonschema>=4.18.0->jupyterlab-server<3,>=2.27.1->jupyterlab->jupyter) (0.36.2)\n",
            "Requirement already satisfied: rpds-py>=0.7.1 in c:\\users\\juane\\appdata\\local\\packages\\pythonsoftwarefoundation.python.3.12_qbz5n2kfra8p0\\localcache\\local-packages\\python312\\site-packages (from jsonschema>=4.18.0->jupyterlab-server<3,>=2.27.1->jupyterlab->jupyter) (0.22.3)\n",
            "Requirement already satisfied: python-json-logger>=2.0.4 in c:\\users\\juane\\appdata\\local\\packages\\pythonsoftwarefoundation.python.3.12_qbz5n2kfra8p0\\localcache\\local-packages\\python312\\site-packages (from jupyter-events>=0.11.0->jupyter-server<3,>=2.4.0->jupyterlab->jupyter) (3.2.1)\n",
            "Requirement already satisfied: pyyaml>=5.3 in c:\\users\\juane\\appdata\\local\\packages\\pythonsoftwarefoundation.python.3.12_qbz5n2kfra8p0\\localcache\\local-packages\\python312\\site-packages (from jupyter-events>=0.11.0->jupyter-server<3,>=2.4.0->jupyterlab->jupyter) (6.0.2)\n",
            "Requirement already satisfied: rfc3339-validator in c:\\users\\juane\\appdata\\local\\packages\\pythonsoftwarefoundation.python.3.12_qbz5n2kfra8p0\\localcache\\local-packages\\python312\\site-packages (from jupyter-events>=0.11.0->jupyter-server<3,>=2.4.0->jupyterlab->jupyter) (0.1.4)\n",
            "Requirement already satisfied: rfc3986-validator>=0.1.1 in c:\\users\\juane\\appdata\\local\\packages\\pythonsoftwarefoundation.python.3.12_qbz5n2kfra8p0\\localcache\\local-packages\\python312\\site-packages (from jupyter-events>=0.11.0->jupyter-server<3,>=2.4.0->jupyterlab->jupyter) (0.1.1)\n",
            "Requirement already satisfied: six>=1.5 in c:\\users\\juane\\appdata\\local\\packages\\pythonsoftwarefoundation.python.3.12_qbz5n2kfra8p0\\localcache\\local-packages\\python312\\site-packages (from python-dateutil>=2.8.2->jupyter-client>=6.1.12->ipykernel->jupyter) (1.17.0)\n",
            "Requirement already satisfied: charset-normalizer<4,>=2 in c:\\users\\juane\\appdata\\local\\packages\\pythonsoftwarefoundation.python.3.12_qbz5n2kfra8p0\\localcache\\local-packages\\python312\\site-packages (from requests>=2.31->jupyterlab-server<3,>=2.27.1->jupyterlab->jupyter) (3.4.1)\n",
            "Requirement already satisfied: urllib3<3,>=1.21.1 in c:\\users\\juane\\appdata\\local\\packages\\pythonsoftwarefoundation.python.3.12_qbz5n2kfra8p0\\localcache\\local-packages\\python312\\site-packages (from requests>=2.31->jupyterlab-server<3,>=2.27.1->jupyterlab->jupyter) (2.3.0)\n",
            "Requirement already satisfied: executing>=1.2.0 in c:\\users\\juane\\appdata\\local\\packages\\pythonsoftwarefoundation.python.3.12_qbz5n2kfra8p0\\localcache\\local-packages\\python312\\site-packages (from stack_data->ipython>=7.23.1->ipykernel->jupyter) (2.2.0)\n",
            "Requirement already satisfied: asttokens>=2.1.0 in c:\\users\\juane\\appdata\\local\\packages\\pythonsoftwarefoundation.python.3.12_qbz5n2kfra8p0\\localcache\\local-packages\\python312\\site-packages (from stack_data->ipython>=7.23.1->ipykernel->jupyter) (3.0.0)\n",
            "Requirement already satisfied: pure-eval in c:\\users\\juane\\appdata\\local\\packages\\pythonsoftwarefoundation.python.3.12_qbz5n2kfra8p0\\localcache\\local-packages\\python312\\site-packages (from stack_data->ipython>=7.23.1->ipykernel->jupyter) (0.2.3)\n",
            "Requirement already satisfied: fqdn in c:\\users\\juane\\appdata\\local\\packages\\pythonsoftwarefoundation.python.3.12_qbz5n2kfra8p0\\localcache\\local-packages\\python312\\site-packages (from jsonschema[format-nongpl]>=4.18.0->jupyter-events>=0.11.0->jupyter-server<3,>=2.4.0->jupyterlab->jupyter) (1.5.1)\n",
            "Requirement already satisfied: isoduration in c:\\users\\juane\\appdata\\local\\packages\\pythonsoftwarefoundation.python.3.12_qbz5n2kfra8p0\\localcache\\local-packages\\python312\\site-packages (from jsonschema[format-nongpl]>=4.18.0->jupyter-events>=0.11.0->jupyter-server<3,>=2.4.0->jupyterlab->jupyter) (20.11.0)\n",
            "Requirement already satisfied: jsonpointer>1.13 in c:\\users\\juane\\appdata\\local\\packages\\pythonsoftwarefoundation.python.3.12_qbz5n2kfra8p0\\localcache\\local-packages\\python312\\site-packages (from jsonschema[format-nongpl]>=4.18.0->jupyter-events>=0.11.0->jupyter-server<3,>=2.4.0->jupyterlab->jupyter) (3.0.0)\n",
            "Requirement already satisfied: uri-template in c:\\users\\juane\\appdata\\local\\packages\\pythonsoftwarefoundation.python.3.12_qbz5n2kfra8p0\\localcache\\local-packages\\python312\\site-packages (from jsonschema[format-nongpl]>=4.18.0->jupyter-events>=0.11.0->jupyter-server<3,>=2.4.0->jupyterlab->jupyter) (1.3.0)\n",
            "Requirement already satisfied: webcolors>=24.6.0 in c:\\users\\juane\\appdata\\local\\packages\\pythonsoftwarefoundation.python.3.12_qbz5n2kfra8p0\\localcache\\local-packages\\python312\\site-packages (from jsonschema[format-nongpl]>=4.18.0->jupyter-events>=0.11.0->jupyter-server<3,>=2.4.0->jupyterlab->jupyter) (24.11.1)\n",
            "Requirement already satisfied: cffi>=1.0.1 in c:\\users\\juane\\appdata\\local\\packages\\pythonsoftwarefoundation.python.3.12_qbz5n2kfra8p0\\localcache\\local-packages\\python312\\site-packages (from argon2-cffi-bindings->argon2-cffi>=21.1->jupyter-server<3,>=2.4.0->jupyterlab->jupyter) (1.17.1)\n",
            "Requirement already satisfied: pycparser in c:\\users\\juane\\appdata\\local\\packages\\pythonsoftwarefoundation.python.3.12_qbz5n2kfra8p0\\localcache\\local-packages\\python312\\site-packages (from cffi>=1.0.1->argon2-cffi-bindings->argon2-cffi>=21.1->jupyter-server<3,>=2.4.0->jupyterlab->jupyter) (2.22)\n",
            "Requirement already satisfied: arrow>=0.15.0 in c:\\users\\juane\\appdata\\local\\packages\\pythonsoftwarefoundation.python.3.12_qbz5n2kfra8p0\\localcache\\local-packages\\python312\\site-packages (from isoduration->jsonschema[format-nongpl]>=4.18.0->jupyter-events>=0.11.0->jupyter-server<3,>=2.4.0->jupyterlab->jupyter) (1.3.0)\n",
            "Requirement already satisfied: types-python-dateutil>=2.8.10 in c:\\users\\juane\\appdata\\local\\packages\\pythonsoftwarefoundation.python.3.12_qbz5n2kfra8p0\\localcache\\local-packages\\python312\\site-packages (from arrow>=0.15.0->isoduration->jsonschema[format-nongpl]>=4.18.0->jupyter-events>=0.11.0->jupyter-server<3,>=2.4.0->jupyterlab->jupyter) (2.9.0.20241206)\n",
            "Note: you may need to restart the kernel to use updated packages.\n"
          ]
        },
        {
          "name": "stderr",
          "output_type": "stream",
          "text": [
            "\n",
            "[notice] A new release of pip is available: 24.3.1 -> 25.0.1\n",
            "[notice] To update, run: C:\\Users\\juane\\AppData\\Local\\Microsoft\\WindowsApps\\PythonSoftwareFoundation.Python.3.12_qbz5n2kfra8p0\\python.exe -m pip install --upgrade pip\n"
          ]
        }
      ],
      "source": [
        "%pip install numpy\n",
        "%pip install pandas\n",
        "%pip install joblib\n",
        "%pip install matplotlib\n",
        "%pip install seaborn\n",
        "%pip install scikit-learn\n",
        "%pip install scipy\n",
        "%pip install jupyter"
      ]
    },
    {
      "cell_type": "code",
      "execution_count": 434,
      "metadata": {
        "id": "zmqbYd5F-5L7"
      },
      "outputs": [],
      "source": [
        "import numpy as np\n",
        "import pandas as pd\n",
        "\n",
        "from joblib import dump, load\n",
        "\n",
        "import matplotlib.pyplot as plt\n",
        "import seaborn as sns\n",
        "\n",
        "from sklearn.model_selection import train_test_split\n",
        "from sklearn.linear_model import LinearRegression\n",
        "from sklearn.pipeline import Pipeline\n",
        "from sklearn.compose import ColumnTransformer\n",
        "from sklearn.preprocessing import StandardScaler\n",
        "from sklearn.preprocessing import PolynomialFeatures\n",
        "from sklearn.preprocessing import OneHotEncoder\n",
        "from sklearn.metrics import mean_absolute_error, mean_squared_error, r2_score\n",
        "\n",
        "import scipy.stats as stats"
      ]
    },
    {
      "cell_type": "markdown",
      "metadata": {
        "id": "jzQBPpS_Ad4w"
      },
      "source": [
        "# 1. Carga de los Datos"
      ]
    },
    {
      "cell_type": "code",
      "execution_count": 435,
      "metadata": {
        "colab": {
          "base_uri": "https://localhost:8080/"
        },
        "id": "evajJBS-AcUt",
        "outputId": "68c1f687-ed23-42e6-f6a0-ebdd77aca48f"
      },
      "outputs": [
        {
          "data": {
            "text/plain": [
              "(4000, 18)"
            ]
          },
          "execution_count": 435,
          "metadata": {},
          "output_type": "execute_result"
        }
      ],
      "source": [
        "data = \"./data/202510_Laboratorio 1 - Regresión_train_data.csv\"\n",
        "\n",
        "star = pd.read_csv(data, sep=\",\", encoding=\"ISO-8859-1\")\n",
        "\n",
        "star_alpes = star.copy()\n",
        "\n",
        "star_alpes.shape\n"
      ]
    },
    {
      "cell_type": "code",
      "execution_count": 436,
      "metadata": {
        "colab": {
          "base_uri": "https://localhost:8080/",
          "height": 226
        },
        "id": "HE7rXx0FzetY",
        "outputId": "36db64c1-c07a-482a-a5c4-371a28cdc9da"
      },
      "outputs": [
        {
          "data": {
            "text/html": [
              "<div>\n",
              "<style scoped>\n",
              "    .dataframe tbody tr th:only-of-type {\n",
              "        vertical-align: middle;\n",
              "    }\n",
              "\n",
              "    .dataframe tbody tr th {\n",
              "        vertical-align: top;\n",
              "    }\n",
              "\n",
              "    .dataframe thead th {\n",
              "        text-align: right;\n",
              "    }\n",
              "</style>\n",
              "<table border=\"1\" class=\"dataframe\">\n",
              "  <thead>\n",
              "    <tr style=\"text-align: right;\">\n",
              "      <th></th>\n",
              "      <th>objid</th>\n",
              "      <th>ra</th>\n",
              "      <th>dec</th>\n",
              "      <th>u</th>\n",
              "      <th>g</th>\n",
              "      <th>r</th>\n",
              "      <th>i</th>\n",
              "      <th>z</th>\n",
              "      <th>run</th>\n",
              "      <th>camcol</th>\n",
              "      <th>field</th>\n",
              "      <th>score</th>\n",
              "      <th>clean</th>\n",
              "      <th>class</th>\n",
              "      <th>redshift</th>\n",
              "      <th>mjd</th>\n",
              "      <th>rowv</th>\n",
              "      <th>colv</th>\n",
              "    </tr>\n",
              "  </thead>\n",
              "  <tbody>\n",
              "    <tr>\n",
              "      <th>3607</th>\n",
              "      <td>1237648720166125671</td>\n",
              "      <td>200.861742</td>\n",
              "      <td>-1.008931</td>\n",
              "      <td>19.58788</td>\n",
              "      <td>18.34487</td>\n",
              "      <td>17.83451</td>\n",
              "      <td>17.66713</td>\n",
              "      <td>17.64276</td>\n",
              "      <td>756</td>\n",
              "      <td>1</td>\n",
              "      <td>568</td>\n",
              "      <td>0.807246</td>\n",
              "      <td>1</td>\n",
              "      <td>STAR</td>\n",
              "      <td>0.000372</td>\n",
              "      <td>54970</td>\n",
              "      <td>-0.002768</td>\n",
              "      <td>-0.000933</td>\n",
              "    </tr>\n",
              "    <tr>\n",
              "      <th>2420</th>\n",
              "      <td>1237648705669955969</td>\n",
              "      <td>227.131460</td>\n",
              "      <td>0.879063</td>\n",
              "      <td>19.08490</td>\n",
              "      <td>17.11271</td>\n",
              "      <td>16.18075</td>\n",
              "      <td>15.74972</td>\n",
              "      <td>15.40724</td>\n",
              "      <td>752</td>\n",
              "      <td>6</td>\n",
              "      <td>558</td>\n",
              "      <td>0.864662</td>\n",
              "      <td>1</td>\n",
              "      <td>GALAXY</td>\n",
              "      <td>0.072050</td>\n",
              "      <td>51665</td>\n",
              "      <td>-0.001752</td>\n",
              "      <td>-0.000091</td>\n",
              "    </tr>\n",
              "    <tr>\n",
              "      <th>2982</th>\n",
              "      <td>1237648705131380923</td>\n",
              "      <td>223.241452</td>\n",
              "      <td>0.537312</td>\n",
              "      <td>18.06950</td>\n",
              "      <td>16.98454</td>\n",
              "      <td>16.52808</td>\n",
              "      <td>16.32884</td>\n",
              "      <td>16.21850</td>\n",
              "      <td>752</td>\n",
              "      <td>5</td>\n",
              "      <td>532</td>\n",
              "      <td>0.907268</td>\n",
              "      <td>1</td>\n",
              "      <td>STAR</td>\n",
              "      <td>0.000010</td>\n",
              "      <td>54653</td>\n",
              "      <td>-0.000594</td>\n",
              "      <td>-0.000050</td>\n",
              "    </tr>\n",
              "    <tr>\n",
              "      <th>3005</th>\n",
              "      <td>1237648703512314072</td>\n",
              "      <td>203.937979</td>\n",
              "      <td>-0.788805</td>\n",
              "      <td>19.46013</td>\n",
              "      <td>18.20664</td>\n",
              "      <td>17.49736</td>\n",
              "      <td>17.10304</td>\n",
              "      <td>16.86711</td>\n",
              "      <td>752</td>\n",
              "      <td>2</td>\n",
              "      <td>403</td>\n",
              "      <td>0.859992</td>\n",
              "      <td>0</td>\n",
              "      <td>GALAXY</td>\n",
              "      <td>0.142524</td>\n",
              "      <td>51955</td>\n",
              "      <td>0.043201</td>\n",
              "      <td>-0.011563</td>\n",
              "    </tr>\n",
              "    <tr>\n",
              "      <th>3578</th>\n",
              "      <td>1237648721759174670</td>\n",
              "      <td>160.688233</td>\n",
              "      <td>0.383179</td>\n",
              "      <td>17.48402</td>\n",
              "      <td>15.83130</td>\n",
              "      <td>15.18966</td>\n",
              "      <td>14.92774</td>\n",
              "      <td>14.78688</td>\n",
              "      <td>756</td>\n",
              "      <td>4</td>\n",
              "      <td>300</td>\n",
              "      <td>0.901526</td>\n",
              "      <td>1</td>\n",
              "      <td>STAR</td>\n",
              "      <td>-0.000081</td>\n",
              "      <td>54208</td>\n",
              "      <td>0.000969</td>\n",
              "      <td>-0.001890</td>\n",
              "    </tr>\n",
              "  </tbody>\n",
              "</table>\n",
              "</div>"
            ],
            "text/plain": [
              "                    objid          ra       dec         u         g         r  \\\n",
              "3607  1237648720166125671  200.861742 -1.008931  19.58788  18.34487  17.83451   \n",
              "2420  1237648705669955969  227.131460  0.879063  19.08490  17.11271  16.18075   \n",
              "2982  1237648705131380923  223.241452  0.537312  18.06950  16.98454  16.52808   \n",
              "3005  1237648703512314072  203.937979 -0.788805  19.46013  18.20664  17.49736   \n",
              "3578  1237648721759174670  160.688233  0.383179  17.48402  15.83130  15.18966   \n",
              "\n",
              "             i         z  run  camcol  field     score  clean   class  \\\n",
              "3607  17.66713  17.64276  756       1    568  0.807246      1    STAR   \n",
              "2420  15.74972  15.40724  752       6    558  0.864662      1  GALAXY   \n",
              "2982  16.32884  16.21850  752       5    532  0.907268      1    STAR   \n",
              "3005  17.10304  16.86711  752       2    403  0.859992      0  GALAXY   \n",
              "3578  14.92774  14.78688  756       4    300  0.901526      1    STAR   \n",
              "\n",
              "      redshift    mjd      rowv      colv  \n",
              "3607  0.000372  54970 -0.002768 -0.000933  \n",
              "2420  0.072050  51665 -0.001752 -0.000091  \n",
              "2982  0.000010  54653 -0.000594 -0.000050  \n",
              "3005  0.142524  51955  0.043201 -0.011563  \n",
              "3578 -0.000081  54208  0.000969 -0.001890  "
            ]
          },
          "execution_count": 436,
          "metadata": {},
          "output_type": "execute_result"
        }
      ],
      "source": [
        "star_alpes.sample(5)"
      ]
    },
    {
      "cell_type": "code",
      "execution_count": 437,
      "metadata": {
        "colab": {
          "base_uri": "https://localhost:8080/",
          "height": 649
        },
        "id": "DKU7W0c9zlG0",
        "outputId": "cdcf23fa-ac34-4a58-a5c6-814d00788351"
      },
      "outputs": [
        {
          "data": {
            "text/plain": [
              "objid         int64\n",
              "ra          float64\n",
              "dec         float64\n",
              "u           float64\n",
              "g           float64\n",
              "r           float64\n",
              "i           float64\n",
              "z           float64\n",
              "run           int64\n",
              "camcol        int64\n",
              "field         int64\n",
              "score       float64\n",
              "clean         int64\n",
              "class        object\n",
              "redshift    float64\n",
              "mjd           int64\n",
              "rowv        float64\n",
              "colv        float64\n",
              "dtype: object"
            ]
          },
          "execution_count": 437,
          "metadata": {},
          "output_type": "execute_result"
        }
      ],
      "source": [
        "star_alpes.dtypes"
      ]
    },
    {
      "cell_type": "markdown",
      "metadata": {},
      "source": [
        "Vamos a separar los datos de entrenamiento del modelo y los que usaremos para la evaluación del modelo, en este paso utilizamos la columna 'redshift' para tener nuestra variable y a lo largo del modelo ya que nos interesa predecir el redshift para futuras lecturas que ingresan."
      ]
    },
    {
      "cell_type": "code",
      "execution_count": 438,
      "metadata": {},
      "outputs": [
        {
          "data": {
            "text/plain": [
              "((2800, 18), (2800,))"
            ]
          },
          "execution_count": 438,
          "metadata": {},
          "output_type": "execute_result"
        }
      ],
      "source": [
        "X_train, X_test, y_train, y_test = train_test_split(star_alpes, star_alpes[\"redshift\"], test_size=0.3, random_state=1)\n",
        "\n",
        "X_train.shape, y_train.shape"
      ]
    },
    {
      "cell_type": "code",
      "execution_count": 439,
      "metadata": {},
      "outputs": [
        {
          "data": {
            "text/plain": [
              "((1200, 18), (1200,))"
            ]
          },
          "execution_count": 439,
          "metadata": {},
          "output_type": "execute_result"
        }
      ],
      "source": [
        "X_test.shape, y_test.shape"
      ]
    },
    {
      "cell_type": "markdown",
      "metadata": {
        "id": "8YedH_uCpFWb"
      },
      "source": [
        "# 2. Entendimiento de los Datos\n"
      ]
    },
    {
      "cell_type": "markdown",
      "metadata": {
        "id": "63u8g6eaAe0q"
      },
      "source": [
        " 2.1. Características de los datos"
      ]
    },
    {
      "cell_type": "markdown",
      "metadata": {
        "id": "-Go_8wxz68f1"
      },
      "source": [
        "Para los datos numéricos realizaremos un describe"
      ]
    },
    {
      "cell_type": "code",
      "execution_count": 440,
      "metadata": {
        "colab": {
          "base_uri": "https://localhost:8080/",
          "height": 320
        },
        "id": "omtypHD961gm",
        "outputId": "4079f348-fe0e-4a2e-e8b8-aa0c1b806a1e"
      },
      "outputs": [
        {
          "data": {
            "text/html": [
              "<div>\n",
              "<style scoped>\n",
              "    .dataframe tbody tr th:only-of-type {\n",
              "        vertical-align: middle;\n",
              "    }\n",
              "\n",
              "    .dataframe tbody tr th {\n",
              "        vertical-align: top;\n",
              "    }\n",
              "\n",
              "    .dataframe thead th {\n",
              "        text-align: right;\n",
              "    }\n",
              "</style>\n",
              "<table border=\"1\" class=\"dataframe\">\n",
              "  <thead>\n",
              "    <tr style=\"text-align: right;\">\n",
              "      <th></th>\n",
              "      <th>objid</th>\n",
              "      <th>ra</th>\n",
              "      <th>dec</th>\n",
              "      <th>u</th>\n",
              "      <th>g</th>\n",
              "      <th>r</th>\n",
              "      <th>i</th>\n",
              "      <th>z</th>\n",
              "      <th>run</th>\n",
              "      <th>camcol</th>\n",
              "      <th>field</th>\n",
              "      <th>score</th>\n",
              "      <th>clean</th>\n",
              "      <th>redshift</th>\n",
              "      <th>mjd</th>\n",
              "      <th>rowv</th>\n",
              "      <th>colv</th>\n",
              "    </tr>\n",
              "  </thead>\n",
              "  <tbody>\n",
              "    <tr>\n",
              "      <th>count</th>\n",
              "      <td>2.800000e+03</td>\n",
              "      <td>2800.000000</td>\n",
              "      <td>2800.000000</td>\n",
              "      <td>2800.000000</td>\n",
              "      <td>2800.000000</td>\n",
              "      <td>2800.000000</td>\n",
              "      <td>2800.000000</td>\n",
              "      <td>2800.000000</td>\n",
              "      <td>2800.000000</td>\n",
              "      <td>2800.000000</td>\n",
              "      <td>2800.000000</td>\n",
              "      <td>2800.000000</td>\n",
              "      <td>2800.000000</td>\n",
              "      <td>2800.000000</td>\n",
              "      <td>2800.000000</td>\n",
              "      <td>2800.000000</td>\n",
              "      <td>2800.000000</td>\n",
              "    </tr>\n",
              "    <tr>\n",
              "      <th>mean</th>\n",
              "      <td>1.237649e+18</td>\n",
              "      <td>185.706882</td>\n",
              "      <td>0.206136</td>\n",
              "      <td>18.595555</td>\n",
              "      <td>17.337990</td>\n",
              "      <td>16.808557</td>\n",
              "      <td>16.563584</td>\n",
              "      <td>16.405560</td>\n",
              "      <td>742.126786</td>\n",
              "      <td>3.372500</td>\n",
              "      <td>419.028214</td>\n",
              "      <td>0.850913</td>\n",
              "      <td>0.897857</td>\n",
              "      <td>0.125725</td>\n",
              "      <td>52963.977857</td>\n",
              "      <td>0.000092</td>\n",
              "      <td>-0.000163</td>\n",
              "    </tr>\n",
              "    <tr>\n",
              "      <th>std</th>\n",
              "      <td>4.290843e+11</td>\n",
              "      <td>40.946188</td>\n",
              "      <td>1.872847</td>\n",
              "      <td>0.850106</td>\n",
              "      <td>0.955505</td>\n",
              "      <td>1.057543</td>\n",
              "      <td>1.142566</td>\n",
              "      <td>1.190242</td>\n",
              "      <td>99.949594</td>\n",
              "      <td>1.702454</td>\n",
              "      <td>166.118781</td>\n",
              "      <td>0.073500</td>\n",
              "      <td>0.302890</td>\n",
              "      <td>0.366221</td>\n",
              "      <td>1601.129979</td>\n",
              "      <td>0.009334</td>\n",
              "      <td>0.007778</td>\n",
              "    </tr>\n",
              "    <tr>\n",
              "      <th>min</th>\n",
              "      <td>1.237646e+18</td>\n",
              "      <td>10.564540</td>\n",
              "      <td>-1.251920</td>\n",
              "      <td>13.551780</td>\n",
              "      <td>12.974870</td>\n",
              "      <td>12.362850</td>\n",
              "      <td>12.010790</td>\n",
              "      <td>11.799530</td>\n",
              "      <td>211.000000</td>\n",
              "      <td>1.000000</td>\n",
              "      <td>20.000000</td>\n",
              "      <td>0.301912</td>\n",
              "      <td>0.000000</td>\n",
              "      <td>-0.003322</td>\n",
              "      <td>51608.000000</td>\n",
              "      <td>-0.264516</td>\n",
              "      <td>-0.168807</td>\n",
              "    </tr>\n",
              "    <tr>\n",
              "      <th>25%</th>\n",
              "      <td>1.237649e+18</td>\n",
              "      <td>162.553765</td>\n",
              "      <td>-0.635942</td>\n",
              "      <td>18.145338</td>\n",
              "      <td>16.761110</td>\n",
              "      <td>16.153670</td>\n",
              "      <td>15.836365</td>\n",
              "      <td>15.586295</td>\n",
              "      <td>752.000000</td>\n",
              "      <td>2.000000</td>\n",
              "      <td>312.000000</td>\n",
              "      <td>0.836708</td>\n",
              "      <td>1.000000</td>\n",
              "      <td>0.000098</td>\n",
              "      <td>51693.000000</td>\n",
              "      <td>-0.001196</td>\n",
              "      <td>-0.001635</td>\n",
              "    </tr>\n",
              "    <tr>\n",
              "      <th>50%</th>\n",
              "      <td>1.237649e+18</td>\n",
              "      <td>195.503334</td>\n",
              "      <td>0.038939</td>\n",
              "      <td>18.832775</td>\n",
              "      <td>17.452585</td>\n",
              "      <td>16.821940</td>\n",
              "      <td>16.539775</td>\n",
              "      <td>16.366575</td>\n",
              "      <td>756.000000</td>\n",
              "      <td>3.000000</td>\n",
              "      <td>433.000000</td>\n",
              "      <td>0.860521</td>\n",
              "      <td>1.000000</td>\n",
              "      <td>0.028703</td>\n",
              "      <td>51985.000000</td>\n",
              "      <td>0.000365</td>\n",
              "      <td>0.000080</td>\n",
              "    </tr>\n",
              "    <tr>\n",
              "      <th>75%</th>\n",
              "      <td>1.237649e+18</td>\n",
              "      <td>214.218850</td>\n",
              "      <td>0.583797</td>\n",
              "      <td>19.260285</td>\n",
              "      <td>17.986520</td>\n",
              "      <td>17.490245</td>\n",
              "      <td>17.240642</td>\n",
              "      <td>17.132202</td>\n",
              "      <td>756.000000</td>\n",
              "      <td>5.000000</td>\n",
              "      <td>524.000000</td>\n",
              "      <td>0.879523</td>\n",
              "      <td>1.000000</td>\n",
              "      <td>0.085715</td>\n",
              "      <td>54468.000000</td>\n",
              "      <td>0.001700</td>\n",
              "      <td>0.001630</td>\n",
              "    </tr>\n",
              "    <tr>\n",
              "      <th>max</th>\n",
              "      <td>1.237650e+18</td>\n",
              "      <td>249.758313</td>\n",
              "      <td>13.854010</td>\n",
              "      <td>19.599290</td>\n",
              "      <td>22.497450</td>\n",
              "      <td>22.265960</td>\n",
              "      <td>28.179630</td>\n",
              "      <td>20.847690</td>\n",
              "      <td>1035.000000</td>\n",
              "      <td>6.000000</td>\n",
              "      <td>812.000000</td>\n",
              "      <td>0.961145</td>\n",
              "      <td>1.000000</td>\n",
              "      <td>4.192597</td>\n",
              "      <td>58932.000000</td>\n",
              "      <td>0.181871</td>\n",
              "      <td>0.128814</td>\n",
              "    </tr>\n",
              "  </tbody>\n",
              "</table>\n",
              "</div>"
            ],
            "text/plain": [
              "              objid           ra          dec            u            g  \\\n",
              "count  2.800000e+03  2800.000000  2800.000000  2800.000000  2800.000000   \n",
              "mean   1.237649e+18   185.706882     0.206136    18.595555    17.337990   \n",
              "std    4.290843e+11    40.946188     1.872847     0.850106     0.955505   \n",
              "min    1.237646e+18    10.564540    -1.251920    13.551780    12.974870   \n",
              "25%    1.237649e+18   162.553765    -0.635942    18.145338    16.761110   \n",
              "50%    1.237649e+18   195.503334     0.038939    18.832775    17.452585   \n",
              "75%    1.237649e+18   214.218850     0.583797    19.260285    17.986520   \n",
              "max    1.237650e+18   249.758313    13.854010    19.599290    22.497450   \n",
              "\n",
              "                 r            i            z          run       camcol  \\\n",
              "count  2800.000000  2800.000000  2800.000000  2800.000000  2800.000000   \n",
              "mean     16.808557    16.563584    16.405560   742.126786     3.372500   \n",
              "std       1.057543     1.142566     1.190242    99.949594     1.702454   \n",
              "min      12.362850    12.010790    11.799530   211.000000     1.000000   \n",
              "25%      16.153670    15.836365    15.586295   752.000000     2.000000   \n",
              "50%      16.821940    16.539775    16.366575   756.000000     3.000000   \n",
              "75%      17.490245    17.240642    17.132202   756.000000     5.000000   \n",
              "max      22.265960    28.179630    20.847690  1035.000000     6.000000   \n",
              "\n",
              "             field        score        clean     redshift           mjd  \\\n",
              "count  2800.000000  2800.000000  2800.000000  2800.000000   2800.000000   \n",
              "mean    419.028214     0.850913     0.897857     0.125725  52963.977857   \n",
              "std     166.118781     0.073500     0.302890     0.366221   1601.129979   \n",
              "min      20.000000     0.301912     0.000000    -0.003322  51608.000000   \n",
              "25%     312.000000     0.836708     1.000000     0.000098  51693.000000   \n",
              "50%     433.000000     0.860521     1.000000     0.028703  51985.000000   \n",
              "75%     524.000000     0.879523     1.000000     0.085715  54468.000000   \n",
              "max     812.000000     0.961145     1.000000     4.192597  58932.000000   \n",
              "\n",
              "              rowv         colv  \n",
              "count  2800.000000  2800.000000  \n",
              "mean      0.000092    -0.000163  \n",
              "std       0.009334     0.007778  \n",
              "min      -0.264516    -0.168807  \n",
              "25%      -0.001196    -0.001635  \n",
              "50%       0.000365     0.000080  \n",
              "75%       0.001700     0.001630  \n",
              "max       0.181871     0.128814  "
            ]
          },
          "execution_count": 440,
          "metadata": {},
          "output_type": "execute_result"
        }
      ],
      "source": [
        "X_train.describe()"
      ]
    },
    {
      "cell_type": "markdown",
      "metadata": {
        "id": "DUymtjnl7Adu"
      },
      "source": [
        "Para los datos categoricos haremos un value_counts"
      ]
    },
    {
      "cell_type": "code",
      "execution_count": 441,
      "metadata": {
        "colab": {
          "base_uri": "https://localhost:8080/",
          "height": 304
        },
        "id": "W7DFyWcp7GcK",
        "outputId": "7afaa806-5e8b-4215-e8c3-a04b77c66068"
      },
      "outputs": [
        {
          "data": {
            "text/plain": [
              "class\n",
              "GALAXY    1286\n",
              "STAR      1163\n",
              "QSO        192\n",
              "S          130\n",
              "G           28\n",
              "QUASAR       1\n",
              "Name: count, dtype: int64"
            ]
          },
          "execution_count": 441,
          "metadata": {},
          "output_type": "execute_result"
        }
      ],
      "source": [
        "X_train[\"class\"].value_counts()"
      ]
    },
    {
      "cell_type": "markdown",
      "metadata": {
        "id": "hAK360VkA14E"
      },
      "source": [
        "2.2. Perfilamiento de los datos"
      ]
    },
    {
      "cell_type": "code",
      "execution_count": 442,
      "metadata": {
        "colab": {
          "base_uri": "https://localhost:8080/",
          "height": 1000
        },
        "id": "WVUIebTppISS",
        "outputId": "50bee28c-364a-4086-819d-579218d0a45e"
      },
      "outputs": [
        {
          "name": "stderr",
          "output_type": "stream",
          "text": [
            "C:\\Users\\juane\\AppData\\Local\\Temp\\ipykernel_35432\\4055662632.py:25: UserWarning: set_ticklabels() should only be used with a fixed number of ticks, i.e. after set_ticks() or using a FixedLocator.\n",
            "  d = ax.set_xticklabels(ax.get_xticklabels(), rotation = 70)\n"
          ]
        },
        {
          "data": {
            "image/png": "[encoded data removed]",
            "text/plain": [
              "<Figure size 1200x400 with 3 Axes>"
            ]
          },
          "metadata": {},
          "output_type": "display_data"
        },
        {
          "data": {
            "image/png": "[encoded data removed]",
            "text/plain": [
              "<Figure size 2000x400 with 5 Axes>"
            ]
          },
          "metadata": {},
          "output_type": "display_data"
        },
        {
          "data": {
            "image/png": "[encoded data removed]",
            "text/plain": [
              "<Figure size 1200x400 with 3 Axes>"
            ]
          },
          "metadata": {},
          "output_type": "display_data"
        },
        {
          "data": {
            "image/png": "[encoded data removed]",
            "text/plain": [
              "<Figure size 800x400 with 2 Axes>"
            ]
          },
          "metadata": {},
          "output_type": "display_data"
        },
        {
          "data": {
            "image/png": "[encoded data removed]",
            "text/plain": [
              "<Figure size 1200x400 with 3 Axes>"
            ]
          },
          "metadata": {},
          "output_type": "display_data"
        },
        {
          "data": {
            "image/png": "[encoded data removed]",
            "text/plain": [
              "<Figure size 600x400 with 1 Axes>"
            ]
          },
          "metadata": {},
          "output_type": "display_data"
        }
      ],
      "source": [
        "#Lo primero que haremos será ver la distribución de los datos para poder ir descartando algunas variables y\n",
        "#ver los comportamientos de las variables en general.\n",
        "\n",
        "star_alpes_train = pd.DataFrame(X_train, columns=X_train.columns)\n",
        "star_alpes_train['redshift'] = y_train\n",
        "\n",
        "var1=[\"objid\", \"ra\", \"dec\"]\n",
        "sns.pairplot(star_alpes_train.sample(frac=1), height=4, y_vars=\"redshift\", x_vars=var1, kind=\"scatter\")\n",
        "\n",
        "var2=[\"u\", \"g\", \"r\", \"i\", \"z\"]\n",
        "sns.pairplot(star_alpes_train.sample(frac=1), height=4, y_vars=\"redshift\", x_vars=var2, kind=\"scatter\")\n",
        "\n",
        "var3=[\"run\", \"camcol\", \"field\"]\n",
        "sns.pairplot(star_alpes_train.sample(frac=1), height=4, y_vars=\"redshift\", x_vars=var3, kind=\"scatter\")\n",
        "\n",
        "var4=[\"score\", \"clean\"]\n",
        "sns.pairplot(star_alpes_train.sample(frac=1), height=4, y_vars=\"redshift\", x_vars=var4, kind=\"scatter\")\n",
        "\n",
        "var5=[\"mjd\", \"rowv\", \"colv\"]\n",
        "sns.pairplot(star_alpes_train.sample(frac=1), height=4, y_vars=\"redshift\", x_vars=var5, kind=\"scatter\")\n",
        "\n",
        "#Para class se utiliza un diagrama de bloques ya que es una variable categórica\n",
        "fig = plt.figure(figsize=(6, 4))\n",
        "ax = sns.boxplot(x = 'class', y = 'redshift', data = star_alpes_train)\n",
        "d = ax.set_xticklabels(ax.get_xticklabels(), rotation = 70)\n",
        "plt.xlabel('Class')\n",
        "plt.ylabel('Redshift')\n",
        "plt.show()\n"
      ]
    },
    {
      "cell_type": "markdown",
      "metadata": {
        "id": "7UV4KJ1X3_l8"
      },
      "source": [
        "Lo anterior nos muestra que hay variables que su distribución no afectan en nada al redshfit, entonces se podrían tener en cuenta para descartarlas posteriormente.\n",
        "\n",
        "Algunas son el \"objid\", \"run\", \"camcol\", \"rowv\" y \"colv\".\n",
        "\n",
        "Dejamos la variable \"class\" porque nos permitirá realizar un one hot para poder obtener una numerización de las variables categoricas, también dejamos el \"clean\" y \"score\" porque nos servirán para posteriormente realizar un filtrado y utilizar solo datos con un clean de 1, es decir confiables y con un score alto.\n",
        "\n",
        "Ahora, las variables de \"u\", \"g\", \"r\", \"i\" y \"z\" son muy similares en cuanto a su distribución por lo que realizaremos un análisis de colinealidad para ver si podemos dejar todas o solo una de estas."
      ]
    },
    {
      "cell_type": "code",
      "execution_count": 443,
      "metadata": {
        "colab": {
          "base_uri": "https://localhost:8080/",
          "height": 391
        },
        "id": "qp6_kc885CKN",
        "outputId": "a9760e17-69da-4312-c3e1-19f0e4e989bd"
      },
      "outputs": [
        {
          "data": {
            "text/plain": [
              "<Axes: >"
            ]
          },
          "execution_count": 443,
          "metadata": {},
          "output_type": "execute_result"
        },
        {
          "data": {
            "image/png": "[encoded data removed]",
            "text/plain": [
              "<Figure size 600x400 with 2 Axes>"
            ]
          },
          "metadata": {},
          "output_type": "display_data"
        }
      ],
      "source": [
        "var = [\"u\", \"g\", \"r\", \"i\", \"z\"]\n",
        "\n",
        "plt.figure(figsize=(6, 4))\n",
        "sns.heatmap(star_alpes_train[var].corr(), cmap=\"Blues\", vmin=0, vmax=1)"
      ]
    },
    {
      "cell_type": "markdown",
      "metadata": {
        "id": "Fct0ZDEP5b7I"
      },
      "source": [
        "Lo anterior nos muestra como las cinco variables tienen una alta correlación entre si. Lo mejor entonces es descartar las siguientes cuatro variables, u, g, r y z, quedandonos solo con i ya que i hace referencia a la magnitud del infrarojo el cual nos sirve para poder realizar la predicción del redshift."
      ]
    },
    {
      "cell_type": "markdown",
      "metadata": {
        "id": "d_oCdqbO0fl5"
      },
      "source": [
        "Ahora bien haremos un análisis de correlación entre las variables que utilizaremos para la regresión.\n",
        "\n",
        "Utilizaremos entonces las siguientes variables para comprobar si hay algún tipo de correlación.\n",
        "\n"
      ]
    },
    {
      "cell_type": "code",
      "execution_count": 444,
      "metadata": {
        "colab": {
          "base_uri": "https://localhost:8080/",
          "height": 391
        },
        "id": "vMuCDGeZ1XCv",
        "outputId": "1cb8de45-af63-4386-9f99-56415420f9e1"
      },
      "outputs": [
        {
          "data": {
            "text/plain": [
              "<Axes: >"
            ]
          },
          "execution_count": 444,
          "metadata": {},
          "output_type": "execute_result"
        },
        {
          "data": {
            "image/png": "[encoded data removed]",
            "text/plain": [
              "<Figure size 600x400 with 2 Axes>"
            ]
          },
          "metadata": {},
          "output_type": "display_data"
        }
      ],
      "source": [
        "pos_var = [\"ra\", \"dec\", \"i\", \"field\", \"mjd\"]\n",
        "\n",
        "plt.figure(figsize=(6, 4))\n",
        "sns.heatmap(star_alpes_train[pos_var].corr(), cmap=\"Blues\", vmin=0, vmax=1)"
      ]
    },
    {
      "cell_type": "markdown",
      "metadata": {
        "id": "42icGfQH1g2a"
      },
      "source": [
        "Viendo el gráfico de correlación anterior podemos ver que la mayoria de las variables seleccionadas no poseen una alta correlación, revisamos nuevamente la correlación entre la variable \"ra\" y \"field\" y decidimos ignorar la variable field y mantener la variable \"ra\" ya que se tiene una alta correlación entre estas dos."
      ]
    },
    {
      "cell_type": "code",
      "execution_count": 445,
      "metadata": {
        "colab": {
          "base_uri": "https://localhost:8080/",
          "height": 391
        },
        "id": "PcrWEbHc14dP",
        "outputId": "a738fe4f-155d-4267-c733-d46014b542db"
      },
      "outputs": [
        {
          "data": {
            "text/plain": [
              "<Axes: >"
            ]
          },
          "execution_count": 445,
          "metadata": {},
          "output_type": "execute_result"
        },
        {
          "data": {
            "image/png": "[encoded data removed]",
            "text/plain": [
              "<Figure size 600x400 with 2 Axes>"
            ]
          },
          "metadata": {},
          "output_type": "display_data"
        }
      ],
      "source": [
        "pos_var2 = [\"ra\", \"dec\", \"i\", \"mjd\"]\n",
        "\n",
        "plt.figure(figsize=(6, 4))\n",
        "sns.heatmap(star_alpes_train[pos_var2].corr(), cmap=\"Blues\", vmin=0, vmax=1)"
      ]
    },
    {
      "cell_type": "markdown",
      "metadata": {
        "id": "kJa9pqcSA5-D"
      },
      "source": [
        "2.3. Análisis de Calidad de Datos"
      ]
    },
    {
      "cell_type": "markdown",
      "metadata": {
        "id": "4Cxk2hGvBYIt"
      },
      "source": [
        "2.3.1. Completitud"
      ]
    },
    {
      "cell_type": "markdown",
      "metadata": {
        "id": "W_thOCdM2e3e"
      },
      "source": [
        "Vamos a revisar el porcentaje de registros vacios de todas las variables"
      ]
    },
    {
      "cell_type": "code",
      "execution_count": 446,
      "metadata": {
        "colab": {
          "base_uri": "https://localhost:8080/",
          "height": 614
        },
        "id": "Q4q2bbNNBqYL",
        "outputId": "b18fb2fe-580e-42c7-8507-066d3256ff2c"
      },
      "outputs": [
        {
          "data": {
            "text/html": [
              "<div>\n",
              "<style scoped>\n",
              "    .dataframe tbody tr th:only-of-type {\n",
              "        vertical-align: middle;\n",
              "    }\n",
              "\n",
              "    .dataframe tbody tr th {\n",
              "        vertical-align: top;\n",
              "    }\n",
              "\n",
              "    .dataframe thead th {\n",
              "        text-align: right;\n",
              "    }\n",
              "</style>\n",
              "<table border=\"1\" class=\"dataframe\">\n",
              "  <thead>\n",
              "    <tr style=\"text-align: right;\">\n",
              "      <th></th>\n",
              "      <th>0</th>\n",
              "    </tr>\n",
              "  </thead>\n",
              "  <tbody>\n",
              "    <tr>\n",
              "      <th>objid</th>\n",
              "      <td>0.0</td>\n",
              "    </tr>\n",
              "    <tr>\n",
              "      <th>ra</th>\n",
              "      <td>0.0</td>\n",
              "    </tr>\n",
              "    <tr>\n",
              "      <th>dec</th>\n",
              "      <td>0.0</td>\n",
              "    </tr>\n",
              "    <tr>\n",
              "      <th>u</th>\n",
              "      <td>0.0</td>\n",
              "    </tr>\n",
              "    <tr>\n",
              "      <th>g</th>\n",
              "      <td>0.0</td>\n",
              "    </tr>\n",
              "    <tr>\n",
              "      <th>r</th>\n",
              "      <td>0.0</td>\n",
              "    </tr>\n",
              "    <tr>\n",
              "      <th>i</th>\n",
              "      <td>0.0</td>\n",
              "    </tr>\n",
              "    <tr>\n",
              "      <th>z</th>\n",
              "      <td>0.0</td>\n",
              "    </tr>\n",
              "    <tr>\n",
              "      <th>run</th>\n",
              "      <td>0.0</td>\n",
              "    </tr>\n",
              "    <tr>\n",
              "      <th>camcol</th>\n",
              "      <td>0.0</td>\n",
              "    </tr>\n",
              "    <tr>\n",
              "      <th>field</th>\n",
              "      <td>0.0</td>\n",
              "    </tr>\n",
              "    <tr>\n",
              "      <th>score</th>\n",
              "      <td>0.0</td>\n",
              "    </tr>\n",
              "    <tr>\n",
              "      <th>clean</th>\n",
              "      <td>0.0</td>\n",
              "    </tr>\n",
              "    <tr>\n",
              "      <th>class</th>\n",
              "      <td>0.0</td>\n",
              "    </tr>\n",
              "    <tr>\n",
              "      <th>redshift</th>\n",
              "      <td>0.0</td>\n",
              "    </tr>\n",
              "    <tr>\n",
              "      <th>mjd</th>\n",
              "      <td>0.0</td>\n",
              "    </tr>\n",
              "    <tr>\n",
              "      <th>rowv</th>\n",
              "      <td>0.0</td>\n",
              "    </tr>\n",
              "    <tr>\n",
              "      <th>colv</th>\n",
              "      <td>0.0</td>\n",
              "    </tr>\n",
              "  </tbody>\n",
              "</table>\n",
              "</div>"
            ],
            "text/plain": [
              "            0\n",
              "objid     0.0\n",
              "ra        0.0\n",
              "dec       0.0\n",
              "u         0.0\n",
              "g         0.0\n",
              "r         0.0\n",
              "i         0.0\n",
              "z         0.0\n",
              "run       0.0\n",
              "camcol    0.0\n",
              "field     0.0\n",
              "score     0.0\n",
              "clean     0.0\n",
              "class     0.0\n",
              "redshift  0.0\n",
              "mjd       0.0\n",
              "rowv      0.0\n",
              "colv      0.0"
            ]
          },
          "execution_count": 446,
          "metadata": {},
          "output_type": "execute_result"
        }
      ],
      "source": [
        "df_porcentajes = (100*star_alpes_train.isna().sum()/len(star_alpes_train)).to_frame()\n",
        "df_porcentajes.sort_values(0, ascending = False)"
      ]
    },
    {
      "cell_type": "markdown",
      "metadata": {
        "id": "Lp1cbc2e2lOn"
      },
      "source": [
        "De lo anterior vemos que todos los registros estan completos, ahora miraremos en específico las variables que queremos utilizar para la regresión:"
      ]
    },
    {
      "cell_type": "code",
      "execution_count": 447,
      "metadata": {
        "colab": {
          "base_uri": "https://localhost:8080/",
          "height": 272
        },
        "id": "nUopaCPu2IP-",
        "outputId": "393cb8fc-c30c-4f56-a833-4fc22ca1015d"
      },
      "outputs": [
        {
          "data": {
            "text/plain": [
              "redshift    0.0\n",
              "ra          0.0\n",
              "dec         0.0\n",
              "i           0.0\n",
              "mjd         0.0\n",
              "dtype: float64"
            ]
          },
          "execution_count": 447,
          "metadata": {},
          "output_type": "execute_result"
        }
      ],
      "source": [
        "star_alpes_train[[\"redshift\"]+pos_var2].isnull().sum() / star_alpes_train.shape[0]"
      ]
    },
    {
      "cell_type": "markdown",
      "metadata": {
        "id": "686tyGpfBbWM"
      },
      "source": [
        "2.3.2. Unicidad"
      ]
    },
    {
      "cell_type": "markdown",
      "metadata": {
        "id": "7wpU0V3w2vRq"
      },
      "source": [
        "Revisaremos ahora entonces cuales y cuantas son las filas duplicadas:"
      ]
    },
    {
      "cell_type": "code",
      "execution_count": 448,
      "metadata": {
        "colab": {
          "base_uri": "https://localhost:8080/",
          "height": 1000
        },
        "id": "Up7hHmHVC229",
        "outputId": "d65c6aa4-a8fe-4ed6-a905-c2b5ef21f663"
      },
      "outputs": [
        {
          "data": {
            "text/html": [
              "<div>\n",
              "<style scoped>\n",
              "    .dataframe tbody tr th:only-of-type {\n",
              "        vertical-align: middle;\n",
              "    }\n",
              "\n",
              "    .dataframe tbody tr th {\n",
              "        vertical-align: top;\n",
              "    }\n",
              "\n",
              "    .dataframe thead th {\n",
              "        text-align: right;\n",
              "    }\n",
              "</style>\n",
              "<table border=\"1\" class=\"dataframe\">\n",
              "  <thead>\n",
              "    <tr style=\"text-align: right;\">\n",
              "      <th></th>\n",
              "      <th>objid</th>\n",
              "      <th>ra</th>\n",
              "      <th>dec</th>\n",
              "      <th>u</th>\n",
              "      <th>g</th>\n",
              "      <th>r</th>\n",
              "      <th>i</th>\n",
              "      <th>z</th>\n",
              "      <th>run</th>\n",
              "      <th>camcol</th>\n",
              "      <th>field</th>\n",
              "      <th>score</th>\n",
              "      <th>clean</th>\n",
              "      <th>class</th>\n",
              "      <th>redshift</th>\n",
              "      <th>mjd</th>\n",
              "      <th>rowv</th>\n",
              "      <th>colv</th>\n",
              "    </tr>\n",
              "  </thead>\n",
              "  <tbody>\n",
              "    <tr>\n",
              "      <th>3254</th>\n",
              "      <td>1237648703513428079</td>\n",
              "      <td>206.374167</td>\n",
              "      <td>-0.781673</td>\n",
              "      <td>18.28101</td>\n",
              "      <td>17.18856</td>\n",
              "      <td>16.70175</td>\n",
              "      <td>16.33173</td>\n",
              "      <td>16.14626</td>\n",
              "      <td>752</td>\n",
              "      <td>2</td>\n",
              "      <td>420</td>\n",
              "      <td>0.904768</td>\n",
              "      <td>1</td>\n",
              "      <td>GALAXY</td>\n",
              "      <td>0.088136</td>\n",
              "      <td>51943</td>\n",
              "      <td>-0.002860</td>\n",
              "      <td>0.001156</td>\n",
              "    </tr>\n",
              "    <tr>\n",
              "      <th>88</th>\n",
              "      <td>1237648703513428079</td>\n",
              "      <td>206.374167</td>\n",
              "      <td>-0.781673</td>\n",
              "      <td>18.28101</td>\n",
              "      <td>17.18856</td>\n",
              "      <td>16.70175</td>\n",
              "      <td>16.33173</td>\n",
              "      <td>16.14626</td>\n",
              "      <td>752</td>\n",
              "      <td>2</td>\n",
              "      <td>420</td>\n",
              "      <td>0.904768</td>\n",
              "      <td>1</td>\n",
              "      <td>GALAXY</td>\n",
              "      <td>0.088136</td>\n",
              "      <td>51943</td>\n",
              "      <td>-0.002860</td>\n",
              "      <td>0.001156</td>\n",
              "    </tr>\n",
              "    <tr>\n",
              "      <th>1523</th>\n",
              "      <td>1237648705679065271</td>\n",
              "      <td>247.896821</td>\n",
              "      <td>0.990909</td>\n",
              "      <td>16.74659</td>\n",
              "      <td>15.61752</td>\n",
              "      <td>15.43460</td>\n",
              "      <td>15.40196</td>\n",
              "      <td>15.40794</td>\n",
              "      <td>752</td>\n",
              "      <td>6</td>\n",
              "      <td>697</td>\n",
              "      <td>0.842783</td>\n",
              "      <td>1</td>\n",
              "      <td>STAR</td>\n",
              "      <td>0.000073</td>\n",
              "      <td>51671</td>\n",
              "      <td>0.002149</td>\n",
              "      <td>-0.000930</td>\n",
              "    </tr>\n",
              "    <tr>\n",
              "      <th>856</th>\n",
              "      <td>1237648705679065271</td>\n",
              "      <td>247.896821</td>\n",
              "      <td>0.990909</td>\n",
              "      <td>16.74659</td>\n",
              "      <td>15.61752</td>\n",
              "      <td>15.43460</td>\n",
              "      <td>15.40196</td>\n",
              "      <td>15.40794</td>\n",
              "      <td>752</td>\n",
              "      <td>6</td>\n",
              "      <td>697</td>\n",
              "      <td>0.842783</td>\n",
              "      <td>1</td>\n",
              "      <td>STAR</td>\n",
              "      <td>0.000073</td>\n",
              "      <td>51671</td>\n",
              "      <td>0.002149</td>\n",
              "      <td>-0.000930</td>\n",
              "    </tr>\n",
              "    <tr>\n",
              "      <th>629</th>\n",
              "      <td>1237648720687988788</td>\n",
              "      <td>166.623017</td>\n",
              "      <td>-0.546630</td>\n",
              "      <td>19.55528</td>\n",
              "      <td>17.73928</td>\n",
              "      <td>16.86703</td>\n",
              "      <td>16.44810</td>\n",
              "      <td>16.11761</td>\n",
              "      <td>756</td>\n",
              "      <td>2</td>\n",
              "      <td>339</td>\n",
              "      <td>0.879096</td>\n",
              "      <td>1</td>\n",
              "      <td>GALAXY</td>\n",
              "      <td>0.086721</td>\n",
              "      <td>51900</td>\n",
              "      <td>0.001004</td>\n",
              "      <td>-0.001857</td>\n",
              "    </tr>\n",
              "    <tr>\n",
              "      <th>2642</th>\n",
              "      <td>1237648720687988788</td>\n",
              "      <td>166.623017</td>\n",
              "      <td>-0.546630</td>\n",
              "      <td>19.55528</td>\n",
              "      <td>17.73928</td>\n",
              "      <td>16.86703</td>\n",
              "      <td>16.44810</td>\n",
              "      <td>16.11761</td>\n",
              "      <td>756</td>\n",
              "      <td>2</td>\n",
              "      <td>339</td>\n",
              "      <td>0.879096</td>\n",
              "      <td>1</td>\n",
              "      <td>GALAXY</td>\n",
              "      <td>0.086721</td>\n",
              "      <td>51900</td>\n",
              "      <td>0.001004</td>\n",
              "      <td>-0.001857</td>\n",
              "    </tr>\n",
              "    <tr>\n",
              "      <th>718</th>\n",
              "      <td>1237648721789780467</td>\n",
              "      <td>230.664376</td>\n",
              "      <td>0.229439</td>\n",
              "      <td>19.48961</td>\n",
              "      <td>18.21590</td>\n",
              "      <td>17.50523</td>\n",
              "      <td>17.09294</td>\n",
              "      <td>16.87079</td>\n",
              "      <td>756</td>\n",
              "      <td>4</td>\n",
              "      <td>767</td>\n",
              "      <td>0.872553</td>\n",
              "      <td>1</td>\n",
              "      <td>GALAXY</td>\n",
              "      <td>0.112827</td>\n",
              "      <td>51673</td>\n",
              "      <td>0.008122</td>\n",
              "      <td>0.012494</td>\n",
              "    </tr>\n",
              "    <tr>\n",
              "      <th>3933</th>\n",
              "      <td>1237648721789780467</td>\n",
              "      <td>230.664376</td>\n",
              "      <td>0.229439</td>\n",
              "      <td>19.48961</td>\n",
              "      <td>18.21590</td>\n",
              "      <td>17.50523</td>\n",
              "      <td>17.09294</td>\n",
              "      <td>16.87079</td>\n",
              "      <td>756</td>\n",
              "      <td>4</td>\n",
              "      <td>767</td>\n",
              "      <td>0.872553</td>\n",
              "      <td>1</td>\n",
              "      <td>GALAXY</td>\n",
              "      <td>0.112827</td>\n",
              "      <td>51673</td>\n",
              "      <td>0.008122</td>\n",
              "      <td>0.012494</td>\n",
              "    </tr>\n",
              "  </tbody>\n",
              "</table>\n",
              "</div>"
            ],
            "text/plain": [
              "                    objid          ra       dec         u         g         r  \\\n",
              "3254  1237648703513428079  206.374167 -0.781673  18.28101  17.18856  16.70175   \n",
              "88    1237648703513428079  206.374167 -0.781673  18.28101  17.18856  16.70175   \n",
              "1523  1237648705679065271  247.896821  0.990909  16.74659  15.61752  15.43460   \n",
              "856   1237648705679065271  247.896821  0.990909  16.74659  15.61752  15.43460   \n",
              "629   1237648720687988788  166.623017 -0.546630  19.55528  17.73928  16.86703   \n",
              "2642  1237648720687988788  166.623017 -0.546630  19.55528  17.73928  16.86703   \n",
              "718   1237648721789780467  230.664376  0.229439  19.48961  18.21590  17.50523   \n",
              "3933  1237648721789780467  230.664376  0.229439  19.48961  18.21590  17.50523   \n",
              "\n",
              "             i         z  run  camcol  field     score  clean   class  \\\n",
              "3254  16.33173  16.14626  752       2    420  0.904768      1  GALAXY   \n",
              "88    16.33173  16.14626  752       2    420  0.904768      1  GALAXY   \n",
              "1523  15.40196  15.40794  752       6    697  0.842783      1    STAR   \n",
              "856   15.40196  15.40794  752       6    697  0.842783      1    STAR   \n",
              "629   16.44810  16.11761  756       2    339  0.879096      1  GALAXY   \n",
              "2642  16.44810  16.11761  756       2    339  0.879096      1  GALAXY   \n",
              "718   17.09294  16.87079  756       4    767  0.872553      1  GALAXY   \n",
              "3933  17.09294  16.87079  756       4    767  0.872553      1  GALAXY   \n",
              "\n",
              "      redshift    mjd      rowv      colv  \n",
              "3254  0.088136  51943 -0.002860  0.001156  \n",
              "88    0.088136  51943 -0.002860  0.001156  \n",
              "1523  0.000073  51671  0.002149 -0.000930  \n",
              "856   0.000073  51671  0.002149 -0.000930  \n",
              "629   0.086721  51900  0.001004 -0.001857  \n",
              "2642  0.086721  51900  0.001004 -0.001857  \n",
              "718   0.112827  51673  0.008122  0.012494  \n",
              "3933  0.112827  51673  0.008122  0.012494  "
            ]
          },
          "execution_count": 448,
          "metadata": {},
          "output_type": "execute_result"
        }
      ],
      "source": [
        "duplicated_rows = star_alpes_train.loc[star_alpes_train.duplicated(subset=[\"redshift\"]+[\"objid\"], keep=False)].sort_values(\"objid\")\n",
        "duplicated_rows\n"
      ]
    },
    {
      "cell_type": "markdown",
      "metadata": {
        "id": "mToQslqf28Zq"
      },
      "source": [
        "Posteriormente de haberlas identificado, nos encargaremos de eliminar las filas duplicadas"
      ]
    },
    {
      "cell_type": "markdown",
      "metadata": {
        "id": "_c8VeYvFBduX"
      },
      "source": [
        "2.3.3. Consistencia"
      ]
    },
    {
      "cell_type": "markdown",
      "metadata": {
        "id": "iXdA3G4d3AuQ"
      },
      "source": [
        "Revisaremos la consistencia de los datos, especialmente de las variables categóricas:"
      ]
    },
    {
      "cell_type": "code",
      "execution_count": 449,
      "metadata": {
        "colab": {
          "base_uri": "https://localhost:8080/",
          "height": 304
        },
        "id": "IoOzsKb1EOIU",
        "outputId": "6abb4618-438b-44c7-8872-ec5e84501e85"
      },
      "outputs": [
        {
          "data": {
            "text/plain": [
              "class\n",
              "GALAXY    1286\n",
              "STAR      1163\n",
              "QSO        192\n",
              "S          130\n",
              "G           28\n",
              "QUASAR       1\n",
              "Name: count, dtype: int64"
            ]
          },
          "execution_count": 449,
          "metadata": {},
          "output_type": "execute_result"
        }
      ],
      "source": [
        "star_alpes_train['class'].value_counts()"
      ]
    },
    {
      "cell_type": "code",
      "execution_count": 450,
      "metadata": {
        "colab": {
          "base_uri": "https://localhost:8080/",
          "height": 649
        },
        "id": "fd2JU4JzrHVN",
        "outputId": "c9b6cfc1-06a1-4b3a-ea90-78f4bf5c9cca"
      },
      "outputs": [
        {
          "data": {
            "text/plain": [
              "objid         int64\n",
              "ra          float64\n",
              "dec         float64\n",
              "u           float64\n",
              "g           float64\n",
              "r           float64\n",
              "i           float64\n",
              "z           float64\n",
              "run           int64\n",
              "camcol        int64\n",
              "field         int64\n",
              "score       float64\n",
              "clean         int64\n",
              "class        object\n",
              "redshift    float64\n",
              "mjd           int64\n",
              "rowv        float64\n",
              "colv        float64\n",
              "dtype: object"
            ]
          },
          "execution_count": 450,
          "metadata": {},
          "output_type": "execute_result"
        }
      ],
      "source": [
        "star_alpes_train.dtypes"
      ]
    },
    {
      "cell_type": "markdown",
      "metadata": {
        "id": "7aw7GzopBiqp"
      },
      "source": [
        "2.3.4. Validez"
      ]
    },
    {
      "cell_type": "markdown",
      "metadata": {
        "id": "yySZ-4jkAOdE"
      },
      "source": [
        "Revisaremos que los datos esten en rangos y valores de acuerdo a lo establecido en el diccionario de datos."
      ]
    },
    {
      "cell_type": "markdown",
      "metadata": {
        "id": "xyM2jLq_AVw-"
      },
      "source": [
        "Para los numéricos haremos un describe:"
      ]
    },
    {
      "cell_type": "code",
      "execution_count": 451,
      "metadata": {
        "colab": {
          "base_uri": "https://localhost:8080/",
          "height": 320
        },
        "id": "b8dpKKAZAZS4",
        "outputId": "5aacc681-7a2f-4019-a839-ba9277f87cb5"
      },
      "outputs": [
        {
          "data": {
            "text/html": [
              "<div>\n",
              "<style scoped>\n",
              "    .dataframe tbody tr th:only-of-type {\n",
              "        vertical-align: middle;\n",
              "    }\n",
              "\n",
              "    .dataframe tbody tr th {\n",
              "        vertical-align: top;\n",
              "    }\n",
              "\n",
              "    .dataframe thead th {\n",
              "        text-align: right;\n",
              "    }\n",
              "</style>\n",
              "<table border=\"1\" class=\"dataframe\">\n",
              "  <thead>\n",
              "    <tr style=\"text-align: right;\">\n",
              "      <th></th>\n",
              "      <th>objid</th>\n",
              "      <th>ra</th>\n",
              "      <th>dec</th>\n",
              "      <th>u</th>\n",
              "      <th>g</th>\n",
              "      <th>r</th>\n",
              "      <th>i</th>\n",
              "      <th>z</th>\n",
              "      <th>run</th>\n",
              "      <th>camcol</th>\n",
              "      <th>field</th>\n",
              "      <th>score</th>\n",
              "      <th>clean</th>\n",
              "      <th>redshift</th>\n",
              "      <th>mjd</th>\n",
              "      <th>rowv</th>\n",
              "      <th>colv</th>\n",
              "    </tr>\n",
              "  </thead>\n",
              "  <tbody>\n",
              "    <tr>\n",
              "      <th>count</th>\n",
              "      <td>2.800000e+03</td>\n",
              "      <td>2800.000000</td>\n",
              "      <td>2800.000000</td>\n",
              "      <td>2800.000000</td>\n",
              "      <td>2800.000000</td>\n",
              "      <td>2800.000000</td>\n",
              "      <td>2800.000000</td>\n",
              "      <td>2800.000000</td>\n",
              "      <td>2800.000000</td>\n",
              "      <td>2800.000000</td>\n",
              "      <td>2800.000000</td>\n",
              "      <td>2800.000000</td>\n",
              "      <td>2800.000000</td>\n",
              "      <td>2800.000000</td>\n",
              "      <td>2800.000000</td>\n",
              "      <td>2800.000000</td>\n",
              "      <td>2800.000000</td>\n",
              "    </tr>\n",
              "    <tr>\n",
              "      <th>mean</th>\n",
              "      <td>1.237649e+18</td>\n",
              "      <td>185.706882</td>\n",
              "      <td>0.206136</td>\n",
              "      <td>18.595555</td>\n",
              "      <td>17.337990</td>\n",
              "      <td>16.808557</td>\n",
              "      <td>16.563584</td>\n",
              "      <td>16.405560</td>\n",
              "      <td>742.126786</td>\n",
              "      <td>3.372500</td>\n",
              "      <td>419.028214</td>\n",
              "      <td>0.850913</td>\n",
              "      <td>0.897857</td>\n",
              "      <td>0.125725</td>\n",
              "      <td>52963.977857</td>\n",
              "      <td>0.000092</td>\n",
              "      <td>-0.000163</td>\n",
              "    </tr>\n",
              "    <tr>\n",
              "      <th>std</th>\n",
              "      <td>4.290843e+11</td>\n",
              "      <td>40.946188</td>\n",
              "      <td>1.872847</td>\n",
              "      <td>0.850106</td>\n",
              "      <td>0.955505</td>\n",
              "      <td>1.057543</td>\n",
              "      <td>1.142566</td>\n",
              "      <td>1.190242</td>\n",
              "      <td>99.949594</td>\n",
              "      <td>1.702454</td>\n",
              "      <td>166.118781</td>\n",
              "      <td>0.073500</td>\n",
              "      <td>0.302890</td>\n",
              "      <td>0.366221</td>\n",
              "      <td>1601.129979</td>\n",
              "      <td>0.009334</td>\n",
              "      <td>0.007778</td>\n",
              "    </tr>\n",
              "    <tr>\n",
              "      <th>min</th>\n",
              "      <td>1.237646e+18</td>\n",
              "      <td>10.564540</td>\n",
              "      <td>-1.251920</td>\n",
              "      <td>13.551780</td>\n",
              "      <td>12.974870</td>\n",
              "      <td>12.362850</td>\n",
              "      <td>12.010790</td>\n",
              "      <td>11.799530</td>\n",
              "      <td>211.000000</td>\n",
              "      <td>1.000000</td>\n",
              "      <td>20.000000</td>\n",
              "      <td>0.301912</td>\n",
              "      <td>0.000000</td>\n",
              "      <td>-0.003322</td>\n",
              "      <td>51608.000000</td>\n",
              "      <td>-0.264516</td>\n",
              "      <td>-0.168807</td>\n",
              "    </tr>\n",
              "    <tr>\n",
              "      <th>25%</th>\n",
              "      <td>1.237649e+18</td>\n",
              "      <td>162.553765</td>\n",
              "      <td>-0.635942</td>\n",
              "      <td>18.145338</td>\n",
              "      <td>16.761110</td>\n",
              "      <td>16.153670</td>\n",
              "      <td>15.836365</td>\n",
              "      <td>15.586295</td>\n",
              "      <td>752.000000</td>\n",
              "      <td>2.000000</td>\n",
              "      <td>312.000000</td>\n",
              "      <td>0.836708</td>\n",
              "      <td>1.000000</td>\n",
              "      <td>0.000098</td>\n",
              "      <td>51693.000000</td>\n",
              "      <td>-0.001196</td>\n",
              "      <td>-0.001635</td>\n",
              "    </tr>\n",
              "    <tr>\n",
              "      <th>50%</th>\n",
              "      <td>1.237649e+18</td>\n",
              "      <td>195.503334</td>\n",
              "      <td>0.038939</td>\n",
              "      <td>18.832775</td>\n",
              "      <td>17.452585</td>\n",
              "      <td>16.821940</td>\n",
              "      <td>16.539775</td>\n",
              "      <td>16.366575</td>\n",
              "      <td>756.000000</td>\n",
              "      <td>3.000000</td>\n",
              "      <td>433.000000</td>\n",
              "      <td>0.860521</td>\n",
              "      <td>1.000000</td>\n",
              "      <td>0.028703</td>\n",
              "      <td>51985.000000</td>\n",
              "      <td>0.000365</td>\n",
              "      <td>0.000080</td>\n",
              "    </tr>\n",
              "    <tr>\n",
              "      <th>75%</th>\n",
              "      <td>1.237649e+18</td>\n",
              "      <td>214.218850</td>\n",
              "      <td>0.583797</td>\n",
              "      <td>19.260285</td>\n",
              "      <td>17.986520</td>\n",
              "      <td>17.490245</td>\n",
              "      <td>17.240642</td>\n",
              "      <td>17.132202</td>\n",
              "      <td>756.000000</td>\n",
              "      <td>5.000000</td>\n",
              "      <td>524.000000</td>\n",
              "      <td>0.879523</td>\n",
              "      <td>1.000000</td>\n",
              "      <td>0.085715</td>\n",
              "      <td>54468.000000</td>\n",
              "      <td>0.001700</td>\n",
              "      <td>0.001630</td>\n",
              "    </tr>\n",
              "    <tr>\n",
              "      <th>max</th>\n",
              "      <td>1.237650e+18</td>\n",
              "      <td>249.758313</td>\n",
              "      <td>13.854010</td>\n",
              "      <td>19.599290</td>\n",
              "      <td>22.497450</td>\n",
              "      <td>22.265960</td>\n",
              "      <td>28.179630</td>\n",
              "      <td>20.847690</td>\n",
              "      <td>1035.000000</td>\n",
              "      <td>6.000000</td>\n",
              "      <td>812.000000</td>\n",
              "      <td>0.961145</td>\n",
              "      <td>1.000000</td>\n",
              "      <td>4.192597</td>\n",
              "      <td>58932.000000</td>\n",
              "      <td>0.181871</td>\n",
              "      <td>0.128814</td>\n",
              "    </tr>\n",
              "  </tbody>\n",
              "</table>\n",
              "</div>"
            ],
            "text/plain": [
              "              objid           ra          dec            u            g  \\\n",
              "count  2.800000e+03  2800.000000  2800.000000  2800.000000  2800.000000   \n",
              "mean   1.237649e+18   185.706882     0.206136    18.595555    17.337990   \n",
              "std    4.290843e+11    40.946188     1.872847     0.850106     0.955505   \n",
              "min    1.237646e+18    10.564540    -1.251920    13.551780    12.974870   \n",
              "25%    1.237649e+18   162.553765    -0.635942    18.145338    16.761110   \n",
              "50%    1.237649e+18   195.503334     0.038939    18.832775    17.452585   \n",
              "75%    1.237649e+18   214.218850     0.583797    19.260285    17.986520   \n",
              "max    1.237650e+18   249.758313    13.854010    19.599290    22.497450   \n",
              "\n",
              "                 r            i            z          run       camcol  \\\n",
              "count  2800.000000  2800.000000  2800.000000  2800.000000  2800.000000   \n",
              "mean     16.808557    16.563584    16.405560   742.126786     3.372500   \n",
              "std       1.057543     1.142566     1.190242    99.949594     1.702454   \n",
              "min      12.362850    12.010790    11.799530   211.000000     1.000000   \n",
              "25%      16.153670    15.836365    15.586295   752.000000     2.000000   \n",
              "50%      16.821940    16.539775    16.366575   756.000000     3.000000   \n",
              "75%      17.490245    17.240642    17.132202   756.000000     5.000000   \n",
              "max      22.265960    28.179630    20.847690  1035.000000     6.000000   \n",
              "\n",
              "             field        score        clean     redshift           mjd  \\\n",
              "count  2800.000000  2800.000000  2800.000000  2800.000000   2800.000000   \n",
              "mean    419.028214     0.850913     0.897857     0.125725  52963.977857   \n",
              "std     166.118781     0.073500     0.302890     0.366221   1601.129979   \n",
              "min      20.000000     0.301912     0.000000    -0.003322  51608.000000   \n",
              "25%     312.000000     0.836708     1.000000     0.000098  51693.000000   \n",
              "50%     433.000000     0.860521     1.000000     0.028703  51985.000000   \n",
              "75%     524.000000     0.879523     1.000000     0.085715  54468.000000   \n",
              "max     812.000000     0.961145     1.000000     4.192597  58932.000000   \n",
              "\n",
              "              rowv         colv  \n",
              "count  2800.000000  2800.000000  \n",
              "mean      0.000092    -0.000163  \n",
              "std       0.009334     0.007778  \n",
              "min      -0.264516    -0.168807  \n",
              "25%      -0.001196    -0.001635  \n",
              "50%       0.000365     0.000080  \n",
              "75%       0.001700     0.001630  \n",
              "max       0.181871     0.128814  "
            ]
          },
          "execution_count": 451,
          "metadata": {},
          "output_type": "execute_result"
        }
      ],
      "source": [
        "star_alpes_train.describe()"
      ]
    },
    {
      "cell_type": "markdown",
      "metadata": {
        "id": "Qemh0lvXBVtw"
      },
      "source": [
        "Para los datos que se proporcionan se tienen las siguientes conclusiones de la validez:\n",
        "\n",
        "- ra: No tiene restricciones\n",
        "- dec: No tiene restricciones\n",
        "- u: Valor mayor a 0, el mínimo es 13.55\n",
        "- g: Valor mayor a 0, el mínimo es 12.97\n",
        "- r: Valor mayor a 0, el mínimo es 12.36\n",
        "- i: Valor mayor a 0, el mínimo es 12.01\n",
        "- z: Valor mayor a 0, el mínimo es 11.79\n",
        "- run: No tiene restricciones\n",
        "- camcol: No tiene restricciones\n",
        "- field: No tiene restricciones\n",
        "- score: Valor entre 0 y 1, el mínimo es 0.3 y el máximo es 0.96\n",
        "- clean: Valor binario, se cumple pues solo existen valores de 0 y 1\n",
        "- mjd: Dia por lo cual es positivo, se cumple\n",
        "- rowv: No tiene restricciones\n",
        "- colv: No tiene restricciones\n",
        "\n",
        "Esto nos permite ver que los datos cumplen los estandares de las variables numéricas.\n",
        "\n",
        "Ahora revisamos las variables categóricas:"
      ]
    },
    {
      "cell_type": "code",
      "execution_count": 452,
      "metadata": {
        "colab": {
          "base_uri": "https://localhost:8080/",
          "height": 304
        },
        "id": "WbMPpw0xFweI",
        "outputId": "dcde9e07-6391-4d46-b9ea-6c7386f9140e"
      },
      "outputs": [
        {
          "data": {
            "text/plain": [
              "class \n",
              "GALAXY    1286\n",
              "STAR      1163\n",
              "QSO        192\n",
              "S          130\n",
              "G           28\n",
              "QUASAR       1\n",
              "Name: count, dtype: int64"
            ]
          },
          "execution_count": 452,
          "metadata": {},
          "output_type": "execute_result"
        }
      ],
      "source": [
        "star_alpes_train.value_counts([\"class\"])"
      ]
    },
    {
      "cell_type": "markdown",
      "metadata": {
        "id": "oX7QAJFs7NvK"
      },
      "source": [
        "Lo anterior y de acuerdo con el diccionario de los datos nos muestra que hay errores en la clase de algunos datos, ya que las únicas clases aceptadas son: \"STAR\", \"GALAXY\" y \"QSO\". Esto lo solucionaremos más adelante en la preparación de los datos para el modelo."
      ]
    },
    {
      "cell_type": "markdown",
      "metadata": {
        "id": "_dP4dD223ICA"
      },
      "source": [
        "De modo que tenemos que asignar las clases de la siguiente manera:\n",
        "\n",
        "- S con STAR\n",
        "- G con GALAXY\n",
        "- QUASAR con QSO"
      ]
    },
    {
      "cell_type": "markdown",
      "metadata": {
        "id": "aDyA8Sq-11Jl"
      },
      "source": [
        "# 3. Preparación de los Datos"
      ]
    },
    {
      "cell_type": "markdown",
      "metadata": {
        "id": "cHFDyPr54-p3"
      },
      "source": [
        "3.1 Calidad de los Datos"
      ]
    },
    {
      "cell_type": "markdown",
      "metadata": {
        "id": "eNCFwYC65dZS"
      },
      "source": [
        "Lo primero será eliminar las filas duplicadas:"
      ]
    },
    {
      "cell_type": "code",
      "execution_count": 453,
      "metadata": {
        "colab": {
          "base_uri": "https://localhost:8080/",
          "height": 89
        },
        "id": "K_8vwoRPD0PY",
        "outputId": "52409b3a-fb90-4fd5-96c1-cd3836c9fb2b"
      },
      "outputs": [
        {
          "name": "stdout",
          "output_type": "stream",
          "text": [
            "Empty DataFrame\n",
            "Columns: [objid, ra, dec, u, g, r, i, z, run, camcol, field, score, clean, class, redshift, mjd, rowv, colv]\n",
            "Index: []\n",
            "                    objid          ra       dec         u         g         r  \\\n",
            "1850  1237648705133609025  228.240855  0.550084  18.61315  17.45258  16.97596   \n",
            "2293  1237648722836979839  170.084372  1.152687  18.98493  18.07521  17.75717   \n",
            "576   1237648722306072757  183.593410  0.806727  19.07964  17.76399  17.09437   \n",
            "2731  1237648705128103978  215.691773  0.607521  17.50026  16.70191  16.27915   \n",
            "1051  1237648722306531342  184.627848  0.704500  18.94428  18.48217  18.59776   \n",
            "...                   ...         ...       ...       ...       ...       ...   \n",
            "3839  1237646586637517282   83.417598 -0.115248  19.46230  18.00237  17.44466   \n",
            "1096  1237648721205199479  121.647741 -0.203825  19.18845  17.24166  16.21730   \n",
            "3980  1237648722837307633  170.798233  1.120108  18.49814  16.59104  15.60435   \n",
            "235   1237648675606823365  246.084939  1.174142  18.78055  17.26691  16.68871   \n",
            "1061  1237648722304696440  180.450954  0.693904  19.40882  17.95349  17.11518   \n",
            "\n",
            "             i         z  run  camcol  field     score  clean   class  \\\n",
            "1850  16.78189  16.71016  752       5    566  0.900024      1    STAR   \n",
            "2293  17.47159  17.35234  756       6    362  0.835497      1  GALAXY   \n",
            "576   16.64935  16.39651  756       5    453  0.869598      1  GALAXY   \n",
            "2731  16.12040  15.90042  752       5    482  0.782479      1    STAR   \n",
            "1051  18.75273  18.95143  756       5    460  0.861380      1       S   \n",
            "...        ...       ...  ...     ...    ...       ...    ...     ...   \n",
            "3839  17.18726  17.06655  259       3    513  0.875764      1    STAR   \n",
            "1096  15.74120  15.32559  756       3     39  0.849697      1  GALAXY   \n",
            "3980  15.10856  14.72823  756       6    367  0.848690      1  GALAXY   \n",
            "235   16.45830  16.32949  745       6    583  0.365036      1    STAR   \n",
            "1061  16.70000  16.37741  756       5    432  0.867404      1  GALAXY   \n",
            "\n",
            "      redshift    mjd      rowv      colv  \n",
            "1850 -0.000240  51689  0.000445  0.000600  \n",
            "2293  0.069297  51612  0.005334  0.003222  \n",
            "576   0.074547  52023  0.001326 -0.001918  \n",
            "2731  0.000169  51609  0.001273 -0.000099  \n",
            "1051  0.000104  52000  0.002519  0.002058  \n",
            "...        ...    ...       ...       ...  \n",
            "3839  0.000110  53401  0.000915  0.000870  \n",
            "1096  0.089494  55892 -0.000665 -0.003042  \n",
            "3980  0.070314  51612  0.001803 -0.002178  \n",
            "235  -0.000001  52000 -0.003050 -0.001240  \n",
            "1061  0.125187  51999 -0.004262  0.002187  \n",
            "\n",
            "[2796 rows x 18 columns]\n",
            "                    objid          ra       dec         u         g         r  \\\n",
            "1850  1237648705133609025  228.240855  0.550084  18.61315  17.45258  16.97596   \n",
            "2293  1237648722836979839  170.084372  1.152687  18.98493  18.07521  17.75717   \n",
            "576   1237648722306072757  183.593410  0.806727  19.07964  17.76399  17.09437   \n",
            "2731  1237648705128103978  215.691773  0.607521  17.50026  16.70191  16.27915   \n",
            "1051  1237648722306531342  184.627848  0.704500  18.94428  18.48217  18.59776   \n",
            "...                   ...         ...       ...       ...       ...       ...   \n",
            "3839  1237646586637517282   83.417598 -0.115248  19.46230  18.00237  17.44466   \n",
            "1096  1237648721205199479  121.647741 -0.203825  19.18845  17.24166  16.21730   \n",
            "3980  1237648722837307633  170.798233  1.120108  18.49814  16.59104  15.60435   \n",
            "235   1237648675606823365  246.084939  1.174142  18.78055  17.26691  16.68871   \n",
            "1061  1237648722304696440  180.450954  0.693904  19.40882  17.95349  17.11518   \n",
            "\n",
            "             i         z  run  camcol  field     score  clean   class  \\\n",
            "1850  16.78189  16.71016  752       5    566  0.900024      1    STAR   \n",
            "2293  17.47159  17.35234  756       6    362  0.835497      1  GALAXY   \n",
            "576   16.64935  16.39651  756       5    453  0.869598      1  GALAXY   \n",
            "2731  16.12040  15.90042  752       5    482  0.782479      1    STAR   \n",
            "1051  18.75273  18.95143  756       5    460  0.861380      1       S   \n",
            "...        ...       ...  ...     ...    ...       ...    ...     ...   \n",
            "3839  17.18726  17.06655  259       3    513  0.875764      1    STAR   \n",
            "1096  15.74120  15.32559  756       3     39  0.849697      1  GALAXY   \n",
            "3980  15.10856  14.72823  756       6    367  0.848690      1  GALAXY   \n",
            "235   16.45830  16.32949  745       6    583  0.365036      1    STAR   \n",
            "1061  16.70000  16.37741  756       5    432  0.867404      1  GALAXY   \n",
            "\n",
            "      redshift    mjd      rowv      colv  \n",
            "1850 -0.000240  51689  0.000445  0.000600  \n",
            "2293  0.069297  51612  0.005334  0.003222  \n",
            "576   0.074547  52023  0.001326 -0.001918  \n",
            "2731  0.000169  51609  0.001273 -0.000099  \n",
            "1051  0.000104  52000  0.002519  0.002058  \n",
            "...        ...    ...       ...       ...  \n",
            "3839  0.000110  53401  0.000915  0.000870  \n",
            "1096  0.089494  55892 -0.000665 -0.003042  \n",
            "3980  0.070314  51612  0.001803 -0.002178  \n",
            "235  -0.000001  52000 -0.003050 -0.001240  \n",
            "1061  0.125187  51999 -0.004262  0.002187  \n",
            "\n",
            "[2796 rows x 18 columns]\n"
          ]
        }
      ],
      "source": [
        "def drop_dup(train):\n",
        "\n",
        "    train.drop_duplicates(subset = 'objid', keep = 'first', inplace = True)\n",
        "\n",
        "    duplicated_rows = train.loc[train.duplicated(subset=[\"redshift\"]+[\"objid\"], keep=False)].sort_values(\"objid\")\n",
        "    print(duplicated_rows)\n",
        "    print(train)\n",
        "\n",
        "    star_alpes_train = train\n",
        "\n",
        "    return star_alpes_train\n",
        "\n",
        "print(drop_dup(train=star_alpes_train))"
      ]
    },
    {
      "cell_type": "markdown",
      "metadata": {
        "id": "VHhhx7JH5j6B"
      },
      "source": [
        "Ahora revisamos las clases de las filas:"
      ]
    },
    {
      "cell_type": "code",
      "execution_count": 454,
      "metadata": {
        "colab": {
          "base_uri": "https://localhost:8080/",
          "height": 210
        },
        "id": "gVAECgTzEaNY",
        "outputId": "279920cc-cbab-4de8-d9c4-cb8a405b8cdf"
      },
      "outputs": [
        {
          "name": "stdout",
          "output_type": "stream",
          "text": [
            "class\n",
            "GALAXY    1311\n",
            "STAR      1292\n",
            "QSO        193\n",
            "Name: count, dtype: int64\n",
            "                    objid          ra       dec         u         g         r  \\\n",
            "1850  1237648705133609025  228.240855  0.550084  18.61315  17.45258  16.97596   \n",
            "2293  1237648722836979839  170.084372  1.152687  18.98493  18.07521  17.75717   \n",
            "576   1237648722306072757  183.593410  0.806727  19.07964  17.76399  17.09437   \n",
            "2731  1237648705128103978  215.691773  0.607521  17.50026  16.70191  16.27915   \n",
            "1051  1237648722306531342  184.627848  0.704500  18.94428  18.48217  18.59776   \n",
            "...                   ...         ...       ...       ...       ...       ...   \n",
            "3839  1237646586637517282   83.417598 -0.115248  19.46230  18.00237  17.44466   \n",
            "1096  1237648721205199479  121.647741 -0.203825  19.18845  17.24166  16.21730   \n",
            "3980  1237648722837307633  170.798233  1.120108  18.49814  16.59104  15.60435   \n",
            "235   1237648675606823365  246.084939  1.174142  18.78055  17.26691  16.68871   \n",
            "1061  1237648722304696440  180.450954  0.693904  19.40882  17.95349  17.11518   \n",
            "\n",
            "             i         z  run  camcol  field     score  clean   class  \\\n",
            "1850  16.78189  16.71016  752       5    566  0.900024      1    STAR   \n",
            "2293  17.47159  17.35234  756       6    362  0.835497      1  GALAXY   \n",
            "576   16.64935  16.39651  756       5    453  0.869598      1  GALAXY   \n",
            "2731  16.12040  15.90042  752       5    482  0.782479      1    STAR   \n",
            "1051  18.75273  18.95143  756       5    460  0.861380      1    STAR   \n",
            "...        ...       ...  ...     ...    ...       ...    ...     ...   \n",
            "3839  17.18726  17.06655  259       3    513  0.875764      1    STAR   \n",
            "1096  15.74120  15.32559  756       3     39  0.849697      1  GALAXY   \n",
            "3980  15.10856  14.72823  756       6    367  0.848690      1  GALAXY   \n",
            "235   16.45830  16.32949  745       6    583  0.365036      1    STAR   \n",
            "1061  16.70000  16.37741  756       5    432  0.867404      1  GALAXY   \n",
            "\n",
            "      redshift    mjd      rowv      colv  \n",
            "1850 -0.000240  51689  0.000445  0.000600  \n",
            "2293  0.069297  51612  0.005334  0.003222  \n",
            "576   0.074547  52023  0.001326 -0.001918  \n",
            "2731  0.000169  51609  0.001273 -0.000099  \n",
            "1051  0.000104  52000  0.002519  0.002058  \n",
            "...        ...    ...       ...       ...  \n",
            "3839  0.000110  53401  0.000915  0.000870  \n",
            "1096  0.089494  55892 -0.000665 -0.003042  \n",
            "3980  0.070314  51612  0.001803 -0.002178  \n",
            "235  -0.000001  52000 -0.003050 -0.001240  \n",
            "1061  0.125187  51999 -0.004262  0.002187  \n",
            "\n",
            "[2796 rows x 18 columns]\n",
            "class\n",
            "GALAXY    1311\n",
            "STAR      1292\n",
            "QSO        193\n",
            "Name: count, dtype: int64\n"
          ]
        }
      ],
      "source": [
        "def check_class(train):\n",
        "\n",
        "    train.loc[train['class'].apply(lambda s: str(s).upper() == 'S'),'class'] = 'STAR'\n",
        "    train.loc[train['class'].apply(lambda s: str(s).upper() == 'G'),'class'] = 'GALAXY'\n",
        "    train.loc[train['class'].apply(lambda s: str(s).upper() == 'QUASAR'),'class'] = 'QSO'\n",
        "\n",
        "    print(train['class'].value_counts())\n",
        "\n",
        "    star_alpes_train = train\n",
        "\n",
        "    return star_alpes_train\n",
        "\n",
        "print(check_class(train=star_alpes_train))\n",
        "\n",
        "print(star_alpes_train['class'].value_counts())"
      ]
    },
    {
      "cell_type": "markdown",
      "metadata": {
        "id": "a0Df1q7t3-K3"
      },
      "source": [
        "Ahora generaremos el One Hot Encoder para la variable \"class\"."
      ]
    },
    {
      "cell_type": "code",
      "execution_count": 455,
      "metadata": {
        "colab": {
          "base_uri": "https://localhost:8080/"
        },
        "id": "iSAdLfJD4Kzf",
        "outputId": "8a6f7ad7-5d7d-4e3b-e529-51dbcc501410"
      },
      "outputs": [
        {
          "name": "stdout",
          "output_type": "stream",
          "text": [
            "      index                objid          ra       dec         u         g  \\\n",
            "0      1850  1237648705133609025  228.240855  0.550084  18.61315  17.45258   \n",
            "1      2293  1237648722836979839  170.084372  1.152687  18.98493  18.07521   \n",
            "2       576  1237648722306072757  183.593410  0.806727  19.07964  17.76399   \n",
            "3      2731  1237648705128103978  215.691773  0.607521  17.50026  16.70191   \n",
            "4      1051  1237648722306531342  184.627848  0.704500  18.94428  18.48217   \n",
            "...     ...                  ...         ...       ...       ...       ...   \n",
            "2791   3839  1237646586637517282   83.417598 -0.115248  19.46230  18.00237   \n",
            "2792   1096  1237648721205199479  121.647741 -0.203825  19.18845  17.24166   \n",
            "2793   3980  1237648722837307633  170.798233  1.120108  18.49814  16.59104   \n",
            "2794    235  1237648675606823365  246.084939  1.174142  18.78055  17.26691   \n",
            "2795   1061  1237648722304696440  180.450954  0.693904  19.40882  17.95349   \n",
            "\n",
            "             r         i         z  run  ...     score  clean  redshift  \\\n",
            "0     16.97596  16.78189  16.71016  752  ...  0.900024      1 -0.000240   \n",
            "1     17.75717  17.47159  17.35234  756  ...  0.835497      1  0.069297   \n",
            "2     17.09437  16.64935  16.39651  756  ...  0.869598      1  0.074547   \n",
            "3     16.27915  16.12040  15.90042  752  ...  0.782479      1  0.000169   \n",
            "4     18.59776  18.75273  18.95143  756  ...  0.861380      1  0.000104   \n",
            "...        ...       ...       ...  ...  ...       ...    ...       ...   \n",
            "2791  17.44466  17.18726  17.06655  259  ...  0.875764      1  0.000110   \n",
            "2792  16.21730  15.74120  15.32559  756  ...  0.849697      1  0.089494   \n",
            "2793  15.60435  15.10856  14.72823  756  ...  0.848690      1  0.070314   \n",
            "2794  16.68871  16.45830  16.32949  745  ...  0.365036      1 -0.000001   \n",
            "2795  17.11518  16.70000  16.37741  756  ...  0.867404      1  0.125187   \n",
            "\n",
            "        mjd      rowv      colv  index  class_GALAXY  class_QSO  class_STAR  \n",
            "0     51689  0.000445  0.000600      0           0.0        0.0         1.0  \n",
            "1     51612  0.005334  0.003222      1           1.0        0.0         0.0  \n",
            "2     52023  0.001326 -0.001918      2           1.0        0.0         0.0  \n",
            "3     51609  0.001273 -0.000099      3           0.0        0.0         1.0  \n",
            "4     52000  0.002519  0.002058      4           0.0        0.0         1.0  \n",
            "...     ...       ...       ...    ...           ...        ...         ...  \n",
            "2791  53401  0.000915  0.000870   2791           0.0        0.0         1.0  \n",
            "2792  55892 -0.000665 -0.003042   2792           1.0        0.0         0.0  \n",
            "2793  51612  0.001803 -0.002178   2793           1.0        0.0         0.0  \n",
            "2794  52000 -0.003050 -0.001240   2794           0.0        0.0         1.0  \n",
            "2795  51999 -0.004262  0.002187   2795           1.0        0.0         0.0  \n",
            "\n",
            "[2796 rows x 22 columns]\n"
          ]
        }
      ],
      "source": [
        "def OHE_class(train):\n",
        "\n",
        "    clases = np.array([['STAR'], ['GALAXY'], ['QSO']])\n",
        "\n",
        "    df = train\n",
        "\n",
        "    encoder = OneHotEncoder(sparse_output=False, handle_unknown='ignore')\n",
        "\n",
        "    star_encoded = encoder.fit_transform(df[['class']])\n",
        "\n",
        "    nom_col = encoder.get_feature_names_out(['class'])\n",
        "    df_encoded = pd.DataFrame(star_encoded, columns=nom_col)\n",
        "\n",
        "    star_alpes_train = pd.concat([df.drop(columns=['class']).reset_index(), df_encoded.reset_index()], axis = 1)\n",
        "\n",
        "    star_alpes_t = star_alpes_train.copy()\n",
        "\n",
        "    return star_alpes_t\n",
        "\n",
        "print(OHE_class(train=star_alpes_train))\n",
        "\n",
        "star_alpes_t = OHE_class(train=star_alpes_train)\n",
        "\n"
      ]
    },
    {
      "cell_type": "markdown",
      "metadata": {
        "id": "d3aB_8qJTGD8"
      },
      "source": [
        "Ahora realizaremos un filtrado y eliminaremos las filas cuyos valores en clean sean de 0, es decir que sean lecturas sucias y podrían afectar el modelo.\n",
        "Además, vamos a quitar las filas cuyos valores de score sean inferiores al 50% para poder tener una mayor precisión."
      ]
    },
    {
      "cell_type": "code",
      "execution_count": 456,
      "metadata": {
        "id": "hwHvxN6ITFyG"
      },
      "outputs": [
        {
          "name": "stdout",
          "output_type": "stream",
          "text": [
            "      index                objid          ra       dec         u         g  \\\n",
            "0      1850  1237648705133609025  228.240855  0.550084  18.61315  17.45258   \n",
            "1      2293  1237648722836979839  170.084372  1.152687  18.98493  18.07521   \n",
            "2       576  1237648722306072757  183.593410  0.806727  19.07964  17.76399   \n",
            "3      2731  1237648705128103978  215.691773  0.607521  17.50026  16.70191   \n",
            "4      1051  1237648722306531342  184.627848  0.704500  18.94428  18.48217   \n",
            "...     ...                  ...         ...       ...       ...       ...   \n",
            "2790    905  1237648705135509892  232.565224  0.519655  19.57235  18.18137   \n",
            "2791   3839  1237646586637517282   83.417598 -0.115248  19.46230  18.00237   \n",
            "2792   1096  1237648721205199479  121.647741 -0.203825  19.18845  17.24166   \n",
            "2793   3980  1237648722837307633  170.798233  1.120108  18.49814  16.59104   \n",
            "2795   1061  1237648722304696440  180.450954  0.693904  19.40882  17.95349   \n",
            "\n",
            "             r         i         z  run  ...     score  clean  redshift  \\\n",
            "0     16.97596  16.78189  16.71016  752  ...  0.900024      1 -0.000240   \n",
            "1     17.75717  17.47159  17.35234  756  ...  0.835497      1  0.069297   \n",
            "2     17.09437  16.64935  16.39651  756  ...  0.869598      1  0.074547   \n",
            "3     16.27915  16.12040  15.90042  752  ...  0.782479      1  0.000169   \n",
            "4     18.59776  18.75273  18.95143  756  ...  0.861380      1  0.000104   \n",
            "...        ...       ...       ...  ...  ...       ...    ...       ...   \n",
            "2790  17.38634  16.93528  16.62593  752  ...  0.875014      1  0.093482   \n",
            "2791  17.44466  17.18726  17.06655  259  ...  0.875764      1  0.000110   \n",
            "2792  16.21730  15.74120  15.32559  756  ...  0.849697      1  0.089494   \n",
            "2793  15.60435  15.10856  14.72823  756  ...  0.848690      1  0.070314   \n",
            "2795  17.11518  16.70000  16.37741  756  ...  0.867404      1  0.125187   \n",
            "\n",
            "        mjd      rowv      colv  index  class_GALAXY  class_QSO  class_STAR  \n",
            "0     51689  0.000445  0.000600      0           0.0        0.0         1.0  \n",
            "1     51612  0.005334  0.003222      1           1.0        0.0         0.0  \n",
            "2     52023  0.001326 -0.001918      2           1.0        0.0         0.0  \n",
            "3     51609  0.001273 -0.000099      3           0.0        0.0         1.0  \n",
            "4     52000  0.002519  0.002058      4           0.0        0.0         1.0  \n",
            "...     ...       ...       ...    ...           ...        ...         ...  \n",
            "2790  51989  0.001259 -0.002201   2790           1.0        0.0         0.0  \n",
            "2791  53401  0.000915  0.000870   2791           0.0        0.0         1.0  \n",
            "2792  55892 -0.000665 -0.003042   2792           1.0        0.0         0.0  \n",
            "2793  51612  0.001803 -0.002178   2793           1.0        0.0         0.0  \n",
            "2795  51999 -0.004262  0.002187   2795           1.0        0.0         0.0  \n",
            "\n",
            "[2468 rows x 22 columns]\n"
          ]
        }
      ],
      "source": [
        "def filter_clean_score(train):\n",
        "\n",
        "    train = train[train['clean'] == 1]\n",
        "    train = train[train['score'] >= 0.50]\n",
        "\n",
        "    star_alpes_train = train\n",
        "\n",
        "    return star_alpes_train\n",
        "\n",
        "print(filter_clean_score(train=star_alpes_t))"
      ]
    },
    {
      "cell_type": "code",
      "execution_count": 457,
      "metadata": {
        "colab": {
          "base_uri": "https://localhost:8080/",
          "height": 256
        },
        "id": "3OmbpKJ6Jrud",
        "outputId": "6f2c9a84-2580-44b8-dc17-0c48d057d3ff"
      },
      "outputs": [
        {
          "data": {
            "text/html": [
              "<div>\n",
              "<style scoped>\n",
              "    .dataframe tbody tr th:only-of-type {\n",
              "        vertical-align: middle;\n",
              "    }\n",
              "\n",
              "    .dataframe tbody tr th {\n",
              "        vertical-align: top;\n",
              "    }\n",
              "\n",
              "    .dataframe thead th {\n",
              "        text-align: right;\n",
              "    }\n",
              "</style>\n",
              "<table border=\"1\" class=\"dataframe\">\n",
              "  <thead>\n",
              "    <tr style=\"text-align: right;\">\n",
              "      <th></th>\n",
              "      <th>index</th>\n",
              "      <th>objid</th>\n",
              "      <th>ra</th>\n",
              "      <th>dec</th>\n",
              "      <th>u</th>\n",
              "      <th>g</th>\n",
              "      <th>r</th>\n",
              "      <th>i</th>\n",
              "      <th>z</th>\n",
              "      <th>run</th>\n",
              "      <th>...</th>\n",
              "      <th>score</th>\n",
              "      <th>clean</th>\n",
              "      <th>redshift</th>\n",
              "      <th>mjd</th>\n",
              "      <th>rowv</th>\n",
              "      <th>colv</th>\n",
              "      <th>index</th>\n",
              "      <th>class_GALAXY</th>\n",
              "      <th>class_QSO</th>\n",
              "      <th>class_STAR</th>\n",
              "    </tr>\n",
              "  </thead>\n",
              "  <tbody>\n",
              "    <tr>\n",
              "      <th>2138</th>\n",
              "      <td>1076</td>\n",
              "      <td>1237648705128104116</td>\n",
              "      <td>215.691633</td>\n",
              "      <td>0.503773</td>\n",
              "      <td>19.28612</td>\n",
              "      <td>17.40576</td>\n",
              "      <td>16.34244</td>\n",
              "      <td>15.69377</td>\n",
              "      <td>15.31445</td>\n",
              "      <td>752</td>\n",
              "      <td>...</td>\n",
              "      <td>0.782479</td>\n",
              "      <td>1</td>\n",
              "      <td>0.167163</td>\n",
              "      <td>51609</td>\n",
              "      <td>0.001254</td>\n",
              "      <td>0.002213</td>\n",
              "      <td>2138</td>\n",
              "      <td>1.0</td>\n",
              "      <td>0.0</td>\n",
              "      <td>0.0</td>\n",
              "    </tr>\n",
              "    <tr>\n",
              "      <th>1264</th>\n",
              "      <td>1932</td>\n",
              "      <td>1237648704594379145</td>\n",
              "      <td>222.897997</td>\n",
              "      <td>0.097889</td>\n",
              "      <td>19.30388</td>\n",
              "      <td>17.60064</td>\n",
              "      <td>16.77374</td>\n",
              "      <td>16.37262</td>\n",
              "      <td>16.04573</td>\n",
              "      <td>752</td>\n",
              "      <td>...</td>\n",
              "      <td>0.942330</td>\n",
              "      <td>1</td>\n",
              "      <td>0.063990</td>\n",
              "      <td>51994</td>\n",
              "      <td>-0.001042</td>\n",
              "      <td>-0.000702</td>\n",
              "      <td>1264</td>\n",
              "      <td>1.0</td>\n",
              "      <td>0.0</td>\n",
              "      <td>0.0</td>\n",
              "    </tr>\n",
              "    <tr>\n",
              "      <th>1021</th>\n",
              "      <td>1818</td>\n",
              "      <td>1237648704589070542</td>\n",
              "      <td>210.789509</td>\n",
              "      <td>0.036529</td>\n",
              "      <td>19.35308</td>\n",
              "      <td>18.17266</td>\n",
              "      <td>17.55359</td>\n",
              "      <td>17.19433</td>\n",
              "      <td>16.92494</td>\n",
              "      <td>752</td>\n",
              "      <td>...</td>\n",
              "      <td>0.905438</td>\n",
              "      <td>0</td>\n",
              "      <td>0.081626</td>\n",
              "      <td>51942</td>\n",
              "      <td>-0.003341</td>\n",
              "      <td>-0.005478</td>\n",
              "      <td>1021</td>\n",
              "      <td>1.0</td>\n",
              "      <td>0.0</td>\n",
              "      <td>0.0</td>\n",
              "    </tr>\n",
              "    <tr>\n",
              "      <th>167</th>\n",
              "      <td>1266</td>\n",
              "      <td>1237648705676705841</td>\n",
              "      <td>242.466464</td>\n",
              "      <td>0.849118</td>\n",
              "      <td>18.71046</td>\n",
              "      <td>17.34403</td>\n",
              "      <td>16.43046</td>\n",
              "      <td>15.98380</td>\n",
              "      <td>15.63388</td>\n",
              "      <td>752</td>\n",
              "      <td>...</td>\n",
              "      <td>0.836894</td>\n",
              "      <td>0</td>\n",
              "      <td>0.031308</td>\n",
              "      <td>51690</td>\n",
              "      <td>-0.064220</td>\n",
              "      <td>-0.168807</td>\n",
              "      <td>167</td>\n",
              "      <td>1.0</td>\n",
              "      <td>0.0</td>\n",
              "      <td>0.0</td>\n",
              "    </tr>\n",
              "    <tr>\n",
              "      <th>13</th>\n",
              "      <td>1614</td>\n",
              "      <td>1237648702972821531</td>\n",
              "      <td>197.879286</td>\n",
              "      <td>-1.058977</td>\n",
              "      <td>18.78144</td>\n",
              "      <td>18.74320</td>\n",
              "      <td>18.47270</td>\n",
              "      <td>18.41987</td>\n",
              "      <td>18.49169</td>\n",
              "      <td>752</td>\n",
              "      <td>...</td>\n",
              "      <td>0.856827</td>\n",
              "      <td>1</td>\n",
              "      <td>1.302879</td>\n",
              "      <td>51985</td>\n",
              "      <td>0.002797</td>\n",
              "      <td>0.002299</td>\n",
              "      <td>13</td>\n",
              "      <td>0.0</td>\n",
              "      <td>1.0</td>\n",
              "      <td>0.0</td>\n",
              "    </tr>\n",
              "  </tbody>\n",
              "</table>\n",
              "<p>5 rows × 22 columns</p>\n",
              "</div>"
            ],
            "text/plain": [
              "      index                objid          ra       dec         u         g  \\\n",
              "2138   1076  1237648705128104116  215.691633  0.503773  19.28612  17.40576   \n",
              "1264   1932  1237648704594379145  222.897997  0.097889  19.30388  17.60064   \n",
              "1021   1818  1237648704589070542  210.789509  0.036529  19.35308  18.17266   \n",
              "167    1266  1237648705676705841  242.466464  0.849118  18.71046  17.34403   \n",
              "13     1614  1237648702972821531  197.879286 -1.058977  18.78144  18.74320   \n",
              "\n",
              "             r         i         z  run  ...     score  clean  redshift  \\\n",
              "2138  16.34244  15.69377  15.31445  752  ...  0.782479      1  0.167163   \n",
              "1264  16.77374  16.37262  16.04573  752  ...  0.942330      1  0.063990   \n",
              "1021  17.55359  17.19433  16.92494  752  ...  0.905438      0  0.081626   \n",
              "167   16.43046  15.98380  15.63388  752  ...  0.836894      0  0.031308   \n",
              "13    18.47270  18.41987  18.49169  752  ...  0.856827      1  1.302879   \n",
              "\n",
              "        mjd      rowv      colv  index  class_GALAXY  class_QSO  class_STAR  \n",
              "2138  51609  0.001254  0.002213   2138           1.0        0.0         0.0  \n",
              "1264  51994 -0.001042 -0.000702   1264           1.0        0.0         0.0  \n",
              "1021  51942 -0.003341 -0.005478   1021           1.0        0.0         0.0  \n",
              "167   51690 -0.064220 -0.168807    167           1.0        0.0         0.0  \n",
              "13    51985  0.002797  0.002299     13           0.0        1.0         0.0  \n",
              "\n",
              "[5 rows x 22 columns]"
            ]
          },
          "execution_count": 457,
          "metadata": {},
          "output_type": "execute_result"
        }
      ],
      "source": [
        "star_alpes_t.sample(5)"
      ]
    },
    {
      "cell_type": "markdown",
      "metadata": {
        "id": "0uD5bwuILAkL"
      },
      "source": [
        "Nos decicimos de la columna class y en su lugar hicimos 3 columnas binarias dependiendo de la clase donde se clasificaron los elementos.\n",
        "\n",
        "También hicimos un filtrado y nos quedamos con los elementos que tienen un score mayor a 50% (0.5) y un clean de 1.\n"
      ]
    },
    {
      "cell_type": "code",
      "execution_count": 458,
      "metadata": {},
      "outputs": [
        {
          "data": {
            "text/html": [
              "<div>\n",
              "<style scoped>\n",
              "    .dataframe tbody tr th:only-of-type {\n",
              "        vertical-align: middle;\n",
              "    }\n",
              "\n",
              "    .dataframe tbody tr th {\n",
              "        vertical-align: top;\n",
              "    }\n",
              "\n",
              "    .dataframe thead th {\n",
              "        text-align: right;\n",
              "    }\n",
              "</style>\n",
              "<table border=\"1\" class=\"dataframe\">\n",
              "  <thead>\n",
              "    <tr style=\"text-align: right;\">\n",
              "      <th></th>\n",
              "      <th>index</th>\n",
              "      <th>objid</th>\n",
              "      <th>ra</th>\n",
              "      <th>dec</th>\n",
              "      <th>u</th>\n",
              "      <th>g</th>\n",
              "      <th>r</th>\n",
              "      <th>i</th>\n",
              "      <th>z</th>\n",
              "      <th>run</th>\n",
              "      <th>...</th>\n",
              "      <th>field</th>\n",
              "      <th>score</th>\n",
              "      <th>clean</th>\n",
              "      <th>mjd</th>\n",
              "      <th>rowv</th>\n",
              "      <th>colv</th>\n",
              "      <th>index</th>\n",
              "      <th>class_GALAXY</th>\n",
              "      <th>class_QSO</th>\n",
              "      <th>class_STAR</th>\n",
              "    </tr>\n",
              "  </thead>\n",
              "  <tbody>\n",
              "    <tr>\n",
              "      <th>173</th>\n",
              "      <td>3595</td>\n",
              "      <td>1237648702973345838</td>\n",
              "      <td>199.144492</td>\n",
              "      <td>-1.050028</td>\n",
              "      <td>18.83347</td>\n",
              "      <td>17.69295</td>\n",
              "      <td>17.27730</td>\n",
              "      <td>17.13594</td>\n",
              "      <td>17.04587</td>\n",
              "      <td>752</td>\n",
              "      <td>...</td>\n",
              "      <td>371</td>\n",
              "      <td>0.824766</td>\n",
              "      <td>1</td>\n",
              "      <td>51985</td>\n",
              "      <td>-0.001768</td>\n",
              "      <td>-0.009207</td>\n",
              "      <td>173</td>\n",
              "      <td>0.0</td>\n",
              "      <td>0.0</td>\n",
              "      <td>1.0</td>\n",
              "    </tr>\n",
              "    <tr>\n",
              "      <th>771</th>\n",
              "      <td>1951</td>\n",
              "      <td>1237648720687661204</td>\n",
              "      <td>165.872616</td>\n",
              "      <td>-0.588658</td>\n",
              "      <td>18.40498</td>\n",
              "      <td>17.14952</td>\n",
              "      <td>16.57796</td>\n",
              "      <td>16.23831</td>\n",
              "      <td>16.03331</td>\n",
              "      <td>756</td>\n",
              "      <td>...</td>\n",
              "      <td>334</td>\n",
              "      <td>0.843436</td>\n",
              "      <td>1</td>\n",
              "      <td>51908</td>\n",
              "      <td>0.010641</td>\n",
              "      <td>0.003324</td>\n",
              "      <td>771</td>\n",
              "      <td>1.0</td>\n",
              "      <td>0.0</td>\n",
              "      <td>0.0</td>\n",
              "    </tr>\n",
              "    <tr>\n",
              "      <th>210</th>\n",
              "      <td>3536</td>\n",
              "      <td>1237648702969151607</td>\n",
              "      <td>189.496043</td>\n",
              "      <td>-1.126123</td>\n",
              "      <td>19.46755</td>\n",
              "      <td>18.17600</td>\n",
              "      <td>17.66253</td>\n",
              "      <td>17.47440</td>\n",
              "      <td>17.36910</td>\n",
              "      <td>752</td>\n",
              "      <td>...</td>\n",
              "      <td>307</td>\n",
              "      <td>0.825446</td>\n",
              "      <td>1</td>\n",
              "      <td>54567</td>\n",
              "      <td>-0.001082</td>\n",
              "      <td>0.000867</td>\n",
              "      <td>210</td>\n",
              "      <td>0.0</td>\n",
              "      <td>0.0</td>\n",
              "      <td>1.0</td>\n",
              "    </tr>\n",
              "    <tr>\n",
              "      <th>1393</th>\n",
              "      <td>3163</td>\n",
              "      <td>1237648722308694069</td>\n",
              "      <td>189.630535</td>\n",
              "      <td>0.758276</td>\n",
              "      <td>17.83451</td>\n",
              "      <td>16.89421</td>\n",
              "      <td>16.59390</td>\n",
              "      <td>16.47930</td>\n",
              "      <td>16.44692</td>\n",
              "      <td>756</td>\n",
              "      <td>...</td>\n",
              "      <td>493</td>\n",
              "      <td>0.825123</td>\n",
              "      <td>1</td>\n",
              "      <td>54567</td>\n",
              "      <td>-0.000222</td>\n",
              "      <td>0.004334</td>\n",
              "      <td>1393</td>\n",
              "      <td>0.0</td>\n",
              "      <td>0.0</td>\n",
              "      <td>1.0</td>\n",
              "    </tr>\n",
              "    <tr>\n",
              "      <th>1511</th>\n",
              "      <td>1418</td>\n",
              "      <td>1237648722829836407</td>\n",
              "      <td>153.672553</td>\n",
              "      <td>1.111666</td>\n",
              "      <td>18.97931</td>\n",
              "      <td>17.88347</td>\n",
              "      <td>17.51072</td>\n",
              "      <td>17.20950</td>\n",
              "      <td>17.12064</td>\n",
              "      <td>756</td>\n",
              "      <td>...</td>\n",
              "      <td>253</td>\n",
              "      <td>0.840077</td>\n",
              "      <td>1</td>\n",
              "      <td>51957</td>\n",
              "      <td>-0.015761</td>\n",
              "      <td>-0.007396</td>\n",
              "      <td>1511</td>\n",
              "      <td>1.0</td>\n",
              "      <td>0.0</td>\n",
              "      <td>0.0</td>\n",
              "    </tr>\n",
              "  </tbody>\n",
              "</table>\n",
              "<p>5 rows × 21 columns</p>\n",
              "</div>"
            ],
            "text/plain": [
              "      index                objid          ra       dec         u         g  \\\n",
              "173    3595  1237648702973345838  199.144492 -1.050028  18.83347  17.69295   \n",
              "771    1951  1237648720687661204  165.872616 -0.588658  18.40498  17.14952   \n",
              "210    3536  1237648702969151607  189.496043 -1.126123  19.46755  18.17600   \n",
              "1393   3163  1237648722308694069  189.630535  0.758276  17.83451  16.89421   \n",
              "1511   1418  1237648722829836407  153.672553  1.111666  18.97931  17.88347   \n",
              "\n",
              "             r         i         z  run  ...  field     score  clean    mjd  \\\n",
              "173   17.27730  17.13594  17.04587  752  ...    371  0.824766      1  51985   \n",
              "771   16.57796  16.23831  16.03331  756  ...    334  0.843436      1  51908   \n",
              "210   17.66253  17.47440  17.36910  752  ...    307  0.825446      1  54567   \n",
              "1393  16.59390  16.47930  16.44692  756  ...    493  0.825123      1  54567   \n",
              "1511  17.51072  17.20950  17.12064  756  ...    253  0.840077      1  51957   \n",
              "\n",
              "          rowv      colv  index  class_GALAXY  class_QSO  class_STAR  \n",
              "173  -0.001768 -0.009207    173           0.0        0.0         1.0  \n",
              "771   0.010641  0.003324    771           1.0        0.0         0.0  \n",
              "210  -0.001082  0.000867    210           0.0        0.0         1.0  \n",
              "1393 -0.000222  0.004334   1393           0.0        0.0         1.0  \n",
              "1511 -0.015761 -0.007396   1511           1.0        0.0         0.0  \n",
              "\n",
              "[5 rows x 21 columns]"
            ]
          },
          "execution_count": 458,
          "metadata": {},
          "output_type": "execute_result"
        }
      ],
      "source": [
        "X_train = star_alpes_t.drop(columns=['redshift'])\n",
        "y_train = star_alpes_t['redshift']\n",
        "\n",
        "X_train.sample(5)"
      ]
    },
    {
      "cell_type": "code",
      "execution_count": 459,
      "metadata": {
        "colab": {
          "base_uri": "https://localhost:8080/"
        },
        "id": "dWKZR_5r15S-",
        "outputId": "8adb7612-a19f-4d24-f4e4-a4f3c0fc1d80"
      },
      "outputs": [
        {
          "data": {
            "text/html": [
              "<div>\n",
              "<style scoped>\n",
              "    .dataframe tbody tr th:only-of-type {\n",
              "        vertical-align: middle;\n",
              "    }\n",
              "\n",
              "    .dataframe tbody tr th {\n",
              "        vertical-align: top;\n",
              "    }\n",
              "\n",
              "    .dataframe thead th {\n",
              "        text-align: right;\n",
              "    }\n",
              "</style>\n",
              "<table border=\"1\" class=\"dataframe\">\n",
              "  <thead>\n",
              "    <tr style=\"text-align: right;\">\n",
              "      <th></th>\n",
              "      <th>ra</th>\n",
              "      <th>dec</th>\n",
              "      <th>i</th>\n",
              "      <th>mjd</th>\n",
              "      <th>class_GALAXY</th>\n",
              "      <th>class_QSO</th>\n",
              "      <th>class_STAR</th>\n",
              "    </tr>\n",
              "  </thead>\n",
              "  <tbody>\n",
              "    <tr>\n",
              "      <th>2692</th>\n",
              "      <td>148.324125</td>\n",
              "      <td>0.414281</td>\n",
              "      <td>17.29379</td>\n",
              "      <td>51608</td>\n",
              "      <td>0.0</td>\n",
              "      <td>0.0</td>\n",
              "      <td>1.0</td>\n",
              "    </tr>\n",
              "    <tr>\n",
              "      <th>2733</th>\n",
              "      <td>222.284325</td>\n",
              "      <td>0.140093</td>\n",
              "      <td>18.08027</td>\n",
              "      <td>51994</td>\n",
              "      <td>0.0</td>\n",
              "      <td>1.0</td>\n",
              "      <td>0.0</td>\n",
              "    </tr>\n",
              "    <tr>\n",
              "      <th>2584</th>\n",
              "      <td>179.071154</td>\n",
              "      <td>0.724975</td>\n",
              "      <td>18.45047</td>\n",
              "      <td>51943</td>\n",
              "      <td>0.0</td>\n",
              "      <td>1.0</td>\n",
              "      <td>0.0</td>\n",
              "    </tr>\n",
              "    <tr>\n",
              "      <th>436</th>\n",
              "      <td>156.599253</td>\n",
              "      <td>0.235783</td>\n",
              "      <td>17.66957</td>\n",
              "      <td>55289</td>\n",
              "      <td>0.0</td>\n",
              "      <td>0.0</td>\n",
              "      <td>1.0</td>\n",
              "    </tr>\n",
              "    <tr>\n",
              "      <th>609</th>\n",
              "      <td>184.847906</td>\n",
              "      <td>0.783260</td>\n",
              "      <td>16.37132</td>\n",
              "      <td>54140</td>\n",
              "      <td>0.0</td>\n",
              "      <td>0.0</td>\n",
              "      <td>1.0</td>\n",
              "    </tr>\n",
              "  </tbody>\n",
              "</table>\n",
              "</div>"
            ],
            "text/plain": [
              "              ra       dec         i    mjd  class_GALAXY  class_QSO  \\\n",
              "2692  148.324125  0.414281  17.29379  51608           0.0        0.0   \n",
              "2733  222.284325  0.140093  18.08027  51994           0.0        1.0   \n",
              "2584  179.071154  0.724975  18.45047  51943           0.0        1.0   \n",
              "436   156.599253  0.235783  17.66957  55289           0.0        0.0   \n",
              "609   184.847906  0.783260  16.37132  54140           0.0        0.0   \n",
              "\n",
              "      class_STAR  \n",
              "2692         1.0  \n",
              "2733         0.0  \n",
              "2584         0.0  \n",
              "436          1.0  \n",
              "609          1.0  "
            ]
          },
          "execution_count": 459,
          "metadata": {},
          "output_type": "execute_result"
        }
      ],
      "source": [
        "#Definimos las variables de la regresión a utilizar\n",
        "variables_reg = [\"ra\", \"dec\", \"i\", \"mjd\", \"class_GALAXY\", \"class_QSO\", \"class_STAR\"]\n",
        "\n",
        "X_train = X_train.drop(columns=[column for column in X_train.columns if column not in variables_reg])\n",
        "\n",
        "X_train.sample(5)\n"
      ]
    },
    {
      "cell_type": "markdown",
      "metadata": {
        "id": "6lcjIEgSMzI0"
      },
      "source": [
        "# 4. Modelado\n",
        "\n",
        "Realizaremos entonces el proceso de modelado de los datos de train"
      ]
    },
    {
      "cell_type": "code",
      "execution_count": 460,
      "metadata": {
        "colab": {
          "base_uri": "https://localhost:8080/",
          "height": 80
        },
        "id": "L_U91WylNBq1",
        "outputId": "3a5a6737-a092-4656-b356-f6438e90a0c3"
      },
      "outputs": [
        {
          "data": {
            "text/html": [
              "<style>#sk-container-id-10 {\n",
              "  /* Definition of color scheme common for light and dark mode */\n",
              "  --sklearn-color-text: #000;\n",
              "  --sklearn-color-text-muted: #666;\n",
              "  --sklearn-color-line: gray;\n",
              "  /* Definition of color scheme for unfitted estimators */\n",
              "  --sklearn-color-unfitted-level-0: #fff5e6;\n",
              "  --sklearn-color-unfitted-level-1: #f6e4d2;\n",
              "  --sklearn-color-unfitted-level-2: #ffe0b3;\n",
              "  --sklearn-color-unfitted-level-3: chocolate;\n",
              "  /* Definition of color scheme for fitted estimators */\n",
              "  --sklearn-color-fitted-level-0: #f0f8ff;\n",
              "  --sklearn-color-fitted-level-1: #d4ebff;\n",
              "  --sklearn-color-fitted-level-2: #b3dbfd;\n",
              "  --sklearn-color-fitted-level-3: cornflowerblue;\n",
              "\n",
              "  /* Specific color for light theme */\n",
              "  --sklearn-color-text-on-default-background: var(--sg-text-color, var(--theme-code-foreground, var(--jp-content-font-color1, black)));\n",
              "  --sklearn-color-background: var(--sg-background-color, var(--theme-background, var(--jp-layout-color0, white)));\n",
              "  --sklearn-color-border-box: var(--sg-text-color, var(--theme-code-foreground, var(--jp-content-font-color1, black)));\n",
              "  --sklearn-color-icon: #696969;\n",
              "\n",
              "  @media (prefers-color-scheme: dark) {\n",
              "    /* Redefinition of color scheme for dark theme */\n",
              "    --sklearn-color-text-on-default-background: var(--sg-text-color, var(--theme-code-foreground, var(--jp-content-font-color1, white)));\n",
              "    --sklearn-color-background: var(--sg-background-color, var(--theme-background, var(--jp-layout-color0, #111)));\n",
              "    --sklearn-color-border-box: var(--sg-text-color, var(--theme-code-foreground, var(--jp-content-font-color1, white)));\n",
              "    --sklearn-color-icon: #878787;\n",
              "  }\n",
              "}\n",
              "\n",
              "#sk-container-id-10 {\n",
              "  color: var(--sklearn-color-text);\n",
              "}\n",
              "\n",
              "#sk-container-id-10 pre {\n",
              "  padding: 0;\n",
              "}\n",
              "\n",
              "#sk-container-id-10 input.sk-hidden--visually {\n",
              "  border: 0;\n",
              "  clip: rect(1px 1px 1px 1px);\n",
              "  clip: rect(1px, 1px, 1px, 1px);\n",
              "  height: 1px;\n",
              "  margin: -1px;\n",
              "  overflow: hidden;\n",
              "  padding: 0;\n",
              "  position: absolute;\n",
              "  width: 1px;\n",
              "}\n",
              "\n",
              "#sk-container-id-10 div.sk-dashed-wrapped {\n",
              "  border: 1px dashed var(--sklearn-color-line);\n",
              "  margin: 0 0.4em 0.5em 0.4em;\n",
              "  box-sizing: border-box;\n",
              "  padding-bottom: 0.4em;\n",
              "  background-color: var(--sklearn-color-background);\n",
              "}\n",
              "\n",
              "#sk-container-id-10 div.sk-container {\n",
              "  /* jupyter's `normalize.less` sets `[hidden] { display: none; }`\n",
              "     but bootstrap.min.css set `[hidden] { display: none !important; }`\n",
              "     so we also need the `!important` here to be able to override the\n",
              "     default hidden behavior on the sphinx rendered scikit-learn.org.\n",
              "     See: https://github.com/scikit-learn/scikit-learn/issues/21755 */\n",
              "  display: inline-block !important;\n",
              "  position: relative;\n",
              "}\n",
              "\n",
              "#sk-container-id-10 div.sk-text-repr-fallback {\n",
              "  display: none;\n",
              "}\n",
              "\n",
              "div.sk-parallel-item,\n",
              "div.sk-serial,\n",
              "div.sk-item {\n",
              "  /* draw centered vertical line to link estimators */\n",
              "  background-image: linear-gradient(var(--sklearn-color-text-on-default-background), var(--sklearn-color-text-on-default-background));\n",
              "  background-size: 2px 100%;\n",
              "  background-repeat: no-repeat;\n",
              "  background-position: center center;\n",
              "}\n",
              "\n",
              "/* Parallel-specific style estimator block */\n",
              "\n",
              "#sk-container-id-10 div.sk-parallel-item::after {\n",
              "  content: \"\";\n",
              "  width: 100%;\n",
              "  border-bottom: 2px solid var(--sklearn-color-text-on-default-background);\n",
              "  flex-grow: 1;\n",
              "}\n",
              "\n",
              "#sk-container-id-10 div.sk-parallel {\n",
              "  display: flex;\n",
              "  align-items: stretch;\n",
              "  justify-content: center;\n",
              "  background-color: var(--sklearn-color-background);\n",
              "  position: relative;\n",
              "}\n",
              "\n",
              "#sk-container-id-10 div.sk-parallel-item {\n",
              "  display: flex;\n",
              "  flex-direction: column;\n",
              "}\n",
              "\n",
              "#sk-container-id-10 div.sk-parallel-item:first-child::after {\n",
              "  align-self: flex-end;\n",
              "  width: 50%;\n",
              "}\n",
              "\n",
              "#sk-container-id-10 div.sk-parallel-item:last-child::after {\n",
              "  align-self: flex-start;\n",
              "  width: 50%;\n",
              "}\n",
              "\n",
              "#sk-container-id-10 div.sk-parallel-item:only-child::after {\n",
              "  width: 0;\n",
              "}\n",
              "\n",
              "/* Serial-specific style estimator block */\n",
              "\n",
              "#sk-container-id-10 div.sk-serial {\n",
              "  display: flex;\n",
              "  flex-direction: column;\n",
              "  align-items: center;\n",
              "  background-color: var(--sklearn-color-background);\n",
              "  padding-right: 1em;\n",
              "  padding-left: 1em;\n",
              "}\n",
              "\n",
              "\n",
              "/* Toggleable style: style used for estimator/Pipeline/ColumnTransformer box that is\n",
              "clickable and can be expanded/collapsed.\n",
              "- Pipeline and ColumnTransformer use this feature and define the default style\n",
              "- Estimators will overwrite some part of the style using the `sk-estimator` class\n",
              "*/\n",
              "\n",
              "/* Pipeline and ColumnTransformer style (default) */\n",
              "\n",
              "#sk-container-id-10 div.sk-toggleable {\n",
              "  /* Default theme specific background. It is overwritten whether we have a\n",
              "  specific estimator or a Pipeline/ColumnTransformer */\n",
              "  background-color: var(--sklearn-color-background);\n",
              "}\n",
              "\n",
              "/* Toggleable label */\n",
              "#sk-container-id-10 label.sk-toggleable__label {\n",
              "  cursor: pointer;\n",
              "  display: flex;\n",
              "  width: 100%;\n",
              "  margin-bottom: 0;\n",
              "  padding: 0.5em;\n",
              "  box-sizing: border-box;\n",
              "  text-align: center;\n",
              "  align-items: start;\n",
              "  justify-content: space-between;\n",
              "  gap: 0.5em;\n",
              "}\n",
              "\n",
              "#sk-container-id-10 label.sk-toggleable__label .caption {\n",
              "  font-size: 0.6rem;\n",
              "  font-weight: lighter;\n",
              "  color: var(--sklearn-color-text-muted);\n",
              "}\n",
              "\n",
              "#sk-container-id-10 label.sk-toggleable__label-arrow:before {\n",
              "  /* Arrow on the left of the label */\n",
              "  content: \"▸\";\n",
              "  float: left;\n",
              "  margin-right: 0.25em;\n",
              "  color: var(--sklearn-color-icon);\n",
              "}\n",
              "\n",
              "#sk-container-id-10 label.sk-toggleable__label-arrow:hover:before {\n",
              "  color: var(--sklearn-color-text);\n",
              "}\n",
              "\n",
              "/* Toggleable content - dropdown */\n",
              "\n",
              "#sk-container-id-10 div.sk-toggleable__content {\n",
              "  max-height: 0;\n",
              "  max-width: 0;\n",
              "  overflow: hidden;\n",
              "  text-align: left;\n",
              "  /* unfitted */\n",
              "  background-color: var(--sklearn-color-unfitted-level-0);\n",
              "}\n",
              "\n",
              "#sk-container-id-10 div.sk-toggleable__content.fitted {\n",
              "  /* fitted */\n",
              "  background-color: var(--sklearn-color-fitted-level-0);\n",
              "}\n",
              "\n",
              "#sk-container-id-10 div.sk-toggleable__content pre {\n",
              "  margin: 0.2em;\n",
              "  border-radius: 0.25em;\n",
              "  color: var(--sklearn-color-text);\n",
              "  /* unfitted */\n",
              "  background-color: var(--sklearn-color-unfitted-level-0);\n",
              "}\n",
              "\n",
              "#sk-container-id-10 div.sk-toggleable__content.fitted pre {\n",
              "  /* unfitted */\n",
              "  background-color: var(--sklearn-color-fitted-level-0);\n",
              "}\n",
              "\n",
              "#sk-container-id-10 input.sk-toggleable__control:checked~div.sk-toggleable__content {\n",
              "  /* Expand drop-down */\n",
              "  max-height: 200px;\n",
              "  max-width: 100%;\n",
              "  overflow: auto;\n",
              "}\n",
              "\n",
              "#sk-container-id-10 input.sk-toggleable__control:checked~label.sk-toggleable__label-arrow:before {\n",
              "  content: \"▾\";\n",
              "}\n",
              "\n",
              "/* Pipeline/ColumnTransformer-specific style */\n",
              "\n",
              "#sk-container-id-10 div.sk-label input.sk-toggleable__control:checked~label.sk-toggleable__label {\n",
              "  color: var(--sklearn-color-text);\n",
              "  background-color: var(--sklearn-color-unfitted-level-2);\n",
              "}\n",
              "\n",
              "#sk-container-id-10 div.sk-label.fitted input.sk-toggleable__control:checked~label.sk-toggleable__label {\n",
              "  background-color: var(--sklearn-color-fitted-level-2);\n",
              "}\n",
              "\n",
              "/* Estimator-specific style */\n",
              "\n",
              "/* Colorize estimator box */\n",
              "#sk-container-id-10 div.sk-estimator input.sk-toggleable__control:checked~label.sk-toggleable__label {\n",
              "  /* unfitted */\n",
              "  background-color: var(--sklearn-color-unfitted-level-2);\n",
              "}\n",
              "\n",
              "#sk-container-id-10 div.sk-estimator.fitted input.sk-toggleable__control:checked~label.sk-toggleable__label {\n",
              "  /* fitted */\n",
              "  background-color: var(--sklearn-color-fitted-level-2);\n",
              "}\n",
              "\n",
              "#sk-container-id-10 div.sk-label label.sk-toggleable__label,\n",
              "#sk-container-id-10 div.sk-label label {\n",
              "  /* The background is the default theme color */\n",
              "  color: var(--sklearn-color-text-on-default-background);\n",
              "}\n",
              "\n",
              "/* On hover, darken the color of the background */\n",
              "#sk-container-id-10 div.sk-label:hover label.sk-toggleable__label {\n",
              "  color: var(--sklearn-color-text);\n",
              "  background-color: var(--sklearn-color-unfitted-level-2);\n",
              "}\n",
              "\n",
              "/* Label box, darken color on hover, fitted */\n",
              "#sk-container-id-10 div.sk-label.fitted:hover label.sk-toggleable__label.fitted {\n",
              "  color: var(--sklearn-color-text);\n",
              "  background-color: var(--sklearn-color-fitted-level-2);\n",
              "}\n",
              "\n",
              "/* Estimator label */\n",
              "\n",
              "#sk-container-id-10 div.sk-label label {\n",
              "  font-family: monospace;\n",
              "  font-weight: bold;\n",
              "  display: inline-block;\n",
              "  line-height: 1.2em;\n",
              "}\n",
              "\n",
              "#sk-container-id-10 div.sk-label-container {\n",
              "  text-align: center;\n",
              "}\n",
              "\n",
              "/* Estimator-specific */\n",
              "#sk-container-id-10 div.sk-estimator {\n",
              "  font-family: monospace;\n",
              "  border: 1px dotted var(--sklearn-color-border-box);\n",
              "  border-radius: 0.25em;\n",
              "  box-sizing: border-box;\n",
              "  margin-bottom: 0.5em;\n",
              "  /* unfitted */\n",
              "  background-color: var(--sklearn-color-unfitted-level-0);\n",
              "}\n",
              "\n",
              "#sk-container-id-10 div.sk-estimator.fitted {\n",
              "  /* fitted */\n",
              "  background-color: var(--sklearn-color-fitted-level-0);\n",
              "}\n",
              "\n",
              "/* on hover */\n",
              "#sk-container-id-10 div.sk-estimator:hover {\n",
              "  /* unfitted */\n",
              "  background-color: var(--sklearn-color-unfitted-level-2);\n",
              "}\n",
              "\n",
              "#sk-container-id-10 div.sk-estimator.fitted:hover {\n",
              "  /* fitted */\n",
              "  background-color: var(--sklearn-color-fitted-level-2);\n",
              "}\n",
              "\n",
              "/* Specification for estimator info (e.g. \"i\" and \"?\") */\n",
              "\n",
              "/* Common style for \"i\" and \"?\" */\n",
              "\n",
              ".sk-estimator-doc-link,\n",
              "a:link.sk-estimator-doc-link,\n",
              "a:visited.sk-estimator-doc-link {\n",
              "  float: right;\n",
              "  font-size: smaller;\n",
              "  line-height: 1em;\n",
              "  font-family: monospace;\n",
              "  background-color: var(--sklearn-color-background);\n",
              "  border-radius: 1em;\n",
              "  height: 1em;\n",
              "  width: 1em;\n",
              "  text-decoration: none !important;\n",
              "  margin-left: 0.5em;\n",
              "  text-align: center;\n",
              "  /* unfitted */\n",
              "  border: var(--sklearn-color-unfitted-level-1) 1pt solid;\n",
              "  color: var(--sklearn-color-unfitted-level-1);\n",
              "}\n",
              "\n",
              ".sk-estimator-doc-link.fitted,\n",
              "a:link.sk-estimator-doc-link.fitted,\n",
              "a:visited.sk-estimator-doc-link.fitted {\n",
              "  /* fitted */\n",
              "  border: var(--sklearn-color-fitted-level-1) 1pt solid;\n",
              "  color: var(--sklearn-color-fitted-level-1);\n",
              "}\n",
              "\n",
              "/* On hover */\n",
              "div.sk-estimator:hover .sk-estimator-doc-link:hover,\n",
              ".sk-estimator-doc-link:hover,\n",
              "div.sk-label-container:hover .sk-estimator-doc-link:hover,\n",
              ".sk-estimator-doc-link:hover {\n",
              "  /* unfitted */\n",
              "  background-color: var(--sklearn-color-unfitted-level-3);\n",
              "  color: var(--sklearn-color-background);\n",
              "  text-decoration: none;\n",
              "}\n",
              "\n",
              "div.sk-estimator.fitted:hover .sk-estimator-doc-link.fitted:hover,\n",
              ".sk-estimator-doc-link.fitted:hover,\n",
              "div.sk-label-container:hover .sk-estimator-doc-link.fitted:hover,\n",
              ".sk-estimator-doc-link.fitted:hover {\n",
              "  /* fitted */\n",
              "  background-color: var(--sklearn-color-fitted-level-3);\n",
              "  color: var(--sklearn-color-background);\n",
              "  text-decoration: none;\n",
              "}\n",
              "\n",
              "/* Span, style for the box shown on hovering the info icon */\n",
              ".sk-estimator-doc-link span {\n",
              "  display: none;\n",
              "  z-index: 9999;\n",
              "  position: relative;\n",
              "  font-weight: normal;\n",
              "  right: .2ex;\n",
              "  padding: .5ex;\n",
              "  margin: .5ex;\n",
              "  width: min-content;\n",
              "  min-width: 20ex;\n",
              "  max-width: 50ex;\n",
              "  color: var(--sklearn-color-text);\n",
              "  box-shadow: 2pt 2pt 4pt #999;\n",
              "  /* unfitted */\n",
              "  background: var(--sklearn-color-unfitted-level-0);\n",
              "  border: .5pt solid var(--sklearn-color-unfitted-level-3);\n",
              "}\n",
              "\n",
              ".sk-estimator-doc-link.fitted span {\n",
              "  /* fitted */\n",
              "  background: var(--sklearn-color-fitted-level-0);\n",
              "  border: var(--sklearn-color-fitted-level-3);\n",
              "}\n",
              "\n",
              ".sk-estimator-doc-link:hover span {\n",
              "  display: block;\n",
              "}\n",
              "\n",
              "/* \"?\"-specific style due to the `<a>` HTML tag */\n",
              "\n",
              "#sk-container-id-10 a.estimator_doc_link {\n",
              "  float: right;\n",
              "  font-size: 1rem;\n",
              "  line-height: 1em;\n",
              "  font-family: monospace;\n",
              "  background-color: var(--sklearn-color-background);\n",
              "  border-radius: 1rem;\n",
              "  height: 1rem;\n",
              "  width: 1rem;\n",
              "  text-decoration: none;\n",
              "  /* unfitted */\n",
              "  color: var(--sklearn-color-unfitted-level-1);\n",
              "  border: var(--sklearn-color-unfitted-level-1) 1pt solid;\n",
              "}\n",
              "\n",
              "#sk-container-id-10 a.estimator_doc_link.fitted {\n",
              "  /* fitted */\n",
              "  border: var(--sklearn-color-fitted-level-1) 1pt solid;\n",
              "  color: var(--sklearn-color-fitted-level-1);\n",
              "}\n",
              "\n",
              "/* On hover */\n",
              "#sk-container-id-10 a.estimator_doc_link:hover {\n",
              "  /* unfitted */\n",
              "  background-color: var(--sklearn-color-unfitted-level-3);\n",
              "  color: var(--sklearn-color-background);\n",
              "  text-decoration: none;\n",
              "}\n",
              "\n",
              "#sk-container-id-10 a.estimator_doc_link.fitted:hover {\n",
              "  /* fitted */\n",
              "  background-color: var(--sklearn-color-fitted-level-3);\n",
              "}\n",
              "</style><div id=\"sk-container-id-10\" class=\"sk-top-container\"><div class=\"sk-text-repr-fallback\"><pre>LinearRegression()</pre><b>In a Jupyter environment, please rerun this cell to show the HTML representation or trust the notebook. <br />On GitHub, the HTML representation is unable to render, please try loading this page with nbviewer.org.</b></div><div class=\"sk-container\" hidden><div class=\"sk-item\"><div class=\"sk-estimator fitted sk-toggleable\"><input class=\"sk-toggleable__control sk-hidden--visually\" id=\"sk-estimator-id-10\" type=\"checkbox\" checked><label for=\"sk-estimator-id-10\" class=\"sk-toggleable__label fitted sk-toggleable__label-arrow\"><div><div>LinearRegression</div></div><div><a class=\"sk-estimator-doc-link fitted\" rel=\"noreferrer\" target=\"_blank\" href=\"https://scikit-learn.org/1.6/modules/generated/sklearn.linear_model.LinearRegression.html\">?<span>Documentation for LinearRegression</span></a><span class=\"sk-estimator-doc-link fitted\">i<span>Fitted</span></span></div></label><div class=\"sk-toggleable__content fitted\"><pre>LinearRegression()</pre></div> </div></div></div></div>"
            ],
            "text/plain": [
              "LinearRegression()"
            ]
          },
          "execution_count": 460,
          "metadata": {},
          "output_type": "execute_result"
        }
      ],
      "source": [
        "regresion = LinearRegression()\n",
        "\n",
        "regresion.fit(X_train, y_train)"
      ]
    },
    {
      "cell_type": "markdown",
      "metadata": {
        "id": "flm0L9mUNO_6"
      },
      "source": [
        "La regresión se realiza con éxito y a continuación revisaremos sus coeficientes, el intercepto y las métricas de calidad."
      ]
    },
    {
      "cell_type": "code",
      "execution_count": 461,
      "metadata": {
        "colab": {
          "base_uri": "https://localhost:8080/",
          "height": 238
        },
        "id": "Wq6hf4XFNOqu",
        "outputId": "7b46bd8d-1131-4d45-885d-27bc96220dc1"
      },
      "outputs": [
        {
          "data": {
            "text/html": [
              "<div>\n",
              "<style scoped>\n",
              "    .dataframe tbody tr th:only-of-type {\n",
              "        vertical-align: middle;\n",
              "    }\n",
              "\n",
              "    .dataframe tbody tr th {\n",
              "        vertical-align: top;\n",
              "    }\n",
              "\n",
              "    .dataframe thead th {\n",
              "        text-align: right;\n",
              "    }\n",
              "</style>\n",
              "<table border=\"1\" class=\"dataframe\">\n",
              "  <thead>\n",
              "    <tr style=\"text-align: right;\">\n",
              "      <th></th>\n",
              "      <th>columns</th>\n",
              "      <th>coeficientes</th>\n",
              "    </tr>\n",
              "  </thead>\n",
              "  <tbody>\n",
              "    <tr>\n",
              "      <th>0</th>\n",
              "      <td>ra</td>\n",
              "      <td>-0.000045</td>\n",
              "    </tr>\n",
              "    <tr>\n",
              "      <th>1</th>\n",
              "      <td>dec</td>\n",
              "      <td>-0.004709</td>\n",
              "    </tr>\n",
              "    <tr>\n",
              "      <th>2</th>\n",
              "      <td>i</td>\n",
              "      <td>0.014539</td>\n",
              "    </tr>\n",
              "    <tr>\n",
              "      <th>3</th>\n",
              "      <td>mjd</td>\n",
              "      <td>0.000016</td>\n",
              "    </tr>\n",
              "    <tr>\n",
              "      <th>4</th>\n",
              "      <td>class_GALAXY</td>\n",
              "      <td>-0.346234</td>\n",
              "    </tr>\n",
              "    <tr>\n",
              "      <th>5</th>\n",
              "      <td>class_QSO</td>\n",
              "      <td>0.812253</td>\n",
              "    </tr>\n",
              "    <tr>\n",
              "      <th>6</th>\n",
              "      <td>class_STAR</td>\n",
              "      <td>-0.466019</td>\n",
              "    </tr>\n",
              "  </tbody>\n",
              "</table>\n",
              "</div>"
            ],
            "text/plain": [
              "        columns  coeficientes\n",
              "0            ra     -0.000045\n",
              "1           dec     -0.004709\n",
              "2             i      0.014539\n",
              "3           mjd      0.000016\n",
              "4  class_GALAXY     -0.346234\n",
              "5     class_QSO      0.812253\n",
              "6    class_STAR     -0.466019"
            ]
          },
          "execution_count": 461,
          "metadata": {},
          "output_type": "execute_result"
        }
      ],
      "source": [
        "pd.DataFrame({\"columns\":variables_reg, \"coeficientes\":regresion.coef_})"
      ]
    },
    {
      "cell_type": "code",
      "execution_count": 462,
      "metadata": {
        "colab": {
          "base_uri": "https://localhost:8080/"
        },
        "id": "KhwgmCjDNnym",
        "outputId": "879ed78a-6d1d-4f5a-bc2f-dee3e31cdc46"
      },
      "outputs": [
        {
          "data": {
            "text/plain": [
              "np.float64(-0.6241075867875023)"
            ]
          },
          "execution_count": 462,
          "metadata": {},
          "output_type": "execute_result"
        }
      ],
      "source": [
        "regresion.intercept_"
      ]
    },
    {
      "cell_type": "markdown",
      "metadata": {
        "id": "0VcHnBeFMxTW"
      },
      "source": [
        "Vamos a graficar nuestra regresión en comparación a las Variables que utilizamos:"
      ]
    },
    {
      "cell_type": "code",
      "execution_count": 463,
      "metadata": {
        "colab": {
          "base_uri": "https://localhost:8080/",
          "height": 309
        },
        "id": "HDYXMJ05M2Jw",
        "outputId": "8e38e584-e1f6-4025-e2af-9137b19bb710"
      },
      "outputs": [
        {
          "data": {
            "image/png": "[encoded data removed]",
            "text/plain": [
              "<Figure size 2000x400 with 7 Axes>"
            ]
          },
          "metadata": {},
          "output_type": "display_data"
        }
      ],
      "source": [
        "f, axs = plt.subplots(1, len(variables_reg), sharey=True, figsize=(20, 4))\n",
        "\n",
        "for i in range(len(variables_reg)):\n",
        "    col = variables_reg[i]\n",
        "    x = X_train[col]\n",
        "    m = regresion.coef_[i]\n",
        "    b = regresion.intercept_\n",
        "\n",
        "    axs[i].plot(x, y_train, \"o\", alpha=0.1)\n",
        "    axs[i].plot(x, x * m + b)\n",
        "    axs[i].set_title(col)"
      ]
    },
    {
      "cell_type": "code",
      "execution_count": 464,
      "metadata": {},
      "outputs": [
        {
          "name": "stdout",
          "output_type": "stream",
          "text": [
            "Empty DataFrame\n",
            "Columns: [objid, ra, dec, u, g, r, i, z, run, camcol, field, score, clean, class, redshift, mjd, rowv, colv, redshift]\n",
            "Index: []\n",
            "                    objid          ra       dec         u         g         r  \\\n",
            "200   1237648704585924828  203.588211  0.091085  19.22516  17.97956  17.16069   \n",
            "1078  1237648721787355209  225.096864  0.254953  18.55557  16.89302  16.18807   \n",
            "610   1237648722836848747  169.665357  1.093317  19.53530  17.79287  16.87753   \n",
            "2159  1237648720164814988  197.847485 -0.962157  18.50276  17.43575  17.04051   \n",
            "1169  1237648722306400454  184.460148  0.802038  18.86882  17.75835  17.25910   \n",
            "...                   ...         ...       ...       ...       ...       ...   \n",
            "549   1237648704590643362  214.342391  0.023698  17.20059  15.45608  14.60244   \n",
            "2651  1237648705131839810  224.231446  0.555797  19.46866  18.26626  17.80767   \n",
            "1535  1237648722836783266  169.623405  1.098641  18.89477  17.09377  16.15349   \n",
            "218   1237648705669496960  226.089043  0.986756  17.10312  16.14510  15.80581   \n",
            "2424  1237648720162324575  192.110628 -0.987584  19.35065  18.23309  17.64977   \n",
            "\n",
            "             i         z  run  camcol  field     score  clean   class  \\\n",
            "200   16.70736  16.39718  752       4    401  0.897084      1  GALAXY   \n",
            "1078  15.88779  15.72606  756       4    730  0.909262      1    STAR   \n",
            "610   16.47257  16.12058  756       6    360  0.835363      1  GALAXY   \n",
            "2159  16.74326  16.64860  756       1    548  0.818642      1  GALAXY   \n",
            "1169  16.93562  16.77144  756       5    458  0.868564      1  GALAXY   \n",
            "...        ...       ...  ...     ...    ...       ...    ...     ...   \n",
            "549   14.17381  13.85789  752       4    473  0.815499      1  GALAXY   \n",
            "2651  17.62572  17.52698  752       5    539  0.889505      1    STAR   \n",
            "1535  15.73403  15.39552  756       6    359  0.846707      1  GALAXY   \n",
            "218   15.65386  15.61010  752       6    551  0.878606      1    STAR   \n",
            "2424  17.34770  17.14470  756       1    510  0.860534      0  GALAXY   \n",
            "\n",
            "      redshift    mjd      rowv      colv  redshift  \n",
            "200   0.140950  51955 -0.000095  0.002986  0.140950  \n",
            "1078  0.000295  54970  0.001205 -0.000725  0.000295  \n",
            "610   0.102637  51984  0.000791  0.001712  0.102637  \n",
            "2159  0.080691  51985  0.001978  0.004451  0.080691  \n",
            "1169  0.073720  52000 -0.003901 -0.003021  0.073720  \n",
            "...        ...    ...       ...       ...       ...  \n",
            "549   0.053386  51615  0.000325  0.000765  0.053386  \n",
            "2651 -0.000163  54970 -0.000085 -0.000092 -0.000163  \n",
            "1535  0.063885  51984 -0.000606  0.000669  0.063885  \n",
            "218   0.000493  51990 -0.001071 -0.000718  0.000493  \n",
            "2424  0.120137  51609  0.000014 -0.000304  0.120137  \n",
            "\n",
            "[1197 rows x 19 columns]\n",
            "class\n",
            "GALAXY    585\n",
            "STAR      512\n",
            "QSO       100\n",
            "Name: count, dtype: int64\n"
          ]
        },
        {
          "data": {
            "text/html": [
              "<div>\n",
              "<style scoped>\n",
              "    .dataframe tbody tr th:only-of-type {\n",
              "        vertical-align: middle;\n",
              "    }\n",
              "\n",
              "    .dataframe tbody tr th {\n",
              "        vertical-align: top;\n",
              "    }\n",
              "\n",
              "    .dataframe thead th {\n",
              "        text-align: right;\n",
              "    }\n",
              "</style>\n",
              "<table border=\"1\" class=\"dataframe\">\n",
              "  <thead>\n",
              "    <tr style=\"text-align: right;\">\n",
              "      <th></th>\n",
              "      <th>index</th>\n",
              "      <th>objid</th>\n",
              "      <th>ra</th>\n",
              "      <th>dec</th>\n",
              "      <th>u</th>\n",
              "      <th>g</th>\n",
              "      <th>r</th>\n",
              "      <th>i</th>\n",
              "      <th>z</th>\n",
              "      <th>run</th>\n",
              "      <th>...</th>\n",
              "      <th>clean</th>\n",
              "      <th>redshift</th>\n",
              "      <th>mjd</th>\n",
              "      <th>rowv</th>\n",
              "      <th>colv</th>\n",
              "      <th>redshift</th>\n",
              "      <th>index</th>\n",
              "      <th>class_GALAXY</th>\n",
              "      <th>class_QSO</th>\n",
              "      <th>class_STAR</th>\n",
              "    </tr>\n",
              "  </thead>\n",
              "  <tbody>\n",
              "    <tr>\n",
              "      <th>919</th>\n",
              "      <td>725</td>\n",
              "      <td>1237648705677099366</td>\n",
              "      <td>243.361288</td>\n",
              "      <td>0.904211</td>\n",
              "      <td>18.77607</td>\n",
              "      <td>17.27041</td>\n",
              "      <td>16.56293</td>\n",
              "      <td>16.15935</td>\n",
              "      <td>15.88949</td>\n",
              "      <td>752</td>\n",
              "      <td>...</td>\n",
              "      <td>1</td>\n",
              "      <td>0.056084</td>\n",
              "      <td>51693</td>\n",
              "      <td>0.001684</td>\n",
              "      <td>-0.001782</td>\n",
              "      <td>0.056084</td>\n",
              "      <td>919</td>\n",
              "      <td>1.0</td>\n",
              "      <td>0.0</td>\n",
              "      <td>0.0</td>\n",
              "    </tr>\n",
              "    <tr>\n",
              "      <th>633</th>\n",
              "      <td>3523</td>\n",
              "      <td>1237648720688447556</td>\n",
              "      <td>167.663951</td>\n",
              "      <td>-0.511141</td>\n",
              "      <td>17.14484</td>\n",
              "      <td>16.82611</td>\n",
              "      <td>17.10633</td>\n",
              "      <td>17.35013</td>\n",
              "      <td>17.59860</td>\n",
              "      <td>756</td>\n",
              "      <td>...</td>\n",
              "      <td>1</td>\n",
              "      <td>-0.000092</td>\n",
              "      <td>55246</td>\n",
              "      <td>0.002459</td>\n",
              "      <td>0.001752</td>\n",
              "      <td>-0.000092</td>\n",
              "      <td>633</td>\n",
              "      <td>0.0</td>\n",
              "      <td>0.0</td>\n",
              "      <td>1.0</td>\n",
              "    </tr>\n",
              "    <tr>\n",
              "      <th>747</th>\n",
              "      <td>3182</td>\n",
              "      <td>1237648721232003138</td>\n",
              "      <td>182.929820</td>\n",
              "      <td>-0.110509</td>\n",
              "      <td>19.12935</td>\n",
              "      <td>17.60032</td>\n",
              "      <td>16.99596</td>\n",
              "      <td>16.69221</td>\n",
              "      <td>16.65090</td>\n",
              "      <td>756</td>\n",
              "      <td>...</td>\n",
              "      <td>1</td>\n",
              "      <td>0.000409</td>\n",
              "      <td>54922</td>\n",
              "      <td>0.000174</td>\n",
              "      <td>0.001390</td>\n",
              "      <td>0.000409</td>\n",
              "      <td>747</td>\n",
              "      <td>0.0</td>\n",
              "      <td>0.0</td>\n",
              "      <td>1.0</td>\n",
              "    </tr>\n",
              "    <tr>\n",
              "      <th>823</th>\n",
              "      <td>713</td>\n",
              "      <td>1237648720164421733</td>\n",
              "      <td>196.918603</td>\n",
              "      <td>-0.879304</td>\n",
              "      <td>18.45860</td>\n",
              "      <td>17.52016</td>\n",
              "      <td>17.24516</td>\n",
              "      <td>17.13437</td>\n",
              "      <td>17.12761</td>\n",
              "      <td>756</td>\n",
              "      <td>...</td>\n",
              "      <td>1</td>\n",
              "      <td>0.000041</td>\n",
              "      <td>56727</td>\n",
              "      <td>-0.001051</td>\n",
              "      <td>-0.000986</td>\n",
              "      <td>0.000041</td>\n",
              "      <td>823</td>\n",
              "      <td>0.0</td>\n",
              "      <td>0.0</td>\n",
              "      <td>1.0</td>\n",
              "    </tr>\n",
              "    <tr>\n",
              "      <th>680</th>\n",
              "      <td>1013</td>\n",
              "      <td>1237648702973608232</td>\n",
              "      <td>199.757200</td>\n",
              "      <td>-1.144176</td>\n",
              "      <td>18.98022</td>\n",
              "      <td>17.11177</td>\n",
              "      <td>16.17397</td>\n",
              "      <td>15.77380</td>\n",
              "      <td>15.42600</td>\n",
              "      <td>752</td>\n",
              "      <td>...</td>\n",
              "      <td>1</td>\n",
              "      <td>0.085692</td>\n",
              "      <td>51984</td>\n",
              "      <td>-0.000313</td>\n",
              "      <td>-0.001594</td>\n",
              "      <td>0.085692</td>\n",
              "      <td>680</td>\n",
              "      <td>1.0</td>\n",
              "      <td>0.0</td>\n",
              "      <td>0.0</td>\n",
              "    </tr>\n",
              "  </tbody>\n",
              "</table>\n",
              "<p>5 rows × 23 columns</p>\n",
              "</div>"
            ],
            "text/plain": [
              "     index                objid          ra       dec         u         g  \\\n",
              "919    725  1237648705677099366  243.361288  0.904211  18.77607  17.27041   \n",
              "633   3523  1237648720688447556  167.663951 -0.511141  17.14484  16.82611   \n",
              "747   3182  1237648721232003138  182.929820 -0.110509  19.12935  17.60032   \n",
              "823    713  1237648720164421733  196.918603 -0.879304  18.45860  17.52016   \n",
              "680   1013  1237648702973608232  199.757200 -1.144176  18.98022  17.11177   \n",
              "\n",
              "            r         i         z  run  ...  clean  redshift    mjd      rowv  \\\n",
              "919  16.56293  16.15935  15.88949  752  ...      1  0.056084  51693  0.001684   \n",
              "633  17.10633  17.35013  17.59860  756  ...      1 -0.000092  55246  0.002459   \n",
              "747  16.99596  16.69221  16.65090  756  ...      1  0.000409  54922  0.000174   \n",
              "823  17.24516  17.13437  17.12761  756  ...      1  0.000041  56727 -0.001051   \n",
              "680  16.17397  15.77380  15.42600  752  ...      1  0.085692  51984 -0.000313   \n",
              "\n",
              "         colv  redshift  index  class_GALAXY  class_QSO  class_STAR  \n",
              "919 -0.001782  0.056084    919           1.0        0.0         0.0  \n",
              "633  0.001752 -0.000092    633           0.0        0.0         1.0  \n",
              "747  0.001390  0.000409    747           0.0        0.0         1.0  \n",
              "823 -0.000986  0.000041    823           0.0        0.0         1.0  \n",
              "680 -0.001594  0.085692    680           1.0        0.0         0.0  \n",
              "\n",
              "[5 rows x 23 columns]"
            ]
          },
          "execution_count": 464,
          "metadata": {},
          "output_type": "execute_result"
        }
      ],
      "source": [
        "def transform_test(X_test, y_test):\n",
        "\n",
        "    star_alpes_test = pd.concat([X_test, y_test], axis=1)\n",
        "\n",
        "    star_nd = drop_dup(star_alpes_test)\n",
        "    star_change_c = check_class(star_nd)\n",
        "    star_OHE = OHE_class(star_change_c)\n",
        "    star_test = filter_clean_score(star_OHE)\n",
        "\n",
        "    return star_test\n",
        "\n",
        "star_a_test = transform_test(X_test, y_test) \n",
        "\n",
        "star_a_test.sample(5)\n"
      ]
    },
    {
      "cell_type": "code",
      "execution_count": 472,
      "metadata": {},
      "outputs": [
        {
          "data": {
            "text/html": [
              "<div>\n",
              "<style scoped>\n",
              "    .dataframe tbody tr th:only-of-type {\n",
              "        vertical-align: middle;\n",
              "    }\n",
              "\n",
              "    .dataframe tbody tr th {\n",
              "        vertical-align: top;\n",
              "    }\n",
              "\n",
              "    .dataframe thead th {\n",
              "        text-align: right;\n",
              "    }\n",
              "</style>\n",
              "<table border=\"1\" class=\"dataframe\">\n",
              "  <thead>\n",
              "    <tr style=\"text-align: right;\">\n",
              "      <th></th>\n",
              "      <th>ra</th>\n",
              "      <th>dec</th>\n",
              "      <th>i</th>\n",
              "      <th>mjd</th>\n",
              "      <th>class_GALAXY</th>\n",
              "      <th>class_QSO</th>\n",
              "      <th>class_STAR</th>\n",
              "    </tr>\n",
              "  </thead>\n",
              "  <tbody>\n",
              "    <tr>\n",
              "      <th>334</th>\n",
              "      <td>184.152964</td>\n",
              "      <td>-1.082340</td>\n",
              "      <td>16.88264</td>\n",
              "      <td>52023</td>\n",
              "      <td>1.0</td>\n",
              "      <td>0.0</td>\n",
              "      <td>0.0</td>\n",
              "    </tr>\n",
              "    <tr>\n",
              "      <th>55</th>\n",
              "      <td>162.703488</td>\n",
              "      <td>-0.538142</td>\n",
              "      <td>15.24561</td>\n",
              "      <td>54208</td>\n",
              "      <td>0.0</td>\n",
              "      <td>0.0</td>\n",
              "      <td>1.0</td>\n",
              "    </tr>\n",
              "    <tr>\n",
              "      <th>547</th>\n",
              "      <td>223.405719</td>\n",
              "      <td>0.086147</td>\n",
              "      <td>16.60344</td>\n",
              "      <td>54653</td>\n",
              "      <td>0.0</td>\n",
              "      <td>0.0</td>\n",
              "      <td>1.0</td>\n",
              "    </tr>\n",
              "    <tr>\n",
              "      <th>1157</th>\n",
              "      <td>209.688060</td>\n",
              "      <td>-0.724961</td>\n",
              "      <td>17.28345</td>\n",
              "      <td>51942</td>\n",
              "      <td>0.0</td>\n",
              "      <td>0.0</td>\n",
              "      <td>1.0</td>\n",
              "    </tr>\n",
              "    <tr>\n",
              "      <th>533</th>\n",
              "      <td>249.217730</td>\n",
              "      <td>0.976568</td>\n",
              "      <td>16.04472</td>\n",
              "      <td>51671</td>\n",
              "      <td>1.0</td>\n",
              "      <td>0.0</td>\n",
              "      <td>0.0</td>\n",
              "    </tr>\n",
              "  </tbody>\n",
              "</table>\n",
              "</div>"
            ],
            "text/plain": [
              "              ra       dec         i    mjd  class_GALAXY  class_QSO  \\\n",
              "334   184.152964 -1.082340  16.88264  52023           1.0        0.0   \n",
              "55    162.703488 -0.538142  15.24561  54208           0.0        0.0   \n",
              "547   223.405719  0.086147  16.60344  54653           0.0        0.0   \n",
              "1157  209.688060 -0.724961  17.28345  51942           0.0        0.0   \n",
              "533   249.217730  0.976568  16.04472  51671           1.0        0.0   \n",
              "\n",
              "      class_STAR  \n",
              "334          0.0  \n",
              "55           1.0  \n",
              "547          1.0  \n",
              "1157         1.0  \n",
              "533          0.0  "
            ]
          },
          "execution_count": 472,
          "metadata": {},
          "output_type": "execute_result"
        }
      ],
      "source": [
        "X_test = star_a_test.drop(columns=['redshift'])\n",
        "y_test = star_a_test['redshift']\n",
        "\n",
        "variables_reg = [\"ra\", \"dec\", \"i\", \"mjd\", \"class_GALAXY\", \"class_QSO\", \"class_STAR\"]\n",
        "\n",
        "X_test = X_test.drop(columns=[column for column in X_test.columns if column not in variables_reg])\n",
        "y_test = y_test.T.drop_duplicates().T\n",
        "\n",
        "X_test.sample(5)\n",
        "\n"
      ]
    },
    {
      "cell_type": "markdown",
      "metadata": {
        "id": "E02HeGsgN7JR"
      },
      "source": [
        "4.1 Mean Absolute Error"
      ]
    },
    {
      "cell_type": "code",
      "execution_count": 466,
      "metadata": {
        "colab": {
          "base_uri": "https://localhost:8080/"
        },
        "id": "Ea0l7N1mNsxT",
        "outputId": "317174a3-ee5c-4508-9e9b-ff23f0e271a0"
      },
      "outputs": [
        {
          "name": "stdout",
          "output_type": "stream",
          "text": [
            "MAE Test: 0.07499146634517716\n"
          ]
        }
      ],
      "source": [
        "print(\"MAE Test:\", mean_absolute_error(y_test, regresion.predict(X_test)))"
      ]
    },
    {
      "cell_type": "markdown",
      "metadata": {
        "id": "UApyqEtvOcNA"
      },
      "source": [
        "4.2 Root Mean Squeared Error"
      ]
    },
    {
      "cell_type": "code",
      "execution_count": 467,
      "metadata": {
        "colab": {
          "base_uri": "https://localhost:8080/"
        },
        "id": "Rf26Y9RqOfPv",
        "outputId": "573a7ce0-8e69-4f95-d9c5-515d14a280fc"
      },
      "outputs": [
        {
          "name": "stdout",
          "output_type": "stream",
          "text": [
            "RMSE Test: 0.2738456980585548\n"
          ]
        }
      ],
      "source": [
        "print(\"RMSE Test:\", np.sqrt(mean_absolute_error(y_test, regresion.predict(X_test))))"
      ]
    },
    {
      "cell_type": "markdown",
      "metadata": {
        "id": "T4-bx1Y7OxRw"
      },
      "source": [
        "4.3 R^2"
      ]
    },
    {
      "cell_type": "code",
      "execution_count": 468,
      "metadata": {
        "colab": {
          "base_uri": "https://localhost:8080/"
        },
        "id": "eBvM4ZRVPDC6",
        "outputId": "9054eb36-7081-479f-91a7-589c9ce23b2b"
      },
      "outputs": [
        {
          "name": "stdout",
          "output_type": "stream",
          "text": [
            "R2 Test: 0.7793957768656657\n"
          ]
        }
      ],
      "source": [
        "print(\"R2 Test:\", r2_score(y_test, regresion.predict(X_test)))"
      ]
    },
    {
      "cell_type": "markdown",
      "metadata": {},
      "source": [
        "# 5. Validación"
      ]
    },
    {
      "cell_type": "code",
      "execution_count": 469,
      "metadata": {},
      "outputs": [
        {
          "data": {
            "text/plain": [
              "(1000, 17)"
            ]
          },
          "execution_count": 469,
          "metadata": {},
          "output_type": "execute_result"
        }
      ],
      "source": [
        "data_validation = \"./data/202510_Laboratorio 1 - Regresión_validation_data.csv\"\n",
        "\n",
        "validation = pd.read_csv(data_validation, sep=\",\", encoding=\"ISO-8859-1\")\n",
        "\n",
        "validation_data = validation.copy()\n",
        "\n",
        "validation_data.shape"
      ]
    },
    {
      "cell_type": "code",
      "execution_count": 470,
      "metadata": {},
      "outputs": [
        {
          "name": "stdout",
          "output_type": "stream",
          "text": [
            "Empty DataFrame\n",
            "Columns: [ra, colv, i, rowv, class, dec, score, camcol, field, clean, r, z, g, run, objid, u, mjd, redshift]\n",
            "Index: []\n",
            "             ra      colv         i      rowv   class       dec     score  \\\n",
            "0    190.129408  0.000187  17.04507  0.000731    STAR  0.740488  0.822898   \n",
            "1    126.739160 -0.001844  17.87246 -0.000979    STAR -0.982894  0.868712   \n",
            "2    162.692083 -0.004810  16.20404 -0.004358  GALAXY  1.068587  0.830950   \n",
            "3    190.181702 -0.012342  17.48020 -0.002584  GALAXY  0.797830  0.833386   \n",
            "4    225.414989 -0.000250  17.81908 -0.000397    STAR  0.878768  0.881142   \n",
            "..          ...       ...       ...       ...     ...       ...       ...   \n",
            "995  229.490772 -0.000204  15.64112 -0.001221  GALAXY  0.472690  0.888303   \n",
            "996  158.537832  0.000757  15.34729 -0.006414  GALAXY -0.429801  0.874846   \n",
            "997  203.858357 -0.004926  16.54798  0.001629  GALAXY  0.132696  0.881403   \n",
            "998  199.700795  0.000579  17.74216 -0.001224    STAR -0.904717  0.840030   \n",
            "999  199.892980  0.007052  16.39264  0.008080  GALAXY -0.858515  0.824116   \n",
            "\n",
            "     camcol  field  clean         r         z         g  run  \\\n",
            "0         5    496      1  17.23757  16.98653  17.72796  756   \n",
            "1         1     73      1  17.96179  17.83893  18.27308  756   \n",
            "2         6    313      0  16.55942  15.94029  17.21567  756   \n",
            "3         5    497      0  17.69294  17.30092  18.12268  756   \n",
            "4         6    547      1  17.89974  17.79936  18.12826  752   \n",
            "..      ...    ...    ...       ...       ...       ...  ...   \n",
            "995       5    574      0  16.11520  15.25490  17.18633  752   \n",
            "996       2    285      1  15.71882  15.12525  16.27511  756   \n",
            "997       4    403      0  16.80410  16.36221  17.24190  752   \n",
            "998       1    560      1  17.60463  17.85685  17.36018  756   \n",
            "999       1    562      1  16.89483  16.08537  17.73285  756   \n",
            "\n",
            "                   objid         u    mjd  redshift  \n",
            "0    1237648722308890798  18.84865  54567         0  \n",
            "1    1237648720133685722  19.34957  53083         0  \n",
            "2    1237648722833768573  18.64485  51909         0  \n",
            "3    1237648722308956300  19.25978  51941         0  \n",
            "4    1237648705669234734  19.39298  51990         0  \n",
            "..                   ...       ...    ...       ...  \n",
            "995  1237648705134133336  19.24527  51689         0  \n",
            "996  1237648720684449988  17.42209  51913         0  \n",
            "997  1237648704586055806  18.26813  51955         0  \n",
            "998  1237648720165601360  18.58085  54970         0  \n",
            "999  1237648720165732450  19.18588  51984         0  \n",
            "\n",
            "[1000 rows x 18 columns]\n",
            "class\n",
            "STAR      466\n",
            "GALAXY    442\n",
            "QSO        92\n",
            "Name: count, dtype: int64\n"
          ]
        },
        {
          "data": {
            "text/html": [
              "<div>\n",
              "<style scoped>\n",
              "    .dataframe tbody tr th:only-of-type {\n",
              "        vertical-align: middle;\n",
              "    }\n",
              "\n",
              "    .dataframe tbody tr th {\n",
              "        vertical-align: top;\n",
              "    }\n",
              "\n",
              "    .dataframe thead th {\n",
              "        text-align: right;\n",
              "    }\n",
              "</style>\n",
              "<table border=\"1\" class=\"dataframe\">\n",
              "  <thead>\n",
              "    <tr style=\"text-align: right;\">\n",
              "      <th></th>\n",
              "      <th>ra</th>\n",
              "      <th>i</th>\n",
              "      <th>dec</th>\n",
              "      <th>mjd</th>\n",
              "      <th>class_GALAXY</th>\n",
              "      <th>class_QSO</th>\n",
              "      <th>class_STAR</th>\n",
              "    </tr>\n",
              "  </thead>\n",
              "  <tbody>\n",
              "    <tr>\n",
              "      <th>561</th>\n",
              "      <td>124.900425</td>\n",
              "      <td>16.08029</td>\n",
              "      <td>-0.930136</td>\n",
              "      <td>53816</td>\n",
              "      <td>0.0</td>\n",
              "      <td>0.0</td>\n",
              "      <td>1.0</td>\n",
              "    </tr>\n",
              "    <tr>\n",
              "      <th>386</th>\n",
              "      <td>170.343446</td>\n",
              "      <td>17.23841</td>\n",
              "      <td>-0.446715</td>\n",
              "      <td>51612</td>\n",
              "      <td>1.0</td>\n",
              "      <td>0.0</td>\n",
              "      <td>0.0</td>\n",
              "    </tr>\n",
              "    <tr>\n",
              "      <th>934</th>\n",
              "      <td>188.210431</td>\n",
              "      <td>15.96928</td>\n",
              "      <td>-1.060431</td>\n",
              "      <td>51941</td>\n",
              "      <td>1.0</td>\n",
              "      <td>0.0</td>\n",
              "      <td>0.0</td>\n",
              "    </tr>\n",
              "    <tr>\n",
              "      <th>902</th>\n",
              "      <td>193.345812</td>\n",
              "      <td>16.23484</td>\n",
              "      <td>0.647135</td>\n",
              "      <td>51609</td>\n",
              "      <td>1.0</td>\n",
              "      <td>0.0</td>\n",
              "      <td>0.0</td>\n",
              "    </tr>\n",
              "    <tr>\n",
              "      <th>809</th>\n",
              "      <td>140.188189</td>\n",
              "      <td>18.73900</td>\n",
              "      <td>-0.932555</td>\n",
              "      <td>58930</td>\n",
              "      <td>0.0</td>\n",
              "      <td>1.0</td>\n",
              "      <td>0.0</td>\n",
              "    </tr>\n",
              "  </tbody>\n",
              "</table>\n",
              "</div>"
            ],
            "text/plain": [
              "             ra         i       dec    mjd  class_GALAXY  class_QSO  \\\n",
              "561  124.900425  16.08029 -0.930136  53816           0.0        0.0   \n",
              "386  170.343446  17.23841 -0.446715  51612           1.0        0.0   \n",
              "934  188.210431  15.96928 -1.060431  51941           1.0        0.0   \n",
              "902  193.345812  16.23484  0.647135  51609           1.0        0.0   \n",
              "809  140.188189  18.73900 -0.932555  58930           0.0        1.0   \n",
              "\n",
              "     class_STAR  \n",
              "561         1.0  \n",
              "386         0.0  \n",
              "934         0.0  \n",
              "902         0.0  \n",
              "809         0.0  "
            ]
          },
          "execution_count": 470,
          "metadata": {},
          "output_type": "execute_result"
        }
      ],
      "source": [
        "validation_data['redshift'] = 0\n",
        "\n",
        "validation_nd = drop_dup(train=validation_data)\n",
        "validation_change_c = check_class(validation_nd)\n",
        "validation_OHE = OHE_class(validation_change_c)\n",
        "validation_test = filter_clean_score(validation_OHE)\n",
        "\n",
        "validation_test = validation_test.drop(columns=['redshift'])\n",
        "\n",
        "variables_reg = [\"ra\", \"dec\", \"i\", \"mjd\", \"class_GALAXY\", \"class_QSO\", \"class_STAR\"]\n",
        "\n",
        "val_test = validation_test.drop(columns=[column for column in validation_test.columns if column not in variables_reg])\n",
        "\n",
        "val_test.sample(5)"
      ]
    },
    {
      "cell_type": "code",
      "execution_count": 475,
      "metadata": {},
      "outputs": [
        {
          "data": {
            "text/html": [
              "<div>\n",
              "<style scoped>\n",
              "    .dataframe tbody tr th:only-of-type {\n",
              "        vertical-align: middle;\n",
              "    }\n",
              "\n",
              "    .dataframe tbody tr th {\n",
              "        vertical-align: top;\n",
              "    }\n",
              "\n",
              "    .dataframe thead th {\n",
              "        text-align: right;\n",
              "    }\n",
              "</style>\n",
              "<table border=\"1\" class=\"dataframe\">\n",
              "  <thead>\n",
              "    <tr style=\"text-align: right;\">\n",
              "      <th></th>\n",
              "      <th>ra</th>\n",
              "      <th>dec</th>\n",
              "      <th>i</th>\n",
              "      <th>mjd</th>\n",
              "      <th>class_GALAXY</th>\n",
              "      <th>class_QSO</th>\n",
              "      <th>class_STAR</th>\n",
              "      <th>redshift</th>\n",
              "    </tr>\n",
              "  </thead>\n",
              "  <tbody>\n",
              "    <tr>\n",
              "      <th>409</th>\n",
              "      <td>207.704847</td>\n",
              "      <td>-0.811795</td>\n",
              "      <td>15.92805</td>\n",
              "      <td>51943</td>\n",
              "      <td>1.0</td>\n",
              "      <td>0.0</td>\n",
              "      <td>0.0</td>\n",
              "      <td>0.079525</td>\n",
              "    </tr>\n",
              "    <tr>\n",
              "      <th>594</th>\n",
              "      <td>184.605936</td>\n",
              "      <td>-1.216356</td>\n",
              "      <td>16.63740</td>\n",
              "      <td>52000</td>\n",
              "      <td>0.0</td>\n",
              "      <td>0.0</td>\n",
              "      <td>1.0</td>\n",
              "      <td>-0.026098</td>\n",
              "    </tr>\n",
              "    <tr>\n",
              "      <th>251</th>\n",
              "      <td>166.947698</td>\n",
              "      <td>-0.512287</td>\n",
              "      <td>18.77809</td>\n",
              "      <td>51900</td>\n",
              "      <td>0.0</td>\n",
              "      <td>1.0</td>\n",
              "      <td>0.0</td>\n",
              "      <td>1.279190</td>\n",
              "    </tr>\n",
              "    <tr>\n",
              "      <th>388</th>\n",
              "      <td>161.580865</td>\n",
              "      <td>-0.541817</td>\n",
              "      <td>15.70021</td>\n",
              "      <td>54208</td>\n",
              "      <td>0.0</td>\n",
              "      <td>0.0</td>\n",
              "      <td>1.0</td>\n",
              "      <td>-0.006847</td>\n",
              "    </tr>\n",
              "    <tr>\n",
              "      <th>298</th>\n",
              "      <td>217.587331</td>\n",
              "      <td>-0.332550</td>\n",
              "      <td>17.67521</td>\n",
              "      <td>51613</td>\n",
              "      <td>1.0</td>\n",
              "      <td>0.0</td>\n",
              "      <td>0.0</td>\n",
              "      <td>0.096993</td>\n",
              "    </tr>\n",
              "  </tbody>\n",
              "</table>\n",
              "</div>"
            ],
            "text/plain": [
              "             ra       dec         i    mjd  class_GALAXY  class_QSO  \\\n",
              "409  207.704847 -0.811795  15.92805  51943           1.0        0.0   \n",
              "594  184.605936 -1.216356  16.63740  52000           0.0        0.0   \n",
              "251  166.947698 -0.512287  18.77809  51900           0.0        1.0   \n",
              "388  161.580865 -0.541817  15.70021  54208           0.0        0.0   \n",
              "298  217.587331 -0.332550  17.67521  51613           1.0        0.0   \n",
              "\n",
              "     class_STAR  redshift  \n",
              "409         0.0  0.079525  \n",
              "594         1.0 -0.026098  \n",
              "251         0.0  1.279190  \n",
              "388         1.0 -0.006847  \n",
              "298         0.0  0.096993  "
            ]
          },
          "execution_count": 475,
          "metadata": {},
          "output_type": "execute_result"
        }
      ],
      "source": [
        "val_test = val_test[X_train.columns]\n",
        "y_pred = regresion.predict(val_test)\n",
        "\n",
        "val_test['redshift'] = y_pred\n",
        "\n",
        "val_test.sample(5)"
      ]
    }
  ],
  "metadata": {
    "colab": {
      "provenance": []
    },
    "kernelspec": {
      "display_name": "Python 3",
      "language": "python",
      "name": "python3"
    },
    "language_info": {
      "codemirror_mode": {
        "name": "ipython",
        "version": 3
      },
      "file_extension": ".py",
      "mimetype": "text/x-python",
      "name": "python",
      "nbconvert_exporter": "python",
      "pygments_lexer": "ipython3",
      "version": "3.12.9"
    }
  },
  "nbformat": 4,
  "nbformat_minor": 0
}
